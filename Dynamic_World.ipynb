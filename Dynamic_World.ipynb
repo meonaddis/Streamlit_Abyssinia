{
  "cells": [
    {
      "cell_type": "markdown",
      "metadata": {
        "id": "view-in-github",
        "colab_type": "text"
      },
      "source": [
        "<a href=\"https://colab.research.google.com/github/meonaddis/Streamlit_Abyssinia/blob/master/Dynamic_World.ipynb\" target=\"_parent\"><img src=\"https://colab.research.google.com/assets/colab-badge.svg\" alt=\"Open In Colab\"/></a>"
      ]
    },
    {
      "cell_type": "code",
      "execution_count": null,
      "metadata": {
        "cellView": "form",
        "id": "Poiq_sj_N1Km"
      },
      "outputs": [],
      "source": [
        "#@title Copyright 2022 Google LLC\n",
        "#\n",
        "# Licensed under the Apache License, Version 2.0 (the \"License\");\n",
        "# you may not use this file except in compliance with the License.\n",
        "# You may obtain a copy of the License at\n",
        "#\n",
        "#     https://www.apache.org/licenses/LICENSE-2.0\n",
        "#\n",
        "# Unless required by applicable law or agreed to in writing, software\n",
        "# distributed under the License is distributed on an \"AS IS\" BASIS,\n",
        "# WITHOUT WARRANTIES OR CONDITIONS OF ANY KIND, either express or implied.\n",
        "# See the License for the specific language governing permissions and\n",
        "# limitations under the License."
      ]
    },
    {
      "cell_type": "markdown",
      "metadata": {
        "id": "gXJZ3UGD2iuF"
      },
      "source": [
        "# Overview\n",
        "\n",
        "This notebook provides an introduction to the `Dynamic World` near realtime land cover dataset.\n",
        "\n",
        "The content in this notebook has been adapted from several sources, described in the [Additional Resources](#resources) section."
      ]
    },
    {
      "cell_type": "markdown",
      "metadata": {
        "id": "xrNjC49-OYqW"
      },
      "source": [
        "# Setup"
      ]
    },
    {
      "cell_type": "markdown",
      "metadata": {
        "id": "T8C1oRpFObwy"
      },
      "source": [
        "## Authentication\n",
        "\n",
        "Authenticate and authorize access to Earth Engine."
      ]
    },
    {
      "cell_type": "code",
      "execution_count": null,
      "metadata": {
        "colab": {
          "base_uri": "https://localhost:8080/"
        },
        "id": "iPvqkj9TN_qj",
        "outputId": "a4a13c6e-c458-4138-e7e6-a8f72f5351fc"
      },
      "outputs": [
        {
          "name": "stdout",
          "output_type": "stream",
          "text": [
            "Authenticating using Colab auth...\n",
            "✓ Successfully initialized!\n"
          ]
        }
      ],
      "source": [
        "COLAB_AUTH_FLOW_CLOUD_PROJECT_FOR_API_CALLS = 'MY_CLOUD_PROJECT_ID'\n",
        "\n",
        "import ee\n",
        "import google\n",
        "import os\n",
        "\n",
        "if COLAB_AUTH_FLOW_CLOUD_PROJECT_FOR_API_CALLS is None:\n",
        "  print(\"Authenticating using Notebook auth...\")\n",
        "  if os.path.exists(ee.oauth.get_credentials_path()) is False:\n",
        "    ee.Authenticate()\n",
        "  else:\n",
        "    print('\\N{check mark} '\n",
        "          'Previously created authentication credentials were found.')\n",
        "  ee.Initialize()\n",
        "else:\n",
        "  print('Authenticating using Colab auth...')\n",
        "  # Authenticate to populate Application Default Credentials in the Colab VM.\n",
        "  google.colab.auth.authenticate_user()\n",
        "  # Create credentials needed for accessing Earth Engine.\n",
        "  credentials, auth_project_id = google.auth.default()\n",
        "  # Initialize Earth Engine.\n",
        "  ee.Initialize(credentials, project=COLAB_AUTH_FLOW_CLOUD_PROJECT_FOR_API_CALLS)\n",
        "print('\\N{check mark} Successfully initialized!')"
      ]
    },
    {
      "cell_type": "markdown",
      "metadata": {
        "id": "VRLp1Sz6O2f1"
      },
      "source": [
        "## Install & import Python packages"
      ]
    },
    {
      "cell_type": "markdown",
      "metadata": {
        "id": "BkW9ln4GO4x7"
      },
      "source": [
        "### About the earthengine_jupyter package\n",
        "\n",
        "This notebook uses the [earthengine-jupyter](https://github.com/google/earthengine-jupyter) Python package, which provides helpful tools for working with Earth Engine from within a [Jupyter](https://jupyter.org/) environment. It currently enables use of interactive map and inspector widgets.\n",
        "\n",
        "⚠️ Note that as of December 2022, the package is **experimental** and is **not ready for production use**.\n"
      ]
    },
    {
      "cell_type": "code",
      "execution_count": null,
      "metadata": {
        "colab": {
          "base_uri": "https://localhost:8080/"
        },
        "id": "CuktNEfcOOjA",
        "outputId": "75715248-f47d-4127-cba2-ce6385d3a28a"
      },
      "outputs": [
        {
          "name": "stdout",
          "output_type": "stream",
          "text": [
            "ee_jupyter was not found. Installing now...\n",
            "ee_jupyter (version 0.0.7) is installed.\n"
          ]
        }
      ],
      "source": [
        "try:\n",
        "  import ee_jupyter\n",
        "except ModuleNotFoundError:\n",
        "  print('ee_jupyter was not found. Installing now...')\n",
        "  result = os.system('pip -q install earthengine-jupyter')\n",
        "  import ee_jupyter\n",
        "print(f'ee_jupyter (version {ee_jupyter.__version__}) '\n",
        "        f'is installed.')"
      ]
    },
    {
      "cell_type": "markdown",
      "metadata": {
        "id": "kFoJ1mgbPKpc"
      },
      "source": [
        "Import other Python packages used throughout this notebook."
      ]
    },
    {
      "cell_type": "code",
      "execution_count": null,
      "metadata": {
        "id": "V5g12RDHPHSi"
      },
      "outputs": [],
      "source": [
        "import altair as alt\n",
        "from ee_jupyter.ipyleaflet import Map\n",
        "from ee_jupyter.ipyleaflet import Inspector\n",
        "from ee_jupyter.layout import MapWithInspector\n",
        "import ipyleaflet\n",
        "import ipywidgets as widgets\n",
        "from IPython.display import display\n",
        "from IPython.display import HTML\n",
        "from IPython.display import IFrame\n",
        "from IPython.display import Image\n",
        "import pandas as pd\n",
        "from pprint import pprint  # for pretty printing\n",
        "import pydot"
      ]
    },
    {
      "cell_type": "markdown",
      "metadata": {
        "id": "g6TZB0e97QYT"
      },
      "source": [
        "Enable custom widgets in Colab."
      ]
    },
    {
      "cell_type": "code",
      "execution_count": null,
      "metadata": {
        "id": "HCNWH_2p7Pyz"
      },
      "outputs": [],
      "source": [
        "from google.colab import output\n",
        "output.enable_custom_widget_manager()"
      ]
    },
    {
      "cell_type": "markdown",
      "metadata": {
        "id": "CoRyY79N46po"
      },
      "source": [
        "# Introduction to Dynamic World\n",
        "\n",
        "This section provides a high level overview of the Dynamic World Dataset. The dataset contains near real-time (NRT) land use land cover (LULC) predictions created from Sentinel-2 imagery for nine land use land cover (LULC) classes as described in the table below.\n",
        "\n",
        "| LULC Type\t         | Description |\n",
        "| ------------------ | ----------- |\n",
        "| Water\t             | Permanent and seasonal water bodies |\n",
        "| Trees              | \tIncludes primary and secondary forests, as well as large-scale plantations |\n",
        "| Grass\t             | Natural grasslands, livestock pastures, and parks |\n",
        "| Flooded vegetation | Mangroves and other inundated ecosystems |\n",
        "| Crops\t             | Include row crops and paddy crops |\n",
        "| Shrub & Scrub\t     | Sparse to dense open vegetation consisting of shrubs |\n",
        "| Built Area         | Low- and high-density buildings, roads, and urban open space |\n",
        "| Bare ground\t       | Deserts and exposed rock |\n",
        "| Snow & Ice         | Permanent and seasonal snow cover |\n",
        "\n",
        "This tutorial provides examples of how to use Earth Engine to load and visualize this rich 10m resolution probability-per-pixel land use land cover dataset. The tutorial also covers techniques to compute statistics and analyze the probability time-series data for change detection."
      ]
    },
    {
      "cell_type": "code",
      "execution_count": null,
      "metadata": {
        "colab": {
          "base_uri": "https://localhost:8080/",
          "height": 541
        },
        "id": "QbkaHNUN2iYr",
        "outputId": "485566ed-a58e-4e5c-f542-4e5c06a094a3"
      },
      "outputs": [
        {
          "data": {
            "text/html": [
              "\n",
              "        <iframe\n",
              "            width=\"1000\"\n",
              "            height=\"500\"\n",
              "            src=\"https://dynamicworld.app/\"\n",
              "            frameborder=\"0\"\n",
              "            allowfullscreen\n",
              "        ></iframe>\n",
              "        "
            ],
            "text/plain": [
              "<IPython.lib.display.IFrame at 0x7f4129889220>"
            ]
          },
          "execution_count": 7,
          "metadata": {},
          "output_type": "execute_result"
        }
      ],
      "source": [
        "#@title Dynamic World Website (https://dynamicworld.app)\n",
        "IFrame('https://dynamicworld.app/', width=1000, height=500)"
      ]
    },
    {
      "cell_type": "markdown",
      "metadata": {
        "id": "mh-jvtCB5_CX"
      },
      "source": [
        "To make it easy to explore the Dynamic World dataset without needed to code, we have created an Earth Engine App. You can experiment with the app from within this notebook by running the code cell below, or open it up as a separate webpage using this link: https://earthoutreach.users.earthengine.app/view/dynamicworld"
      ]
    },
    {
      "cell_type": "code",
      "execution_count": null,
      "metadata": {
        "colab": {
          "base_uri": "https://localhost:8080/",
          "height": 841
        },
        "id": "ji05Bmg0PUKj",
        "outputId": "e84a8d37-4317-424b-f24c-10311236b59c"
      },
      "outputs": [
        {
          "data": {
            "text/html": [
              "\n",
              "        <iframe\n",
              "            width=\"1000\"\n",
              "            height=\"800\"\n",
              "            src=\"https://earthoutreach.users.earthengine.app/view/dynamicworld\"\n",
              "            frameborder=\"0\"\n",
              "            allowfullscreen\n",
              "        ></iframe>\n",
              "        "
            ],
            "text/plain": [
              "<IPython.lib.display.IFrame at 0x7f411fec4730>"
            ]
          },
          "execution_count": 8,
          "metadata": {},
          "output_type": "execute_result"
        }
      ],
      "source": [
        "#@title Dynamic World app\n",
        "IFrame('https://earthoutreach.users.earthengine.app/view/dynamicworld', width=1000, height=800)"
      ]
    },
    {
      "cell_type": "markdown",
      "metadata": {
        "id": "oJtG9IlD96Vg"
      },
      "source": [
        "This tutorial is primarily focused on accessing and analyzing the Dynamic World dataset using the Earth Engine Python client library. For examples using the Code Editor, see the [Additional Resources](#additional-resources) section."
      ]
    },
    {
      "cell_type": "markdown",
      "metadata": {
        "id": "FtRTWyv2fBNO"
      },
      "source": [
        "# Part 1 - Visualization and Creating Composites"
      ]
    },
    {
      "cell_type": "markdown",
      "metadata": {
        "id": "ghz1P0XPKscN"
      },
      "source": [
        "## Hello [Dynamic] World\n",
        "\n",
        "The Dynamic World (DW) dataset is a continuously updating Image Collection of globally consistent, 10m-resolution, near real-time (NRT) land use land cover (LULC) predictions created from Sentinel-2 imagery. Images in this dataset include ten bands: nine bands with estimated probabilities for each of the nine DW LULC classes as well as a class \"label\" band indicating the class with the largest estimated probability. These unique properties enable users to do multi-temporal analysis as well as create custom products suited to their needs."
      ]
    },
    {
      "cell_type": "markdown",
      "metadata": {
        "id": "dVJ0OCztK7QJ"
      },
      "source": [
        "### Using the NRT Image Collection\n",
        "\n",
        "The Dynamic World Near Real-time (NRT) Image Collection includes LULC predictions for Sentinel-2 L1C acquisitions from 2015-06-23 to the present where the CLOUDY_PIXEL_PERCENTAGE metadata is less than 35%. The Image Collection is continuously updated in near real-time with predictions generated for new [Sentinel-2 L1C harmonized](https://developers.google.com/earth-engine/datasets/catalog/COPERNICUS_S2_HARMONIZED) images as they become available in Google Earth Engine.\n",
        "\n",
        "The [Dynamic World NRT collection](https://developers.google.com/earth-engine/datasets/catalog/GOOGLE_DYNAMICWORLD_V1) is available at `GOOGLE/DYNAMICWORLD/V1`. The images in this collection have names that match the individual Sentinel-2 L1C product names from which they were derived.\n",
        "\n",
        "Let's see how we can find and load the Dynamic World classification for a specific Sentinel-2 image.\n",
        "\n",
        "We first define the variables containing the start date, end date, and coordinates of a location. Here we have defined a point centered at the Quabbin Reservoir in Massachusetts, US."
      ]
    },
    {
      "cell_type": "code",
      "execution_count": null,
      "metadata": {
        "id": "Yj5UQ9VXROdc"
      },
      "outputs": [],
      "source": [
        "example = {\n",
        "    'start_date': '2021-10-15',\n",
        "    'end_date': '2021-10-25',\n",
        "    'latitude': 42.36103,\n",
        "    'longitude': -72.28525,\n",
        "    'zoom': 10\n",
        "}"
      ]
    },
    {
      "cell_type": "markdown",
      "metadata": {
        "id": "RE5YNHs_RPHH"
      },
      "source": [
        "And use those parameters to create a map"
      ]
    },
    {
      "cell_type": "code",
      "execution_count": null,
      "metadata": {
        "colab": {
          "base_uri": "https://localhost:8080/",
          "height": 441,
          "referenced_widgets": [
            "334901d4314846d1a68d137eecf10d77",
            "5a6dfa9d6cc5419fbfeb23f1ec8c1738",
            "efc3e6b887a94d8d902a2517fe2292d9",
            "773d5f6d2416425193490f6fed26a8b6",
            "1a64021495d345b8b039aa151157fb94",
            "dd9ab0bddc5a443081aaf691c0cc0f8d",
            "553c9d67327f43d29f306b6523bdb558",
            "933e958087204f90b27348b154d38ff8",
            "012844b4a83b49da9974ee02784b2b9e",
            "99513c42917a4733a097f658ae9a68c8"
          ]
        },
        "id": "OQ_xkAEwL6aC",
        "outputId": "8d089f62-3dc3-43c4-9da7-ea8ea7788f76"
      },
      "outputs": [
        {
          "data": {
            "application/vnd.jupyter.widget-view+json": {
              "model_id": "334901d4314846d1a68d137eecf10d77",
              "version_major": 2,
              "version_minor": 0
            },
            "text/plain": [
              "Map(center=[42.36103, -72.28525], controls=(ZoomControl(options=['position', 'zoom_in_text', 'zoom_in_title', …"
            ]
          },
          "metadata": {
            "application/vnd.jupyter.widget-view+json": {
              "colab": {
                "custom_widget_manager": {
                  "url": "https://ssl.gstatic.com/colaboratory-static/widgets/colab-cdn-widget-manager/d2e234f7cc04bf79/manager.min.js"
                }
              }
            }
          },
          "output_type": "display_data"
        }
      ],
      "source": [
        "map_init_params_ma = {\n",
        "    'center': [example['latitude'], example['longitude']], # <lat,lon> ordering\n",
        "    'zoom': 10,\n",
        "    # 'layout': widgets.Layout(height='500px')\n",
        "}\n",
        "map1 = Map(**map_init_params_ma)\n",
        "map1    # Display the map"
      ]
    },
    {
      "cell_type": "markdown",
      "metadata": {
        "id": "nxrIF6RTNN-w"
      },
      "source": [
        "Note that the `<lat,lon>` coordinate ordering convention used for the interactive map, which is due to the underlying [leaflet mapping library](https://leafletjs.com/reference.html#latlng). By contrast, Earth Engine objects use the `<lon,lat>` or `<x,y>` coordinate ordering convention used by [GeoJSON spec](https://www.rfc-editor.org/rfc/rfc7946#section-3.1.1). For our example location, here is a corresponding Earth Engine Point geometry object:"
      ]
    },
    {
      "cell_type": "code",
      "execution_count": null,
      "metadata": {
        "id": "ck0TMU_M7FyF"
      },
      "outputs": [],
      "source": [
        "geometry = ee.Geometry.Point([example['longitude'], example['latitude']])"
      ]
    },
    {
      "cell_type": "markdown",
      "metadata": {
        "id": "-QZwtGBoMv1e"
      },
      "source": [
        "### Load a Sentinel-2 Image\n",
        "\n",
        "We can find a Sentinel-2 image by applying filters on the Sentinel-2 L1C harmonized collection for the date range and location of interest. Since the Dynamic World classification is available only for scenes with < 35% cloud cover, we also apply a metadata filter."
      ]
    },
    {
      "cell_type": "code",
      "execution_count": null,
      "metadata": {
        "id": "6SAClLj5M0kn"
      },
      "outputs": [],
      "source": [
        "s2 = (ee.ImageCollection('COPERNICUS/S2_HARMONIZED')\n",
        "        .filterDate(example['start_date'], example['end_date'])\n",
        "        .filterBounds(geometry)\n",
        "        .filter(ee.Filter.lt('CLOUDY_PIXEL_PERCENTAGE', 35))\n",
        ")"
      ]
    },
    {
      "cell_type": "markdown",
      "metadata": {
        "id": "dzoPgKh0UhKb"
      },
      "source": [
        "The resulting collection in the `s2` variable contains all images matching the filters. Let's see how many images are available, given those filters."
      ]
    },
    {
      "cell_type": "code",
      "execution_count": null,
      "metadata": {
        "colab": {
          "base_uri": "https://localhost:8080/"
        },
        "id": "-OVD8aQFUoeK",
        "outputId": "0b30ab5e-2d66-465c-ca21-b13a6b19b654"
      },
      "outputs": [
        {
          "name": "stdout",
          "output_type": "stream",
          "text": [
            "# of images = 6\n"
          ]
        }
      ],
      "source": [
        "print(f'# of images = {s2.size().getInfo()}')"
      ]
    },
    {
      "cell_type": "markdown",
      "metadata": {
        "id": "Pn7VkbJXU7e5"
      },
      "source": [
        "We can call `.first()` to extract a single image (the earliest one matching our criteria) from the collection."
      ]
    },
    {
      "cell_type": "code",
      "execution_count": null,
      "metadata": {
        "id": "yH62VtJxU66V"
      },
      "outputs": [],
      "source": [
        "s2_image = ee.Image(s2.first())"
      ]
    },
    {
      "cell_type": "markdown",
      "metadata": {
        "id": "9ko_79zHVRTG"
      },
      "source": [
        "Once we have the image, let's add it to the map to visualize it. The code also centers the viewport at the coordinates of the point location."
      ]
    },
    {
      "cell_type": "code",
      "execution_count": null,
      "metadata": {
        "id": "m6Z71cwxVUGy"
      },
      "outputs": [],
      "source": [
        "s2_vis_params = {'bands':['B4', 'B3', 'B2'], 'min':0, 'max':3000}\n",
        "map1.addLayer(s2_image, s2_vis_params, 'Sentinel-2 Image')"
      ]
    },
    {
      "cell_type": "markdown",
      "metadata": {
        "id": "pn6yG_-6VoUS"
      },
      "source": [
        "If you scroll back up in the notebook to view, you can see it was added to the previously displayed map. But we can display a second copy of the map here:"
      ]
    },
    {
      "cell_type": "code",
      "execution_count": null,
      "metadata": {
        "colab": {
          "base_uri": "https://localhost:8080/",
          "height": 441,
          "referenced_widgets": [
            "334901d4314846d1a68d137eecf10d77",
            "5a6dfa9d6cc5419fbfeb23f1ec8c1738",
            "efc3e6b887a94d8d902a2517fe2292d9",
            "773d5f6d2416425193490f6fed26a8b6",
            "1a64021495d345b8b039aa151157fb94",
            "dd9ab0bddc5a443081aaf691c0cc0f8d",
            "553c9d67327f43d29f306b6523bdb558",
            "933e958087204f90b27348b154d38ff8",
            "012844b4a83b49da9974ee02784b2b9e",
            "99513c42917a4733a097f658ae9a68c8"
          ]
        },
        "id": "-tlC5WYUV3k6",
        "outputId": "b5aa46a1-e4e2-4ab5-99e3-d20487f373bf"
      },
      "outputs": [
        {
          "data": {
            "application/vnd.jupyter.widget-view+json": {
              "model_id": "334901d4314846d1a68d137eecf10d77",
              "version_major": 2,
              "version_minor": 0
            },
            "text/plain": [
              "Map(center=[42.36103, -72.28525], controls=(ZoomControl(options=['position', 'zoom_in_text', 'zoom_in_title', …"
            ]
          },
          "metadata": {
            "application/vnd.jupyter.widget-view+json": {
              "colab": {
                "custom_widget_manager": {
                  "url": "https://ssl.gstatic.com/colaboratory-static/widgets/colab-cdn-widget-manager/d2e234f7cc04bf79/manager.min.js"
                }
              }
            }
          },
          "output_type": "display_data"
        }
      ],
      "source": [
        "# A Sentinel-2 L1C Image of Quabbin Reservoir, Massachusetts, US\n",
        "map1"
      ]
    },
    {
      "cell_type": "markdown",
      "metadata": {
        "id": "kVBFYvUPWHlU"
      },
      "source": [
        "### Find the Matching Dynamic World Image"
      ]
    },
    {
      "cell_type": "markdown",
      "metadata": {
        "id": "lz1BIDM8WUXE"
      },
      "source": [
        "To find the matching classified image in the Dynamic World collection, we need to extract the scene id from the Sentinel-2 image using the `system:index` property."
      ]
    },
    {
      "cell_type": "code",
      "execution_count": null,
      "metadata": {
        "colab": {
          "base_uri": "https://localhost:8080/"
        },
        "id": "jo_gRibgWZ8H",
        "outputId": "7ca45139-f33f-4299-b8b3-ebdd21dbd606"
      },
      "outputs": [
        {
          "name": "stdout",
          "output_type": "stream",
          "text": [
            "image_id = 20211019T154251_20211019T154735_T18TYM\n"
          ]
        }
      ],
      "source": [
        "image_id = s2_image.get('system:index')\n",
        "print(f'image_id = {image_id.getInfo()}')"
      ]
    },
    {
      "cell_type": "markdown",
      "metadata": {
        "id": "n5OqCjCQWsEf"
      },
      "source": [
        "We can use the same id to load the matching Dynamic World scene. The code snippet below applies a filter on the Dynamic World collection and extracts the matching scene."
      ]
    },
    {
      "cell_type": "code",
      "execution_count": null,
      "metadata": {
        "id": "dvZo9iXYWrRl"
      },
      "outputs": [],
      "source": [
        "dw_base = ee.ImageCollection('GOOGLE/DYNAMICWORLD/V1')\n",
        "dw_filtered = dw_base.filter(ee.Filter.eq('system:index', image_id))\n",
        "dw_image = ee.Image(dw_filtered.first())"
      ]
    },
    {
      "cell_type": "markdown",
      "metadata": {
        "id": "QG8LkDLjZ2Hk"
      },
      "source": [
        "### Visualize the Classified Image\n",
        "\n",
        "The `label` band of Dynamic World images contains a discrete label for each pixel assigned based on the class with the highest probability. The nine-class taxonomy is described in the table below."
      ]
    },
    {
      "cell_type": "code",
      "execution_count": null,
      "metadata": {
        "id": "MJdGY17waS8U"
      },
      "outputs": [],
      "source": [
        "# Label\tLULC Type\tColor\tDescription\n",
        "dw_classes = {\n",
        "    '0':{'LULC Type': 'Water',\n",
        "         'band name': 'water',\n",
        "         'color': '#419BDF',\n",
        "         'description': 'Permanent and seasonal water bodies'},\n",
        "    '1':{'LULC Type': 'Trees',\n",
        "         'band name': 'trees',\n",
        "         'color': '#397D49',\n",
        "         'description': 'Includes primary and secondary forests, as well as large-scale plantations'},\n",
        "    '2':{'LULC Type': 'Grass',\n",
        "         'band name': 'grass',\n",
        "         'color': '#88B053',\n",
        "         'description': 'Natural grasslands, livestock pastures, and parks'},\n",
        "    '3':{'LULC Type': 'Flooded vegetation',\n",
        "         'band name': 'flooded_vegetation',\n",
        "         'color': '#7A87C6',\n",
        "         'description': 'Mangroves and other inundated ecosystems'},\n",
        "    '4':{'LULC Type': 'Crops',\n",
        "         'band name': 'crops',\n",
        "         'color': '#E49635',\n",
        "         'description': 'Include row crops and paddy crops'},\n",
        "    '5':{'LULC Type': 'Shrub & Scrub',\n",
        "         'band name': 'shrub_and_scrub',\n",
        "         'color': '#DFC35A',\n",
        "         'description': 'Sparse to dense open vegetation consisting of shrubs'},\n",
        "    '6':{'LULC Type': 'Built Area',\n",
        "         'band name': 'built',\n",
        "         'color': '#C4281B',\n",
        "         'description': 'Low- and high-density buildings, roads, and urban open space'},\n",
        "    '7':{'LULC Type': 'Bare ground',\n",
        "         'band name': 'bare',\n",
        "         'color': '#A59B8F',\n",
        "         'description': 'Deserts and exposed rock'},\n",
        "    '8':{'LULC Type': 'Snow & Ice',\n",
        "         'band name': 'snow_and_ice',\n",
        "         'color': '#B39FE1',\n",
        "         'description': 'Permanent and seasonal snow cover'},\n",
        "}"
      ]
    },
    {
      "cell_type": "code",
      "execution_count": null,
      "metadata": {
        "colab": {
          "base_uri": "https://localhost:8080/",
          "height": 343
        },
        "id": "2XOt_QgWzCTx",
        "outputId": "15fcb210-8d8d-4e01-9117-4e4296bd5070"
      },
      "outputs": [
        {
          "data": {
            "text/html": [
              "\n",
              "  <div id=\"df-102c3167-e3ad-40db-a900-598ee983afe7\">\n",
              "    <div class=\"colab-df-container\">\n",
              "      <div>\n",
              "<style scoped>\n",
              "    .dataframe tbody tr th:only-of-type {\n",
              "        vertical-align: middle;\n",
              "    }\n",
              "\n",
              "    .dataframe tbody tr th {\n",
              "        vertical-align: top;\n",
              "    }\n",
              "\n",
              "    .dataframe thead th {\n",
              "        text-align: right;\n",
              "    }\n",
              "</style>\n",
              "<table border=\"1\" class=\"dataframe\">\n",
              "  <thead>\n",
              "    <tr style=\"text-align: right;\">\n",
              "      <th></th>\n",
              "      <th>0</th>\n",
              "      <th>1</th>\n",
              "      <th>2</th>\n",
              "      <th>3</th>\n",
              "      <th>4</th>\n",
              "      <th>5</th>\n",
              "      <th>6</th>\n",
              "      <th>7</th>\n",
              "      <th>8</th>\n",
              "    </tr>\n",
              "  </thead>\n",
              "  <tbody>\n",
              "    <tr>\n",
              "      <th>LULC Type</th>\n",
              "      <td>Water</td>\n",
              "      <td>Trees</td>\n",
              "      <td>Grass</td>\n",
              "      <td>Flooded vegetation</td>\n",
              "      <td>Crops</td>\n",
              "      <td>Shrub &amp; Scrub</td>\n",
              "      <td>Built Area</td>\n",
              "      <td>Bare ground</td>\n",
              "      <td>Snow &amp; Ice</td>\n",
              "    </tr>\n",
              "    <tr>\n",
              "      <th>band name</th>\n",
              "      <td>water</td>\n",
              "      <td>trees</td>\n",
              "      <td>grass</td>\n",
              "      <td>flooded_vegetation</td>\n",
              "      <td>crops</td>\n",
              "      <td>shrub_and_scrub</td>\n",
              "      <td>built</td>\n",
              "      <td>bare</td>\n",
              "      <td>snow_and_ice</td>\n",
              "    </tr>\n",
              "    <tr>\n",
              "      <th>color</th>\n",
              "      <td>#419BDF</td>\n",
              "      <td>#397D49</td>\n",
              "      <td>#88B053</td>\n",
              "      <td>#7A87C6</td>\n",
              "      <td>#E49635</td>\n",
              "      <td>#DFC35A</td>\n",
              "      <td>#C4281B</td>\n",
              "      <td>#A59B8F</td>\n",
              "      <td>#B39FE1</td>\n",
              "    </tr>\n",
              "    <tr>\n",
              "      <th>description</th>\n",
              "      <td>Permanent and seasonal water bodies</td>\n",
              "      <td>Includes primary and secondary forests, as wel...</td>\n",
              "      <td>Natural grasslands, livestock pastures, and parks</td>\n",
              "      <td>Mangroves and other inundated ecosystems</td>\n",
              "      <td>Include row crops and paddy crops</td>\n",
              "      <td>Sparse to dense open vegetation consisting of ...</td>\n",
              "      <td>Low- and high-density buildings, roads, and ur...</td>\n",
              "      <td>Deserts and exposed rock</td>\n",
              "      <td>Permanent and seasonal snow cover</td>\n",
              "    </tr>\n",
              "  </tbody>\n",
              "</table>\n",
              "</div>\n",
              "      <button class=\"colab-df-convert\" onclick=\"convertToInteractive('df-102c3167-e3ad-40db-a900-598ee983afe7')\"\n",
              "              title=\"Convert this dataframe to an interactive table.\"\n",
              "              style=\"display:none;\">\n",
              "        \n",
              "  <svg xmlns=\"http://www.w3.org/2000/svg\" height=\"24px\"viewBox=\"0 0 24 24\"\n",
              "       width=\"24px\">\n",
              "    <path d=\"M0 0h24v24H0V0z\" fill=\"none\"/>\n",
              "    <path d=\"M18.56 5.44l.94 2.06.94-2.06 2.06-.94-2.06-.94-.94-2.06-.94 2.06-2.06.94zm-11 1L8.5 8.5l.94-2.06 2.06-.94-2.06-.94L8.5 2.5l-.94 2.06-2.06.94zm10 10l.94 2.06.94-2.06 2.06-.94-2.06-.94-.94-2.06-.94 2.06-2.06.94z\"/><path d=\"M17.41 7.96l-1.37-1.37c-.4-.4-.92-.59-1.43-.59-.52 0-1.04.2-1.43.59L10.3 9.45l-7.72 7.72c-.78.78-.78 2.05 0 2.83L4 21.41c.39.39.9.59 1.41.59.51 0 1.02-.2 1.41-.59l7.78-7.78 2.81-2.81c.8-.78.8-2.07 0-2.86zM5.41 20L4 18.59l7.72-7.72 1.47 1.35L5.41 20z\"/>\n",
              "  </svg>\n",
              "      </button>\n",
              "      \n",
              "  <style>\n",
              "    .colab-df-container {\n",
              "      display:flex;\n",
              "      flex-wrap:wrap;\n",
              "      gap: 12px;\n",
              "    }\n",
              "\n",
              "    .colab-df-convert {\n",
              "      background-color: #E8F0FE;\n",
              "      border: none;\n",
              "      border-radius: 50%;\n",
              "      cursor: pointer;\n",
              "      display: none;\n",
              "      fill: #1967D2;\n",
              "      height: 32px;\n",
              "      padding: 0 0 0 0;\n",
              "      width: 32px;\n",
              "    }\n",
              "\n",
              "    .colab-df-convert:hover {\n",
              "      background-color: #E2EBFA;\n",
              "      box-shadow: 0px 1px 2px rgba(60, 64, 67, 0.3), 0px 1px 3px 1px rgba(60, 64, 67, 0.15);\n",
              "      fill: #174EA6;\n",
              "    }\n",
              "\n",
              "    [theme=dark] .colab-df-convert {\n",
              "      background-color: #3B4455;\n",
              "      fill: #D2E3FC;\n",
              "    }\n",
              "\n",
              "    [theme=dark] .colab-df-convert:hover {\n",
              "      background-color: #434B5C;\n",
              "      box-shadow: 0px 1px 3px 1px rgba(0, 0, 0, 0.15);\n",
              "      filter: drop-shadow(0px 1px 2px rgba(0, 0, 0, 0.3));\n",
              "      fill: #FFFFFF;\n",
              "    }\n",
              "  </style>\n",
              "\n",
              "      <script>\n",
              "        const buttonEl =\n",
              "          document.querySelector('#df-102c3167-e3ad-40db-a900-598ee983afe7 button.colab-df-convert');\n",
              "        buttonEl.style.display =\n",
              "          google.colab.kernel.accessAllowed ? 'block' : 'none';\n",
              "\n",
              "        async function convertToInteractive(key) {\n",
              "          const element = document.querySelector('#df-102c3167-e3ad-40db-a900-598ee983afe7');\n",
              "          const dataTable =\n",
              "            await google.colab.kernel.invokeFunction('convertToInteractive',\n",
              "                                                     [key], {});\n",
              "          if (!dataTable) return;\n",
              "\n",
              "          const docLinkHtml = 'Like what you see? Visit the ' +\n",
              "            '<a target=\"_blank\" href=https://colab.research.google.com/notebooks/data_table.ipynb>data table notebook</a>'\n",
              "            + ' to learn more about interactive tables.';\n",
              "          element.innerHTML = '';\n",
              "          dataTable['output_type'] = 'display_data';\n",
              "          await google.colab.output.renderOutput(dataTable, element);\n",
              "          const docLink = document.createElement('div');\n",
              "          docLink.innerHTML = docLinkHtml;\n",
              "          element.appendChild(docLink);\n",
              "        }\n",
              "      </script>\n",
              "    </div>\n",
              "  </div>\n",
              "  "
            ],
            "text/plain": [
              "                                               0  \\\n",
              "LULC Type                                  Water   \n",
              "band name                                  water   \n",
              "color                                    #419BDF   \n",
              "description  Permanent and seasonal water bodies   \n",
              "\n",
              "                                                             1  \\\n",
              "LULC Type                                                Trees   \n",
              "band name                                                trees   \n",
              "color                                                  #397D49   \n",
              "description  Includes primary and secondary forests, as wel...   \n",
              "\n",
              "                                                             2  \\\n",
              "LULC Type                                                Grass   \n",
              "band name                                                grass   \n",
              "color                                                  #88B053   \n",
              "description  Natural grasslands, livestock pastures, and parks   \n",
              "\n",
              "                                                    3  \\\n",
              "LULC Type                          Flooded vegetation   \n",
              "band name                          flooded_vegetation   \n",
              "color                                         #7A87C6   \n",
              "description  Mangroves and other inundated ecosystems   \n",
              "\n",
              "                                             4  \\\n",
              "LULC Type                                Crops   \n",
              "band name                                crops   \n",
              "color                                  #E49635   \n",
              "description  Include row crops and paddy crops   \n",
              "\n",
              "                                                             5  \\\n",
              "LULC Type                                        Shrub & Scrub   \n",
              "band name                                      shrub_and_scrub   \n",
              "color                                                  #DFC35A   \n",
              "description  Sparse to dense open vegetation consisting of ...   \n",
              "\n",
              "                                                             6  \\\n",
              "LULC Type                                           Built Area   \n",
              "band name                                                built   \n",
              "color                                                  #C4281B   \n",
              "description  Low- and high-density buildings, roads, and ur...   \n",
              "\n",
              "                                    7                                  8  \n",
              "LULC Type                 Bare ground                         Snow & Ice  \n",
              "band name                        bare                       snow_and_ice  \n",
              "color                         #A59B8F                            #B39FE1  \n",
              "description  Deserts and exposed rock  Permanent and seasonal snow cover  "
            ]
          },
          "execution_count": 20,
          "metadata": {},
          "output_type": "execute_result"
        }
      ],
      "source": [
        "df = pd.DataFrame(dw_classes)\n",
        "df"
      ]
    },
    {
      "cell_type": "markdown",
      "metadata": {
        "id": "Aa3Wyhjwziip"
      },
      "source": [
        "From the data structure we can extract a list of class labels:"
      ]
    },
    {
      "cell_type": "code",
      "execution_count": null,
      "metadata": {
        "colab": {
          "base_uri": "https://localhost:8080/"
        },
        "id": "PvJXZJtzsLB2",
        "outputId": "7116f398-f130-4b79-fb05-2d7e09578fef"
      },
      "outputs": [
        {
          "data": {
            "text/plain": [
              "['Water',\n",
              " 'Trees',\n",
              " 'Grass',\n",
              " 'Flooded vegetation',\n",
              " 'Crops',\n",
              " 'Shrub & Scrub',\n",
              " 'Built Area',\n",
              " 'Bare ground',\n",
              " 'Snow & Ice']"
            ]
          },
          "execution_count": 21,
          "metadata": {},
          "output_type": "execute_result"
        }
      ],
      "source": [
        "dw_class_labels = [v['LULC Type'] for v in dw_classes.values()]\n",
        "dw_class_labels"
      ]
    },
    {
      "cell_type": "code",
      "execution_count": null,
      "metadata": {
        "colab": {
          "base_uri": "https://localhost:8080/"
        },
        "id": "rF4g0npnoq2o",
        "outputId": "286d28d9-9c70-445d-a26e-d9d46168e793"
      },
      "outputs": [
        {
          "data": {
            "text/plain": [
              "['water',\n",
              " 'trees',\n",
              " 'grass',\n",
              " 'flooded_vegetation',\n",
              " 'crops',\n",
              " 'shrub_and_scrub',\n",
              " 'built',\n",
              " 'bare',\n",
              " 'snow_and_ice']"
            ]
          },
          "execution_count": 22,
          "metadata": {},
          "output_type": "execute_result"
        }
      ],
      "source": [
        "dw_band_names = [v['band name'] for v in dw_classes.values()]\n",
        "dw_band_names"
      ]
    },
    {
      "cell_type": "markdown",
      "metadata": {
        "id": "iHlN37n-zqnD"
      },
      "source": [
        "And a color palette (i.e. list of colors):"
      ]
    },
    {
      "cell_type": "code",
      "execution_count": null,
      "metadata": {
        "colab": {
          "base_uri": "https://localhost:8080/"
        },
        "id": "-XstN7N3bTLe",
        "outputId": "3a142d31-c738-4526-ddf7-211ce3164355"
      },
      "outputs": [
        {
          "data": {
            "text/plain": [
              "['#419BDF',\n",
              " '#397D49',\n",
              " '#88B053',\n",
              " '#7A87C6',\n",
              " '#E49635',\n",
              " '#DFC35A',\n",
              " '#C4281B',\n",
              " '#A59B8F',\n",
              " '#B39FE1']"
            ]
          },
          "execution_count": 23,
          "metadata": {},
          "output_type": "execute_result"
        }
      ],
      "source": [
        "dw_palette = [v['color'] for v in dw_classes.values()]\n",
        "dw_palette"
      ]
    },
    {
      "cell_type": "code",
      "execution_count": null,
      "metadata": {
        "colab": {
          "base_uri": "https://localhost:8080/",
          "height": 453,
          "referenced_widgets": [
            "4ea46d6975264cc5a52b343ae42a962c",
            "07c416af1ac64f97aa611e8f322e27d9",
            "77d5c5ad47cf4ccc9eef25f01edee58c",
            "54f05973eb5640e6bac56d9925c851b7",
            "7a4921ce738342bc9afcafdd1f1304af",
            "5e681081e8a9473daa3c743b401bcc49",
            "82e020980c1a46e5859524511ad1d809",
            "19dd689b556545088b25a487a2b69ebb",
            "68449bf9aab64617a7e8d1141d61c8d3",
            "1cdd0749c6d94462b3268905dc15388e",
            "0a8b494bae2145089667aef93a55446d",
            "9096cbbbfed34c1da10f9a8e9ea092b0",
            "d98fe82851a6452a92d435ff4ab4b678",
            "5237a4842a2b4e60b6e4c8dd8d354084",
            "7ea30457903e4181a4168321e3ed73ff",
            "ccffca38d7314c13960be29b9f98d90b",
            "bd3ed6d5c33f492490a387977fb94572",
            "64d4383fa4b14c499680deab253cc71f",
            "1ac3f9dcf6a8444c855807168b427986",
            "36297037e08547d7ba504629528aea4b",
            "6d512d5ac3174896b5c6c66e44463593",
            "493969e345d54afb939d590dcead9213"
          ]
        },
        "id": "YuvNGFZXXXzO",
        "outputId": "5a5772b5-343d-469f-c096-747746175f8e"
      },
      "outputs": [
        {
          "data": {
            "application/vnd.jupyter.widget-view+json": {
              "model_id": "4ea46d6975264cc5a52b343ae42a962c",
              "version_major": 2,
              "version_minor": 0
            },
            "text/plain": [
              "MapWithInspector(children=(HBox(children=(Map(center=[42.36103, -72.28525], controls=(ZoomControl(options=['po…"
            ]
          },
          "metadata": {
            "application/vnd.jupyter.widget-view+json": {
              "colab": {
                "custom_widget_manager": {
                  "url": "https://ssl.gstatic.com/colaboratory-static/widgets/colab-cdn-widget-manager/d2e234f7cc04bf79/manager.min.js"
                }
              }
            }
          },
          "output_type": "display_data"
        }
      ],
      "source": [
        "classification = dw_image.select('label')\n",
        "map_dw = MapWithInspector(**map_init_params_ma)\n",
        "dw_vis_params = {\n",
        "  'bands': 'label',\n",
        "  'min': 0,\n",
        "  'max': 8,\n",
        "  'palette': dw_palette\n",
        "}\n",
        "map_dw.map.addLayer(classification, dw_vis_params)\n",
        "map_dw"
      ]
    },
    {
      "cell_type": "markdown",
      "metadata": {
        "id": "0odSFLRQtrF4"
      },
      "source": [
        "### Create a Probability Hillshade Visualization\n",
        "\n",
        "The label band of a Dynamic World image contains the class value with the highest probability among the different LULC classes. Each image also contains 9 other bands—each containing the pixel-wise probability for the corresponding LULC class. We can use this information to create a better and more information-rich visualization.\n",
        "\n",
        "The technique uses a hillshade computed from a probability image containing the value of the highest probability at each pixel (Top-1 Probability). This probability image is then used as a pseudo-elevation image by the `ee.Terrain.hillshade` algorithm. Higher confidence of a class membership represents higher *elevation* and lower confidence represents lower *elevation*. The resulting hillshade rendering contains ridges and valleys showing the varying class confidence across the landscape—revealing features not normally visible with discretized visualization.\n",
        "\n",
        "To compute the hillshade, we first select all the probability bands and compute the Top-1 probability using the `ee.Reducer.max()` reducer."
      ]
    },
    {
      "cell_type": "code",
      "execution_count": null,
      "metadata": {
        "id": "hTgIVl7huGga"
      },
      "outputs": [],
      "source": [
        "probability_bands = [\n",
        "  'water', 'trees', 'grass', 'flooded_vegetation', 'crops', 'shrub_and_scrub',\n",
        "  'built', 'bare', 'snow_and_ice'\n",
        "]\n",
        "\n",
        "probability_image = dw_image.select(probability_bands)\n",
        "\n",
        "# Create the image with the highest probability value at each pixel.\n",
        "top1_probability = probability_image.reduce(ee.Reducer.max())"
      ]
    },
    {
      "cell_type": "markdown",
      "metadata": {
        "id": "kWDP6eYpuWcn"
      },
      "source": [
        "The pixel values in the resulting image range from 0-1. The hillshade algorithm expects values in meters so we convert these to integer values by multiplying them by 100. The hillshade algorithm returns an image from 0-255, so we divide the result by 255 to get an image with pixel values from 0-1."
      ]
    },
    {
      "cell_type": "code",
      "execution_count": null,
      "metadata": {
        "id": "6OlGKvryuVzd"
      },
      "outputs": [],
      "source": [
        "# Convert the probability values to integers.\n",
        "top1_confidence = top1_probability.multiply(100).int()\n",
        "\n",
        "# Compute the hillshade.\n",
        "hillshade = ee.Terrain.hillshade(top1_confidence).divide(255)"
      ]
    },
    {
      "cell_type": "markdown",
      "metadata": {
        "id": "Kh-wD6S4uivG"
      },
      "source": [
        "For the last step, we colorize the hillshade by multiplying the classification image with the hillshade."
      ]
    },
    {
      "cell_type": "code",
      "execution_count": null,
      "metadata": {
        "id": "3i3kflNsul1U"
      },
      "outputs": [],
      "source": [
        "# Colorize the classification image.\n",
        "rgb_image = classification.visualize(**dw_vis_params).divide(255)\n",
        "\n",
        "# Colorize the hillshade.\n",
        "probability_hillshade = rgb_image.multiply(hillshade)\n",
        "\n",
        "hillshade_vis_params = {'min': 0, 'max': 0.8}"
      ]
    },
    {
      "cell_type": "markdown",
      "metadata": {
        "id": "YCSiiOXcz-xC"
      },
      "source": [
        "Display the hillshade on a map."
      ]
    },
    {
      "cell_type": "code",
      "execution_count": null,
      "metadata": {
        "colab": {
          "base_uri": "https://localhost:8080/",
          "height": 453,
          "referenced_widgets": [
            "8be2daf7eff44691933b5dcae81db3ca",
            "e75d0884a7ee408e8dda79477efef14c",
            "eb1fb53a055747f68d2ae13f577598eb",
            "d5b81e810a8a48cb96f25fb243721fe0",
            "b542a0144d4e481ea1a4d9061bfcdff6",
            "8380e84f56f642c4a4b54d7894bb034b",
            "7c8f745554204765bb9fe31cb7d62d5e",
            "f3eca4bfae5c401084e286adda81902d",
            "5e954be5357843f9875a3a79f2144af9",
            "a19cc6fea53342159adb65827de713c2",
            "be36a783e048413a8c0d19a3954aaddc",
            "9d319119711643e189755d313a11556f",
            "d5279bef1e774a5a85a725ae527589f8",
            "f50742e3d1234960bd91f4afa4f6c0bb",
            "e4447682dddb4d6e932ac5120faebc0c",
            "137b818bb835476b8ef5b40d05ce2ee7",
            "30a315fe74814531b2cf480ed20c4c5d",
            "2c2af256047a4bc290e8f0ad361696e4",
            "1b5176674fa448a49e75dac30386cbee",
            "1ab7dea2a8d24796be9c670b585f4667",
            "fa87223f2ab34706bc62ba0b85612a32",
            "c65209d6770847ef89fb44c71c2b0769",
            "6022297ec30c438d8a6340f95f00faae"
          ]
        },
        "id": "e1d3EdERu5HN",
        "outputId": "af54ac0a-c341-4dbb-dd9f-7b9db8d7d1a2"
      },
      "outputs": [
        {
          "data": {
            "application/vnd.jupyter.widget-view+json": {
              "model_id": "8be2daf7eff44691933b5dcae81db3ca",
              "version_major": 2,
              "version_minor": 0
            },
            "text/plain": [
              "MapWithInspector(children=(HBox(children=(Map(center=[42.36103, -72.28525], controls=(ZoomControl(options=['po…"
            ]
          },
          "metadata": {
            "application/vnd.jupyter.widget-view+json": {
              "colab": {
                "custom_widget_manager": {
                  "url": "https://ssl.gstatic.com/colaboratory-static/widgets/colab-cdn-widget-manager/d2e234f7cc04bf79/manager.min.js"
                }
              }
            }
          },
          "output_type": "display_data"
        }
      ],
      "source": [
        "map2 = MapWithInspector(**map_init_params_ma)\n",
        "map2.map.addLayer(classification, dw_vis_params, 'classification', False)\n",
        "map2.map.addLayer(probability_hillshade, hillshade_vis_params, 'Probability Hillshade')\n",
        "map2    # Display the map"
      ]
    },
    {
      "cell_type": "markdown",
      "metadata": {
        "id": "6wgZDF6tncG5"
      },
      "source": [
        "---\n",
        "\n",
        "### Your turn\n",
        "\n",
        "Take a few minutes to customize the previous section to display Dynamic World data for a location that you are familiar with.\n",
        "\n",
        "To change the location of the analysis, change the `geometry` variable. For example:\n",
        "```\n",
        "# Alternative way to define the region of interest.\n",
        "geometry = ee.Geometry.Point(-100, 45).buffer(1e5)\n",
        "```\n",
        "\n",
        "---"
      ]
    },
    {
      "cell_type": "markdown",
      "metadata": {
        "id": "pzvQDzUF0f_1"
      },
      "source": [
        "### Summary\n",
        "\n",
        "In this section, you learnt how to find the matching LULC classification image from the Dynamic World NRT collection using a Sentinel-2 L1C image. We also covered two different techniques for visualizing the LULC classes: a discrete visualization using the label band and a hillshade visualization using the Top-1 confidence class. In the next section, we will learn how to create annual composites for a larger region."
      ]
    },
    {
      "cell_type": "markdown",
      "metadata": {
        "id": "ZNFQO0Qd0oce"
      },
      "source": [
        "## Creating Multi-Temporal Composites\n",
        "\n",
        "Being a continuous product, Dynamic World allows users to aggregate the NRT collection over a longer, custom time period. For example, one can create a monthly, seasonal or annual product from the NRT scenes collected during this duration. In this section, you will learn how to create an annual land cover product for a US County and export the results as a GeoTiff."
      ]
    },
    {
      "cell_type": "markdown",
      "metadata": {
        "id": "d6Wuf2CX0sS2"
      },
      "source": [
        "### Select a Region\n",
        "\n",
        "For this tutorial, we will use the [TIGER: US Census Counties 2018](https://developers.google.com/earth-engine/datasets/catalog/TIGER_2018_Counties) dataset to extract the boundary for Dane County, Wisconsin."
      ]
    },
    {
      "cell_type": "code",
      "execution_count": null,
      "metadata": {
        "id": "G9dgCE2M03uS"
      },
      "outputs": [],
      "source": [
        "counties = ee.FeatureCollection('TIGER/2016/Counties')\n",
        "filtered = counties.filter(ee.Filter.eq('NAMELSAD', 'Dane County'))\n",
        "geometry = filtered.geometry()"
      ]
    },
    {
      "cell_type": "code",
      "execution_count": null,
      "metadata": {
        "id": "IEYa84yG09nw"
      },
      "outputs": [],
      "source": [
        "center_latlon = list(reversed(geometry.centroid().coordinates().getInfo()))\n",
        "\n",
        "map_init_params_wi = {\n",
        "    'center': center_latlon, # <lat,lon> ordering\n",
        "    'zoom': 10\n",
        "}"
      ]
    },
    {
      "cell_type": "code",
      "execution_count": null,
      "metadata": {
        "colab": {
          "base_uri": "https://localhost:8080/",
          "height": 453,
          "referenced_widgets": [
            "00bb2d7bd52e417ab06b1a3b2fd82a91",
            "d8d843d2b0794ed3895677fd79c09af1",
            "f5f522ae15594d279cacca188328f5b4",
            "4d86f5b91dae451eae818a323a2cd47c",
            "821d515b9258450baeb8ea689cec548c",
            "392602c7922e4c80b77de8673dce164d",
            "7c35b04d37d04d7db34c3d9b56822501",
            "0e141b926a2c46d5b38e3b5c267ffdeb",
            "6a40abe0f5d749bf9652cdf927f23628",
            "94f0507c4ed549adbda3a0bd8795a1a0",
            "f04854d837bd4fde886371d1689674d5",
            "3b5e8e895914419594c50a084e0b1c27",
            "b91d8dd13e7d455c905ec1ceb680c26b",
            "de8f56a134014c3ca188ec56dc9a6f1e",
            "c5488ed59c514d9083efa28c13a2fead",
            "a3491bdb3d2e482baaf88f698725af41",
            "ef816c8a353740ef9c0f2c69ee01f6c8",
            "91b3dc4c47864ca6b5c079ce7a5e9807",
            "3d60cbfbf514479a94f4831febd7482c",
            "33b9a36d3cc94e6ca3c2c451b8305b4c",
            "05a48e54a84349049a473c706530a8ca",
            "96a5e22e9d374188a82fffb14853bd9b"
          ]
        },
        "id": "JULD1-gy1MlY",
        "outputId": "20d4e980-518b-4504-fcdc-fb238cef9c1b"
      },
      "outputs": [
        {
          "data": {
            "application/vnd.jupyter.widget-view+json": {
              "model_id": "00bb2d7bd52e417ab06b1a3b2fd82a91",
              "version_major": 2,
              "version_minor": 0
            },
            "text/plain": [
              "MapWithInspector(children=(HBox(children=(Map(center=[43.06727755565937, -89.41813684593848], controls=(ZoomCo…"
            ]
          },
          "metadata": {
            "application/vnd.jupyter.widget-view+json": {
              "colab": {
                "custom_widget_manager": {
                  "url": "https://ssl.gstatic.com/colaboratory-static/widgets/colab-cdn-widget-manager/d2e234f7cc04bf79/manager.min.js"
                }
              }
            }
          },
          "output_type": "display_data"
        }
      ],
      "source": [
        "map3 = MapWithInspector(**map_init_params_wi)\n",
        "map3"
      ]
    },
    {
      "cell_type": "markdown",
      "metadata": {
        "id": "uMTdlDqD2ULQ"
      },
      "source": [
        "### Filter the Dynamic World NRT Collection\n",
        "\n",
        "Now we apply a date and bounds filter to select all images in the NRT collection for the year 2020 over the selected region."
      ]
    },
    {
      "cell_type": "code",
      "execution_count": null,
      "metadata": {
        "id": "6LTAbnR82XAR"
      },
      "outputs": [],
      "source": [
        "start_date = '2020-01-01'\n",
        "end_date = '2021-01-01'\n",
        "\n",
        "dw = (dw_base.filterDate(start_date, end_date)\n",
        "             .filterBounds(geometry))"
      ]
    },
    {
      "cell_type": "markdown",
      "metadata": {
        "id": "3b0gccgY2hR9"
      },
      "source": [
        "### Create a Temporal Class Composite\n",
        "\n",
        "We can aggregate the estimated distribution of the LULC classes over the time period by first calculating the mean probability for each probability class. Each image is collected at a different time and has different pixel-wise probabilities."
      ]
    },
    {
      "cell_type": "code",
      "execution_count": null,
      "metadata": {
        "id": "almyLLvvFXAM"
      },
      "outputs": [],
      "source": [
        "# Select probability bands.\n",
        "probability_col = dw.select(probability_bands)\n",
        "\n",
        "# Create an image with the average pixel-wise probability\n",
        "# of each class across the time-period.\n",
        "mean_probability = probability_col.reduce(ee.Reducer.mean())"
      ]
    },
    {
      "cell_type": "markdown",
      "metadata": {
        "id": "ZAlyI9iDUOgO"
      },
      "source": [
        "We then create a categorical image using the highest probability label.\n",
        "\n"
      ]
    },
    {
      "cell_type": "code",
      "execution_count": null,
      "metadata": {
        "id": "9tfrCYbp2gbx"
      },
      "outputs": [],
      "source": [
        "classification = dw.select('label')\n",
        "dw_class_composite = mean_probability.toArray().arrayArgmax().arrayGet(0).rename('label')"
      ]
    },
    {
      "cell_type": "markdown",
      "metadata": {
        "id": "nPmXrYE_22o8"
      },
      "source": [
        "### Visualize the Annual Composite\n",
        "\n",
        "As shown in the previous section, you may visualize the LULC image using the class labels or the Top-1 hillshade. Here we add the result to the map using the class taxonomy.  We use `.clip()` to limit the spatial extent to the region of interest."
      ]
    },
    {
      "cell_type": "code",
      "execution_count": null,
      "metadata": {
        "id": "Cxk9DRNE2_Dj"
      },
      "outputs": [],
      "source": [
        "dw_vis_params = {\n",
        "  'min': 0,\n",
        "  'max': 8,\n",
        "  'palette': [\n",
        "    '#419BDF', '#397D49', '#88B053', '#7A87C6', '#E49635', '#DFC35A',\n",
        "    '#C4281B', '#A59B8F', '#B39FE1'\n",
        "  ]\n",
        "}"
      ]
    },
    {
      "cell_type": "code",
      "execution_count": null,
      "metadata": {
        "colab": {
          "base_uri": "https://localhost:8080/",
          "height": 453,
          "referenced_widgets": [
            "00bb2d7bd52e417ab06b1a3b2fd82a91",
            "d8d843d2b0794ed3895677fd79c09af1",
            "f5f522ae15594d279cacca188328f5b4",
            "4d86f5b91dae451eae818a323a2cd47c",
            "821d515b9258450baeb8ea689cec548c",
            "392602c7922e4c80b77de8673dce164d",
            "7c35b04d37d04d7db34c3d9b56822501",
            "0e141b926a2c46d5b38e3b5c267ffdeb",
            "6a40abe0f5d749bf9652cdf927f23628",
            "94f0507c4ed549adbda3a0bd8795a1a0",
            "f04854d837bd4fde886371d1689674d5",
            "3b5e8e895914419594c50a084e0b1c27",
            "b91d8dd13e7d455c905ec1ceb680c26b",
            "de8f56a134014c3ca188ec56dc9a6f1e",
            "c5488ed59c514d9083efa28c13a2fead",
            "a3491bdb3d2e482baaf88f698725af41",
            "ef816c8a353740ef9c0f2c69ee01f6c8",
            "91b3dc4c47864ca6b5c079ce7a5e9807",
            "3d60cbfbf514479a94f4831febd7482c",
            "33b9a36d3cc94e6ca3c2c451b8305b4c",
            "05a48e54a84349049a473c706530a8ca",
            "96a5e22e9d374188a82fffb14853bd9b"
          ]
        },
        "id": "cnrYAx3g3IoD",
        "outputId": "a54e0eb2-2a3b-4f47-aff4-ec87daf5e2a4"
      },
      "outputs": [
        {
          "data": {
            "application/vnd.jupyter.widget-view+json": {
              "model_id": "00bb2d7bd52e417ab06b1a3b2fd82a91",
              "version_major": 2,
              "version_minor": 0
            },
            "text/plain": [
              "MapWithInspector(children=(HBox(children=(Map(center=[43.06727755565937, -89.41813684593848], controls=(ZoomCo…"
            ]
          },
          "metadata": {
            "application/vnd.jupyter.widget-view+json": {
              "colab": {
                "custom_widget_manager": {
                  "url": "https://ssl.gstatic.com/colaboratory-static/widgets/colab-cdn-widget-manager/d2e234f7cc04bf79/manager.min.js"
                }
              }
            }
          },
          "output_type": "display_data"
        }
      ],
      "source": [
        "# Clip the composite and add it to the Map.\n",
        "map3.map.addLayer(dw_class_composite.clip(geometry), dw_vis_params, 'Classified Composite')\n",
        "map3"
      ]
    },
    {
      "cell_type": "markdown",
      "metadata": {
        "id": "cy2BVJ2z3kMt"
      },
      "source": [
        "### Create a Probability Hillshade Composite\n",
        "\n",
        "As we saw in an earlier section, you can use the pixel-wise probability information contained in the 9 LULC bands to create a richer visualization by calculating the Top-1 Probability Hillshade for a single image. We can use the same technique on composite images, but with a few adjustments.\n",
        "\n",
        "The `mean_probability` image is a composite image with 9 bands having the average pixel-wise probability calculated from all the source image bands. In Earth Engine, a composite of input images will have the [default projection](https://developers.google.com/earth-engine/guides/projections?hl=en#the-default-projection), which is WGS84 with 1-degree scale. This is not suitable for hillshade computation. To fix this, we can set another default projection for the composite image. For visualizing the image in the Code Editor, the [EPSG:3857 CRS](https://epsg.io/3857) is a good choice (Code Editor CRS is EPSG:3857). We also set the scale of the projection to be the same as the source images (10m)."
      ]
    },
    {
      "cell_type": "code",
      "execution_count": null,
      "metadata": {
        "id": "NyObzGtF4M61"
      },
      "outputs": [],
      "source": [
        "projection = ee.Projection('EPSG:3857').atScale(10)\n",
        "mean_probability = mean_probability.setDefaultProjection(projection)"
      ]
    },
    {
      "cell_type": "markdown",
      "metadata": {
        "id": "9tkw-xrgU-ba"
      },
      "source": [
        "We can now proceed and create the colorized hillshade visualization as described in the previous section.\n",
        "\n"
      ]
    },
    {
      "cell_type": "code",
      "execution_count": null,
      "metadata": {
        "id": "xswxyxjGVB-X"
      },
      "outputs": [],
      "source": [
        "# Create the image with the highest probability value at each pixel.\n",
        "top1_probability = mean_probability.reduce(ee.Reducer.max())\n",
        "\n",
        "# Convert the probability values to integers.\n",
        "top1_confidence = top1_probability.multiply(100).int()\n",
        "\n",
        "# Compute the hillshade\n",
        "hillshade = ee.Terrain.hillshade(top1_confidence).divide(255)\n",
        "\n",
        "# Colorize the classification image.\n",
        "rgb_image = dw_class_composite.visualize(**dw_vis_params).divide(255)\n",
        "\n",
        "# Apply shade to the class composite image\n",
        "probability_hillshade = rgb_image.multiply(hillshade)"
      ]
    },
    {
      "cell_type": "code",
      "execution_count": null,
      "metadata": {
        "colab": {
          "base_uri": "https://localhost:8080/",
          "height": 453,
          "referenced_widgets": [
            "f04ac0bf1eb44c29b25f037456391924",
            "07e096947ca24021890cc448af0a5098",
            "1343045329f74dd296cc36b4b30f4df6",
            "2ad26b06649e415bbe1906d835a629e7",
            "db351fc9cb634cf38ecf95abb91301f7",
            "1ac40a363bda4f62ab6968b623bc1a91",
            "ca956bbe47a244f4aeb339a3362ddb6b",
            "6752b087c1da45789d85cc9189ae102e",
            "40f12ea413bd4b12a9b9538668ed78a0",
            "4615c64df4324fd99ee4a7f0b8649837",
            "bfd5a83321d842138737401836cebd2d",
            "36093f6022354469a70d6f29069c600c",
            "85291349e8ea445ab68f0b99d763376b",
            "d5cfb23be27645f09b8b806058f43fe9",
            "a9485c2e7ad94f4082311e0e061a0e77",
            "99a7bcd1a7204f10a0e9becc8f501668",
            "98b42236dd3c47f285d805d92654c24f",
            "2375539ad23445c3b640406b2ee21cfc",
            "f8566cb32a824647a9c8b23673397939",
            "48e7f553b77949d98d7a0486ecd007fc",
            "6aa5f954978743d1886590563709b93d",
            "57e06d8e77ce45ff9fb9fc830b2cee32"
          ]
        },
        "id": "A1KJFiYqWD8F",
        "outputId": "dd5ea38d-5236-4229-a085-7ada2a56b715"
      },
      "outputs": [
        {
          "data": {
            "application/vnd.jupyter.widget-view+json": {
              "model_id": "f04ac0bf1eb44c29b25f037456391924",
              "version_major": 2,
              "version_minor": 0
            },
            "text/plain": [
              "MapWithInspector(children=(HBox(children=(Map(center=[43.06727755565937, -89.41813684593848], controls=(ZoomCo…"
            ]
          },
          "metadata": {
            "application/vnd.jupyter.widget-view+json": {
              "colab": {
                "custom_widget_manager": {
                  "url": "https://ssl.gstatic.com/colaboratory-static/widgets/colab-cdn-widget-manager/d2e234f7cc04bf79/manager.min.js"
                }
              }
            }
          },
          "output_type": "display_data"
        }
      ],
      "source": [
        "map4 = MapWithInspector(**map_init_params_wi)\n",
        "map4.map.addLayer(probability_hillshade.clip(geometry),\n",
        "                  hillshade_vis_params,\n",
        "                  'Probability Hillshade')\n",
        "map4"
      ]
    },
    {
      "cell_type": "markdown",
      "metadata": {
        "id": "PP_D_8_BWs0t"
      },
      "source": [
        "### Export the Composite\n",
        "\n",
        "We can export the resulting composite annual LULC product to download it as a GeoTIFF. If you want to further analyze this dataset with GIS software, you can export the raw image with the pixel values representing classes. We use the Export.image.toDrive() function to create a task for exporting the composite.\n",
        "\n",
        "Once you run the script, switch to the Tasks tab and click Run. Upon confirmation, the task will start running and create a GeoTIFF file in your Google Drive in a few minutes."
      ]
    },
    {
      "cell_type": "code",
      "execution_count": null,
      "metadata": {
        "id": "eHPboqdeWsX9"
      },
      "outputs": [],
      "source": [
        "task = ee.batch.Export.image.toDrive(\n",
        "      image=probability_hillshade,\n",
        "      description='Greenest_pixel_composite',\n",
        "      folder='TEMP AGU22 Exports',\n",
        "      scale=30,\n",
        "      region=\"\"\"[[[-89.8, 43.2],\n",
        "                  [-89.8, 42.8],\n",
        "                  [-89.0, 42.8],\n",
        "                  [-89.0, 43.2]]]\"\"\"\n",
        "  )\n",
        "\n",
        "task.start()"
      ]
    },
    {
      "cell_type": "markdown",
      "metadata": {
        "id": "OfuzgTUweFKI"
      },
      "source": [
        "You can check your status using the [Earth Engine Task Manager](https://code.earthengine.google.com/tasks).\n",
        "\n",
        "Or run the following command for your task object."
      ]
    },
    {
      "cell_type": "code",
      "execution_count": null,
      "metadata": {
        "colab": {
          "base_uri": "https://localhost:8080/"
        },
        "id": "7Y7HRdQTdx1d",
        "outputId": "bd2d01b9-0a5b-4f86-af05-6256728b8de5"
      },
      "outputs": [
        {
          "data": {
            "text/plain": [
              "{'state': 'READY',\n",
              " 'description': 'Greenest_pixel_composite',\n",
              " 'creation_timestamp_ms': 1671031387318,\n",
              " 'update_timestamp_ms': 1671031387318,\n",
              " 'start_timestamp_ms': 0,\n",
              " 'task_type': 'EXPORT_IMAGE',\n",
              " 'id': 'HZ6TMDQETMOBBDXSU2SYDLJA',\n",
              " 'name': 'projects/agu22-eetemp/operations/HZ6TMDQETMOBBDXSU2SYDLJA'}"
            ]
          },
          "execution_count": 41,
          "metadata": {},
          "output_type": "execute_result"
        }
      ],
      "source": [
        "task.status()"
      ]
    },
    {
      "cell_type": "markdown",
      "metadata": {
        "id": "tELZ4w0ceTGA"
      },
      "source": [
        "Once the Export tasks finish, you can download the GeoTIFF file from your Google Drive."
      ]
    },
    {
      "cell_type": "markdown",
      "metadata": {
        "id": "V9z6zuLweWdY"
      },
      "source": [
        "### Summary\n",
        "\n",
        "You now know how to create temporally aggregated products from the Dynamic World NRT collection for a region of your choice and visualize them. This section also showed how you can download a GeoTIFF of the resulting composite using the Export function."
      ]
    },
    {
      "cell_type": "markdown",
      "metadata": {
        "id": "BUn5LYD0ecu8"
      },
      "source": [
        "# Part 2 - Calculating Statistics of a Region\n",
        "\n",
        "A high resolution Land Use Land Cover (LULC) dataset like Dynamic World allows us to estimate the footprint of human activity on carbon cycles, biodiversity and other anthropogenic natural processes. Using the Dynamic World taxonomy, we can calculate and summarize statistics over any region. In this section, we will learn how to calculate the number of pixels for a single land cover class in a region as well as the distribution of pixel counts for all classes.\n",
        "\n",
        "Note that summary statistics could be used to get class proportions for a stratified sample, but reference data would need to be collected in order to correct for biases and perform area estimation.\n",
        "\n",
        "In this section, you will learn how to calculate the fraction of a single land cover class in this county as well as the pixel counts for all the classes."
      ]
    },
    {
      "cell_type": "markdown",
      "metadata": {
        "id": "xkiRIRIZe1-8"
      },
      "source": [
        "## Calculate the Fraction of a Single Class\n",
        "\n",
        "Let's say we want to estimate what percentage of a region is built-up area. We start by creating a mode composite for the given time period."
      ]
    },
    {
      "cell_type": "markdown",
      "metadata": {
        "id": "Uio3TdP4f0Ss"
      },
      "source": [
        "According to the Dynamic World taxonomy, the Built Area class is represented with the pixel value 6. We can use the boolean operator `.eq()` to extract all pixels with that value."
      ]
    },
    {
      "cell_type": "code",
      "execution_count": null,
      "metadata": {
        "id": "IxEEQXhDf5Ji"
      },
      "outputs": [],
      "source": [
        "# Extract the Built Area class.\n",
        "built_area = dw_class_composite.eq(6).rename(['built_area'])"
      ]
    },
    {
      "cell_type": "markdown",
      "metadata": {
        "id": "gwh9Z0-3gOFk"
      },
      "source": [
        "The resulting builtArea image is a binary image—with pixel value 1 where the condition matched and 0 where it didn't. We can add both the composite and the built area images to the Map to verify it."
      ]
    },
    {
      "cell_type": "code",
      "execution_count": null,
      "metadata": {
        "colab": {
          "base_uri": "https://localhost:8080/",
          "height": 500,
          "referenced_widgets": [
            "55aa7efe7621409a838f1a9c86273555",
            "4422ed1e97874ba7be852a8263ae5dda",
            "f93fce421a364a45b43565590c51d675",
            "a04854e8ff6741088918d99937d3f933",
            "7899c8246d80461d8011897afce7ad81",
            "f6f607e7a193469eb96595efa3c1ba55",
            "51ebb2809d8744f6889179acf14c0945",
            "f11873814b164f6b92b0ae9d9a1d57ec",
            "ea4288afd077446792b1027dfcc97ae2",
            "686b154eecff46b5ab136fe23d2ba507",
            "0fabfd1bedce4f3a9f7e54c229c60deb",
            "18c82bf08d67419489f1408c203bce38",
            "056447a6d8364898869751d28ae6f200",
            "165d2641c26f4a9cb51423144a9a7ba2",
            "aea1b7fa1f5f4de3b7ca4b5471706cc2",
            "775bc93ef2ed4058a95edc9d3bb8066b",
            "a461190f6ebd42538423be7d43a38df8",
            "ebea7d07fb9146b7b775e42c3b86255c",
            "894838e8c32e4dcaad5d428b72fa4272",
            "84155cfc6beb4cd6ac3a5b07f3fefbab",
            "dfb633d4f74744c4aa1e38eb7191d210",
            "8488be3befb347669d8680734dbb5c40",
            "b39e0e1edcad4b0bb8478dda62f280a4"
          ]
        },
        "id": "WWsoiYi0gxSE",
        "outputId": "83e0abfe-416c-484c-a413-1f4fa01bd7a6"
      },
      "outputs": [
        {
          "data": {
            "text/html": [
              "<h2>Dynamic World Composite and Extracted Built Area Image</h1>"
            ],
            "text/plain": [
              "<IPython.core.display.HTML object>"
            ]
          },
          "metadata": {},
          "output_type": "display_data"
        },
        {
          "data": {
            "application/vnd.jupyter.widget-view+json": {
              "model_id": "55aa7efe7621409a838f1a9c86273555",
              "version_major": 2,
              "version_minor": 0
            },
            "text/plain": [
              "MapWithInspector(children=(HBox(children=(Map(center=[43.06727755565937, -89.41813684593848], controls=(ZoomCo…"
            ]
          },
          "metadata": {
            "application/vnd.jupyter.widget-view+json": {
              "colab": {
                "custom_widget_manager": {
                  "url": "https://ssl.gstatic.com/colaboratory-static/widgets/colab-cdn-widget-manager/d2e234f7cc04bf79/manager.min.js"
                }
              }
            }
          },
          "output_type": "display_data"
        }
      ],
      "source": [
        "map5 = MapWithInspector(**map_init_params_wi)\n",
        "map5.map.addLayer(dw_class_composite.clip(geometry),\n",
        "                  dw_vis_params,\n",
        "                  'Classified Composite')\n",
        "map5.map.addLayer(built_area.clip(geometry),\n",
        "                  {},\n",
        "                  'Built Areas')\n",
        "\n",
        "display(\n",
        "    HTML('<h2>Dynamic World Composite and Extracted Built Area Image</h1>'),\n",
        "    map5\n",
        ")"
      ]
    },
    {
      "cell_type": "markdown",
      "metadata": {
        "id": "kYleh1MZiKp-"
      },
      "source": [
        "To count pixels within a region, we can use the `reduceRegion()` function with the `ee.Reducer.count()` reducer. We first count total pixels in the image. Then we use the `selfMask()` function to mask all 0 values and count the remaining pixels."
      ]
    },
    {
      "cell_type": "markdown",
      "metadata": {
        "id": "Xpp8MF_VkroL"
      },
      "source": [
        "Define the spatial scale (in meters) that will be used for data reductions. The larger the scale, the faster the computations will finish. The smaller the scale, the more accurate the results will be."
      ]
    },
    {
      "cell_type": "code",
      "execution_count": null,
      "metadata": {
        "id": "iqsQz3rWknGd"
      },
      "outputs": [],
      "source": [
        "reduction_scale = 50"
      ]
    },
    {
      "cell_type": "code",
      "execution_count": null,
      "metadata": {
        "colab": {
          "base_uri": "https://localhost:8080/"
        },
        "id": "bftVv3OFoXTI",
        "outputId": "caa8dfb6-384f-439a-f87f-13ec0db41bb0"
      },
      "outputs": [
        {
          "name": "stdout",
          "output_type": "stream",
          "text": [
            "total pixels = 1755643\n"
          ]
        }
      ],
      "source": [
        "# Count all pixels.\n",
        "stats_total = built_area.reduceRegion(\n",
        "    reducer=ee.Reducer.count(),\n",
        "    geometry=geometry,\n",
        "    scale=reduction_scale,\n",
        "    maxPixels=1e10,\n",
        "    tileScale=2\n",
        ")\n",
        "total_pixels = stats_total.get('built_area')\n",
        "print(f'total pixels = {total_pixels.getInfo()}')"
      ]
    },
    {
      "cell_type": "code",
      "execution_count": null,
      "metadata": {
        "colab": {
          "base_uri": "https://localhost:8080/"
        },
        "id": "RpelgF6wh5ZP",
        "outputId": "cbb15198-a194-4d4c-8a24-0bdf5f1d1d4d"
      },
      "outputs": [
        {
          "name": "stdout",
          "output_type": "stream",
          "text": [
            "built_area_pixels = 231619\n"
          ]
        }
      ],
      "source": [
        "# Mask 0 pixel values and count remaining pixels.\n",
        "built_area_masked = built_area.selfMask();\n",
        "\n",
        "stats_masked = built_area_masked.reduceRegion(\n",
        "    reducer=ee.Reducer.count(),\n",
        "    geometry=geometry,\n",
        "    scale=reduction_scale,\n",
        "    maxPixels=1e10,\n",
        "    tileScale=2\n",
        ")\n",
        "built_area_pixels = stats_masked.get('built_area')\n",
        "print(f'built_area_pixels = {built_area_pixels.getInfo()}')"
      ]
    },
    {
      "cell_type": "markdown",
      "metadata": {
        "id": "540SGobLmS1r"
      },
      "source": [
        "The last step is to calculate the built area fraction by dividing the total built area pixels by total image pixels. We round off the number to 2 decimal places using the `format()` function and print the result."
      ]
    },
    {
      "cell_type": "code",
      "execution_count": null,
      "metadata": {
        "colab": {
          "base_uri": "https://localhost:8080/"
        },
        "id": "J_hSI61omZTh",
        "outputId": "585d0655-8480-41e6-cf14-14162f759f06"
      },
      "outputs": [
        {
          "name": "stdout",
          "output_type": "stream",
          "text": [
            "Percentage Built Area = 13.19%\n"
          ]
        }
      ],
      "source": [
        "fraction = ee.Number(built_area_pixels).divide(total_pixels).multiply(100)\n",
        "print(f'Percentage Built Area = {fraction.getInfo():.2f}%')"
      ]
    },
    {
      "cell_type": "markdown",
      "metadata": {
        "id": "-71nS2IknPjR"
      },
      "source": [
        "## Summarizing Pixel Counts for All Classes\n",
        "\n",
        "The method described in the previous section is useful for many applications, but it can be limiting if you want to summarize the pixel counts for all the classes. Instead, we can take the `dw_class_composite` image and use another reducer called `ee.Reducer.frequencyHistogram()`. This reducer computes the counts for all unique pixel values in the image. Note that this is a weighted reducer, so it will count the pixels based on their overlap with the geometry. To match the results we get from `ee.Reducer.count()`, we can create an unweighted reducer by calling `unweighted()` on it. Learn more about [Weighted Reducers](https://developers.google.com/earth-engine/guides/reducers_reduce_region?#pixels-in-the-region)."
      ]
    },
    {
      "cell_type": "code",
      "execution_count": null,
      "metadata": {
        "colab": {
          "base_uri": "https://localhost:8080/"
        },
        "id": "AKzcN4YNniZe",
        "outputId": "f41346a6-f438-41de-ab5c-7632560a182c"
      },
      "outputs": [
        {
          "name": "stdout",
          "output_type": "stream",
          "text": [
            "{'0': 60877,\n",
            " '1': 481176,\n",
            " '2': 116794,\n",
            " '3': 1888,\n",
            " '4': 798191,\n",
            " '5': 7037,\n",
            " '6': 231619,\n",
            " '7': 3599,\n",
            " '8': 54462}\n"
          ]
        }
      ],
      "source": [
        "pixel_count_stats = dw_class_composite.reduceRegion(\n",
        "    reducer=ee.Reducer.frequencyHistogram().unweighted(),\n",
        "    geometry=geometry,\n",
        "    scale=reduction_scale,\n",
        "    maxPixels=1e10,\n",
        "    tileScale=2\n",
        "  )\n",
        "\n",
        "pixel_counts = ee.Dictionary(pixel_count_stats.get('label'))\n",
        "pprint(pixel_counts.getInfo())"
      ]
    },
    {
      "cell_type": "markdown",
      "metadata": {
        "id": "c7ALkfSqroGM"
      },
      "source": [
        "The result is a dictionary with pixel values as keys and pixel counts as values. We can rename the keys in the dictionary with the class names to make the results more readable."
      ]
    },
    {
      "cell_type": "code",
      "execution_count": null,
      "metadata": {
        "colab": {
          "base_uri": "https://localhost:8080/"
        },
        "id": "vBnBEJVyrqhi",
        "outputId": "5d0d1c90-f019-48bf-8e00-552e549dd648"
      },
      "outputs": [
        {
          "name": "stdout",
          "output_type": "stream",
          "text": [
            "{'Bare ground': 3599,\n",
            " 'Built Area': 231619,\n",
            " 'Crops': 798191,\n",
            " 'Flooded vegetation': 1888,\n",
            " 'Grass': 116794,\n",
            " 'Shrub & Scrub': 7037,\n",
            " 'Snow & Ice': 54462,\n",
            " 'Trees': 481176,\n",
            " 'Water': 60877}\n"
          ]
        }
      ],
      "source": [
        "# Rename keys with class names.\n",
        "pixel_counts_formatted = pixel_counts.rename(pixel_counts.keys(), dw_class_labels)\n",
        "pprint(pixel_counts_formatted.getInfo())"
      ]
    },
    {
      "cell_type": "markdown",
      "metadata": {
        "id": "3Jf4yBOJ0i1H"
      },
      "source": [
        "The pixel counts are stored in a dictionary. To export it, we have to convert the dictionary to a Feature Collection. A simple solution is to create a Feature Collection having a single feature with null geometry and set the dictionary as its properties. This resulting collection can then be exported using the `Export.table.toDrive()` function."
      ]
    },
    {
      "cell_type": "code",
      "execution_count": null,
      "metadata": {
        "id": "zL1Slruq0t-Z"
      },
      "outputs": [],
      "source": [
        "# Create a Feature Collection.\n",
        "exportFc = ee.FeatureCollection(ee.Feature(None, pixel_counts_formatted))\n",
        "\n",
        "task = ee.batch.Export.table.toDrive(\n",
        "      collection=exportFc,\n",
        "      description='pixel_counts_export',\n",
        "      folder='TEMP AGU22 Exports',\n",
        "      fileNamePrefix='pixel_counts',\n",
        "      fileFormat='CSV',\n",
        "  )\n",
        "\n",
        "task.start()"
      ]
    },
    {
      "cell_type": "markdown",
      "metadata": {
        "id": "v7puynKB1VRP"
      },
      "source": [
        "You can check your status using the [Earth Engine Task Manager](https://code.earthengine.google.com/tasks).\n",
        "\n",
        "Or run the following command for your task object."
      ]
    },
    {
      "cell_type": "code",
      "execution_count": null,
      "metadata": {
        "colab": {
          "base_uri": "https://localhost:8080/"
        },
        "id": "p7fy6K1H1Uo2",
        "outputId": "9e905279-3806-4099-d5c5-9bbe8e4ed16c"
      },
      "outputs": [
        {
          "data": {
            "text/plain": [
              "{'state': 'READY',\n",
              " 'description': 'pixel_counts_export',\n",
              " 'creation_timestamp_ms': 1671031437142,\n",
              " 'update_timestamp_ms': 1671031437142,\n",
              " 'start_timestamp_ms': 0,\n",
              " 'task_type': 'EXPORT_FEATURES',\n",
              " 'id': 'RIK3DHSWEORKCFGCGGQG4MED',\n",
              " 'name': 'projects/agu22-eetemp/operations/RIK3DHSWEORKCFGCGGQG4MED'}"
            ]
          },
          "execution_count": 51,
          "metadata": {},
          "output_type": "execute_result"
        }
      ],
      "source": [
        "task.status()"
      ]
    },
    {
      "cell_type": "markdown",
      "metadata": {
        "id": "vVg4M1hU1l2Y"
      },
      "source": [
        "Once the Export task finishes, you will have a file named `pixel_counts.csv` in your Google Drive with the result of the computation."
      ]
    },
    {
      "cell_type": "markdown",
      "metadata": {
        "id": "YA97Hnfq1rCH"
      },
      "source": [
        "### Summary\n",
        "\n",
        "You learned different techniques to calculate statistics on the LULC composite image. We covered the method to extract pixels for a single class and calculate its fraction. The tutorial also showed how to summarize pixel counts of all classes in a region and export the results as a CSV file.\n",
        "\n",
        "The pixel counts obtained through the method described here should be used with care. For accurate area estimates, it should be further refined by comparing against reference datasets and applying bias corrections."
      ]
    },
    {
      "cell_type": "markdown",
      "metadata": {
        "id": "k6WcD0Q32E6-"
      },
      "source": [
        "# Part 3 - Exploring Time Series\n",
        "\n",
        "A key differentiator of the Dynamic World dataset is the availability of a regularly updated time-series of land cover predictions. This allows you to monitor the landscape in near-real time and detect changes in land surface state. In this section, we will explore how you can work with this rich time-series data.\n",
        "\n",
        "Continuing from the Part 2 of this tutorial, we will now learn how you can work with this time-series data."
      ]
    },
    {
      "cell_type": "markdown",
      "metadata": {
        "id": "mdWVd4rc2RYI"
      },
      "source": [
        "## Charting Class Probabilities Over Time\n",
        "\n",
        "Each Dynamic World image has bands with the predicted probabilities for each class. For any location in the world, we can plot a time series of these probabilities to understand the temporal patterns.\n",
        "\n",
        "We start by defining a location with its coordinates. The location in this example is a point over the University of Wisconsin - Madison Arboretum in Wisconsin, USA. It is a dense urban forest that undergoes seasonal changes throughout the year. This is a great location to see how Dynamic World can help us monitor the changing conditions."
      ]
    },
    {
      "cell_type": "code",
      "execution_count": null,
      "metadata": {
        "colab": {
          "base_uri": "https://localhost:8080/",
          "height": 453,
          "referenced_widgets": [
            "e8b23cc8fd7d469b8de07fcdaa2f42d2",
            "94b0512613d54c80a52babf5cb8298e5",
            "07fcc2378acd4fd297db8f238ec8cd5b",
            "9d5826cac2914e54b1d5fe110ad2950a",
            "90a38e0178fb4ba3948e6b6690c1e5c0",
            "e3f7ae4bdef746c9be4a1ccaf337858a",
            "eaecec5d0ff04d5c96b4a580b67cff83",
            "9d778ba25f664d18bfb83f377db3d2be",
            "06c8230eaecc40d995ae8e53a4a7ae68",
            "b7ef470db0ab4b9e8f60c8b170bdc06d",
            "3c9eb7adf067453c9c9944f458ce0452",
            "deef0615c6da41b0aa5e14191266a702",
            "262872652e4548a6bb924a9ab13d8907",
            "a41dab6849374d7f9f37f52edb75a27e",
            "8ff28e78ad3642399b536ee4e4c47e78",
            "aee14fdf1e9843339338a9bd80fc1572",
            "e8b3d5ac4de74a1095d1acdb151526f0",
            "565931b1769647e8bd9cbbffb47d80e4",
            "7c62ded5702e455999d3b026e4ab6300",
            "f61cd595a0154d23881fd6ad5bb5bbc1",
            "3a0260c7426e4cae9655d83f82578337"
          ]
        },
        "id": "wxzIQvUH2bPj",
        "outputId": "4f3c91d5-ec2c-4392-8b14-6674e49f7b44"
      },
      "outputs": [
        {
          "data": {
            "application/vnd.jupyter.widget-view+json": {
              "model_id": "e8b23cc8fd7d469b8de07fcdaa2f42d2",
              "version_major": 2,
              "version_minor": 0
            },
            "text/plain": [
              "MapWithInspector(children=(HBox(children=(Map(center=[43.0469, -89.4235], controls=(ZoomControl(options=['posi…"
            ]
          },
          "metadata": {
            "application/vnd.jupyter.widget-view+json": {
              "colab": {
                "custom_widget_manager": {
                  "url": "https://ssl.gstatic.com/colaboratory-static/widgets/colab-cdn-widget-manager/d2e234f7cc04bf79/manager.min.js"
                }
              }
            }
          },
          "output_type": "display_data"
        }
      ],
      "source": [
        "sample_point = ee.Geometry.Point([-89.4235, 43.0469])\n",
        "\n",
        "map_init_params_uwis = {\n",
        "    'center': list(reversed(sample_point.coordinates().getInfo())), # <lat,lon> ordering\n",
        "    'zoom': 16\n",
        "}\n",
        "\n",
        "map6 = MapWithInspector(**map_init_params_uwis)\n",
        "map6"
      ]
    },
    {
      "cell_type": "markdown",
      "metadata": {
        "id": "0eWKn3Rl3oZJ"
      },
      "source": [
        "We start by first filtering the Dynamic World collection for the time period and location of interest. Here we want to chart the changes to this location over the course of a year. So we apply the filter to select images collected over this region in the time period of interest. Finally, we select all class probability bands."
      ]
    },
    {
      "cell_type": "code",
      "execution_count": null,
      "metadata": {
        "id": "fDlFZifX3oD9"
      },
      "outputs": [],
      "source": [
        "start_date = '2020-01-01'\n",
        "end_date = '2021-01-01'\n",
        "\n",
        "dw = (dw_base.filterDate(start_date, end_date)\n",
        "             .filterBounds(sample_point)\n",
        ")\n",
        "\n",
        "dw_time_series = dw.select(probability_bands)"
      ]
    },
    {
      "cell_type": "markdown",
      "metadata": {
        "id": "ZytLKacM4rXX"
      },
      "source": [
        "Create a function that takes the image and creates an ee.Feature with the mean and the image timestamp (to help enable timeseries plotting):"
      ]
    },
    {
      "cell_type": "code",
      "execution_count": null,
      "metadata": {
        "id": "joqyqNW44pWe"
      },
      "outputs": [],
      "source": [
        "def reduce_region_function(img):\n",
        "  \"\"\"Return a feature containing the mean value of a region and a timestamp.\"\"\"\n",
        "\n",
        "  stat = img.reduceRegion(\n",
        "      reducer=ee.Reducer.mean(),\n",
        "      geometry=sample_point,\n",
        "      scale=30\n",
        "  )\n",
        "  return ee.Feature(sample_point, stat).set({'millis': img.date().millis()})"
      ]
    },
    {
      "cell_type": "markdown",
      "metadata": {
        "id": "Fc5SW-k34uqj"
      },
      "source": [
        "The next two code blocks are helper functions that are used to get the feature properties into a dictionary and then the dictionary values into a pandas dataframe:"
      ]
    },
    {
      "cell_type": "code",
      "execution_count": null,
      "metadata": {
        "id": "7AOP1XOo4wxd"
      },
      "outputs": [],
      "source": [
        "# Define a function to transfer feature properties to a dictionary.\n",
        "def fc_to_dict(fc):\n",
        "  prop_names = fc.first().propertyNames()\n",
        "  prop_lists = fc.reduceColumns(\n",
        "      reducer=ee.Reducer.toList().repeat(prop_names.size()),\n",
        "      selectors=prop_names).get('list')\n",
        "\n",
        "  return ee.Dictionary.fromLists(prop_names, prop_lists)\n",
        "\n",
        "def fc_to_dataframe(fc):\n",
        "  \"\"\"Converts a feature collection to a Pandas dataframe.\"\"\"\n",
        "  return pd.DataFrame(fc_to_dict(fc).getInfo())"
      ]
    },
    {
      "cell_type": "markdown",
      "metadata": {
        "id": "23l0-ehA40kd"
      },
      "source": [
        "Here we apply the helper functions defined above to create a Pandas dataframe:"
      ]
    },
    {
      "cell_type": "code",
      "execution_count": null,
      "metadata": {
        "id": "umaK3OHZ44vY"
      },
      "outputs": [],
      "source": [
        "stat_fc = (\n",
        "  ee.FeatureCollection(\n",
        "    dw_time_series.map(reduce_region_function)\n",
        "  ).filter(\n",
        "    ee.Filter.notNull(dw_time_series.first().bandNames())\n",
        "  )\n",
        ")\n",
        "df = fc_to_dataframe(stat_fc)\n",
        "df['timestamp'] = pd.to_datetime(df['millis'], unit='ms')"
      ]
    },
    {
      "cell_type": "markdown",
      "metadata": {
        "id": "abIWgRc25bSC"
      },
      "source": [
        "Display the first few rows of the dataframe:"
      ]
    },
    {
      "cell_type": "code",
      "execution_count": null,
      "metadata": {
        "colab": {
          "base_uri": "https://localhost:8080/",
          "height": 357
        },
        "id": "kCyz25a55UbW",
        "outputId": "a6cb0c97-2cb9-4b5a-9435-2a2871c093c3"
      },
      "outputs": [
        {
          "data": {
            "text/html": [
              "\n",
              "  <div id=\"df-f2899a4b-72d0-48c4-85ed-cee77cb54d13\">\n",
              "    <div class=\"colab-df-container\">\n",
              "      <div>\n",
              "<style scoped>\n",
              "    .dataframe tbody tr th:only-of-type {\n",
              "        vertical-align: middle;\n",
              "    }\n",
              "\n",
              "    .dataframe tbody tr th {\n",
              "        vertical-align: top;\n",
              "    }\n",
              "\n",
              "    .dataframe thead th {\n",
              "        text-align: right;\n",
              "    }\n",
              "</style>\n",
              "<table border=\"1\" class=\"dataframe\">\n",
              "  <thead>\n",
              "    <tr style=\"text-align: right;\">\n",
              "      <th></th>\n",
              "      <th>bare</th>\n",
              "      <th>built</th>\n",
              "      <th>crops</th>\n",
              "      <th>flooded_vegetation</th>\n",
              "      <th>grass</th>\n",
              "      <th>millis</th>\n",
              "      <th>shrub_and_scrub</th>\n",
              "      <th>snow_and_ice</th>\n",
              "      <th>system:index</th>\n",
              "      <th>trees</th>\n",
              "      <th>water</th>\n",
              "      <th>timestamp</th>\n",
              "    </tr>\n",
              "  </thead>\n",
              "  <tbody>\n",
              "    <tr>\n",
              "      <th>0</th>\n",
              "      <td>0.082704</td>\n",
              "      <td>0.047385</td>\n",
              "      <td>0.038619</td>\n",
              "      <td>0.029525</td>\n",
              "      <td>0.025125</td>\n",
              "      <td>1579453299766</td>\n",
              "      <td>0.044578</td>\n",
              "      <td>0.655305</td>\n",
              "      <td>20200119T165621_20200119T165804_T15TYH</td>\n",
              "      <td>0.029804</td>\n",
              "      <td>0.046875</td>\n",
              "      <td>2020-01-19 17:01:39.766</td>\n",
              "    </tr>\n",
              "    <tr>\n",
              "      <th>1</th>\n",
              "      <td>0.084850</td>\n",
              "      <td>0.048032</td>\n",
              "      <td>0.039573</td>\n",
              "      <td>0.029693</td>\n",
              "      <td>0.025411</td>\n",
              "      <td>1579453295467</td>\n",
              "      <td>0.046099</td>\n",
              "      <td>0.650251</td>\n",
              "      <td>20200119T165621_20200119T165804_T16TCN</td>\n",
              "      <td>0.029709</td>\n",
              "      <td>0.046322</td>\n",
              "      <td>2020-01-19 17:01:35.467</td>\n",
              "    </tr>\n",
              "    <tr>\n",
              "      <th>2</th>\n",
              "      <td>0.062424</td>\n",
              "      <td>0.035139</td>\n",
              "      <td>0.036060</td>\n",
              "      <td>0.032288</td>\n",
              "      <td>0.026136</td>\n",
              "      <td>1580749299456</td>\n",
              "      <td>0.045069</td>\n",
              "      <td>0.680268</td>\n",
              "      <td>20200203T165509_20200203T165509_T15TYH</td>\n",
              "      <td>0.031627</td>\n",
              "      <td>0.050834</td>\n",
              "      <td>2020-02-03 17:01:39.456</td>\n",
              "    </tr>\n",
              "    <tr>\n",
              "      <th>3</th>\n",
              "      <td>0.064027</td>\n",
              "      <td>0.034728</td>\n",
              "      <td>0.036976</td>\n",
              "      <td>0.032916</td>\n",
              "      <td>0.025856</td>\n",
              "      <td>1580749295171</td>\n",
              "      <td>0.045491</td>\n",
              "      <td>0.676723</td>\n",
              "      <td>20200203T165509_20200203T165509_T16TCN</td>\n",
              "      <td>0.031785</td>\n",
              "      <td>0.051372</td>\n",
              "      <td>2020-02-03 17:01:35.171</td>\n",
              "    </tr>\n",
              "    <tr>\n",
              "      <th>4</th>\n",
              "      <td>0.071028</td>\n",
              "      <td>0.035431</td>\n",
              "      <td>0.034700</td>\n",
              "      <td>0.029941</td>\n",
              "      <td>0.025382</td>\n",
              "      <td>1581181293931</td>\n",
              "      <td>0.039010</td>\n",
              "      <td>0.688169</td>\n",
              "      <td>20200208T165441_20200208T165946_T16TCN</td>\n",
              "      <td>0.027389</td>\n",
              "      <td>0.048872</td>\n",
              "      <td>2020-02-08 17:01:33.931</td>\n",
              "    </tr>\n",
              "  </tbody>\n",
              "</table>\n",
              "</div>\n",
              "      <button class=\"colab-df-convert\" onclick=\"convertToInteractive('df-f2899a4b-72d0-48c4-85ed-cee77cb54d13')\"\n",
              "              title=\"Convert this dataframe to an interactive table.\"\n",
              "              style=\"display:none;\">\n",
              "        \n",
              "  <svg xmlns=\"http://www.w3.org/2000/svg\" height=\"24px\"viewBox=\"0 0 24 24\"\n",
              "       width=\"24px\">\n",
              "    <path d=\"M0 0h24v24H0V0z\" fill=\"none\"/>\n",
              "    <path d=\"M18.56 5.44l.94 2.06.94-2.06 2.06-.94-2.06-.94-.94-2.06-.94 2.06-2.06.94zm-11 1L8.5 8.5l.94-2.06 2.06-.94-2.06-.94L8.5 2.5l-.94 2.06-2.06.94zm10 10l.94 2.06.94-2.06 2.06-.94-2.06-.94-.94-2.06-.94 2.06-2.06.94z\"/><path d=\"M17.41 7.96l-1.37-1.37c-.4-.4-.92-.59-1.43-.59-.52 0-1.04.2-1.43.59L10.3 9.45l-7.72 7.72c-.78.78-.78 2.05 0 2.83L4 21.41c.39.39.9.59 1.41.59.51 0 1.02-.2 1.41-.59l7.78-7.78 2.81-2.81c.8-.78.8-2.07 0-2.86zM5.41 20L4 18.59l7.72-7.72 1.47 1.35L5.41 20z\"/>\n",
              "  </svg>\n",
              "      </button>\n",
              "      \n",
              "  <style>\n",
              "    .colab-df-container {\n",
              "      display:flex;\n",
              "      flex-wrap:wrap;\n",
              "      gap: 12px;\n",
              "    }\n",
              "\n",
              "    .colab-df-convert {\n",
              "      background-color: #E8F0FE;\n",
              "      border: none;\n",
              "      border-radius: 50%;\n",
              "      cursor: pointer;\n",
              "      display: none;\n",
              "      fill: #1967D2;\n",
              "      height: 32px;\n",
              "      padding: 0 0 0 0;\n",
              "      width: 32px;\n",
              "    }\n",
              "\n",
              "    .colab-df-convert:hover {\n",
              "      background-color: #E2EBFA;\n",
              "      box-shadow: 0px 1px 2px rgba(60, 64, 67, 0.3), 0px 1px 3px 1px rgba(60, 64, 67, 0.15);\n",
              "      fill: #174EA6;\n",
              "    }\n",
              "\n",
              "    [theme=dark] .colab-df-convert {\n",
              "      background-color: #3B4455;\n",
              "      fill: #D2E3FC;\n",
              "    }\n",
              "\n",
              "    [theme=dark] .colab-df-convert:hover {\n",
              "      background-color: #434B5C;\n",
              "      box-shadow: 0px 1px 3px 1px rgba(0, 0, 0, 0.15);\n",
              "      filter: drop-shadow(0px 1px 2px rgba(0, 0, 0, 0.3));\n",
              "      fill: #FFFFFF;\n",
              "    }\n",
              "  </style>\n",
              "\n",
              "      <script>\n",
              "        const buttonEl =\n",
              "          document.querySelector('#df-f2899a4b-72d0-48c4-85ed-cee77cb54d13 button.colab-df-convert');\n",
              "        buttonEl.style.display =\n",
              "          google.colab.kernel.accessAllowed ? 'block' : 'none';\n",
              "\n",
              "        async function convertToInteractive(key) {\n",
              "          const element = document.querySelector('#df-f2899a4b-72d0-48c4-85ed-cee77cb54d13');\n",
              "          const dataTable =\n",
              "            await google.colab.kernel.invokeFunction('convertToInteractive',\n",
              "                                                     [key], {});\n",
              "          if (!dataTable) return;\n",
              "\n",
              "          const docLinkHtml = 'Like what you see? Visit the ' +\n",
              "            '<a target=\"_blank\" href=https://colab.research.google.com/notebooks/data_table.ipynb>data table notebook</a>'\n",
              "            + ' to learn more about interactive tables.';\n",
              "          element.innerHTML = '';\n",
              "          dataTable['output_type'] = 'display_data';\n",
              "          await google.colab.output.renderOutput(dataTable, element);\n",
              "          const docLink = document.createElement('div');\n",
              "          docLink.innerHTML = docLinkHtml;\n",
              "          element.appendChild(docLink);\n",
              "        }\n",
              "      </script>\n",
              "    </div>\n",
              "  </div>\n",
              "  "
            ],
            "text/plain": [
              "       bare     built     crops  flooded_vegetation     grass         millis  \\\n",
              "0  0.082704  0.047385  0.038619            0.029525  0.025125  1579453299766   \n",
              "1  0.084850  0.048032  0.039573            0.029693  0.025411  1579453295467   \n",
              "2  0.062424  0.035139  0.036060            0.032288  0.026136  1580749299456   \n",
              "3  0.064027  0.034728  0.036976            0.032916  0.025856  1580749295171   \n",
              "4  0.071028  0.035431  0.034700            0.029941  0.025382  1581181293931   \n",
              "\n",
              "   shrub_and_scrub  snow_and_ice                            system:index  \\\n",
              "0         0.044578      0.655305  20200119T165621_20200119T165804_T15TYH   \n",
              "1         0.046099      0.650251  20200119T165621_20200119T165804_T16TCN   \n",
              "2         0.045069      0.680268  20200203T165509_20200203T165509_T15TYH   \n",
              "3         0.045491      0.676723  20200203T165509_20200203T165509_T16TCN   \n",
              "4         0.039010      0.688169  20200208T165441_20200208T165946_T16TCN   \n",
              "\n",
              "      trees     water               timestamp  \n",
              "0  0.029804  0.046875 2020-01-19 17:01:39.766  \n",
              "1  0.029709  0.046322 2020-01-19 17:01:35.467  \n",
              "2  0.031627  0.050834 2020-02-03 17:01:39.456  \n",
              "3  0.031785  0.051372 2020-02-03 17:01:35.171  \n",
              "4  0.027389  0.048872 2020-02-08 17:01:33.931  "
            ]
          },
          "execution_count": 57,
          "metadata": {},
          "output_type": "execute_result"
        }
      ],
      "source": [
        "df.head()"
      ]
    },
    {
      "cell_type": "markdown",
      "metadata": {
        "id": "g9JuTzHZ6_Zf"
      },
      "source": [
        "Stack the data so that there is one value per row, using `pd.melt()`:"
      ]
    },
    {
      "cell_type": "code",
      "execution_count": null,
      "metadata": {
        "colab": {
          "base_uri": "https://localhost:8080/",
          "height": 206
        },
        "id": "eRVsC7ys6I3e",
        "outputId": "003a9d34-8b58-4104-8965-2ca242525ca2"
      },
      "outputs": [
        {
          "data": {
            "text/html": [
              "\n",
              "  <div id=\"df-bcdadd1c-3ea9-4978-9693-3f2e8b3fd641\">\n",
              "    <div class=\"colab-df-container\">\n",
              "      <div>\n",
              "<style scoped>\n",
              "    .dataframe tbody tr th:only-of-type {\n",
              "        vertical-align: middle;\n",
              "    }\n",
              "\n",
              "    .dataframe tbody tr th {\n",
              "        vertical-align: top;\n",
              "    }\n",
              "\n",
              "    .dataframe thead th {\n",
              "        text-align: right;\n",
              "    }\n",
              "</style>\n",
              "<table border=\"1\" class=\"dataframe\">\n",
              "  <thead>\n",
              "    <tr style=\"text-align: right;\">\n",
              "      <th></th>\n",
              "      <th>timestamp</th>\n",
              "      <th>class</th>\n",
              "      <th>value</th>\n",
              "    </tr>\n",
              "  </thead>\n",
              "  <tbody>\n",
              "    <tr>\n",
              "      <th>0</th>\n",
              "      <td>2020-01-19 17:01:39.766</td>\n",
              "      <td>water</td>\n",
              "      <td>0.046875</td>\n",
              "    </tr>\n",
              "    <tr>\n",
              "      <th>1</th>\n",
              "      <td>2020-01-19 17:01:35.467</td>\n",
              "      <td>water</td>\n",
              "      <td>0.046322</td>\n",
              "    </tr>\n",
              "    <tr>\n",
              "      <th>2</th>\n",
              "      <td>2020-02-03 17:01:39.456</td>\n",
              "      <td>water</td>\n",
              "      <td>0.050834</td>\n",
              "    </tr>\n",
              "    <tr>\n",
              "      <th>3</th>\n",
              "      <td>2020-02-03 17:01:35.171</td>\n",
              "      <td>water</td>\n",
              "      <td>0.051372</td>\n",
              "    </tr>\n",
              "    <tr>\n",
              "      <th>4</th>\n",
              "      <td>2020-02-08 17:01:33.931</td>\n",
              "      <td>water</td>\n",
              "      <td>0.048872</td>\n",
              "    </tr>\n",
              "  </tbody>\n",
              "</table>\n",
              "</div>\n",
              "      <button class=\"colab-df-convert\" onclick=\"convertToInteractive('df-bcdadd1c-3ea9-4978-9693-3f2e8b3fd641')\"\n",
              "              title=\"Convert this dataframe to an interactive table.\"\n",
              "              style=\"display:none;\">\n",
              "        \n",
              "  <svg xmlns=\"http://www.w3.org/2000/svg\" height=\"24px\"viewBox=\"0 0 24 24\"\n",
              "       width=\"24px\">\n",
              "    <path d=\"M0 0h24v24H0V0z\" fill=\"none\"/>\n",
              "    <path d=\"M18.56 5.44l.94 2.06.94-2.06 2.06-.94-2.06-.94-.94-2.06-.94 2.06-2.06.94zm-11 1L8.5 8.5l.94-2.06 2.06-.94-2.06-.94L8.5 2.5l-.94 2.06-2.06.94zm10 10l.94 2.06.94-2.06 2.06-.94-2.06-.94-.94-2.06-.94 2.06-2.06.94z\"/><path d=\"M17.41 7.96l-1.37-1.37c-.4-.4-.92-.59-1.43-.59-.52 0-1.04.2-1.43.59L10.3 9.45l-7.72 7.72c-.78.78-.78 2.05 0 2.83L4 21.41c.39.39.9.59 1.41.59.51 0 1.02-.2 1.41-.59l7.78-7.78 2.81-2.81c.8-.78.8-2.07 0-2.86zM5.41 20L4 18.59l7.72-7.72 1.47 1.35L5.41 20z\"/>\n",
              "  </svg>\n",
              "      </button>\n",
              "      \n",
              "  <style>\n",
              "    .colab-df-container {\n",
              "      display:flex;\n",
              "      flex-wrap:wrap;\n",
              "      gap: 12px;\n",
              "    }\n",
              "\n",
              "    .colab-df-convert {\n",
              "      background-color: #E8F0FE;\n",
              "      border: none;\n",
              "      border-radius: 50%;\n",
              "      cursor: pointer;\n",
              "      display: none;\n",
              "      fill: #1967D2;\n",
              "      height: 32px;\n",
              "      padding: 0 0 0 0;\n",
              "      width: 32px;\n",
              "    }\n",
              "\n",
              "    .colab-df-convert:hover {\n",
              "      background-color: #E2EBFA;\n",
              "      box-shadow: 0px 1px 2px rgba(60, 64, 67, 0.3), 0px 1px 3px 1px rgba(60, 64, 67, 0.15);\n",
              "      fill: #174EA6;\n",
              "    }\n",
              "\n",
              "    [theme=dark] .colab-df-convert {\n",
              "      background-color: #3B4455;\n",
              "      fill: #D2E3FC;\n",
              "    }\n",
              "\n",
              "    [theme=dark] .colab-df-convert:hover {\n",
              "      background-color: #434B5C;\n",
              "      box-shadow: 0px 1px 3px 1px rgba(0, 0, 0, 0.15);\n",
              "      filter: drop-shadow(0px 1px 2px rgba(0, 0, 0, 0.3));\n",
              "      fill: #FFFFFF;\n",
              "    }\n",
              "  </style>\n",
              "\n",
              "      <script>\n",
              "        const buttonEl =\n",
              "          document.querySelector('#df-bcdadd1c-3ea9-4978-9693-3f2e8b3fd641 button.colab-df-convert');\n",
              "        buttonEl.style.display =\n",
              "          google.colab.kernel.accessAllowed ? 'block' : 'none';\n",
              "\n",
              "        async function convertToInteractive(key) {\n",
              "          const element = document.querySelector('#df-bcdadd1c-3ea9-4978-9693-3f2e8b3fd641');\n",
              "          const dataTable =\n",
              "            await google.colab.kernel.invokeFunction('convertToInteractive',\n",
              "                                                     [key], {});\n",
              "          if (!dataTable) return;\n",
              "\n",
              "          const docLinkHtml = 'Like what you see? Visit the ' +\n",
              "            '<a target=\"_blank\" href=https://colab.research.google.com/notebooks/data_table.ipynb>data table notebook</a>'\n",
              "            + ' to learn more about interactive tables.';\n",
              "          element.innerHTML = '';\n",
              "          dataTable['output_type'] = 'display_data';\n",
              "          await google.colab.output.renderOutput(dataTable, element);\n",
              "          const docLink = document.createElement('div');\n",
              "          docLink.innerHTML = docLinkHtml;\n",
              "          element.appendChild(docLink);\n",
              "        }\n",
              "      </script>\n",
              "    </div>\n",
              "  </div>\n",
              "  "
            ],
            "text/plain": [
              "                timestamp  class     value\n",
              "0 2020-01-19 17:01:39.766  water  0.046875\n",
              "1 2020-01-19 17:01:35.467  water  0.046322\n",
              "2 2020-02-03 17:01:39.456  water  0.050834\n",
              "3 2020-02-03 17:01:35.171  water  0.051372\n",
              "4 2020-02-08 17:01:33.931  water  0.048872"
            ]
          },
          "execution_count": 58,
          "metadata": {},
          "output_type": "execute_result"
        }
      ],
      "source": [
        "chart_source = pd.melt(df, id_vars='timestamp', value_vars=probability_bands, var_name='class')\n",
        "chart_source.head()"
      ]
    },
    {
      "cell_type": "markdown",
      "metadata": {
        "id": "ah2RhPI93_so"
      },
      "source": [
        "We are now ready to create a chart showing changes in class probabilities through the year. We will use the [Vega-Altair statistical visualization library](https://altair-viz.github.io/) that is useful for exploratory data analysis."
      ]
    },
    {
      "cell_type": "code",
      "execution_count": null,
      "metadata": {
        "colab": {
          "base_uri": "https://localhost:8080/",
          "height": 588
        },
        "id": "6txEDJMg5mZr",
        "outputId": "3d8be2ee-471d-4fc7-97b4-61c7d9dd4d5f"
      },
      "outputs": [
        {
          "data": {
            "text/html": [
              "\n",
              "<div id=\"altair-viz-04866f7fe4634a2a809ab478f6c34bea\"></div>\n",
              "<script type=\"text/javascript\">\n",
              "  var VEGA_DEBUG = (typeof VEGA_DEBUG == \"undefined\") ? {} : VEGA_DEBUG;\n",
              "  (function(spec, embedOpt){\n",
              "    let outputDiv = document.currentScript.previousElementSibling;\n",
              "    if (outputDiv.id !== \"altair-viz-04866f7fe4634a2a809ab478f6c34bea\") {\n",
              "      outputDiv = document.getElementById(\"altair-viz-04866f7fe4634a2a809ab478f6c34bea\");\n",
              "    }\n",
              "    const paths = {\n",
              "      \"vega\": \"https://cdn.jsdelivr.net/npm//vega@5?noext\",\n",
              "      \"vega-lib\": \"https://cdn.jsdelivr.net/npm//vega-lib?noext\",\n",
              "      \"vega-lite\": \"https://cdn.jsdelivr.net/npm//vega-lite@4.17.0?noext\",\n",
              "      \"vega-embed\": \"https://cdn.jsdelivr.net/npm//vega-embed@6?noext\",\n",
              "    };\n",
              "\n",
              "    function maybeLoadScript(lib, version) {\n",
              "      var key = `${lib.replace(\"-\", \"\")}_version`;\n",
              "      return (VEGA_DEBUG[key] == version) ?\n",
              "        Promise.resolve(paths[lib]) :\n",
              "        new Promise(function(resolve, reject) {\n",
              "          var s = document.createElement('script');\n",
              "          document.getElementsByTagName(\"head\")[0].appendChild(s);\n",
              "          s.async = true;\n",
              "          s.onload = () => {\n",
              "            VEGA_DEBUG[key] = version;\n",
              "            return resolve(paths[lib]);\n",
              "          };\n",
              "          s.onerror = () => reject(`Error loading script: ${paths[lib]}`);\n",
              "          s.src = paths[lib];\n",
              "        });\n",
              "    }\n",
              "\n",
              "    function showError(err) {\n",
              "      outputDiv.innerHTML = `<div class=\"error\" style=\"color:red;\">${err}</div>`;\n",
              "      throw err;\n",
              "    }\n",
              "\n",
              "    function displayChart(vegaEmbed) {\n",
              "      vegaEmbed(outputDiv, spec, embedOpt)\n",
              "        .catch(err => showError(`Javascript Error: ${err.message}<br>This usually means there's a typo in your chart specification. See the javascript console for the full traceback.`));\n",
              "    }\n",
              "\n",
              "    if(typeof define === \"function\" && define.amd) {\n",
              "      requirejs.config({paths});\n",
              "      require([\"vega-embed\"], displayChart, err => showError(`Error loading script: ${err.message}`));\n",
              "    } else {\n",
              "      maybeLoadScript(\"vega\", \"5\")\n",
              "        .then(() => maybeLoadScript(\"vega-lite\", \"4.17.0\"))\n",
              "        .then(() => maybeLoadScript(\"vega-embed\", \"6\"))\n",
              "        .catch(showError)\n",
              "        .then(() => displayChart(vegaEmbed));\n",
              "    }\n",
              "  })({\"config\": {\"view\": {\"continuousWidth\": 400, \"continuousHeight\": 300}}, \"data\": {\"name\": \"data-bb5f623981c0abc61b12f67c76db9c91\"}, \"mark\": {\"type\": \"line\", \"strokeWidth\": 2}, \"encoding\": {\"color\": {\"field\": \"class\", \"scale\": {\"domain\": [\"water\", \"trees\", \"grass\", \"flooded_vegetation\", \"crops\", \"shrub_and_scrub\", \"built\", \"bare\", \"snow_and_ice\"], \"range\": [\"#419BDF\", \"#397D49\", \"#88B053\", \"#7A87C6\", \"#E49635\", \"#DFC35A\", \"#C4281B\", \"#A59B8F\", \"#B39FE1\"]}, \"type\": \"nominal\"}, \"tooltip\": [{\"field\": \"class\", \"type\": \"nominal\"}, {\"field\": \"value\", \"type\": \"quantitative\"}, {\"field\": \"timestamp\", \"type\": \"temporal\"}], \"x\": {\"field\": \"timestamp\", \"type\": \"temporal\"}, \"y\": {\"axis\": {\"title\": \"class probabilities\"}, \"field\": \"value\", \"type\": \"quantitative\"}}, \"height\": 500, \"selection\": {\"selector001\": {\"type\": \"interval\", \"bind\": \"scales\", \"encodings\": [\"x\"]}}, \"width\": 800, \"$schema\": \"https://vega.github.io/schema/vega-lite/v4.17.0.json\", \"datasets\": {\"data-bb5f623981c0abc61b12f67c76db9c91\": [{\"timestamp\": \"2020-01-19T17:01:39.766000\", \"class\": \"water\", \"value\": 0.046875262865796685}, {\"timestamp\": \"2020-01-19T17:01:35.467000\", \"class\": \"water\", \"value\": 0.04632189520634711}, {\"timestamp\": \"2020-02-03T17:01:39.456000\", \"class\": \"water\", \"value\": 0.05083395540714264}, {\"timestamp\": \"2020-02-03T17:01:35.171000\", \"class\": \"water\", \"value\": 0.05137205962091684}, {\"timestamp\": \"2020-02-08T17:01:33.931000\", \"class\": \"water\", \"value\": 0.04887165129184723}, {\"timestamp\": \"2020-02-18T17:01:40.013000\", \"class\": \"water\", \"value\": 0.04729244485497475}, {\"timestamp\": \"2020-02-18T17:01:35.721000\", \"class\": \"water\", \"value\": 0.04676300659775734}, {\"timestamp\": \"2020-02-23T17:01:42.840000\", \"class\": \"water\", \"value\": 0.04912159056402743}, {\"timestamp\": \"2020-02-23T17:01:38.546000\", \"class\": \"water\", \"value\": 0.04887839802540839}, {\"timestamp\": \"2020-02-28T17:01:41.307000\", \"class\": \"water\", \"value\": 0.04692152515053749}, {\"timestamp\": \"2020-02-28T17:01:37.010000\", \"class\": \"water\", \"value\": 0.046822419622913}, {\"timestamp\": \"2020-03-04T17:01:43.687000\", \"class\": \"water\", \"value\": 0.05007307627238333}, {\"timestamp\": \"2020-03-04T17:01:39.390000\", \"class\": \"water\", \"value\": 0.05084771756082773}, {\"timestamp\": \"2020-04-18T17:01:46.416000\", \"class\": \"water\", \"value\": 0.04389797360636294}, {\"timestamp\": \"2020-04-18T17:01:42.104000\", \"class\": \"water\", \"value\": 0.043502440908923745}, {\"timestamp\": \"2020-05-03T17:01:38.589000\", \"class\": \"water\", \"value\": 0.03209595591761172}, {\"timestamp\": \"2020-05-08T17:01:50.290000\", \"class\": \"water\", \"value\": 0.03206862509250641}, {\"timestamp\": \"2020-05-08T17:01:45.959000\", \"class\": \"water\", \"value\": 0.031937599182128906}, {\"timestamp\": \"2020-05-13T17:01:45.007000\", \"class\": \"water\", \"value\": 0.03177419397979975}, {\"timestamp\": \"2020-05-13T17:01:40.703000\", \"class\": \"water\", \"value\": 0.030631409026682377}, {\"timestamp\": \"2020-06-02T17:01:47.777000\", \"class\": \"water\", \"value\": 0.024375930428504944}, {\"timestamp\": \"2020-06-02T17:01:43.468000\", \"class\": \"water\", \"value\": 0.025192649103701115}, {\"timestamp\": \"2020-06-12T17:01:48.404000\", \"class\": \"water\", \"value\": 0.02563047781586647}, {\"timestamp\": \"2020-06-12T17:01:44.096000\", \"class\": \"water\", \"value\": 0.025669578462839127}, {\"timestamp\": \"2020-06-17T17:01:52.069000\", \"class\": \"water\", \"value\": 0.025367327965795994}, {\"timestamp\": \"2020-06-17T17:01:47.745000\", \"class\": \"water\", \"value\": 0.025542610324919224}, {\"timestamp\": \"2020-08-11T17:01:49.445000\", \"class\": \"water\", \"value\": 0.030508686089888215}, {\"timestamp\": \"2020-08-11T17:01:45.144000\", \"class\": \"water\", \"value\": 0.03035429958254099}, {\"timestamp\": \"2020-08-16T17:01:51.876000\", \"class\": \"water\", \"value\": 0.03020030469633639}, {\"timestamp\": \"2020-08-16T17:01:47.552000\", \"class\": \"water\", \"value\": 0.029819665709510446}, {\"timestamp\": \"2020-08-21T17:01:49.551000\", \"class\": \"water\", \"value\": 0.03080792003311217}, {\"timestamp\": \"2020-08-21T17:01:45.247000\", \"class\": \"water\", \"value\": 0.030856147408485413}, {\"timestamp\": \"2020-08-26T17:01:51.328000\", \"class\": \"water\", \"value\": 0.033993015298619866}, {\"timestamp\": \"2020-08-26T17:01:47.001000\", \"class\": \"water\", \"value\": 0.03389743063598871}, {\"timestamp\": \"2020-09-05T17:01:50.372000\", \"class\": \"water\", \"value\": 0.03186129126697779}, {\"timestamp\": \"2020-09-05T17:01:46.047000\", \"class\": \"water\", \"value\": 0.0316057822201401}, {\"timestamp\": \"2020-09-15T17:01:50.380000\", \"class\": \"water\", \"value\": 0.035661593079566956}, {\"timestamp\": \"2020-09-15T17:01:46.065000\", \"class\": \"water\", \"value\": 0.035477414727211}, {\"timestamp\": \"2020-09-20T17:01:48.070000\", \"class\": \"water\", \"value\": 0.035880924202501774}, {\"timestamp\": \"2020-09-20T17:01:43.766000\", \"class\": \"water\", \"value\": 0.03606035024859011}, {\"timestamp\": \"2020-09-25T17:01:51.368000\", \"class\": \"water\", \"value\": 0.03377393260598183}, {\"timestamp\": \"2020-09-25T17:01:47.042000\", \"class\": \"water\", \"value\": 0.033734685042873025}, {\"timestamp\": \"2020-10-10T17:01:49.734000\", \"class\": \"water\", \"value\": 0.03028521896339953}, {\"timestamp\": \"2020-10-10T17:01:45.422000\", \"class\": \"water\", \"value\": 0.03064209222793579}, {\"timestamp\": \"2020-10-15T17:01:51.744000\", \"class\": \"water\", \"value\": 0.028449789620935917}, {\"timestamp\": \"2020-10-15T17:01:47.421000\", \"class\": \"water\", \"value\": 0.028552831150591373}, {\"timestamp\": \"2020-10-30T17:01:48.947000\", \"class\": \"water\", \"value\": 0.03132428997196257}, {\"timestamp\": \"2020-10-30T17:01:44.637000\", \"class\": \"water\", \"value\": 0.03143240720964968}, {\"timestamp\": \"2020-11-04T17:01:50.797000\", \"class\": \"water\", \"value\": 0.034320140490308404}, {\"timestamp\": \"2020-11-04T17:01:46.469000\", \"class\": \"water\", \"value\": 0.036432193825021386}, {\"timestamp\": \"2020-12-04T17:01:44.571000\", \"class\": \"water\", \"value\": 0.05900267534889281}, {\"timestamp\": \"2020-12-04T17:01:40.253000\", \"class\": \"water\", \"value\": 0.056060331175103784}, {\"timestamp\": \"2020-12-09T17:01:43.593000\", \"class\": \"water\", \"value\": 0.06643581762909889}, {\"timestamp\": \"2020-12-09T17:01:39.284000\", \"class\": \"water\", \"value\": 0.06663261190988123}, {\"timestamp\": \"2020-01-19T17:01:39.766000\", \"class\": \"trees\", \"value\": 0.029803858138620853}, {\"timestamp\": \"2020-01-19T17:01:35.467000\", \"class\": \"trees\", \"value\": 0.0297091007232666}, {\"timestamp\": \"2020-02-03T17:01:39.456000\", \"class\": \"trees\", \"value\": 0.03162748762406409}, {\"timestamp\": \"2020-02-03T17:01:35.171000\", \"class\": \"trees\", \"value\": 0.03178507462143898}, {\"timestamp\": \"2020-02-08T17:01:33.931000\", \"class\": \"trees\", \"value\": 0.02738919947296381}, {\"timestamp\": \"2020-02-18T17:01:40.013000\", \"class\": \"trees\", \"value\": 0.02948858682066202}, {\"timestamp\": \"2020-02-18T17:01:35.721000\", \"class\": \"trees\", \"value\": 0.030237440019845963}, {\"timestamp\": \"2020-02-23T17:01:42.840000\", \"class\": \"trees\", \"value\": 0.030551344389095902}, {\"timestamp\": \"2020-02-23T17:01:38.546000\", \"class\": \"trees\", \"value\": 0.03059937059879303}, {\"timestamp\": \"2020-02-28T17:01:41.307000\", \"class\": \"trees\", \"value\": 0.02934726164676249}, {\"timestamp\": \"2020-02-28T17:01:37.010000\", \"class\": \"trees\", \"value\": 0.03022682759910822}, {\"timestamp\": \"2020-03-04T17:01:43.687000\", \"class\": \"trees\", \"value\": 0.03400426940061152}, {\"timestamp\": \"2020-03-04T17:01:39.390000\", \"class\": \"trees\", \"value\": 0.03360029519535601}, {\"timestamp\": \"2020-04-18T17:01:46.416000\", \"class\": \"trees\", \"value\": 0.3366676801815629}, {\"timestamp\": \"2020-04-18T17:01:42.104000\", \"class\": \"trees\", \"value\": 0.34198295907117426}, {\"timestamp\": \"2020-05-03T17:01:38.589000\", \"class\": \"trees\", \"value\": 0.47463050577789545}, {\"timestamp\": \"2020-05-08T17:01:50.290000\", \"class\": \"trees\", \"value\": 0.6295498462859541}, {\"timestamp\": \"2020-05-08T17:01:45.959000\", \"class\": \"trees\", \"value\": 0.6319735667202622}, {\"timestamp\": \"2020-05-13T17:01:45.007000\", \"class\": \"trees\", \"value\": 0.7231330731883645}, {\"timestamp\": \"2020-05-13T17:01:40.703000\", \"class\": \"trees\", \"value\": 0.7264326440636069}, {\"timestamp\": \"2020-06-02T17:01:47.777000\", \"class\": \"trees\", \"value\": 0.7606130875647068}, {\"timestamp\": \"2020-06-02T17:01:43.468000\", \"class\": \"trees\", \"value\": 0.7559360004961491}, {\"timestamp\": \"2020-06-12T17:01:48.404000\", \"class\": \"trees\", \"value\": 0.7630103537812829}, {\"timestamp\": \"2020-06-12T17:01:44.096000\", \"class\": \"trees\", \"value\": 0.7613851281348616}, {\"timestamp\": \"2020-06-17T17:01:52.069000\", \"class\": \"trees\", \"value\": 0.762157560326159}, {\"timestamp\": \"2020-06-17T17:01:47.745000\", \"class\": \"trees\", \"value\": 0.7626105474773794}, {\"timestamp\": \"2020-08-11T17:01:49.445000\", \"class\": \"trees\", \"value\": 0.7387352138757706}, {\"timestamp\": \"2020-08-11T17:01:45.144000\", \"class\": \"trees\", \"value\": 0.7425960211548954}, {\"timestamp\": \"2020-08-16T17:01:51.876000\", \"class\": \"trees\", \"value\": 0.7486833343282342}, {\"timestamp\": \"2020-08-16T17:01:47.552000\", \"class\": \"trees\", \"value\": 0.7494757175445557}, {\"timestamp\": \"2020-08-21T17:01:49.551000\", \"class\": \"trees\", \"value\": 0.733028189279139}, {\"timestamp\": \"2020-08-21T17:01:45.247000\", \"class\": \"trees\", \"value\": 0.7362454871181399}, {\"timestamp\": \"2020-08-26T17:01:51.328000\", \"class\": \"trees\", \"value\": 0.731670149601996}, {\"timestamp\": \"2020-08-26T17:01:47.001000\", \"class\": \"trees\", \"value\": 0.7312264482025057}, {\"timestamp\": \"2020-09-05T17:01:50.372000\", \"class\": \"trees\", \"value\": 0.7389975348487496}, {\"timestamp\": \"2020-09-05T17:01:46.047000\", \"class\": \"trees\", \"value\": 0.7394698299467564}, {\"timestamp\": \"2020-09-15T17:01:50.380000\", \"class\": \"trees\", \"value\": 0.7272912422195077}, {\"timestamp\": \"2020-09-15T17:01:46.065000\", \"class\": \"trees\", \"value\": 0.7274994635954499}, {\"timestamp\": \"2020-09-20T17:01:48.070000\", \"class\": \"trees\", \"value\": 0.7197633385658264}, {\"timestamp\": \"2020-09-20T17:01:43.766000\", \"class\": \"trees\", \"value\": 0.7178745532874018}, {\"timestamp\": \"2020-09-25T17:01:51.368000\", \"class\": \"trees\", \"value\": 0.7288796829525381}, {\"timestamp\": \"2020-09-25T17:01:47.042000\", \"class\": \"trees\", \"value\": 0.7299482971429825}, {\"timestamp\": \"2020-10-10T17:01:49.734000\", \"class\": \"trees\", \"value\": 0.6719116121530533}, {\"timestamp\": \"2020-10-10T17:01:45.422000\", \"class\": \"trees\", \"value\": 0.6770746493712068}, {\"timestamp\": \"2020-10-15T17:01:51.744000\", \"class\": \"trees\", \"value\": 0.6122126439586282}, {\"timestamp\": \"2020-10-15T17:01:47.421000\", \"class\": \"trees\", \"value\": 0.6197573731187731}, {\"timestamp\": \"2020-10-30T17:01:48.947000\", \"class\": \"trees\", \"value\": 0.5995517189148813}, {\"timestamp\": \"2020-10-30T17:01:44.637000\", \"class\": \"trees\", \"value\": 0.6228845401201397}, {\"timestamp\": \"2020-11-04T17:01:50.797000\", \"class\": \"trees\", \"value\": 0.4752193773165345}, {\"timestamp\": \"2020-11-04T17:01:46.469000\", \"class\": \"trees\", \"value\": 0.43980438355356455}, {\"timestamp\": \"2020-12-04T17:01:44.571000\", \"class\": \"trees\", \"value\": 0.3305863963905722}, {\"timestamp\": \"2020-12-04T17:01:40.253000\", \"class\": \"trees\", \"value\": 0.33860053517855704}, {\"timestamp\": \"2020-12-09T17:01:43.593000\", \"class\": \"trees\", \"value\": 0.28529903502203524}, {\"timestamp\": \"2020-12-09T17:01:39.284000\", \"class\": \"trees\", \"value\": 0.2954118885099888}, {\"timestamp\": \"2020-01-19T17:01:39.766000\", \"class\": \"grass\", \"value\": 0.02512488141655922}, {\"timestamp\": \"2020-01-19T17:01:35.467000\", \"class\": \"grass\", \"value\": 0.025411091977730393}, {\"timestamp\": \"2020-02-03T17:01:39.456000\", \"class\": \"grass\", \"value\": 0.026136176893487573}, {\"timestamp\": \"2020-02-03T17:01:35.171000\", \"class\": \"grass\", \"value\": 0.02585571352392435}, {\"timestamp\": \"2020-02-08T17:01:33.931000\", \"class\": \"grass\", \"value\": 0.02538191177882254}, {\"timestamp\": \"2020-02-18T17:01:40.013000\", \"class\": \"grass\", \"value\": 0.029237576760351658}, {\"timestamp\": \"2020-02-18T17:01:35.721000\", \"class\": \"grass\", \"value\": 0.029798589879646897}, {\"timestamp\": \"2020-02-23T17:01:42.840000\", \"class\": \"grass\", \"value\": 0.027967989444732666}, {\"timestamp\": \"2020-02-23T17:01:38.546000\", \"class\": \"grass\", \"value\": 0.027774387039244175}, {\"timestamp\": \"2020-02-28T17:01:41.307000\", \"class\": \"grass\", \"value\": 0.028172507882118225}, {\"timestamp\": \"2020-02-28T17:01:37.010000\", \"class\": \"grass\", \"value\": 0.028429203666746616}, {\"timestamp\": \"2020-03-04T17:01:43.687000\", \"class\": \"grass\", \"value\": 0.02922192425467074}, {\"timestamp\": \"2020-03-04T17:01:39.390000\", \"class\": \"grass\", \"value\": 0.028909754240885377}, {\"timestamp\": \"2020-04-18T17:01:46.416000\", \"class\": \"grass\", \"value\": 0.0681855643633753}, {\"timestamp\": \"2020-04-18T17:01:42.104000\", \"class\": \"grass\", \"value\": 0.07018424663692713}, {\"timestamp\": \"2020-05-03T17:01:38.589000\", \"class\": \"grass\", \"value\": 0.09475980792194605}, {\"timestamp\": \"2020-05-08T17:01:50.290000\", \"class\": \"grass\", \"value\": 0.05865478515625}, {\"timestamp\": \"2020-05-08T17:01:45.959000\", \"class\": \"grass\", \"value\": 0.05877310037612915}, {\"timestamp\": \"2020-05-13T17:01:45.007000\", \"class\": \"grass\", \"value\": 0.03576540295034647}, {\"timestamp\": \"2020-05-13T17:01:40.703000\", \"class\": \"grass\", \"value\": 0.035586713114753366}, {\"timestamp\": \"2020-06-02T17:01:47.777000\", \"class\": \"grass\", \"value\": 0.04096893244422972}, {\"timestamp\": \"2020-06-02T17:01:43.468000\", \"class\": \"grass\", \"value\": 0.0411296917591244}, {\"timestamp\": \"2020-06-12T17:01:48.404000\", \"class\": \"grass\", \"value\": 0.02933157980442047}, {\"timestamp\": \"2020-06-12T17:01:44.096000\", \"class\": \"grass\", \"value\": 0.02923235879279673}, {\"timestamp\": \"2020-06-17T17:01:52.069000\", \"class\": \"grass\", \"value\": 0.02762709022499621}, {\"timestamp\": \"2020-06-17T17:01:47.745000\", \"class\": \"grass\", \"value\": 0.027177486568689346}, {\"timestamp\": \"2020-08-11T17:01:49.445000\", \"class\": \"grass\", \"value\": 0.03128649294376373}, {\"timestamp\": \"2020-08-11T17:01:45.144000\", \"class\": \"grass\", \"value\": 0.031124764122068882}, {\"timestamp\": \"2020-08-16T17:01:51.876000\", \"class\": \"grass\", \"value\": 0.02928978204727173}, {\"timestamp\": \"2020-08-16T17:01:47.552000\", \"class\": \"grass\", \"value\": 0.029467628337442875}, {\"timestamp\": \"2020-08-21T17:01:49.551000\", \"class\": \"grass\", \"value\": 0.03361148410476744}, {\"timestamp\": \"2020-08-21T17:01:45.247000\", \"class\": \"grass\", \"value\": 0.03308206796646118}, {\"timestamp\": \"2020-08-26T17:01:51.328000\", \"class\": \"grass\", \"value\": 0.03407746646553278}, {\"timestamp\": \"2020-08-26T17:01:47.001000\", \"class\": \"grass\", \"value\": 0.03361148410476744}, {\"timestamp\": \"2020-09-05T17:01:50.372000\", \"class\": \"grass\", \"value\": 0.031801399076357484}, {\"timestamp\": \"2020-09-05T17:01:46.047000\", \"class\": \"grass\", \"value\": 0.032145180739462376}, {\"timestamp\": \"2020-09-15T17:01:50.380000\", \"class\": \"grass\", \"value\": 0.03597347531467676}, {\"timestamp\": \"2020-09-15T17:01:46.065000\", \"class\": \"grass\", \"value\": 0.03607773780822754}, {\"timestamp\": \"2020-09-20T17:01:48.070000\", \"class\": \"grass\", \"value\": 0.03647297993302345}, {\"timestamp\": \"2020-09-20T17:01:43.766000\", \"class\": \"grass\", \"value\": 0.03666556463576853}, {\"timestamp\": \"2020-09-25T17:01:51.368000\", \"class\": \"grass\", \"value\": 0.03484224178828299}, {\"timestamp\": \"2020-09-25T17:01:47.042000\", \"class\": \"grass\", \"value\": 0.03467724099755287}, {\"timestamp\": \"2020-10-10T17:01:49.734000\", \"class\": \"grass\", \"value\": 0.04449462890625}, {\"timestamp\": \"2020-10-10T17:01:45.422000\", \"class\": \"grass\", \"value\": 0.043540640035644174}, {\"timestamp\": \"2020-10-15T17:01:51.744000\", \"class\": \"grass\", \"value\": 0.04380211606621742}, {\"timestamp\": \"2020-10-15T17:01:47.421000\", \"class\": \"grass\", \"value\": 0.042464822763577104}, {\"timestamp\": \"2020-10-30T17:01:48.947000\", \"class\": \"grass\", \"value\": 0.04150187619961798}, {\"timestamp\": \"2020-10-30T17:01:44.637000\", \"class\": \"grass\", \"value\": 0.03797431499697268}, {\"timestamp\": \"2020-11-04T17:01:50.797000\", \"class\": \"grass\", \"value\": 0.054867286467924714}, {\"timestamp\": \"2020-11-04T17:01:46.469000\", \"class\": \"grass\", \"value\": 0.06060720328241587}, {\"timestamp\": \"2020-12-04T17:01:44.571000\", \"class\": \"grass\", \"value\": 0.04637445532716811}, {\"timestamp\": \"2020-12-04T17:01:40.253000\", \"class\": \"grass\", \"value\": 0.047751479083672166}, {\"timestamp\": \"2020-12-09T17:01:43.593000\", \"class\": \"grass\", \"value\": 0.05190604389645159}, {\"timestamp\": \"2020-12-09T17:01:39.284000\", \"class\": \"grass\", \"value\": 0.050175562500953674}, {\"timestamp\": \"2020-01-19T17:01:39.766000\", \"class\": \"flooded_vegetation\", \"value\": 0.02952528209425509}, {\"timestamp\": \"2020-01-19T17:01:35.467000\", \"class\": \"flooded_vegetation\", \"value\": 0.02969332248903811}, {\"timestamp\": \"2020-02-03T17:01:39.456000\", \"class\": \"flooded_vegetation\", \"value\": 0.03228759765625}, {\"timestamp\": \"2020-02-03T17:01:35.171000\", \"class\": \"flooded_vegetation\", \"value\": 0.03291575703769922}, {\"timestamp\": \"2020-02-08T17:01:33.931000\", \"class\": \"flooded_vegetation\", \"value\": 0.029940996319055557}, {\"timestamp\": \"2020-02-18T17:01:40.013000\", \"class\": \"flooded_vegetation\", \"value\": 0.030269288457930088}, {\"timestamp\": \"2020-02-18T17:01:35.721000\", \"class\": \"flooded_vegetation\", \"value\": 0.03064743452705443}, {\"timestamp\": \"2020-02-23T17:01:42.840000\", \"class\": \"flooded_vegetation\", \"value\": 0.03296006564050913}, {\"timestamp\": \"2020-02-23T17:01:38.546000\", \"class\": \"flooded_vegetation\", \"value\": 0.03342152596451342}, {\"timestamp\": \"2020-02-28T17:01:41.307000\", \"class\": \"flooded_vegetation\", \"value\": 0.032024919986724854}, {\"timestamp\": \"2020-02-28T17:01:37.010000\", \"class\": \"flooded_vegetation\", \"value\": 0.03268362581729889}, {\"timestamp\": \"2020-03-04T17:01:43.687000\", \"class\": \"flooded_vegetation\", \"value\": 0.03333232016302645}, {\"timestamp\": \"2020-03-04T17:01:39.390000\", \"class\": \"flooded_vegetation\", \"value\": 0.03290468454360962}, {\"timestamp\": \"2020-04-18T17:01:46.416000\", \"class\": \"flooded_vegetation\", \"value\": 0.01795263052918017}, {\"timestamp\": \"2020-04-18T17:01:42.104000\", \"class\": \"flooded_vegetation\", \"value\": 0.0182729868683964}, {\"timestamp\": \"2020-05-03T17:01:38.589000\", \"class\": \"flooded_vegetation\", \"value\": 0.01956993341445923}, {\"timestamp\": \"2020-05-08T17:01:50.290000\", \"class\": \"flooded_vegetation\", \"value\": 0.019200276816263795}, {\"timestamp\": \"2020-05-08T17:01:45.959000\", \"class\": \"flooded_vegetation\", \"value\": 0.01978397462517023}, {\"timestamp\": \"2020-05-13T17:01:45.007000\", \"class\": \"flooded_vegetation\", \"value\": 0.0203938412014395}, {\"timestamp\": \"2020-05-13T17:01:40.703000\", \"class\": \"flooded_vegetation\", \"value\": 0.020682491594925523}, {\"timestamp\": \"2020-06-02T17:01:47.777000\", \"class\": \"flooded_vegetation\", \"value\": 0.024864346720278263}, {\"timestamp\": \"2020-06-02T17:01:43.468000\", \"class\": \"flooded_vegetation\", \"value\": 0.025313889840617776}, {\"timestamp\": \"2020-06-12T17:01:48.404000\", \"class\": \"flooded_vegetation\", \"value\": 0.0261460451874882}, {\"timestamp\": \"2020-06-12T17:01:44.096000\", \"class\": \"flooded_vegetation\", \"value\": 0.026205294067040086}, {\"timestamp\": \"2020-06-17T17:01:52.069000\", \"class\": \"flooded_vegetation\", \"value\": 0.026786484755575657}, {\"timestamp\": \"2020-06-17T17:01:47.745000\", \"class\": \"flooded_vegetation\", \"value\": 0.02651745080947876}, {\"timestamp\": \"2020-08-11T17:01:49.445000\", \"class\": \"flooded_vegetation\", \"value\": 0.02564025018364191}, {\"timestamp\": \"2020-08-11T17:01:45.144000\", \"class\": \"flooded_vegetation\", \"value\": 0.02570870891213417}, {\"timestamp\": \"2020-08-16T17:01:51.876000\", \"class\": \"flooded_vegetation\", \"value\": 0.02883715578354895}, {\"timestamp\": \"2020-08-16T17:01:47.552000\", \"class\": \"flooded_vegetation\", \"value\": 0.027881294721737504}, {\"timestamp\": \"2020-08-21T17:01:49.551000\", \"class\": \"flooded_vegetation\", \"value\": 0.02620035409927368}, {\"timestamp\": \"2020-08-21T17:01:45.247000\", \"class\": \"flooded_vegetation\", \"value\": 0.02617566124536097}, {\"timestamp\": \"2020-08-26T17:01:51.328000\", \"class\": \"flooded_vegetation\", \"value\": 0.03179051564075053}, {\"timestamp\": \"2020-08-26T17:01:47.001000\", \"class\": \"flooded_vegetation\", \"value\": 0.031130148330703378}, {\"timestamp\": \"2020-09-05T17:01:50.372000\", \"class\": \"flooded_vegetation\", \"value\": 0.02934203390032053}, {\"timestamp\": \"2020-09-05T17:01:46.047000\", \"class\": \"flooded_vegetation\", \"value\": 0.02934726164676249}, {\"timestamp\": \"2020-09-15T17:01:50.380000\", \"class\": \"flooded_vegetation\", \"value\": 0.03441065759398043}, {\"timestamp\": \"2020-09-15T17:01:46.065000\", \"class\": \"flooded_vegetation\", \"value\": 0.034139463910833}, {\"timestamp\": \"2020-09-20T17:01:48.070000\", \"class\": \"flooded_vegetation\", \"value\": 0.03339921333827078}, {\"timestamp\": \"2020-09-20T17:01:43.766000\", \"class\": \"flooded_vegetation\", \"value\": 0.03391428873874247}, {\"timestamp\": \"2020-09-25T17:01:51.368000\", \"class\": \"flooded_vegetation\", \"value\": 0.03241933882236481}, {\"timestamp\": \"2020-09-25T17:01:47.042000\", \"class\": \"flooded_vegetation\", \"value\": 0.032358924159780145}, {\"timestamp\": \"2020-10-10T17:01:49.734000\", \"class\": \"flooded_vegetation\", \"value\": 0.026457849889993668}, {\"timestamp\": \"2020-10-10T17:01:45.422000\", \"class\": \"flooded_vegetation\", \"value\": 0.026383443037047982}, {\"timestamp\": \"2020-10-15T17:01:51.744000\", \"class\": \"flooded_vegetation\", \"value\": 0.023873494006693363}, {\"timestamp\": \"2020-10-15T17:01:47.421000\", \"class\": \"flooded_vegetation\", \"value\": 0.02345567778684199}, {\"timestamp\": \"2020-10-30T17:01:48.947000\", \"class\": \"flooded_vegetation\", \"value\": 0.022875085473060608}, {\"timestamp\": \"2020-10-30T17:01:44.637000\", \"class\": \"flooded_vegetation\", \"value\": 0.022580638527870178}, {\"timestamp\": \"2020-11-04T17:01:50.797000\", \"class\": \"flooded_vegetation\", \"value\": 0.025425688363611698}, {\"timestamp\": \"2020-11-04T17:01:46.469000\", \"class\": \"flooded_vegetation\", \"value\": 0.025718496181070805}, {\"timestamp\": \"2020-12-04T17:01:44.571000\", \"class\": \"flooded_vegetation\", \"value\": 0.04302636627107859}, {\"timestamp\": \"2020-12-04T17:01:40.253000\", \"class\": \"flooded_vegetation\", \"value\": 0.0476381778717041}, {\"timestamp\": \"2020-12-09T17:01:43.593000\", \"class\": \"flooded_vegetation\", \"value\": 0.05891375453211367}, {\"timestamp\": \"2020-12-09T17:01:39.284000\", \"class\": \"flooded_vegetation\", \"value\": 0.06265268102288246}, {\"timestamp\": \"2020-01-19T17:01:39.766000\", \"class\": \"crops\", \"value\": 0.03861930244602263}, {\"timestamp\": \"2020-01-19T17:01:35.467000\", \"class\": \"crops\", \"value\": 0.03957268060185015}, {\"timestamp\": \"2020-02-03T17:01:39.456000\", \"class\": \"crops\", \"value\": 0.03606035024859011}, {\"timestamp\": \"2020-02-03T17:01:35.171000\", \"class\": \"crops\", \"value\": 0.03697592858225107}, {\"timestamp\": \"2020-02-08T17:01:33.931000\", \"class\": \"crops\", \"value\": 0.034699976444244385}, {\"timestamp\": \"2020-02-18T17:01:40.013000\", \"class\": \"crops\", \"value\": 0.03392552980221808}, {\"timestamp\": \"2020-02-18T17:01:35.721000\", \"class\": \"crops\", \"value\": 0.034066200256347656}, {\"timestamp\": \"2020-02-23T17:01:42.840000\", \"class\": \"crops\", \"value\": 0.03388057672418654}, {\"timestamp\": \"2020-02-23T17:01:38.546000\", \"class\": \"crops\", \"value\": 0.03497909032739699}, {\"timestamp\": \"2020-02-28T17:01:41.307000\", \"class\": \"crops\", \"value\": 0.036519620567560196}, {\"timestamp\": \"2020-02-28T17:01:37.010000\", \"class\": \"crops\", \"value\": 0.03755325451493263}, {\"timestamp\": \"2020-03-04T17:01:43.687000\", \"class\": \"crops\", \"value\": 0.03548316308297217}, {\"timestamp\": \"2020-03-04T17:01:39.390000\", \"class\": \"crops\", \"value\": 0.03508190275169909}, {\"timestamp\": \"2020-04-18T17:01:46.416000\", \"class\": \"crops\", \"value\": 0.042025750735774636}, {\"timestamp\": \"2020-04-18T17:01:42.104000\", \"class\": \"crops\", \"value\": 0.039870710112154484}, {\"timestamp\": \"2020-05-03T17:01:38.589000\", \"class\": \"crops\", \"value\": 0.06140619516372681}, {\"timestamp\": \"2020-05-08T17:01:50.290000\", \"class\": \"crops\", \"value\": 0.055167928570881486}, {\"timestamp\": \"2020-05-08T17:01:45.959000\", \"class\": \"crops\", \"value\": 0.05214270786382258}, {\"timestamp\": \"2020-05-13T17:01:45.007000\", \"class\": \"crops\", \"value\": 0.036141528049483895}, {\"timestamp\": \"2020-05-13T17:01:40.703000\", \"class\": \"crops\", \"value\": 0.03698179707862437}, {\"timestamp\": \"2020-06-02T17:01:47.777000\", \"class\": \"crops\", \"value\": 0.03315982315689325}, {\"timestamp\": \"2020-06-02T17:01:43.468000\", \"class\": \"crops\", \"value\": 0.03548316308297217}, {\"timestamp\": \"2020-06-12T17:01:48.404000\", \"class\": \"crops\", \"value\": 0.032893613912165165}, {\"timestamp\": \"2020-06-12T17:01:44.096000\", \"class\": \"crops\", \"value\": 0.03156781569123268}, {\"timestamp\": \"2020-06-17T17:01:52.069000\", \"class\": \"crops\", \"value\": 0.03183406055904925}, {\"timestamp\": \"2020-06-17T17:01:47.745000\", \"class\": \"crops\", \"value\": 0.032265666872262955}, {\"timestamp\": \"2020-08-11T17:01:49.445000\", \"class\": \"crops\", \"value\": 0.031006429344415665}, {\"timestamp\": \"2020-08-11T17:01:45.144000\", \"class\": \"crops\", \"value\": 0.030524679459631443}, {\"timestamp\": \"2020-08-16T17:01:51.876000\", \"class\": \"crops\", \"value\": 0.028909754240885377}, {\"timestamp\": \"2020-08-16T17:01:47.552000\", \"class\": \"crops\", \"value\": 0.02849098388105631}, {\"timestamp\": \"2020-08-21T17:01:49.551000\", \"class\": \"crops\", \"value\": 0.03060470917262137}, {\"timestamp\": \"2020-08-21T17:01:45.247000\", \"class\": \"crops\", \"value\": 0.02993571595288813}, {\"timestamp\": \"2020-08-26T17:01:51.328000\", \"class\": \"crops\", \"value\": 0.03005728218704462}, {\"timestamp\": \"2020-08-26T17:01:47.001000\", \"class\": \"crops\", \"value\": 0.029851293424144387}, {\"timestamp\": \"2020-09-05T17:01:50.372000\", \"class\": \"crops\", \"value\": 0.030941978096961975}, {\"timestamp\": \"2020-09-05T17:01:46.047000\", \"class\": \"crops\", \"value\": 0.030562013620510697}, {\"timestamp\": \"2020-09-15T17:01:50.380000\", \"class\": \"crops\", \"value\": 0.030631409026682377}, {\"timestamp\": \"2020-09-15T17:01:46.065000\", \"class\": \"crops\", \"value\": 0.030498026171699166}, {\"timestamp\": \"2020-09-20T17:01:48.070000\", \"class\": \"crops\", \"value\": 0.030476711923256516}, {\"timestamp\": \"2020-09-20T17:01:43.766000\", \"class\": \"crops\", \"value\": 0.030492696911096573}, {\"timestamp\": \"2020-09-25T17:01:51.368000\", \"class\": \"crops\", \"value\": 0.03183406055904925}, {\"timestamp\": \"2020-09-25T17:01:47.042000\", \"class\": \"crops\", \"value\": 0.0321999192237854}, {\"timestamp\": \"2020-10-10T17:01:49.734000\", \"class\": \"crops\", \"value\": 0.026299241930246353}, {\"timestamp\": \"2020-10-10T17:01:45.422000\", \"class\": \"crops\", \"value\": 0.026621913770213723}, {\"timestamp\": \"2020-10-15T17:01:51.744000\", \"class\": \"crops\", \"value\": 0.026721593225374818}, {\"timestamp\": \"2020-10-15T17:01:47.421000\", \"class\": \"crops\", \"value\": 0.02766768471337855}, {\"timestamp\": \"2020-10-30T17:01:48.947000\", \"class\": \"crops\", \"value\": 0.026826457120478153}, {\"timestamp\": \"2020-10-30T17:01:44.637000\", \"class\": \"crops\", \"value\": 0.02766260877251625}, {\"timestamp\": \"2020-11-04T17:01:50.797000\", \"class\": \"crops\", \"value\": 0.034404996782541275}, {\"timestamp\": \"2020-11-04T17:01:46.469000\", \"class\": \"crops\", \"value\": 0.0346034022513777}, {\"timestamp\": \"2020-12-04T17:01:44.571000\", \"class\": \"crops\", \"value\": 0.041888227919116616}, {\"timestamp\": \"2020-12-04T17:01:40.253000\", \"class\": \"crops\", \"value\": 0.04248369112610817}, {\"timestamp\": \"2020-12-09T17:01:43.593000\", \"class\": \"crops\", \"value\": 0.04605299234390259}, {\"timestamp\": \"2020-12-09T17:01:39.284000\", \"class\": \"crops\", \"value\": 0.04918925114907324}, {\"timestamp\": \"2020-01-19T17:01:39.766000\", \"class\": \"shrub_and_scrub\", \"value\": 0.044578353175893426}, {\"timestamp\": \"2020-01-19T17:01:35.467000\", \"class\": \"shrub_and_scrub\", \"value\": 0.046098847175017}, {\"timestamp\": \"2020-02-03T17:01:39.456000\", \"class\": \"shrub_and_scrub\", \"value\": 0.04506939300335944}, {\"timestamp\": \"2020-02-03T17:01:35.171000\", \"class\": \"shrub_and_scrub\", \"value\": 0.04549149516969919}, {\"timestamp\": \"2020-02-08T17:01:33.931000\", \"class\": \"shrub_and_scrub\", \"value\": 0.03901010751724243}, {\"timestamp\": \"2020-02-18T17:01:40.013000\", \"class\": \"shrub_and_scrub\", \"value\": 0.028326385654509068}, {\"timestamp\": \"2020-02-18T17:01:35.721000\", \"class\": \"shrub_and_scrub\", \"value\": 0.029076036298647523}, {\"timestamp\": \"2020-02-23T17:01:42.840000\", \"class\": \"shrub_and_scrub\", \"value\": 0.03475684765726328}, {\"timestamp\": \"2020-02-23T17:01:38.546000\", \"class\": \"shrub_and_scrub\", \"value\": 0.0358115890994668}, {\"timestamp\": \"2020-02-28T17:01:41.307000\", \"class\": \"shrub_and_scrub\", \"value\": 0.037914868677034974}, {\"timestamp\": \"2020-02-28T17:01:37.010000\", \"class\": \"shrub_and_scrub\", \"value\": 0.03894383297301829}, {\"timestamp\": \"2020-03-04T17:01:43.687000\", \"class\": \"shrub_and_scrub\", \"value\": 0.04140867292881012}, {\"timestamp\": \"2020-03-04T17:01:39.390000\", \"class\": \"shrub_and_scrub\", \"value\": 0.0409257048740983}, {\"timestamp\": \"2020-04-18T17:01:46.416000\", \"class\": \"shrub_and_scrub\", \"value\": 0.26546017173677683}, {\"timestamp\": \"2020-04-18T17:01:42.104000\", \"class\": \"shrub_and_scrub\", \"value\": 0.25459859147667885}, {\"timestamp\": \"2020-05-03T17:01:38.589000\", \"class\": \"shrub_and_scrub\", \"value\": 0.19490683660842478}, {\"timestamp\": \"2020-05-08T17:01:50.290000\", \"class\": \"shrub_and_scrub\", \"value\": 0.08457467914558947}, {\"timestamp\": \"2020-05-08T17:01:45.959000\", \"class\": \"shrub_and_scrub\", \"value\": 0.08254573703743517}, {\"timestamp\": \"2020-05-13T17:01:45.007000\", \"class\": \"shrub_and_scrub\", \"value\": 0.0332988987211138}, {\"timestamp\": \"2020-05-13T17:01:40.703000\", \"class\": \"shrub_and_scrub\", \"value\": 0.03341036872006953}, {\"timestamp\": \"2020-06-02T17:01:47.777000\", \"class\": \"shrub_and_scrub\", \"value\": 0.027738796779885888}, {\"timestamp\": \"2020-06-02T17:01:43.468000\", \"class\": \"shrub_and_scrub\", \"value\": 0.026666746474802494}, {\"timestamp\": \"2020-06-12T17:01:48.404000\", \"class\": \"shrub_and_scrub\", \"value\": 0.02809572615660727}, {\"timestamp\": \"2020-06-12T17:01:44.096000\", \"class\": \"shrub_and_scrub\", \"value\": 0.030020257690921426}, {\"timestamp\": \"2020-06-17T17:01:52.069000\", \"class\": \"shrub_and_scrub\", \"value\": 0.02993571595288813}, {\"timestamp\": \"2020-06-17T17:01:47.745000\", \"class\": \"shrub_and_scrub\", \"value\": 0.029211491579189897}, {\"timestamp\": \"2020-08-11T17:01:49.445000\", \"class\": \"shrub_and_scrub\", \"value\": 0.0408701600972563}, {\"timestamp\": \"2020-08-11T17:01:45.144000\", \"class\": \"shrub_and_scrub\", \"value\": 0.03908850462175906}, {\"timestamp\": \"2020-08-16T17:01:51.876000\", \"class\": \"shrub_and_scrub\", \"value\": 0.03624022379517555}, {\"timestamp\": \"2020-08-16T17:01:47.552000\", \"class\": \"shrub_and_scrub\", \"value\": 0.03688795701600611}, {\"timestamp\": \"2020-08-21T17:01:49.551000\", \"class\": \"shrub_and_scrub\", \"value\": 0.04200698435306549}, {\"timestamp\": \"2020-08-21T17:01:45.247000\", \"class\": \"shrub_and_scrub\", \"value\": 0.0404639842454344}, {\"timestamp\": \"2020-08-26T17:01:51.328000\", \"class\": \"shrub_and_scrub\", \"value\": 0.03603138029575348}, {\"timestamp\": \"2020-08-26T17:01:47.001000\", \"class\": \"shrub_and_scrub\", \"value\": 0.03665387840010226}, {\"timestamp\": \"2020-09-05T17:01:50.372000\", \"class\": \"shrub_and_scrub\", \"value\": 0.0377723874989897}, {\"timestamp\": \"2020-09-05T17:01:46.047000\", \"class\": \"shrub_and_scrub\", \"value\": 0.038093347335234284}, {\"timestamp\": \"2020-09-15T17:01:50.380000\", \"class\": \"shrub_and_scrub\", \"value\": 0.03458637371659279}, {\"timestamp\": \"2020-09-15T17:01:46.065000\", \"class\": \"shrub_and_scrub\", \"value\": 0.03455232921987772}, {\"timestamp\": \"2020-09-20T17:01:48.070000\", \"class\": \"shrub_and_scrub\", \"value\": 0.03858332731761038}, {\"timestamp\": \"2020-09-20T17:01:43.766000\", \"class\": \"shrub_and_scrub\", \"value\": 0.038961902260780334}, {\"timestamp\": \"2020-09-25T17:01:51.368000\", \"class\": \"shrub_and_scrub\", \"value\": 0.036071941489353776}, {\"timestamp\": \"2020-09-25T17:01:47.042000\", \"class\": \"shrub_and_scrub\", \"value\": 0.03475684765726328}, {\"timestamp\": \"2020-10-10T17:01:49.734000\", \"class\": \"shrub_and_scrub\", \"value\": 0.0768603200558573}, {\"timestamp\": \"2020-10-10T17:01:45.422000\", \"class\": \"shrub_and_scrub\", \"value\": 0.07215440645813942}, {\"timestamp\": \"2020-10-15T17:01:51.744000\", \"class\": \"shrub_and_scrub\", \"value\": 0.1327282227575779}, {\"timestamp\": \"2020-10-15T17:01:47.421000\", \"class\": \"shrub_and_scrub\", \"value\": 0.12694450560957193}, {\"timestamp\": \"2020-10-30T17:01:48.947000\", \"class\": \"shrub_and_scrub\", \"value\": 0.14264637231826782}, {\"timestamp\": \"2020-10-30T17:01:44.637000\", \"class\": \"shrub_and_scrub\", \"value\": 0.12407946051098406}, {\"timestamp\": \"2020-11-04T17:01:50.797000\", \"class\": \"shrub_and_scrub\", \"value\": 0.2211594022810459}, {\"timestamp\": \"2020-11-04T17:01:46.469000\", \"class\": \"shrub_and_scrub\", \"value\": 0.22872901731170714}, {\"timestamp\": \"2020-12-04T17:01:44.571000\", \"class\": \"shrub_and_scrub\", \"value\": 0.12583786249160767}, {\"timestamp\": \"2020-12-04T17:01:40.253000\", \"class\": \"shrub_and_scrub\", \"value\": 0.1264122782740742}, {\"timestamp\": \"2020-12-09T17:01:43.593000\", \"class\": \"shrub_and_scrub\", \"value\": 0.13620848045684397}, {\"timestamp\": \"2020-12-09T17:01:39.284000\", \"class\": \"shrub_and_scrub\", \"value\": 0.13050288544036448}, {\"timestamp\": \"2020-01-19T17:01:39.766000\", \"class\": \"built\", \"value\": 0.04738540295511484}, {\"timestamp\": \"2020-01-19T17:01:35.467000\", \"class\": \"built\", \"value\": 0.048031976679340005}, {\"timestamp\": \"2020-02-03T17:01:39.456000\", \"class\": \"built\", \"value\": 0.03513908595778048}, {\"timestamp\": \"2020-02-03T17:01:35.171000\", \"class\": \"built\", \"value\": 0.03472840622998774}, {\"timestamp\": \"2020-02-08T17:01:33.931000\", \"class\": \"built\", \"value\": 0.03543144464492798}, {\"timestamp\": \"2020-02-18T17:01:40.013000\", \"class\": \"built\", \"value\": 0.03760649845935404}, {\"timestamp\": \"2020-02-18T17:01:35.721000\", \"class\": \"built\", \"value\": 0.03845754638314247}, {\"timestamp\": \"2020-02-23T17:01:42.840000\", \"class\": \"built\", \"value\": 0.03748822980560362}, {\"timestamp\": \"2020-02-23T17:01:38.546000\", \"class\": \"built\", \"value\": 0.03867329657077789}, {\"timestamp\": \"2020-02-28T17:01:41.307000\", \"class\": \"built\", \"value\": 0.04469440900720656}, {\"timestamp\": \"2020-02-28T17:01:37.010000\", \"class\": \"built\", \"value\": 0.046229986706748605}, {\"timestamp\": \"2020-03-04T17:01:43.687000\", \"class\": \"built\", \"value\": 0.03687037527561188}, {\"timestamp\": \"2020-03-04T17:01:39.390000\", \"class\": \"built\", \"value\": 0.03708750964142382}, {\"timestamp\": \"2020-04-18T17:01:46.416000\", \"class\": \"built\", \"value\": 0.040543828159570694}, {\"timestamp\": \"2020-04-18T17:01:42.104000\", \"class\": \"built\", \"value\": 0.0417758768890053}, {\"timestamp\": \"2020-05-03T17:01:38.589000\", \"class\": \"built\", \"value\": 0.029530526138842106}, {\"timestamp\": \"2020-05-08T17:01:50.290000\", \"class\": \"built\", \"value\": 0.04209459666162729}, {\"timestamp\": \"2020-05-08T17:01:45.959000\", \"class\": \"built\", \"value\": 0.04351517208851874}, {\"timestamp\": \"2020-05-13T17:01:45.007000\", \"class\": \"built\", \"value\": 0.04279878083616495}, {\"timestamp\": \"2020-05-13T17:01:40.703000\", \"class\": \"built\", \"value\": 0.04191321530379355}, {\"timestamp\": \"2020-06-02T17:01:47.777000\", \"class\": \"built\", \"value\": 0.028831973671913147}, {\"timestamp\": \"2020-06-02T17:01:43.468000\", \"class\": \"built\", \"value\": 0.029253233456984162}, {\"timestamp\": \"2020-06-12T17:01:48.404000\", \"class\": \"built\", \"value\": 0.028733602026477456}, {\"timestamp\": \"2020-06-12T17:01:44.096000\", \"class\": \"built\", \"value\": 0.02963025146164}, {\"timestamp\": \"2020-06-17T17:01:52.069000\", \"class\": \"built\", \"value\": 0.029619746142998338}, {\"timestamp\": \"2020-06-17T17:01:47.745000\", \"class\": \"built\", \"value\": 0.029478106647729874}, {\"timestamp\": \"2020-08-11T17:01:49.445000\", \"class\": \"built\", \"value\": 0.0307704359292984}, {\"timestamp\": \"2020-08-11T17:01:45.144000\", \"class\": \"built\", \"value\": 0.030322406440973282}, {\"timestamp\": \"2020-08-16T17:01:51.876000\", \"class\": \"built\", \"value\": 0.028203249908983707}, {\"timestamp\": \"2020-08-16T17:01:47.552000\", \"class\": \"built\", \"value\": 0.028625071048736572}, {\"timestamp\": \"2020-08-21T17:01:49.551000\", \"class\": \"built\", \"value\": 0.02972488314844668}, {\"timestamp\": \"2020-08-21T17:01:45.247000\", \"class\": \"built\", \"value\": 0.02982493583112955}, {\"timestamp\": \"2020-08-26T17:01:51.328000\", \"class\": \"built\", \"value\": 0.0274751263204962}, {\"timestamp\": \"2020-08-26T17:01:47.001000\", \"class\": \"built\", \"value\": 0.028439495712518692}, {\"timestamp\": \"2020-09-05T17:01:50.372000\", \"class\": \"built\", \"value\": 0.030147293815389276}, {\"timestamp\": \"2020-09-05T17:01:46.047000\", \"class\": \"built\", \"value\": 0.029856566339731216}, {\"timestamp\": \"2020-09-15T17:01:50.380000\", \"class\": \"built\", \"value\": 0.02617566124536097}, {\"timestamp\": \"2020-09-15T17:01:46.065000\", \"class\": \"built\", \"value\": 0.026289344765245914}, {\"timestamp\": \"2020-09-20T17:01:48.070000\", \"class\": \"built\", \"value\": 0.027222784468904138}, {\"timestamp\": \"2020-09-20T17:01:43.766000\", \"class\": \"built\", \"value\": 0.026856455951929092}, {\"timestamp\": \"2020-09-25T17:01:51.368000\", \"class\": \"built\", \"value\": 0.03232599445618689}, {\"timestamp\": \"2020-09-25T17:01:47.042000\", \"class\": \"built\", \"value\": 0.032606431283056736}, {\"timestamp\": \"2020-10-10T17:01:49.734000\", \"class\": \"built\", \"value\": 0.04255920648574829}, {\"timestamp\": \"2020-10-10T17:01:45.422000\", \"class\": \"built\", \"value\": 0.043878793716430664}, {\"timestamp\": \"2020-10-15T17:01:51.744000\", \"class\": \"built\", \"value\": 0.05399155989289284}, {\"timestamp\": \"2020-10-15T17:01:47.421000\", \"class\": \"built\", \"value\": 0.052275195717811584}, {\"timestamp\": \"2020-10-30T17:01:48.947000\", \"class\": \"built\", \"value\": 0.04516662657260895}, {\"timestamp\": \"2020-10-30T17:01:44.637000\", \"class\": \"built\", \"value\": 0.04404515866190195}, {\"timestamp\": \"2020-11-04T17:01:50.797000\", \"class\": \"built\", \"value\": 0.0345239716116339}, {\"timestamp\": \"2020-11-04T17:01:46.469000\", \"class\": \"built\", \"value\": 0.03892576787620783}, {\"timestamp\": \"2020-12-04T17:01:44.571000\", \"class\": \"built\", \"value\": 0.034631792455911636}, {\"timestamp\": \"2020-12-04T17:01:40.253000\", \"class\": \"built\", \"value\": 0.03360588941723108}, {\"timestamp\": \"2020-12-09T17:01:43.593000\", \"class\": \"built\", \"value\": 0.0404210239648819}, {\"timestamp\": \"2020-12-09T17:01:39.284000\", \"class\": \"built\", \"value\": 0.040666818618774414}, {\"timestamp\": \"2020-01-19T17:01:39.766000\", \"class\": \"bare\", \"value\": 0.08270363532938063}, {\"timestamp\": \"2020-01-19T17:01:35.467000\", \"class\": \"bare\", \"value\": 0.08485002908855677}, {\"timestamp\": \"2020-02-03T17:01:39.456000\", \"class\": \"bare\", \"value\": 0.062423729337751865}, {\"timestamp\": \"2020-02-03T17:01:35.171000\", \"class\": \"bare\", \"value\": 0.06402746983803809}, {\"timestamp\": \"2020-02-08T17:01:33.931000\", \"class\": \"bare\", \"value\": 0.07102758530527353}, {\"timestamp\": \"2020-02-18T17:01:40.013000\", \"class\": \"bare\", \"value\": 0.07042700052261353}, {\"timestamp\": \"2020-02-18T17:01:35.721000\", \"class\": \"bare\", \"value\": 0.07076756004244089}, {\"timestamp\": \"2020-02-23T17:01:42.840000\", \"class\": \"bare\", \"value\": 0.06605094508267939}, {\"timestamp\": \"2020-02-23T17:01:38.546000\", \"class\": \"bare\", \"value\": 0.06769238994456828}, {\"timestamp\": \"2020-02-28T17:01:41.307000\", \"class\": \"bare\", \"value\": 0.07671655714511871}, {\"timestamp\": \"2020-02-28T17:01:37.010000\", \"class\": \"bare\", \"value\": 0.07716520340181887}, {\"timestamp\": \"2020-03-04T17:01:43.687000\", \"class\": \"bare\", \"value\": 0.058455398539081216}, {\"timestamp\": \"2020-03-04T17:01:39.390000\", \"class\": \"bare\", \"value\": 0.05880269780755043}, {\"timestamp\": \"2020-04-18T17:01:46.416000\", \"class\": \"bare\", \"value\": 0.14378973306156695}, {\"timestamp\": \"2020-04-18T17:01:42.104000\", \"class\": \"bare\", \"value\": 0.14916218840517104}, {\"timestamp\": \"2020-05-03T17:01:38.589000\", \"class\": \"bare\", \"value\": 0.05635697487741709}, {\"timestamp\": \"2020-05-08T17:01:50.290000\", \"class\": \"bare\", \"value\": 0.04155162745155394}, {\"timestamp\": \"2020-05-08T17:01:45.959000\", \"class\": \"bare\", \"value\": 0.041626310208812356}, {\"timestamp\": \"2020-05-13T17:01:45.007000\", \"class\": \"bare\", \"value\": 0.033818814903497696}, {\"timestamp\": \"2020-05-13T17:01:40.703000\", \"class\": \"bare\", \"value\": 0.03299886011518538}, {\"timestamp\": \"2020-06-02T17:01:47.777000\", \"class\": \"bare\", \"value\": 0.026363618904724717}, {\"timestamp\": \"2020-06-02T17:01:43.468000\", \"class\": \"bare\", \"value\": 0.02707695960998535}, {\"timestamp\": \"2020-06-12T17:01:48.404000\", \"class\": \"bare\", \"value\": 0.03209595591761172}, {\"timestamp\": \"2020-06-12T17:01:44.096000\", \"class\": \"bare\", \"value\": 0.032821700209751725}, {\"timestamp\": \"2020-06-17T17:01:52.069000\", \"class\": \"bare\", \"value\": 0.032468810910359025}, {\"timestamp\": \"2020-06-17T17:01:47.745000\", \"class\": \"bare\", \"value\": 0.032606431283056736}, {\"timestamp\": \"2020-08-11T17:01:49.445000\", \"class\": \"bare\", \"value\": 0.039530196227133274}, {\"timestamp\": \"2020-08-11T17:01:45.144000\", \"class\": \"bare\", \"value\": 0.038403703132644296}, {\"timestamp\": \"2020-08-16T17:01:51.876000\", \"class\": \"bare\", \"value\": 0.03691140585578978}, {\"timestamp\": \"2020-08-16T17:01:47.552000\", \"class\": \"bare\", \"value\": 0.03715806850232184}, {\"timestamp\": \"2020-08-21T17:01:49.551000\", \"class\": \"bare\", \"value\": 0.04155784845352173}, {\"timestamp\": \"2020-08-21T17:01:45.247000\", \"class\": \"bare\", \"value\": 0.040642205625772476}, {\"timestamp\": \"2020-08-26T17:01:51.328000\", \"class\": \"bare\", \"value\": 0.03902819217182696}, {\"timestamp\": \"2020-08-26T17:01:47.001000\", \"class\": \"bare\", \"value\": 0.03971243277192116}, {\"timestamp\": \"2020-09-05T17:01:50.372000\", \"class\": \"bare\", \"value\": 0.03717571869492531}, {\"timestamp\": \"2020-09-05T17:01:46.047000\", \"class\": \"bare\", \"value\": 0.03679423616267741}, {\"timestamp\": \"2020-09-15T17:01:50.380000\", \"class\": \"bare\", \"value\": 0.03868530038744211}, {\"timestamp\": \"2020-09-15T17:01:46.065000\", \"class\": \"bare\", \"value\": 0.03875135467387736}, {\"timestamp\": \"2020-09-20T17:01:48.070000\", \"class\": \"bare\", \"value\": 0.042088335612788796}, {\"timestamp\": \"2020-09-20T17:01:43.766000\", \"class\": \"bare\", \"value\": 0.04265999794006348}, {\"timestamp\": \"2020-09-25T17:01:51.368000\", \"class\": \"bare\", \"value\": 0.036228605546057224}, {\"timestamp\": \"2020-09-25T17:01:47.042000\", \"class\": \"bare\", \"value\": 0.035592470318078995}, {\"timestamp\": \"2020-10-10T17:01:49.734000\", \"class\": \"bare\", \"value\": 0.05108885676600039}, {\"timestamp\": \"2020-10-10T17:01:45.422000\", \"class\": \"bare\", \"value\": 0.04952146112918854}, {\"timestamp\": \"2020-10-15T17:01:51.744000\", \"class\": \"bare\", \"value\": 0.051899091340601444}, {\"timestamp\": \"2020-10-15T17:01:47.421000\", \"class\": \"bare\", \"value\": 0.05219149962067604}, {\"timestamp\": \"2020-10-30T17:01:48.947000\", \"class\": \"bare\", \"value\": 0.05948549509048462}, {\"timestamp\": \"2020-10-30T17:01:44.637000\", \"class\": \"bare\", \"value\": 0.05759531259536743}, {\"timestamp\": \"2020-11-04T17:01:50.797000\", \"class\": \"bare\", \"value\": 0.08724913094192743}, {\"timestamp\": \"2020-11-04T17:01:46.469000\", \"class\": \"bare\", \"value\": 0.10070279450155795}, {\"timestamp\": \"2020-12-04T17:01:44.571000\", \"class\": \"bare\", \"value\": 0.2715959483757615}, {\"timestamp\": \"2020-12-04T17:01:40.253000\", \"class\": \"bare\", \"value\": 0.25989210698753595}, {\"timestamp\": \"2020-12-09T17:01:43.593000\", \"class\": \"bare\", \"value\": 0.2674765968695283}, {\"timestamp\": \"2020-12-09T17:01:39.284000\", \"class\": \"bare\", \"value\": 0.2575481964740902}, {\"timestamp\": \"2020-01-19T17:01:39.766000\", \"class\": \"snow_and_ice\", \"value\": 0.6553052701056004}, {\"timestamp\": \"2020-01-19T17:01:35.467000\", \"class\": \"snow_and_ice\", \"value\": 0.6502506809774786}, {\"timestamp\": \"2020-02-03T17:01:39.456000\", \"class\": \"snow_and_ice\", \"value\": 0.6802675335202366}, {\"timestamp\": \"2020-02-03T17:01:35.171000\", \"class\": \"snow_and_ice\", \"value\": 0.6767231374979019}, {\"timestamp\": \"2020-02-08T17:01:33.931000\", \"class\": \"snow_and_ice\", \"value\": 0.6881686756387353}, {\"timestamp\": \"2020-02-18T17:01:40.013000\", \"class\": \"snow_and_ice\", \"value\": 0.6933936811983585}, {\"timestamp\": \"2020-02-18T17:01:35.721000\", \"class\": \"snow_and_ice\", \"value\": 0.6901447512209415}, {\"timestamp\": \"2020-02-23T17:01:42.840000\", \"class\": \"snow_and_ice\", \"value\": 0.6871817002538592}, {\"timestamp\": \"2020-02-23T17:01:38.546000\", \"class\": \"snow_and_ice\", \"value\": 0.6821062127128243}, {\"timestamp\": \"2020-02-28T17:01:41.307000\", \"class\": \"snow_and_ice\", \"value\": 0.667640799889341}, {\"timestamp\": \"2020-02-28T17:01:37.010000\", \"class\": \"snow_and_ice\", \"value\": 0.6618930781260133}, {\"timestamp\": \"2020-03-04T17:01:43.687000\", \"class\": \"snow_and_ice\", \"value\": 0.6810732244048268}, {\"timestamp\": \"2020-03-04T17:01:39.390000\", \"class\": \"snow_and_ice\", \"value\": 0.6817785950843245}, {\"timestamp\": \"2020-04-18T17:01:46.416000\", \"class\": \"snow_and_ice\", \"value\": 0.04102454427629709}, {\"timestamp\": \"2020-04-18T17:01:42.104000\", \"class\": \"snow_and_ice\", \"value\": 0.04040875378996134}, {\"timestamp\": \"2020-05-03T17:01:38.589000\", \"class\": \"snow_and_ice\", \"value\": 0.03659547516144812}, {\"timestamp\": \"2020-05-08T17:01:50.290000\", \"class\": \"snow_and_ice\", \"value\": 0.037011146545410156}, {\"timestamp\": \"2020-05-08T17:01:45.959000\", \"class\": \"snow_and_ice\", \"value\": 0.03757099830545485}, {\"timestamp\": \"2020-05-13T17:01:45.007000\", \"class\": \"snow_and_ice\", \"value\": 0.04282403830438852}, {\"timestamp\": \"2020-05-13T17:01:40.703000\", \"class\": \"snow_and_ice\", \"value\": 0.041296967305243015}, {\"timestamp\": \"2020-06-02T17:01:47.777000\", \"class\": \"snow_and_ice\", \"value\": 0.033048772253096104}, {\"timestamp\": \"2020-06-02T17:01:43.468000\", \"class\": \"snow_and_ice\", \"value\": 0.03390304953791201}, {\"timestamp\": \"2020-06-12T17:01:48.404000\", \"class\": \"snow_and_ice\", \"value\": 0.03401552536524832}, {\"timestamp\": \"2020-06-12T17:01:44.096000\", \"class\": \"snow_and_ice\", \"value\": 0.03341594710946083}, {\"timestamp\": \"2020-06-17T17:01:52.069000\", \"class\": \"snow_and_ice\", \"value\": 0.03416202240623534}, {\"timestamp\": \"2020-06-17T17:01:47.745000\", \"class\": \"snow_and_ice\", \"value\": 0.03456367552280426}, {\"timestamp\": \"2020-08-11T17:01:49.445000\", \"class\": \"snow_and_ice\", \"value\": 0.031611207872629166}, {\"timestamp\": \"2020-08-11T17:01:45.144000\", \"class\": \"snow_and_ice\", \"value\": 0.03183950576931238}, {\"timestamp\": \"2020-08-16T17:01:51.876000\", \"class\": \"snow_and_ice\", \"value\": 0.03267810889519751}, {\"timestamp\": \"2020-08-16T17:01:47.552000\", \"class\": \"snow_and_ice\", \"value\": 0.032161597395315766}, {\"timestamp\": \"2020-08-21T17:01:49.551000\", \"class\": \"snow_and_ice\", \"value\": 0.03241384425200522}, {\"timestamp\": \"2020-08-21T17:01:45.247000\", \"class\": \"snow_and_ice\", \"value\": 0.032733299070969224}, {\"timestamp\": \"2020-08-26T17:01:51.328000\", \"class\": \"snow_and_ice\", \"value\": 0.035840470576658845}, {\"timestamp\": \"2020-08-26T17:01:47.001000\", \"class\": \"snow_and_ice\", \"value\": 0.03546017245389521}, {\"timestamp\": \"2020-09-05T17:01:50.372000\", \"class\": \"snow_and_ice\", \"value\": 0.031937599182128906}, {\"timestamp\": \"2020-09-05T17:01:46.047000\", \"class\": \"snow_and_ice\", \"value\": 0.03210142347961664}, {\"timestamp\": \"2020-09-15T17:01:50.380000\", \"class\": \"snow_and_ice\", \"value\": 0.03655462060123682}, {\"timestamp\": \"2020-09-15T17:01:46.065000\", \"class\": \"snow_and_ice\", \"value\": 0.03668894269503653}, {\"timestamp\": \"2020-09-20T17:01:48.070000\", \"class\": \"snow_and_ice\", \"value\": 0.036071941489353776}, {\"timestamp\": \"2020-09-20T17:01:43.766000\", \"class\": \"snow_and_ice\", \"value\": 0.03650212683714926}, {\"timestamp\": \"2020-09-25T17:01:51.368000\", \"class\": \"snow_and_ice\", \"value\": 0.03358910814858973}, {\"timestamp\": \"2020-09-25T17:01:47.042000\", \"class\": \"snow_and_ice\", \"value\": 0.03409436927177012}, {\"timestamp\": \"2020-10-10T17:01:49.734000\", \"class\": \"snow_and_ice\", \"value\": 0.03000439703464508}, {\"timestamp\": \"2020-10-10T17:01:45.422000\", \"class\": \"snow_and_ice\", \"value\": 0.030131399631500244}, {\"timestamp\": \"2020-10-15T17:01:51.744000\", \"class\": \"snow_and_ice\", \"value\": 0.02627450251020491}, {\"timestamp\": \"2020-10-15T17:01:47.421000\", \"class\": \"snow_and_ice\", \"value\": 0.026646816171705723}, {\"timestamp\": \"2020-10-30T17:01:48.947000\", \"class\": \"snow_and_ice\", \"value\": 0.030503355897963047}, {\"timestamp\": \"2020-10-30T17:01:44.637000\", \"class\": \"snow_and_ice\", \"value\": 0.03168178373016417}, {\"timestamp\": \"2020-11-04T17:01:50.797000\", \"class\": \"snow_and_ice\", \"value\": 0.03217801824212074}, {\"timestamp\": \"2020-11-04T17:01:46.469000\", \"class\": \"snow_and_ice\", \"value\": 0.033182055689394474}, {\"timestamp\": \"2020-12-04T17:01:44.571000\", \"class\": \"snow_and_ice\", \"value\": 0.045804464258253574}, {\"timestamp\": \"2020-12-04T17:01:40.253000\", \"class\": \"snow_and_ice\", \"value\": 0.0461578369140625}, {\"timestamp\": \"2020-12-09T17:01:43.593000\", \"class\": \"snow_and_ice\", \"value\": 0.04665747657418251}, {\"timestamp\": \"2020-12-09T17:01:39.284000\", \"class\": \"snow_and_ice\", \"value\": 0.0462365485727787}]}}, {\"mode\": \"vega-lite\"});\n",
              "</script>"
            ],
            "text/plain": [
              "alt.Chart(...)"
            ]
          },
          "execution_count": 59,
          "metadata": {},
          "output_type": "execute_result"
        }
      ],
      "source": [
        "alt.Chart(chart_source).mark_line(strokeWidth=2).encode(\n",
        "    x='timestamp:T',\n",
        "    y=alt.Y('value', axis=alt.Axis(title='class probabilities')),\n",
        "    color=alt.Color(\n",
        "        'class',\n",
        "        scale=alt.Scale(domain=dw_band_names, range=dw_palette)\n",
        "    ),\n",
        "    tooltip=['class', 'value', 'timestamp:T']\n",
        ").interactive(bind_y=False).properties(width=800, height=500)"
      ]
    },
    {
      "cell_type": "markdown",
      "metadata": {
        "id": "X7g-uVcKs16q"
      },
      "source": [
        "The chart immediately reveals the shift from snow in the winter to trees in the spring. You can also see the model predicting high probabilities for shrub_and_scrub and bare classes at the seasonal transition."
      ]
    },
    {
      "cell_type": "markdown",
      "metadata": {
        "id": "stgYZ5_ws47s"
      },
      "source": [
        "### Summary\n",
        "\n",
        "You learned how to explore the time-series of Dynamic World dataset by plotting the probability of each class at each time step. You can easily obtain this chart for any location in the world by simply changing the geometry and the date range."
      ]
    },
    {
      "cell_type": "markdown",
      "metadata": {
        "id": "WYhMwsfStDyh"
      },
      "source": [
        "## Change Detection using Probability Bands\n",
        "\n",
        "As you saw in the previous section, Dynamic World dataset provides a time-series of per-pixel class probabilities. This allows one to build change detection models easily without training custom models or collecting training data. In this example, we will see how to use the probability bands to explore urban changes over time.\n",
        "\n",
        "A unique feature of the Dynamic World Built Area class is that it incorporates the built environment as well as adjacent land cover types in the definition. When a previously non-urban region starts getting urbanized with new roads and urban structures - the whole region is classified as built. This feature can be very useful to detect urban sprawl. We will see how the Dynamic World’s probability based model allows us to explore urban expansion with a few simple rules.\n",
        "\n",
        "We start by selecting a region of interest. For this tutorial, we will try to detect urban expansion around the City of Bengaluru, India. It is a rapidly growing city that is witnessing unprecedented urbanisation and sprawl in recent years. We use the [FAO GAUL: Global Administrative Unit Layers 2015, Second-Level Administrative Units](https://developers.google.com/earth-engine/datasets/catalog/FAO_GAUL_2015_level2) dataset and select the boundary of the Bangalore Urban district as the region of interest."
      ]
    },
    {
      "cell_type": "code",
      "execution_count": null,
      "metadata": {
        "id": "w5AP1li6tP4e"
      },
      "outputs": [],
      "source": [
        "admin2 = ee.FeatureCollection('FAO/GAUL_SIMPLIFIED_500m/2015/level2')\n",
        "selected = admin2.filter(ee.Filter.eq('ADM2_NAME', 'Bangalore Urban'))\n",
        "geometry = selected.geometry()"
      ]
    },
    {
      "cell_type": "code",
      "execution_count": null,
      "metadata": {
        "id": "BfgSWxJetqpy"
      },
      "outputs": [],
      "source": [
        "center_latlon = list(reversed(geometry.centroid().coordinates().getInfo()))\n",
        "\n",
        "map_init_params_india = {\n",
        "    'center': center_latlon, # <lat,lon> ordering\n",
        "    'zoom': 12,\n",
        "}"
      ]
    },
    {
      "cell_type": "code",
      "execution_count": null,
      "metadata": {
        "colab": {
          "base_uri": "https://localhost:8080/",
          "height": 441,
          "referenced_widgets": [
            "736cd93491a04655a44e7f20dcc59421",
            "72dcf3e3fc3e4e02b834ea3146470dcd",
            "d551e5c3343a493fb4aaf8c2cb365277",
            "f4818fcddde14ce0a5716b4f2db84db8",
            "c19d69e623e04f8d932b5f4c6e3291f4",
            "51194371fd2649ad9b880d62090ba562",
            "746eb43b368940538373878332ae44f5",
            "7ed09d05672f4b38b74edf97d84610c0",
            "96462d1767ad4273b2d25e57c448e79b"
          ]
        },
        "id": "HamZ6f-otW-6",
        "outputId": "e2cdc17b-5944-40c1-b355-5c9366a79b5e"
      },
      "outputs": [
        {
          "data": {
            "application/vnd.jupyter.widget-view+json": {
              "model_id": "736cd93491a04655a44e7f20dcc59421",
              "version_major": 2,
              "version_minor": 0
            },
            "text/plain": [
              "Map(center=[12.942208526432214, 77.5868323785926], controls=(ZoomControl(options=['position', 'zoom_in_text', …"
            ]
          },
          "metadata": {
            "application/vnd.jupyter.widget-view+json": {
              "colab": {
                "custom_widget_manager": {
                  "url": "https://ssl.gstatic.com/colaboratory-static/widgets/colab-cdn-widget-manager/d2e234f7cc04bf79/manager.min.js"
                }
              }
            }
          },
          "output_type": "display_data"
        }
      ],
      "source": [
        "map7 = Map(**map_init_params_india)\n",
        "map7"
      ]
    },
    {
      "cell_type": "markdown",
      "metadata": {
        "id": "rljQshgVuMzE"
      },
      "source": [
        "We want to detect newly urbanized regions from the year 2019 to 2020. We first create start and end dates for the before and after periods for the analysis. Using the `ee.Date.fromYMD` function along with advance allows us to make the code easily adaptable to different time ranges without having to make many changes."
      ]
    },
    {
      "cell_type": "code",
      "execution_count": null,
      "metadata": {
        "id": "Hd3djMKjuTwm"
      },
      "outputs": [],
      "source": [
        "before_year = 2019\n",
        "after_year = 2020\n",
        "\n",
        "before_start = ee.Date.fromYMD(before_year, 1, 1)\n",
        "before_end = before_start.advance(1, 'year')\n",
        "\n",
        "after_start = ee.Date.fromYMD(after_year, 1, 1)\n",
        "after_end = after_start.advance(1, 'year')"
      ]
    },
    {
      "cell_type": "markdown",
      "metadata": {
        "id": "-1pmPJzEuodH"
      },
      "source": [
        "Now, we select the built band that contains the pixel-wise probabilities indicating the likeliness of it being urban. Since we are considering many images over the period of the year, we create a mean composite indicating the average probability across the year."
      ]
    },
    {
      "cell_type": "code",
      "execution_count": null,
      "metadata": {
        "id": "MLxV0O3euqub"
      },
      "outputs": [],
      "source": [
        "dw = (dw_base.filterBounds(geometry)\n",
        "             .select('built'))\n",
        "\n",
        "before_dw = dw.filterDate(before_start, before_end).mean()\n",
        "after_dw = dw.filterDate(after_start, after_end).mean()"
      ]
    },
    {
      "cell_type": "markdown",
      "metadata": {
        "id": "n3rBXi6xvg_d"
      },
      "source": [
        "To detect newly urbanized regions, we can apply a simple criteria. Any pixel in the built class that had an average probability of less than 0.2 before and greater than 0.5 after would indicate previously non-urban area which is now urban."
      ]
    },
    {
      "cell_type": "code",
      "execution_count": null,
      "metadata": {
        "id": "4nqxGzbavj8A"
      },
      "outputs": [],
      "source": [
        "# Select all pixels that are\n",
        "# < 0.2 'built' probability before\n",
        "# > 0.5 'built' probability after\n",
        "new_urban = before_dw.lt(0.2).And(after_dw.gt(0.5))\n",
        "\n",
        "change_vis_params = {'min': 0, 'max': 1, 'palette': ['white', 'red']}"
      ]
    },
    {
      "cell_type": "code",
      "execution_count": null,
      "metadata": {
        "colab": {
          "base_uri": "https://localhost:8080/",
          "height": 441,
          "referenced_widgets": [
            "2396dcfa64d9486e9be848310e41df8f",
            "ecdfd3a83a6841ebacd44c8a11edf14a",
            "b465b45722f945c88bea0983afa7efd1",
            "3978f261a46d432b8a62c6d7ba7c4acc",
            "4e98329db4c74825be31ff02fc4ee14e",
            "dd3f10274e7240b6893a83535ececf42",
            "c1cf0b66ff11425587ae7e3188d31e0d",
            "b328075c7b814ab2a233e5e5b106e3f2",
            "d12da6cbbe4f4de299f854cf55d75f8f",
            "d5fe0d57610d4fb1bffc21b792b789d5",
            "63ef4c5a485041d2895bbdeaafe4f6b8",
            "de35f20539354824aca56806796de545",
            "81e886c57a524933b92c0a6319824223"
          ]
        },
        "id": "Y_nLy-A8v2E8",
        "outputId": "9b9390c2-630a-43e0-cfb7-1646a58857af"
      },
      "outputs": [
        {
          "data": {
            "application/vnd.jupyter.widget-view+json": {
              "model_id": "2396dcfa64d9486e9be848310e41df8f",
              "version_major": 2,
              "version_minor": 0
            },
            "text/plain": [
              "Map(center=[12.942208526432214, 77.5868323785926], controls=(ZoomControl(options=['position', 'zoom_in_text', …"
            ]
          },
          "metadata": {
            "application/vnd.jupyter.widget-view+json": {
              "colab": {
                "custom_widget_manager": {
                  "url": "https://ssl.gstatic.com/colaboratory-static/widgets/colab-cdn-widget-manager/d2e234f7cc04bf79/manager.min.js"
                }
              }
            }
          },
          "output_type": "display_data"
        }
      ],
      "source": [
        "map8 = Map(**map_init_params_india)\n",
        "satellite_basemap = ipyleaflet.basemap_to_tiles(ipyleaflet.basemaps.Esri.WorldImagery)\n",
        "map8.add_layer(satellite_basemap)\n",
        "map8.addLayer(after_dw, {}, 'after_dw')\n",
        "map8.addLayer(before_dw, {}, 'before_dw')\n",
        "map8.addLayer(new_urban.clip(geometry), change_vis_params, 'New Urban')\n",
        "map8.addLayer(new_urban.updateMask(new_urban).clip(geometry), change_vis_params, 'New Urban (masked)')\n",
        "map8"
      ]
    },
    {
      "cell_type": "markdown",
      "metadata": {
        "id": "5hYb75r14xOq"
      },
      "source": [
        "You can see how easy it was to build a custom model for urban sprawl. You can also build a more complex decision tree using rules involving multiple probability bands, or apply the same logic across multiple temporal steps.\n",
        "\n",
        "It is always a good idea to validate our analysis. We can add before and after composites of Sentinel-2 images to check whether the detected change is visible in the imagery. Since optical images have clouds and cloud shadows that are not masked out, it is preferable to use a median composite."
      ]
    },
    {
      "cell_type": "code",
      "execution_count": null,
      "metadata": {
        "id": "G6q1zpgO47A1"
      },
      "outputs": [],
      "source": [
        "s2 = (ee.ImageCollection('COPERNICUS/S2')\n",
        "        .filterBounds(geometry)\n",
        "        .filter(ee.Filter.lt('CLOUDY_PIXEL_PERCENTAGE', 35)))\n",
        "\n",
        "before_S2 = s2.filterDate(before_start, before_end).median()\n",
        "after_S2 = s2.filterDate(after_start, after_end).median()\n",
        "\n",
        "map8b = Map(**map_init_params_india)\n",
        "map8b.add_layer(satellite_basemap)\n",
        "map8c = Map(**map_init_params_india)\n",
        "map8b.addLayer(before_S2.clip(geometry), s2_vis_params, 'Before S2');\n",
        "map8c.add_layer(satellite_basemap)\n",
        "map8c.addLayer(after_S2.clip(geometry), s2_vis_params, 'After S2');"
      ]
    },
    {
      "cell_type": "markdown",
      "metadata": {
        "id": "tE6CuJM6DLoz"
      },
      "source": [
        "Link the maps, so the center and the zoom levels stay in sync."
      ]
    },
    {
      "cell_type": "code",
      "execution_count": null,
      "metadata": {
        "id": "2Rvu9eATDLNw"
      },
      "outputs": [],
      "source": [
        "def synchronize_maps(map_list):\n",
        "  \"\"\"Synchromizes the center and zoom of a list of map objects.\"\"\"\n",
        "  for m in map_list[1:]:\n",
        "    widgets.link((map_list[0], 'center'), (m, 'center'))\n",
        "    widgets.link((map_list[0], 'zoom'), (m, 'zoom'))\n",
        "\n",
        "synchronize_maps([map8, map8b, map8c])\n",
        "# center_link_1 = widgets.link((map8, 'center'), (map8b, 'center'))\n",
        "# center_link_2 = widgets.link((map8, 'center'), (map8c, 'center'))\n",
        "# zoom_link_1 = widgets.link((map8, 'zoom'), (map8b, 'zoom'))\n",
        "# zoom_link_2 = widgets.link((map8, 'zoom'), (map8c, 'zoom'))"
      ]
    },
    {
      "cell_type": "code",
      "execution_count": null,
      "metadata": {
        "colab": {
          "base_uri": "https://localhost:8080/",
          "height": 453,
          "referenced_widgets": [
            "1ba10f9b15eb44769a48a90a5b8f5d01",
            "65a24806e1f2487ca285d8f0e4870f6e",
            "199c617ec6ae4043b114e2f6265a2bbb",
            "94d1580992b1419483d666b0a2c45bab",
            "0a6aab5ef2874a659b3125337ac4e8a4",
            "0ef80d5c1dee43dc930b670568f27e71",
            "7dfff0bebd8445518f77a14743f2d956",
            "74216286708048e3b333be285f755a56",
            "380e3a3177804be7ac56a2e831591ef9",
            "ca1cb94298ae4a719d2b4b167d4362ad",
            "b6d00db251494c0a971fc02d411e60d7",
            "2396dcfa64d9486e9be848310e41df8f",
            "63df475b8eeb4de7b74a36178b790d77",
            "fa734d758ec247ddbd6bb5005474f2e3",
            "211c6202e5894f98a20340eb4a0e2ef3",
            "ebb3047dfa124938b1485be7661164e3",
            "f2103aa960944f4f854faddf7528235b",
            "41573f7d11b941faaa99af8628a28013",
            "e1278add514844829f535bdd94b7fd7c",
            "6d874e3c01e14c5e9c4cee4be38092db",
            "dfa0a12f95034a81a47b89e938c20442",
            "a8bc8b45a44b47efb2b01ac292f2771f",
            "03f61c84c5024e39ab1caf0441e8c840",
            "677cf37dc9c04e9fa06fe2076a9d303a",
            "b328075c7b814ab2a233e5e5b106e3f2",
            "52ec5145987a441dbb162d2ef8ae726c",
            "fd3fb03184f4453eb318b3077f77364b",
            "418563d4a4374041882a0b3bfdbc7105",
            "8c57ae11b7aa4f08bbfd1e8160d2ad49",
            "d051989bbce448809ff5223a040e5658",
            "b5f7c1dcc0154ac1914608697ae2783e",
            "d17cc6c98b2a4c0cb8fabb3f48b6ef1a",
            "5a04ed0ef4364965b4e06b8178117c93",
            "28292e70c5fe4d42a61605d003614f48",
            "21adf319065b477e8c23a4f36aeebb8e",
            "ecdfd3a83a6841ebacd44c8a11edf14a",
            "b465b45722f945c88bea0983afa7efd1",
            "3978f261a46d432b8a62c6d7ba7c4acc",
            "4e98329db4c74825be31ff02fc4ee14e",
            "dd3f10274e7240b6893a83535ececf42",
            "c1cf0b66ff11425587ae7e3188d31e0d",
            "d12da6cbbe4f4de299f854cf55d75f8f",
            "d5fe0d57610d4fb1bffc21b792b789d5",
            "63ef4c5a485041d2895bbdeaafe4f6b8",
            "de35f20539354824aca56806796de545",
            "81e886c57a524933b92c0a6319824223"
          ]
        },
        "id": "jJoIlExc5xsO",
        "outputId": "f19dc586-b3a6-46a9-fa4b-ef32c8b6271b"
      },
      "outputs": [
        {
          "data": {
            "application/vnd.jupyter.widget-view+json": {
              "model_id": "1ba10f9b15eb44769a48a90a5b8f5d01",
              "version_major": 2,
              "version_minor": 0
            },
            "text/plain": [
              "HBox(children=(VBox(children=(Label(value='Before Composite'), Map(center=[12.942208526432214, 77.586832378592…"
            ]
          },
          "metadata": {
            "application/vnd.jupyter.widget-view+json": {
              "colab": {
                "custom_widget_manager": {
                  "url": "https://ssl.gstatic.com/colaboratory-static/widgets/colab-cdn-widget-manager/d2e234f7cc04bf79/manager.min.js"
                }
              }
            }
          },
          "output_type": "display_data"
        }
      ],
      "source": [
        "auto_layout = widgets.Layout(width='100%', height='100%', align_items='center')\n",
        "widgets.HBox([\n",
        "    widgets.VBox([widgets.Label('Before Composite'), map8b],\n",
        "                 layout=auto_layout),\n",
        "    widgets.VBox([widgets.Label('After Composite'), map8c],\n",
        "                 layout=auto_layout),\n",
        "    widgets.VBox([widgets.Label('Detected New Urban Areas'), map8],\n",
        "                 layout=auto_layout),\n",
        "])"
      ]
    },
    {
      "cell_type": "markdown",
      "metadata": {
        "id": "bAg1742IDzak"
      },
      "source": [
        "### Summary\n",
        "\n",
        "This section covered techniques to explore the probability time-series to build a robust change detection model with just a few lines of code. We could detect newly urbanized regions by comparing the before and after probabilities of the built class and visualize the results on a map."
      ]
    },
    {
      "cell_type": "markdown",
      "metadata": {
        "id": "BGm-tR4zSzf9"
      },
      "source": [
        "# Part 4 - Land Cover Classification\n",
        "\n",
        "This section describe how Dynamic World data can be used as an input for classification models, predicting other classes that are not one of Dynamic World dataset's standard classes."
      ]
    },
    {
      "cell_type": "code",
      "execution_count": null,
      "metadata": {
        "id": "trdkKVLNADu0"
      },
      "outputs": [],
      "source": [
        "def create_node(obj_name, desc=None, method=None, shape='rectangle', **kwargs):\n",
        "  desc_str = (f'<font color=\"black\"'\n",
        "              f' FACE=\"Liberation Sans\">{desc}</font>') if desc else ''\n",
        "  obj_str = (f'<font face=\"Liberation Mono\"'\n",
        "                f' POINT-SIZE=\"10\">variable: {obj_name}</font>') if obj_name else ''\n",
        "  method_str = (f'<font color=\"blue\"'\n",
        "                f' face=\"Liberation Mono\"'\n",
        "                f' POINT-SIZE=\"10\">{method}</font>') if method else ''\n",
        "  label = (f'<'\n",
        "          f'<b>{desc_str}</b><BR/>'\n",
        "          f'{obj_str}<BR/>'\n",
        "          f'{method_str}'\n",
        "          f'>')\n",
        "  return pydot.Node(name=obj_name, label=label, shape=shape, **kwargs)\n",
        "\n",
        "def view_pydot(pdot):\n",
        "  plt = Image(pdot.create_png())\n",
        "  display(plt)"
      ]
    },
    {
      "cell_type": "code",
      "execution_count": null,
      "metadata": {
        "cellView": "form",
        "colab": {
          "base_uri": "https://localhost:8080/",
          "height": 650
        },
        "id": "Z6TyynJibTsL",
        "outputId": "0f18867a-8278-4e6f-d88f-76dcaa4a3ea8"
      },
      "outputs": [
        {
          "data": {
            "image/png": "[encoded data removed]",
            "text/plain": [
              "<IPython.core.display.Image object>"
            ]
          },
          "metadata": {},
          "output_type": "display_data"
        }
      ],
      "source": [
        "#@title Classification Flowchart\n",
        "def create_classification_cluster():\n",
        "  cluster = pydot.Cluster(label='',\n",
        "                          labelloc='b',\n",
        "                          style='dashed')\n",
        "  cluster.add_node(create_node(obj_name='sample_points',\n",
        "                              desc='independent data'))\n",
        "  cluster.add_node(create_node(obj_name='predictors',\n",
        "                              desc='dependent data'))\n",
        "  cluster.add_node(create_node(obj_name='training',\n",
        "                              desc='the training data',\n",
        "                              method='ee.Image.sampleRegions()'))\n",
        "\n",
        "  cluster.add_node(create_node(obj_name='training_partition',\n",
        "                               desc='samples used for training'))\n",
        "  cluster.add_node(create_node(obj_name='testing_partition',\n",
        "                               desc='samples used for testing'))\n",
        "  cluster.add_node(create_node(obj_name='trained_classifier',\n",
        "                               desc='classifier',\n",
        "                               method='ee.Classifier.smileRandomForest()'))\n",
        "  cluster.add_node(create_node(obj_name='predictors_classified',\n",
        "                               desc='classified prediction data',\n",
        "                               method='ee.FeatureCollection.classify()'))\n",
        "  cluster.add_node(create_node(obj_name='testing_classfied',\n",
        "                               desc='classified testing data',\n",
        "                               method='ee.FeatureCollection.classify()'))\n",
        "  cluster.add_node(create_node(obj_name='confusion_matrix',\n",
        "                               desc='confusion matrix',\n",
        "                               method='ee.FeatureCollection.errorMatrix()'))\n",
        "\n",
        "  cluster.add_edge(pydot.Edge('sample_points', 'training'))\n",
        "  cluster.add_edge(pydot.Edge('predictors', 'training'))\n",
        "  cluster.add_edge(pydot.Edge('training', 'training_partition'))\n",
        "  cluster.add_edge(pydot.Edge('training', 'testing_partition'))\n",
        "  cluster.add_edge(pydot.Edge('training_partition', 'trained_classifier'))\n",
        "  cluster.add_edge(pydot.Edge('predictors', 'predictors_classified'))\n",
        "  cluster.add_edge(pydot.Edge('trained_classifier', 'predictors_classified'))\n",
        "  cluster.add_edge(pydot.Edge('testing_partition', 'testing_classfied'))\n",
        "  cluster.add_edge(pydot.Edge('trained_classifier', 'testing_classfied'))\n",
        "  cluster.add_edge(pydot.Edge('testing_classfied', 'confusion_matrix'))\n",
        "\n",
        "  return cluster\n",
        "\n",
        "cluster_classification = create_classification_cluster()\n",
        "\n",
        "# Display the classification cluster.\n",
        "base_graph = pydot.Dot(label='run_classification()',\n",
        "                       graph_type='digraph',\n",
        "                       bgcolor='white')\n",
        "base_graph.add_subgraph(cluster_classification)\n",
        "view_pydot(base_graph)"
      ]
    },
    {
      "cell_type": "code",
      "execution_count": null,
      "metadata": {
        "id": "LsyTB9f8Xhe7"
      },
      "outputs": [],
      "source": [
        "def run_classification(predictors, sample_points):\n",
        "\n",
        "  ######################################################\n",
        "  # Train a classifier.\n",
        "\n",
        "  ######################################################\n",
        "  # Sample the predictor data layer to generate training data.\n",
        "  training = predictors.sampleRegions(\n",
        "    collection=sample_points,\n",
        "    properties=[class_property, class_desc],\n",
        "    scale=30,\n",
        "    tileScale=4,\n",
        "    # geometries=True  # Uncomment this if you want to display locations.\n",
        "  )\n",
        "\n",
        "  # We want to reserve some of the data for testing, to avoid overfitting the model.\n",
        "  split = 0.7  # Roughly 70% training, 30% testing.\n",
        "  # Add a column of random uniforms to the sample dataset\n",
        "  with_random = training.randomColumn('random')\n",
        "  training_partition = with_random.filter(ee.Filter.lt('random', split))\n",
        "  testing_partition = with_random.filter(ee.Filter.gte('random', split))\n",
        "\n",
        "  # print(f'training_partition = {training_partition.getInfo()}')\n",
        "  # print(f'testing_partition = {testing_partition.getInfo()}')\n",
        "\n",
        "  # Trained with 70% of our data.\n",
        "  trained_classifier = ee.Classifier.smileRandomForest(5).train(\n",
        "    features=training_partition,\n",
        "    classProperty=class_property,\n",
        "    inputProperties=bands\n",
        "  )\n",
        "\n",
        "  # Classify the training FeatureCollection.\n",
        "  predictors_classified = predictors.classify(trained_classifier,\n",
        "                                   predicted_class_property)\n",
        "\n",
        "  ######################################################\n",
        "  # Accuracy assessment\n",
        "\n",
        "  # Classify the test FeatureCollection with the trained classifier.\n",
        "  testing_classfied = testing_partition.classify(trained_classifier,\n",
        "                                    predicted_class_property)\n",
        "\n",
        "  # Print the confusion matrix.\n",
        "  # print(f'DEBUG testing_classfied = {testing_classfied.getInfo()}')\n",
        "  # print(f'DEBUG class_property = {class_property.getInfo()}')\n",
        "  # print(f'DEBUG predicted_class_property = {predicted_class_property.getInfo()}')\n",
        "  confusion_matrix = testing_classfied.errorMatrix(class_property,\n",
        "                                      predicted_class_property)\n",
        "  print(f'Confusion Matrix = {confusion_matrix.getInfo()}')\n",
        "  print(f'Accuracy (overall) = {confusion_matrix.accuracy().getInfo()}')"
      ]
    },
    {
      "cell_type": "markdown",
      "metadata": {
        "id": "7DQWTGBkbeg5"
      },
      "source": [
        "We also define names for training and prediction properties that will be used."
      ]
    },
    {
      "cell_type": "code",
      "execution_count": null,
      "metadata": {
        "id": "SPQcKaH3XCzs"
      },
      "outputs": [],
      "source": [
        "# The name of the property storing the class label.\n",
        "class_property = 'training_landcover'\n",
        "\n",
        "# Define name of the property storing the class description.\n",
        "class_desc = 'training_landcover_desc'\n",
        "\n",
        "predicted_class_property = 'predicted_landcover'"
      ]
    },
    {
      "cell_type": "markdown",
      "metadata": {
        "id": "r7llQOTaBwkW"
      },
      "source": [
        "## Manually drawn training data\n",
        "\n",
        "In this section we are going to use manually draw training data as inputs for the classifier."
      ]
    },
    {
      "cell_type": "code",
      "execution_count": null,
      "metadata": {
        "cellView": "form",
        "colab": {
          "base_uri": "https://localhost:8080/",
          "height": 638
        },
        "id": "T3AiirAw1IfK",
        "outputId": "b58a0db7-6fab-4377-8c51-7b1b5cc0c85f"
      },
      "outputs": [
        {
          "data": {
            "image/png": "[encoded data removed]",
            "text/plain": [
              "<IPython.core.display.Image object>"
            ]
          },
          "metadata": {},
          "output_type": "display_data"
        }
      ],
      "source": [
        "#@title Classification Flowchart (manually drawn training data)\n",
        "\n",
        "manual_graph = pydot.Dot(label='classification (manual drawn samples)',\n",
        "                       graph_type='digraph',\n",
        "                       bgcolor='white')\n",
        "manual_graph.add_subgraph(cluster_classification)\n",
        "manual_graph.add_node(create_node(obj_name='manual_points',\n",
        "                           desc='Manually drawn sample points',\n",
        "                           style='filled',\n",
        "                           fillcolor='lightyellow'))\n",
        "manual_graph.add_node(create_node(obj_name='dw',\n",
        "                           desc='Dynamic World Class Probabilities'))\n",
        "manual_graph.add_edge(pydot.Edge('manual_points', 'sample_points'))\n",
        "manual_graph.add_edge(pydot.Edge('dw', 'predictors'))\n",
        "view_pydot(manual_graph)"
      ]
    },
    {
      "cell_type": "markdown",
      "metadata": {
        "id": "eEj3yp3wU7ya"
      },
      "source": [
        "For our dependent data (`predictors`) we will use the Dynamic World dataset's mean class probabilities from a particular time period."
      ]
    },
    {
      "cell_type": "code",
      "execution_count": null,
      "metadata": {
        "id": "KhmyyzxKU4jP"
      },
      "outputs": [],
      "source": [
        "start_date = '2020-04-01'\n",
        "end_date = '2020-10-01'\n",
        "\n",
        "predictors = dw_base.filterDate(start_date, end_date).mean()\n",
        "bands = predictors.bandNames().remove('label')\n",
        "predictors = predictors.select(bands)"
      ]
    },
    {
      "cell_type": "code",
      "execution_count": null,
      "metadata": {
        "colab": {
          "base_uri": "https://localhost:8080/"
        },
        "id": "0QW06AxSZR7t",
        "outputId": "f33b53c3-dcfd-4cfd-c9f1-46b4585cc9eb"
      },
      "outputs": [
        {
          "name": "stdout",
          "output_type": "stream",
          "text": [
            "{'bands': [{'crs': 'EPSG:4326',\n",
            "            'crs_transform': [1, 0, 0, 0, 1, 0],\n",
            "            'data_type': {'precision': 'double', 'type': 'PixelType'},\n",
            "            'id': 'water'},\n",
            "           {'crs': 'EPSG:4326',\n",
            "            'crs_transform': [1, 0, 0, 0, 1, 0],\n",
            "            'data_type': {'precision': 'double', 'type': 'PixelType'},\n",
            "            'id': 'trees'},\n",
            "           {'crs': 'EPSG:4326',\n",
            "            'crs_transform': [1, 0, 0, 0, 1, 0],\n",
            "            'data_type': {'precision': 'double', 'type': 'PixelType'},\n",
            "            'id': 'grass'},\n",
            "           {'crs': 'EPSG:4326',\n",
            "            'crs_transform': [1, 0, 0, 0, 1, 0],\n",
            "            'data_type': {'precision': 'double', 'type': 'PixelType'},\n",
            "            'id': 'flooded_vegetation'},\n",
            "           {'crs': 'EPSG:4326',\n",
            "            'crs_transform': [1, 0, 0, 0, 1, 0],\n",
            "            'data_type': {'precision': 'double', 'type': 'PixelType'},\n",
            "            'id': 'crops'},\n",
            "           {'crs': 'EPSG:4326',\n",
            "            'crs_transform': [1, 0, 0, 0, 1, 0],\n",
            "            'data_type': {'precision': 'double', 'type': 'PixelType'},\n",
            "            'id': 'shrub_and_scrub'},\n",
            "           {'crs': 'EPSG:4326',\n",
            "            'crs_transform': [1, 0, 0, 0, 1, 0],\n",
            "            'data_type': {'precision': 'double', 'type': 'PixelType'},\n",
            "            'id': 'built'},\n",
            "           {'crs': 'EPSG:4326',\n",
            "            'crs_transform': [1, 0, 0, 0, 1, 0],\n",
            "            'data_type': {'precision': 'double', 'type': 'PixelType'},\n",
            "            'id': 'bare'},\n",
            "           {'crs': 'EPSG:4326',\n",
            "            'crs_transform': [1, 0, 0, 0, 1, 0],\n",
            "            'data_type': {'precision': 'double', 'type': 'PixelType'},\n",
            "            'id': 'snow_and_ice'}],\n",
            " 'type': 'Image'}\n"
          ]
        }
      ],
      "source": [
        "pprint(predictors.getInfo())"
      ]
    },
    {
      "cell_type": "code",
      "execution_count": null,
      "metadata": {
        "colab": {
          "base_uri": "https://localhost:8080/",
          "height": 441,
          "referenced_widgets": [
            "bc287615f8784a6da5ed07b626e4798f",
            "8f9b5747a9134638adad77a24e114ddf",
            "cf5fda29f171463d9d2e45e61f7e7d90",
            "9a82d66712ff4a62a1be8fb12c1ec4d9",
            "1a36e340578449439c909cf8a8588a5e",
            "d0f84805d8504bb19c2c7ea555314f83",
            "b328075c7b814ab2a233e5e5b106e3f2",
            "2439139ac2a34ec28ddd301a0c91886c",
            "f1fc62d9604a4b84afb868ab947b6251",
            "41571e56caa94d9a9c4f971f7278d9e0"
          ]
        },
        "id": "1uUfp590YMRn",
        "outputId": "40b65317-37f4-47d2-f75a-2aebdf6d8956"
      },
      "outputs": [
        {
          "data": {
            "application/vnd.jupyter.widget-view+json": {
              "model_id": "bc287615f8784a6da5ed07b626e4798f",
              "version_major": 2,
              "version_minor": 0
            },
            "text/plain": [
              "Map(center=[2.86, 101.34], controls=(ZoomControl(options=['position', 'zoom_in_text', 'zoom_in_title', 'zoom_o…"
            ]
          },
          "metadata": {
            "application/vnd.jupyter.widget-view+json": {
              "colab": {
                "custom_widget_manager": {
                  "url": "https://ssl.gstatic.com/colaboratory-static/widgets/colab-cdn-widget-manager/d2e234f7cc04bf79/manager.min.js"
                }
              }
            }
          },
          "output_type": "display_data"
        }
      ],
      "source": [
        "map_init_params_malaysia = {\n",
        "    'center': (2.86, 101.34),\n",
        "    'zoom': 12,\n",
        "    'layers':(satellite_basemap, )\n",
        "}\n",
        "\n",
        "map7 = Map(**map_init_params_malaysia)\n",
        "map7.addLayer(predictors)\n",
        "map7"
      ]
    },
    {
      "cell_type": "markdown",
      "metadata": {
        "id": "H1kvKLJlRxte"
      },
      "source": [
        "For our independent data, we will use visual interpretation of satellite imagery and hand-draw regions on a map. To facilitate this, we first create synchronized interactive maps that have drawing tools for defining training data."
      ]
    },
    {
      "cell_type": "code",
      "execution_count": null,
      "metadata": {
        "colab": {
          "base_uri": "https://localhost:8080/",
          "height": 1000,
          "referenced_widgets": [
            "f92220a7a3b740be829e5ac32be9c3bf",
            "3a50886f2b5445b28e81c7f9ca783083",
            "ee35b1120c8646bfbf35412f2793a49d",
            "17927feef661440f95f1237fa641bebc",
            "1b38aaf951c5424893c275bc4dd71962",
            "78cad406233845a793fcda2a1cc65478",
            "f6aa735dc96c46a59cca632a1da001b5",
            "6a341c6b3ea244ab8183e7486a128d28",
            "2fa0273075a34d12b74c1a5d13a43c93",
            "2953e73539c849f191e057509230dc74",
            "ae37065925ba4dc3b09c3d26276170e1",
            "32b78d4a53554b07846c85a3b2bec52e",
            "da27c23911dd448ab2cf6fdf0dc4cd1e",
            "367ea47c57964bab96a5e47610b454d7",
            "dfc9e8bacb07483482afcc5b58aa560e",
            "fbb8d2a15d0f479a8f58a3bcb5640055",
            "ea78aef136764c248482e9427284ed86",
            "61ee680600be4b419b1269b3314bb6c6",
            "4bc0dabaf5c14ed485881f04475a1ece",
            "011a592630314c00ae22fd788dc3f617",
            "b328075c7b814ab2a233e5e5b106e3f2",
            "1860f660c5564996a07f1abc1f9e35e4",
            "16454e9a47214c82964c85fa11bef18c",
            "4ec8bffac65447e98918c3c0b491384b",
            "5381db2ab28c4e3e95488b78923eb104",
            "b8647aebb1a941bcb629edabec119ddb",
            "5668ae199045477a9abcfc520c479b8e",
            "aa45f561faf44bc38318271bf42719d4",
            "162b54d2bc054cf4b596693653d5d9f1",
            "7e56098aee214fe1aa01bd107215862a",
            "c92ec71943c74214b3393ab9570eb004",
            "5240bf33823d43c3ba229fbd4952d92e",
            "d2c8408d3ddb4ac7a88ce1a1b669fd42",
            "76110945229040488ca65a546e5a3eae",
            "72174934858a4dbfaad1403f6c04c1bf",
            "88c0c91d90d54595bb89711b3b65decf"
          ]
        },
        "id": "Jkya_Rw3CnFV",
        "outputId": "c5975372-4d47-45fc-b1de-4fffa77f1407"
      },
      "outputs": [
        {
          "data": {
            "application/vnd.jupyter.widget-view+json": {
              "model_id": "f92220a7a3b740be829e5ac32be9c3bf",
              "version_major": 2,
              "version_minor": 0
            },
            "text/plain": [
              "GridBox(children=(HTML(value='<h1>Class 0 (Oil palm)</H1>'), Map(center=[2.86, 101.34], controls=(ZoomControl(…"
            ]
          },
          "metadata": {
            "application/vnd.jupyter.widget-view+json": {
              "colab": {
                "custom_widget_manager": {
                  "url": "https://ssl.gstatic.com/colaboratory-static/widgets/colab-cdn-widget-manager/d2e234f7cc04bf79/manager.min.js"
                }
              }
            }
          },
          "output_type": "display_data"
        }
      ],
      "source": [
        "satellite_basemap = ipyleaflet.basemap_to_tiles(\n",
        "    ipyleaflet.basemaps.Esri.WorldImagery)\n",
        "\n",
        "def synchronize_maps(map_list):\n",
        "  \"\"\"Synchromizes the center and zoom of a list of map objects.\"\"\"\n",
        "  for m in map_list[1:]:\n",
        "    widgets.link((map_list[0], 'center'), (m, 'center'))\n",
        "    widgets.link((map_list[0], 'zoom'), (m, 'zoom'))\n",
        "\n",
        "def create_drawable_map(name, color):\n",
        "  # TODO: generalize map init params\n",
        "  m = Map(**map_init_params_malaysia)\n",
        "\n",
        "  draw_control = ipyleaflet.DrawControl()\n",
        "  draw_control.polyline =  {}\n",
        "  draw_control.polygon = {\n",
        "      \"shapeOptions\": {\n",
        "          \"fillColor\": color,\n",
        "          \"color\": \"#6be5c3\",\n",
        "          \"fillOpacity\": 1.0\n",
        "      },\n",
        "      \"drawError\": {\n",
        "          \"color\": \"#dd253b\",\n",
        "          \"message\": \"Oups!\"\n",
        "      },\n",
        "      \"allowIntersection\": False\n",
        "  }\n",
        "  draw_control.circlemarker = {}\n",
        "  m.add_control(draw_control)\n",
        "  return {'map': m,\n",
        "          'draw control': draw_control}\n",
        "\n",
        "training_classes = [\n",
        "  {'name': 'Oil palm', 'color': '#FF0000'},\n",
        "  {'name': 'Other vegetation', 'color': '#00FF00'},\n",
        "  {'name': 'Non-vegetation', 'color': '#0000FF'},\n",
        "]\n",
        "\n",
        "# Create maps, draw_control objects, and labels.\n",
        "label_list = []\n",
        "map_list = []\n",
        "draw_control_list = []\n",
        "for count, tc in enumerate(training_classes):\n",
        "  label_list.append(widgets.HTML(f'<h1>Class {count} ({tc[\"name\"]})</H1>'))\n",
        "  map_artifacts = create_drawable_map(**tc)\n",
        "  map_list.append(map_artifacts['map'])\n",
        "  draw_control_list.append(map_artifacts['draw control'])\n",
        "synchronize_maps(map_list)\n",
        "\n",
        "flat_list = [item for sublist in zip(label_list, map_list) for item in sublist]\n",
        "widgets.GridBox(children=flat_list,\n",
        "        layout=widgets.Layout(\n",
        "            width='100%',\n",
        "            grid_template_rows='auto auto',\n",
        "            grid_template_columns='30% 70%',\n",
        "        )\n",
        ")"
      ]
    },
    {
      "cell_type": "code",
      "execution_count": null,
      "metadata": {
        "colab": {
          "base_uri": "https://localhost:8080/"
        },
        "id": "3ig8GklwV4Mz",
        "outputId": "a0ceb07b-07d5-4f33-db3e-2140031987e1"
      },
      "outputs": [
        {
          "name": "stdout",
          "output_type": "stream",
          "text": [
            "[[[[[101.321699, 2.87925], [101.299654, 2.864379], [101.323005, 2.847774], [101.321699, 2.87925]]]], [[[[101.577279, 2.724443], [101.567574, 2.732669], [101.561317, 2.724378], [101.577279, 2.724443]]]], [[[[101.573628, 2.811228], [101.577988, 2.802662], [101.584407, 2.805474], [101.582822, 2.811246], [101.578365, 2.813179], [101.573628, 2.811228]]]]]\n"
          ]
        }
      ],
      "source": [
        "# Extract a list of polygon coordinates.\n",
        "poly_coords = []\n",
        "for i, name in enumerate(training_classes):\n",
        "  poly_coords.append(\n",
        "      [poly['geometry']['coordinates']\n",
        "       for poly in draw_control_list[i].data]\n",
        "  )\n",
        "print(poly_coords)"
      ]
    },
    {
      "cell_type": "code",
      "execution_count": null,
      "metadata": {
        "id": "Lvn2qXvaWFN8"
      },
      "outputs": [],
      "source": [
        "# Extract points for each class.\n",
        "extracted_points = []\n",
        "for i, aoi in enumerate(poly_coords):\n",
        "  extracted_points.append(\n",
        "      ee.Image(i).rename(class_property).sample(\n",
        "        region=ee.Geometry.Polygon(aoi[0]),\n",
        "        scale=10,\n",
        "        numPixels=100,\n",
        "        dropNulls=True,\n",
        "        geometries=True,\n",
        "      )\n",
        "  )\n",
        "sample_points = ee.FeatureCollection(extracted_points).flatten()"
      ]
    },
    {
      "cell_type": "code",
      "execution_count": null,
      "metadata": {
        "colab": {
          "base_uri": "https://localhost:8080/"
        },
        "id": "Sv5Gb4eGW_w2",
        "outputId": "1c3233f2-3464-4e3b-b292-883cd98178cb"
      },
      "outputs": [
        {
          "name": "stdout",
          "output_type": "stream",
          "text": [
            "Confusion Matrix = [[24, 2, 1], [0, 27, 0], [0, 0, 19]]\n",
            "Accuracy (overall) = 0.958904109589041\n"
          ]
        }
      ],
      "source": [
        "run_classification(predictors, sample_points)"
      ]
    },
    {
      "cell_type": "markdown",
      "metadata": {
        "id": "vyXQ6R8UpZ4p"
      },
      "source": [
        "---\n",
        "\n",
        "### Your turn\n",
        "\n",
        "Take a few minutes to customize the previous section. Here a few suggestions:\n",
        "\n",
        "1.   Update the location of interest by replacing the `map_init_params_malaysia` parameters.\n",
        "2.   Change the number of classes used for classification, by modifying the `training_classes` variable.\n",
        "3.   Change the number of points that are extracted for each class, to see if it significantly changes the accuracy (`numPixels=100`)\n",
        "\n",
        "---"
      ]
    },
    {
      "cell_type": "markdown",
      "metadata": {
        "id": "tS5q4AxMWZN_"
      },
      "source": [
        "## Using LUCAS training data\n",
        "\n",
        "In this section we are going to use training data obtained from the European Union's [Land Use/Cover Area frame Survey (LUCAS)](https://developers.google.com/earth-engine/datasets/catalog/JRC_LUCAS_HARMO_THLOC_V1) dataset as inputs for the classifier."
      ]
    },
    {
      "cell_type": "code",
      "execution_count": null,
      "metadata": {
        "cellView": "form",
        "colab": {
          "base_uri": "https://localhost:8080/",
          "height": 646
        },
        "id": "0-Fboa5FANAl",
        "outputId": "490d53e6-74c0-43f1-d3fc-6c8311fd7599"
      },
      "outputs": [
        {
          "data": {
            "image/png": "[encoded data removed]",
            "text/plain": [
              "<IPython.core.display.Image object>"
            ]
          },
          "metadata": {},
          "output_type": "display_data"
        }
      ],
      "source": [
        "#@title Classification Flowchart (LUCAS training data)\n",
        "lucas_graph = pydot.Dot(label='classification (LUCAS samples)',\n",
        "                       graph_type='digraph',\n",
        "                       bgcolor='white')\n",
        "lucas_graph.add_subgraph(cluster_classification)\n",
        "lucas_graph.add_node(create_node(obj_name='lucas',\n",
        "                           desc='LUCAS sample points',\n",
        "                           style='filled',\n",
        "                           fillcolor='lightyellow'))\n",
        "lucas_graph.add_node(create_node(obj_name='dw',\n",
        "                           desc='Dynamic World Class Probabilities'))\n",
        "lucas_graph.add_edge(pydot.Edge('lucas', 'sample_points'))\n",
        "lucas_graph.add_edge(pydot.Edge('dw', 'predictors'))\n",
        "view_pydot(lucas_graph)"
      ]
    },
    {
      "cell_type": "code",
      "execution_count": null,
      "metadata": {
        "id": "dfsojPcwUtn3"
      },
      "outputs": [],
      "source": [
        "lucas = ee.FeatureCollection(\"JRC/LUCAS_HARMO/THLOC/V1\")"
      ]
    },
    {
      "cell_type": "code",
      "execution_count": null,
      "metadata": {
        "id": "09k20Bs7TQag"
      },
      "outputs": [],
      "source": [
        "start_date = '2020-04-01'\n",
        "end_date = '2020-10-01'"
      ]
    },
    {
      "cell_type": "code",
      "execution_count": null,
      "metadata": {
        "id": "vcXeKaLeUfBc"
      },
      "outputs": [],
      "source": [
        "lucas_filtered = (lucas\n",
        "    .filter(ee.Filter.eq('year', 2018))\n",
        "    .filter(ee.Filter.eq('letter_group', 'B')) # land cover filter\n",
        "    .filter(ee.Filter.eq('lu1', 'U111'))       # land use filter\n",
        ")"
      ]
    },
    {
      "cell_type": "markdown",
      "metadata": {
        "id": "AsJGDDs-W36X"
      },
      "source": [
        "Each LUCAS sample point contains a lot of attributes/metadata, as can be seen from the following sample:"
      ]
    },
    {
      "cell_type": "code",
      "execution_count": null,
      "metadata": {
        "colab": {
          "base_uri": "https://localhost:8080/"
        },
        "id": "Yr6Jw1GhWmah",
        "outputId": "05690b48-55cf-4f78-d2df-1ade6c2c3ba9"
      },
      "outputs": [
        {
          "data": {
            "text/plain": [
              "{'type': 'Feature',\n",
              " 'geometry': {'type': 'Point',\n",
              "  'coordinates': [-7.898597437313982, 42.22526122515939]},\n",
              " 'id': '00000000000000001959',\n",
              " 'properties': {'bio_sample': False,\n",
              "  'bulk0_10_sample': False,\n",
              "  'bulk10_20_sample': False,\n",
              "  'bulk20_30_sample': False,\n",
              "  'car_ew': 'West',\n",
              "  'car_latitude': 42.225084,\n",
              "  'car_longitude': 7.898871898651123,\n",
              "  'cprn_cando': True,\n",
              "  'cprn_impervious_perc': 0,\n",
              "  'cprn_lc': 'B1',\n",
              "  'cprn_lc1e_brdth': 70,\n",
              "  'cprn_lc1e_next': 'C1',\n",
              "  'cprn_lc1n': 10,\n",
              "  'cprn_lc1n_brdth': 60,\n",
              "  'cprn_lc1n_next': 'A2',\n",
              "  'cprn_lc1s_brdth': 80,\n",
              "  'cprn_lc1s_next': 'E2',\n",
              "  'cprn_lc1w_brdth': 80,\n",
              "  'cprn_lc1w_next': 'A2',\n",
              "  'cprn_lc_label': 'Cereals',\n",
              "  'cprn_urban': False,\n",
              "  'cprnc_lc1e': 30,\n",
              "  'cprnc_lc1s': 30,\n",
              "  'cprnc_lc1w': 10,\n",
              "  'crop_residues': False,\n",
              "  'erosion_cando': True,\n",
              "  'eunis_complex': '',\n",
              "  'ex_ante': False,\n",
              "  'feature_width': '',\n",
              "  'file_path_gisco_east': 'https://gisco-services.ec.europa.eu/lucas/photos/2018/ES/285/423/28542300E.jpg',\n",
              "  'file_path_gisco_north': 'https://gisco-services.ec.europa.eu/lucas/photos/2018/ES/285/423/28542300N.jpg',\n",
              "  'file_path_gisco_point': 'https://gisco-services.ec.europa.eu/lucas/photos/2018/ES/285/423/28542300P.jpg',\n",
              "  'file_path_gisco_south': 'https://gisco-services.ec.europa.eu/lucas/photos/2018/ES/285/423/28542300S.jpg',\n",
              "  'file_path_gisco_west': 'https://gisco-services.ec.europa.eu/lucas/photos/2018/ES/285/423/28542300W.jpg',\n",
              "  'gps_altitude': 531,\n",
              "  'gps_ew': 'West',\n",
              "  'gps_lat': 42.22526168823242,\n",
              "  'gps_long': 7.898611068725586,\n",
              "  'gps_prec': 6,\n",
              "  'gps_proj': 'WGS84',\n",
              "  'grass_cando': False,\n",
              "  'grassland_sample': False,\n",
              "  'grazing': 'No signs of grazing',\n",
              "  'id': 229888,\n",
              "  'inspire_plcc1': None,\n",
              "  'inspire_plcc2': None,\n",
              "  'inspire_plcc3': None,\n",
              "  'inspire_plcc4': None,\n",
              "  'inspire_plcc5': None,\n",
              "  'inspire_plcc6': None,\n",
              "  'inspire_plcc7': None,\n",
              "  'inspire_plcc8': None,\n",
              "  'lc1': 'B11',\n",
              "  'lc1_label': 'Common wheat',\n",
              "  'lc1_perc': '> 75 %',\n",
              "  'lc1_spec': '',\n",
              "  'lc1_spec_label': '',\n",
              "  'lc2': '',\n",
              "  'lc2_label': '',\n",
              "  'lc2_perc': '',\n",
              "  'lc2_spec': '',\n",
              "  'lc2_spec_label': '',\n",
              "  'lc_lu_special_remark': 'No remark',\n",
              "  'letter_group': 'B',\n",
              "  'lm_grass_margins': '> 1 m width',\n",
              "  'lm_stone_walls': 'No',\n",
              "  'lu1': 'U111',\n",
              "  'lu1_label': 'Agriculture (excluding fallow land and kitchen gardens)',\n",
              "  'lu1_perc': '> 90 %',\n",
              "  'lu1_type': '',\n",
              "  'lu1_type_label': '',\n",
              "  'lu2': '',\n",
              "  'lu2_label': '',\n",
              "  'lu2_perc': '',\n",
              "  'lu2_type': '',\n",
              "  'lu2_type_label': '',\n",
              "  'nuts0': 'ES',\n",
              "  'nuts1': 'ES1',\n",
              "  'nuts2': 'ES11',\n",
              "  'nuts3': 'ES113',\n",
              "  'obs_direct': 'On the point',\n",
              "  'obs_dist': 1,\n",
              "  'obs_radius': None,\n",
              "  'obs_type': 'In situ < 100 m',\n",
              "  'office_pi': False,\n",
              "  'organic_sample': False,\n",
              "  'parcel_area_ha': '0.5 - 1 ha',\n",
              "  'photo_east': 'Photo taken',\n",
              "  'photo_north': 'Photo taken',\n",
              "  'photo_point': 'Photo taken',\n",
              "  'photo_south': 'Photo taken',\n",
              "  'photo_west': 'Photo taken',\n",
              "  'point_id': 28542300,\n",
              "  'revisit': 5,\n",
              "  'soil_bio_taken': False,\n",
              "  'soil_blk_0_10_taken': False,\n",
              "  'soil_blk_10_20_taken': False,\n",
              "  'soil_blk_20_30_taken': False,\n",
              "  'soil_crop': '',\n",
              "  'soil_org_depth_cando': False,\n",
              "  'soil_std_taken': True,\n",
              "  'soil_stones_perc': '< 10 %',\n",
              "  'soil_taken': '',\n",
              "  'special_status': 'Hunting',\n",
              "  'standard_sample': True,\n",
              "  'survey_date': '07/06/18',\n",
              "  'th_gps_dist': 1.07465738,\n",
              "  'transect': '',\n",
              "  'tree_height_maturity': '',\n",
              "  'tree_height_survey': '',\n",
              "  'wm': 'No visible water management',\n",
              "  'wm_delivery': '',\n",
              "  'wm_source': '',\n",
              "  'wm_type': '',\n",
              "  'year': 2018}}"
            ]
          },
          "execution_count": 91,
          "metadata": {},
          "output_type": "execute_result"
        }
      ],
      "source": [
        "sample = lucas_filtered.first()\n",
        "sample.getInfo()"
      ]
    },
    {
      "cell_type": "code",
      "execution_count": null,
      "metadata": {
        "id": "OiopJI4LlDrB"
      },
      "outputs": [],
      "source": [
        "def print_lucas_land_cover_class_histogram(lucas_samples):\n",
        "  def temp_func(f):\n",
        "    combo = (ee.String('[')\n",
        "               .cat(ee.String(f.get('lc1')))\n",
        "               .cat('] ')\n",
        "               .cat(ee.String(f.get('lc1_label'))))\n",
        "    return f.set('lc1_combo', combo)\n",
        "\n",
        "  print('available LUCAS land cover classes histogram:')\n",
        "  pprint(lucas_samples.map(temp_func)\n",
        "                      .aggregate_histogram('lc1_combo').getInfo())\n",
        "\n",
        "#print_lucas_land_cover_class_histogram(lucas_filtered)"
      ]
    },
    {
      "cell_type": "code",
      "execution_count": null,
      "metadata": {
        "id": "2zZTrzGZSeQs"
      },
      "outputs": [],
      "source": [
        "def extract_lucas_sample_points(\n",
        "    class1,\n",
        "    class2,\n",
        "    maxSamplesPerClass):\n",
        "\n",
        "  ######################################################\n",
        "  # Define the sample locations\n",
        "\n",
        "  samples = lucas_filtered.select(\n",
        "      ['lc1', 'lc1_label', 'letter_group', 'lu1', 'lu1_label'])\n",
        "\n",
        "  # Select class samples & add properties for classification.\n",
        "  filter_a = ee.Filter.eq('lc1_label', class1)\n",
        "  class_a = samples.filter(filter_a)\n",
        "  class_a = class_a.map(\n",
        "      lambda f: f.set(class_property, 0).set(class_desc, class1)\n",
        "  ).limit(maxSamplesPerClass)\n",
        "\n",
        "  filter_b = ee.Filter.eq('lc1_label', class2)\n",
        "  class_b = samples.filter(filter_b)\n",
        "  class_b = class_b.map(\n",
        "    lambda f: f.set(class_property, 1).set(class_desc, class2)\n",
        "  ).limit(maxSamplesPerClass);\n",
        "\n",
        "  class_c = samples.filter(ee.Filter.Or(filter_a, filter_b).Not())\n",
        "  class_c = class_c.map(\n",
        "    lambda f: f.set(class_property, 2).set(class_desc, 'other agriculture')\n",
        "  ).limit(maxSamplesPerClass)\n",
        "\n",
        "  sample_points = class_a.merge(class_b).merge(class_c);\n",
        "\n",
        "  return sample_points"
      ]
    },
    {
      "cell_type": "code",
      "execution_count": null,
      "metadata": {
        "colab": {
          "base_uri": "https://localhost:8080/"
        },
        "id": "4oVhA2j_S4r4",
        "outputId": "ff6538c7-353c-4ab6-8d27-9fb843098ecd"
      },
      "outputs": [
        {
          "name": "stdout",
          "output_type": "stream",
          "text": [
            "sample class histogram: = {'Olive groves': 100, 'Potatoes': 100, 'other agriculture': 100}\n"
          ]
        }
      ],
      "source": [
        "sample_points = extract_lucas_sample_points('Potatoes', 'Olive groves', 100)\n",
        "# sample_points.getInfo()\n",
        "\n",
        "print(f'sample class histogram: = '\n",
        "      f'{sample_points.aggregate_histogram(class_desc).getInfo()}')"
      ]
    },
    {
      "cell_type": "code",
      "execution_count": null,
      "metadata": {
        "colab": {
          "background_save": true
        },
        "id": "0D3vKuHOUXGs",
        "outputId": "eee70666-beb5-48ea-a24b-276afa7ab2a5"
      },
      "outputs": [
        {
          "name": "stdout",
          "output_type": "stream",
          "text": [
            "Confusion Matrix = [[20, 2, 3], [11, 21, 1], [4, 0, 21]]\n",
            "Accuracy (overall) = 0.7469879518072289\n"
          ]
        }
      ],
      "source": [
        "run_classification(predictors, sample_points)"
      ]
    },
    {
      "cell_type": "markdown",
      "metadata": {
        "id": "-vsDzFbWqmFm"
      },
      "source": [
        "---\n",
        "\n",
        "### Your turn\n",
        "\n",
        "Take a few minutes to customize the previous section. Here a few suggestions:\n",
        "\n",
        "1.   Change the LUCAS classes that you try to train on by altering the class names passed to `extract_lucas_sample_points()`. What kind of accuracy do you get when trying to classify similar types of agriculture?\n",
        "3.   Change the number of points that are extracted for each class, to see if it significantly changes the accuracy (`maxSamplesPerClass`)\n",
        "\n",
        "---"
      ]
    },
    {
      "cell_type": "markdown",
      "metadata": {
        "id": "wjEAg6kx7DMy"
      },
      "source": [
        "<a name=\"resources\"></a>\n",
        "# Additional Resources\n",
        "\n",
        "To learn more about Dynamic World, here some resources:\n",
        "\n",
        "* Dynamic World website: [dynamicworld.app](dynamicworld.app)\n",
        "* [Geo for Good 2022 session](https://earthoutreachonair.withgoogle.com/events/geoforgood22?talk=day3-tracktwo-talk1) (2 hours of video recording, featuring hands-on exploration in the Code Editor)\n",
        "* Earth Engine Documentation tutorial: [Introduction to Dynamic World](https://developers.google.com/earth-engine/tutorials/community/introduction-to-dynamic-world-pt-1)"
      ]
    }
  ],
  "metadata": {
    "colab": {
      "provenance": [],
      "toc_visible": true,
      "include_colab_link": true
    },
    "kernelspec": {
      "display_name": "Python 3",
      "name": "python3"
    },
    "language_info": {
      "name": "python"
    },
    "widgets": {
      "application/vnd.jupyter.widget-state+json": {
        "00bb2d7bd52e417ab06b1a3b2fd82a91": {
          "model_module": "@jupyter-widgets/controls",
          "model_module_version": "1.5.0",
          "model_name": "VBoxModel",
          "state": {
            "_dom_classes": [],
            "_model_module": "@jupyter-widgets/controls",
            "_model_module_version": "1.5.0",
            "_model_name": "VBoxModel",
            "_view_count": null,
            "_view_module": "@jupyter-widgets/controls",
            "_view_module_version": "1.5.0",
            "_view_name": "VBoxView",
            "box_style": "",
            "children": [
              "IPY_MODEL_d8d843d2b0794ed3895677fd79c09af1",
              "IPY_MODEL_f5f522ae15594d279cacca188328f5b4"
            ],
            "layout": "IPY_MODEL_4d86f5b91dae451eae818a323a2cd47c"
          }
        },
        "011a592630314c00ae22fd788dc3f617": {
          "model_module": "jupyter-leaflet",
          "model_module_version": "^0.17",
          "model_name": "LeafletMapStyleModel",
          "state": {
            "_model_module": "jupyter-leaflet",
            "_model_module_version": "^0.17",
            "_model_name": "LeafletMapStyleModel",
            "_view_count": null,
            "_view_module": "@jupyter-widgets/base",
            "_view_module_version": "1.2.0",
            "_view_name": "StyleView",
            "cursor": "move"
          }
        },
        "012844b4a83b49da9974ee02784b2b9e": {
          "model_module": "@jupyter-widgets/base",
          "model_module_version": "1.2.0",
          "model_name": "LayoutModel",
          "state": {
            "_model_module": "@jupyter-widgets/base",
            "_model_module_version": "1.2.0",
            "_model_name": "LayoutModel",
            "_view_count": null,
            "_view_module": "@jupyter-widgets/base",
            "_view_module_version": "1.2.0",
            "_view_name": "LayoutView",
            "align_content": null,
            "align_items": null,
            "align_self": null,
            "border": null,
            "bottom": null,
            "display": null,
            "flex": null,
            "flex_flow": null,
            "grid_area": null,
            "grid_auto_columns": null,
            "grid_auto_flow": null,
            "grid_auto_rows": null,
            "grid_column": null,
            "grid_gap": null,
            "grid_row": null,
            "grid_template_areas": null,
            "grid_template_columns": null,
            "grid_template_rows": null,
            "height": null,
            "justify_content": null,
            "justify_items": null,
            "left": null,
            "margin": null,
            "max_height": null,
            "max_width": null,
            "min_height": null,
            "min_width": null,
            "object_fit": null,
            "object_position": null,
            "order": null,
            "overflow": null,
            "overflow_x": null,
            "overflow_y": null,
            "padding": null,
            "right": null,
            "top": null,
            "visibility": null,
            "width": "100%"
          }
        },
        "03f61c84c5024e39ab1caf0441e8c840": {
          "model_module": "jupyter-leaflet",
          "model_module_version": "^0.17",
          "model_name": "LeafletMapStyleModel",
          "state": {
            "_model_module": "jupyter-leaflet",
            "_model_module_version": "^0.17",
            "_model_name": "LeafletMapStyleModel",
            "_view_count": null,
            "_view_module": "@jupyter-widgets/base",
            "_view_module_version": "1.2.0",
            "_view_name": "StyleView",
            "cursor": "move"
          }
        },
        "056447a6d8364898869751d28ae6f200": {
          "model_module": "jupyter-leaflet",
          "model_module_version": "^0.17",
          "model_name": "LeafletMapStyleModel",
          "state": {
            "_model_module": "jupyter-leaflet",
            "_model_module_version": "^0.17",
            "_model_name": "LeafletMapStyleModel",
            "_view_count": null,
            "_view_module": "@jupyter-widgets/base",
            "_view_module_version": "1.2.0",
            "_view_name": "StyleView",
            "cursor": "crosshair"
          }
        },
        "05a48e54a84349049a473c706530a8ca": {
          "model_module": "ipytree",
          "model_module_version": "^0.2",
          "model_name": "NodeModel",
          "state": {
            "_id": "9d2bd67f-f6e1-494f-b95d-4ac53c0eab6a",
            "_model_module": "ipytree",
            "_model_module_version": "^0.2",
            "_model_name": "NodeModel",
            "_view_count": null,
            "_view_module": "ipytree",
            "_view_module_version": "^0.2",
            "_view_name": "NodeView",
            "close_icon": "minus",
            "close_icon_style": "default",
            "disabled": true,
            "icon": "archive",
            "icon_image": "",
            "icon_style": "default",
            "name": "Pixels",
            "nodes": [],
            "open_icon": "plus",
            "open_icon_style": "default",
            "opened": true,
            "selected": false,
            "show_icon": true
          }
        },
        "06c8230eaecc40d995ae8e53a4a7ae68": {
          "model_module": "@jupyter-widgets/controls",
          "model_module_version": "1.5.0",
          "model_name": "SliderStyleModel",
          "state": {
            "_model_module": "@jupyter-widgets/controls",
            "_model_module_version": "1.5.0",
            "_model_name": "SliderStyleModel",
            "_view_count": null,
            "_view_module": "@jupyter-widgets/base",
            "_view_module_version": "1.2.0",
            "_view_name": "StyleView",
            "description_width": "",
            "handle_color": null
          }
        },
        "07c416af1ac64f97aa611e8f322e27d9": {
          "model_module": "@jupyter-widgets/controls",
          "model_module_version": "1.5.0",
          "model_name": "HBoxModel",
          "state": {
            "_dom_classes": [],
            "_model_module": "@jupyter-widgets/controls",
            "_model_module_version": "1.5.0",
            "_model_name": "HBoxModel",
            "_view_count": null,
            "_view_module": "@jupyter-widgets/controls",
            "_view_module_version": "1.5.0",
            "_view_name": "HBoxView",
            "box_style": "",
            "children": [
              "IPY_MODEL_7a4921ce738342bc9afcafdd1f1304af",
              "IPY_MODEL_5e681081e8a9473daa3c743b401bcc49"
            ],
            "layout": "IPY_MODEL_82e020980c1a46e5859524511ad1d809"
          }
        },
        "07e096947ca24021890cc448af0a5098": {
          "model_module": "@jupyter-widgets/controls",
          "model_module_version": "1.5.0",
          "model_name": "HBoxModel",
          "state": {
            "_dom_classes": [],
            "_model_module": "@jupyter-widgets/controls",
            "_model_module_version": "1.5.0",
            "_model_name": "HBoxModel",
            "_view_count": null,
            "_view_module": "@jupyter-widgets/controls",
            "_view_module_version": "1.5.0",
            "_view_name": "HBoxView",
            "box_style": "",
            "children": [
              "IPY_MODEL_db351fc9cb634cf38ecf95abb91301f7",
              "IPY_MODEL_1ac40a363bda4f62ab6968b623bc1a91"
            ],
            "layout": "IPY_MODEL_ca956bbe47a244f4aeb339a3362ddb6b"
          }
        },
        "07fcc2378acd4fd297db8f238ec8cd5b": {
          "model_module": "@jupyter-widgets/controls",
          "model_module_version": "1.5.0",
          "model_name": "FloatSliderModel",
          "state": {
            "_dom_classes": [],
            "_model_module": "@jupyter-widgets/controls",
            "_model_module_version": "1.5.0",
            "_model_name": "FloatSliderModel",
            "_view_count": null,
            "_view_module": "@jupyter-widgets/controls",
            "_view_module_version": "1.5.0",
            "_view_name": "FloatSliderView",
            "continuous_update": true,
            "description": "",
            "description_tooltip": null,
            "disabled": false,
            "layout": "IPY_MODEL_9d778ba25f664d18bfb83f377db3d2be",
            "max": 100,
            "min": 0,
            "orientation": "horizontal",
            "readout": false,
            "readout_format": ".2f",
            "step": 0.1,
            "style": "IPY_MODEL_06c8230eaecc40d995ae8e53a4a7ae68",
            "value": 50
          }
        },
        "0a6aab5ef2874a659b3125337ac4e8a4": {
          "model_module": "@jupyter-widgets/base",
          "model_module_version": "1.2.0",
          "model_name": "LayoutModel",
          "state": {
            "_model_module": "@jupyter-widgets/base",
            "_model_module_version": "1.2.0",
            "_model_name": "LayoutModel",
            "_view_count": null,
            "_view_module": "@jupyter-widgets/base",
            "_view_module_version": "1.2.0",
            "_view_name": "LayoutView",
            "align_content": null,
            "align_items": null,
            "align_self": null,
            "border": null,
            "bottom": null,
            "display": null,
            "flex": null,
            "flex_flow": null,
            "grid_area": null,
            "grid_auto_columns": null,
            "grid_auto_flow": null,
            "grid_auto_rows": null,
            "grid_column": null,
            "grid_gap": null,
            "grid_row": null,
            "grid_template_areas": null,
            "grid_template_columns": null,
            "grid_template_rows": null,
            "height": null,
            "justify_content": null,
            "justify_items": null,
            "left": null,
            "margin": null,
            "max_height": null,
            "max_width": null,
            "min_height": null,
            "min_width": null,
            "object_fit": null,
            "object_position": null,
            "order": null,
            "overflow": null,
            "overflow_x": null,
            "overflow_y": null,
            "padding": null,
            "right": null,
            "top": null,
            "visibility": null,
            "width": null
          }
        },
        "0a8b494bae2145089667aef93a55446d": {
          "model_module": "jupyter-leaflet",
          "model_module_version": "^0.17",
          "model_name": "LeafletAttributionControlModel",
          "state": {
            "_model_module": "jupyter-leaflet",
            "_model_module_version": "^0.17",
            "_model_name": "LeafletAttributionControlModel",
            "_view_count": null,
            "_view_module": "jupyter-leaflet",
            "_view_module_version": "^0.17",
            "_view_name": "LeafletAttributionControlView",
            "options": [
              "position",
              "prefix"
            ],
            "position": "bottomright",
            "prefix": "ipyleaflet"
          }
        },
        "0e141b926a2c46d5b38e3b5c267ffdeb": {
          "model_module": "@jupyter-widgets/base",
          "model_module_version": "1.2.0",
          "model_name": "LayoutModel",
          "state": {
            "_model_module": "@jupyter-widgets/base",
            "_model_module_version": "1.2.0",
            "_model_name": "LayoutModel",
            "_view_count": null,
            "_view_module": "@jupyter-widgets/base",
            "_view_module_version": "1.2.0",
            "_view_name": "LayoutView",
            "align_content": null,
            "align_items": null,
            "align_self": null,
            "border": null,
            "bottom": null,
            "display": null,
            "flex": null,
            "flex_flow": null,
            "grid_area": null,
            "grid_auto_columns": null,
            "grid_auto_flow": null,
            "grid_auto_rows": null,
            "grid_column": null,
            "grid_gap": null,
            "grid_row": null,
            "grid_template_areas": null,
            "grid_template_columns": null,
            "grid_template_rows": null,
            "height": null,
            "justify_content": null,
            "justify_items": null,
            "left": null,
            "margin": null,
            "max_height": null,
            "max_width": null,
            "min_height": null,
            "min_width": null,
            "object_fit": null,
            "object_position": null,
            "order": null,
            "overflow": null,
            "overflow_x": null,
            "overflow_y": null,
            "padding": null,
            "right": null,
            "top": null,
            "visibility": null,
            "width": "100%"
          }
        },
        "0ef80d5c1dee43dc930b670568f27e71": {
          "model_module": "@jupyter-widgets/controls",
          "model_module_version": "1.5.0",
          "model_name": "LabelModel",
          "state": {
            "_dom_classes": [],
            "_model_module": "@jupyter-widgets/controls",
            "_model_module_version": "1.5.0",
            "_model_name": "LabelModel",
            "_view_count": null,
            "_view_module": "@jupyter-widgets/controls",
            "_view_module_version": "1.5.0",
            "_view_name": "LabelView",
            "description": "",
            "description_tooltip": null,
            "layout": "IPY_MODEL_63df475b8eeb4de7b74a36178b790d77",
            "placeholder": "​",
            "style": "IPY_MODEL_fa734d758ec247ddbd6bb5005474f2e3",
            "value": "Before Composite"
          }
        },
        "0fabfd1bedce4f3a9f7e54c229c60deb": {
          "model_module": "jupyter-leaflet",
          "model_module_version": "^0.17",
          "model_name": "LeafletAttributionControlModel",
          "state": {
            "_model_module": "jupyter-leaflet",
            "_model_module_version": "^0.17",
            "_model_name": "LeafletAttributionControlModel",
            "_view_count": null,
            "_view_module": "jupyter-leaflet",
            "_view_module_version": "^0.17",
            "_view_name": "LeafletAttributionControlView",
            "options": [
              "position",
              "prefix"
            ],
            "position": "bottomright",
            "prefix": "ipyleaflet"
          }
        },
        "1343045329f74dd296cc36b4b30f4df6": {
          "model_module": "@jupyter-widgets/controls",
          "model_module_version": "1.5.0",
          "model_name": "FloatSliderModel",
          "state": {
            "_dom_classes": [],
            "_model_module": "@jupyter-widgets/controls",
            "_model_module_version": "1.5.0",
            "_model_name": "FloatSliderModel",
            "_view_count": null,
            "_view_module": "@jupyter-widgets/controls",
            "_view_module_version": "1.5.0",
            "_view_name": "FloatSliderView",
            "continuous_update": true,
            "description": "",
            "description_tooltip": null,
            "disabled": false,
            "layout": "IPY_MODEL_6752b087c1da45789d85cc9189ae102e",
            "max": 100,
            "min": 0,
            "orientation": "horizontal",
            "readout": false,
            "readout_format": ".2f",
            "step": 0.1,
            "style": "IPY_MODEL_40f12ea413bd4b12a9b9538668ed78a0",
            "value": 50
          }
        },
        "137b818bb835476b8ef5b40d05ce2ee7": {
          "model_module": "jupyter-leaflet",
          "model_module_version": "^0.17",
          "model_name": "LeafletTileLayerModel",
          "state": {
            "_model_module": "jupyter-leaflet",
            "_model_module_version": "^0.17",
            "_model_name": "LeafletTileLayerModel",
            "_view_count": null,
            "_view_module": "jupyter-leaflet",
            "_view_module_version": "^0.17",
            "_view_name": "LeafletTileLayerView",
            "attribution": null,
            "base": false,
            "bottom": true,
            "bounds": null,
            "detect_retina": false,
            "loading": false,
            "max_native_zoom": null,
            "max_zoom": 18,
            "min_native_zoom": null,
            "min_zoom": 0,
            "name": "classification",
            "no_wrap": false,
            "opacity": 1,
            "options": [
              "attribution",
              "bounds",
              "detect_retina",
              "max_native_zoom",
              "max_zoom",
              "min_native_zoom",
              "min_zoom",
              "no_wrap",
              "tile_size",
              "tms",
              "zoom_offset"
            ],
            "pane": "",
            "popup": null,
            "popup_max_height": null,
            "popup_max_width": 300,
            "popup_min_width": 50,
            "show_loading": false,
            "subitems": [],
            "tile_size": 256,
            "tms": false,
            "url": "https://earthengine.googleapis.com/v1alpha/projects/agu22-eetemp/maps/12e3848fc6c4f90d4898292c869aa409-78ac7afec681f438a0fef603fffec864/tiles/{z}/{x}/{y}",
            "visible": false,
            "zoom_offset": 0
          }
        },
        "162b54d2bc054cf4b596693653d5d9f1": {
          "model_module": "@jupyter-widgets/base",
          "model_module_version": "1.2.0",
          "model_name": "LayoutModel",
          "state": {
            "_model_module": "@jupyter-widgets/base",
            "_model_module_version": "1.2.0",
            "_model_name": "LayoutModel",
            "_view_count": null,
            "_view_module": "@jupyter-widgets/base",
            "_view_module_version": "1.2.0",
            "_view_name": "LayoutView",
            "align_content": null,
            "align_items": null,
            "align_self": null,
            "border": null,
            "bottom": null,
            "display": null,
            "flex": null,
            "flex_flow": null,
            "grid_area": null,
            "grid_auto_columns": null,
            "grid_auto_flow": null,
            "grid_auto_rows": null,
            "grid_column": null,
            "grid_gap": null,
            "grid_row": null,
            "grid_template_areas": null,
            "grid_template_columns": null,
            "grid_template_rows": null,
            "height": null,
            "justify_content": null,
            "justify_items": null,
            "left": null,
            "margin": null,
            "max_height": null,
            "max_width": null,
            "min_height": null,
            "min_width": null,
            "object_fit": null,
            "object_position": null,
            "order": null,
            "overflow": null,
            "overflow_x": null,
            "overflow_y": null,
            "padding": null,
            "right": null,
            "top": null,
            "visibility": null,
            "width": "100%"
          }
        },
        "16454e9a47214c82964c85fa11bef18c": {
          "model_module": "jupyter-leaflet",
          "model_module_version": "^0.17",
          "model_name": "LeafletZoomControlModel",
          "state": {
            "_model_module": "jupyter-leaflet",
            "_model_module_version": "^0.17",
            "_model_name": "LeafletZoomControlModel",
            "_view_count": null,
            "_view_module": "jupyter-leaflet",
            "_view_module_version": "^0.17",
            "_view_name": "LeafletZoomControlView",
            "options": [
              "position",
              "zoom_in_text",
              "zoom_in_title",
              "zoom_out_text",
              "zoom_out_title"
            ],
            "position": "topleft",
            "zoom_in_text": "+",
            "zoom_in_title": "Zoom in",
            "zoom_out_text": "-",
            "zoom_out_title": "Zoom out"
          }
        },
        "165d2641c26f4a9cb51423144a9a7ba2": {
          "model_module": "jupyter-leaflet",
          "model_module_version": "^0.17",
          "model_name": "LeafletMapStyleModel",
          "state": {
            "_model_module": "jupyter-leaflet",
            "_model_module_version": "^0.17",
            "_model_name": "LeafletMapStyleModel",
            "_view_count": null,
            "_view_module": "@jupyter-widgets/base",
            "_view_module_version": "1.2.0",
            "_view_name": "StyleView",
            "cursor": "move"
          }
        },
        "17927feef661440f95f1237fa641bebc": {
          "model_module": "@jupyter-widgets/controls",
          "model_module_version": "1.5.0",
          "model_name": "HTMLModel",
          "state": {
            "_dom_classes": [],
            "_model_module": "@jupyter-widgets/controls",
            "_model_module_version": "1.5.0",
            "_model_name": "HTMLModel",
            "_view_count": null,
            "_view_module": "@jupyter-widgets/controls",
            "_view_module_version": "1.5.0",
            "_view_name": "HTMLView",
            "description": "",
            "description_tooltip": null,
            "layout": "IPY_MODEL_ae37065925ba4dc3b09c3d26276170e1",
            "placeholder": "​",
            "style": "IPY_MODEL_32b78d4a53554b07846c85a3b2bec52e",
            "value": "<h1>Class 1 (Other vegetation)</H1>"
          }
        },
        "1860f660c5564996a07f1abc1f9e35e4": {
          "model_module": "@jupyter-widgets/base",
          "model_module_version": "1.2.0",
          "model_name": "LayoutModel",
          "state": {
            "_model_module": "@jupyter-widgets/base",
            "_model_module_version": "1.2.0",
            "_model_name": "LayoutModel",
            "_view_count": null,
            "_view_module": "@jupyter-widgets/base",
            "_view_module_version": "1.2.0",
            "_view_name": "LayoutView",
            "align_content": null,
            "align_items": null,
            "align_self": null,
            "border": null,
            "bottom": null,
            "display": null,
            "flex": null,
            "flex_flow": null,
            "grid_area": null,
            "grid_auto_columns": null,
            "grid_auto_flow": null,
            "grid_auto_rows": null,
            "grid_column": null,
            "grid_gap": null,
            "grid_row": null,
            "grid_template_areas": null,
            "grid_template_columns": null,
            "grid_template_rows": null,
            "height": null,
            "justify_content": null,
            "justify_items": null,
            "left": null,
            "margin": null,
            "max_height": null,
            "max_width": null,
            "min_height": null,
            "min_width": null,
            "object_fit": null,
            "object_position": null,
            "order": null,
            "overflow": null,
            "overflow_x": null,
            "overflow_y": null,
            "padding": null,
            "right": null,
            "top": null,
            "visibility": null,
            "width": "100%"
          }
        },
        "18c82bf08d67419489f1408c203bce38": {
          "model_module": "jupyter-leaflet",
          "model_module_version": "^0.17",
          "model_name": "LeafletLayersControlModel",
          "state": {
            "_model_module": "jupyter-leaflet",
            "_model_module_version": "^0.17",
            "_model_name": "LeafletLayersControlModel",
            "_view_count": null,
            "_view_module": "jupyter-leaflet",
            "_view_module_version": "^0.17",
            "_view_name": "LeafletLayersControlView",
            "options": [
              "position"
            ],
            "position": "topright"
          }
        },
        "199c617ec6ae4043b114e2f6265a2bbb": {
          "model_module": "@jupyter-widgets/controls",
          "model_module_version": "1.5.0",
          "model_name": "VBoxModel",
          "state": {
            "_dom_classes": [],
            "_model_module": "@jupyter-widgets/controls",
            "_model_module_version": "1.5.0",
            "_model_name": "VBoxModel",
            "_view_count": null,
            "_view_module": "@jupyter-widgets/controls",
            "_view_module_version": "1.5.0",
            "_view_name": "VBoxView",
            "box_style": "",
            "children": [
              "IPY_MODEL_380e3a3177804be7ac56a2e831591ef9",
              "IPY_MODEL_ca1cb94298ae4a719d2b4b167d4362ad"
            ],
            "layout": "IPY_MODEL_74216286708048e3b333be285f755a56"
          }
        },
        "19dd689b556545088b25a487a2b69ebb": {
          "model_module": "@jupyter-widgets/base",
          "model_module_version": "1.2.0",
          "model_name": "LayoutModel",
          "state": {
            "_model_module": "@jupyter-widgets/base",
            "_model_module_version": "1.2.0",
            "_model_name": "LayoutModel",
            "_view_count": null,
            "_view_module": "@jupyter-widgets/base",
            "_view_module_version": "1.2.0",
            "_view_name": "LayoutView",
            "align_content": null,
            "align_items": null,
            "align_self": null,
            "border": null,
            "bottom": null,
            "display": null,
            "flex": null,
            "flex_flow": null,
            "grid_area": null,
            "grid_auto_columns": null,
            "grid_auto_flow": null,
            "grid_auto_rows": null,
            "grid_column": null,
            "grid_gap": null,
            "grid_row": null,
            "grid_template_areas": null,
            "grid_template_columns": null,
            "grid_template_rows": null,
            "height": null,
            "justify_content": null,
            "justify_items": null,
            "left": null,
            "margin": null,
            "max_height": null,
            "max_width": null,
            "min_height": null,
            "min_width": null,
            "object_fit": null,
            "object_position": null,
            "order": null,
            "overflow": null,
            "overflow_x": null,
            "overflow_y": null,
            "padding": null,
            "right": null,
            "top": null,
            "visibility": null,
            "width": "100%"
          }
        },
        "1a36e340578449439c909cf8a8588a5e": {
          "model_module": "jupyter-leaflet",
          "model_module_version": "^0.17",
          "model_name": "LeafletMapStyleModel",
          "state": {
            "_model_module": "jupyter-leaflet",
            "_model_module_version": "^0.17",
            "_model_name": "LeafletMapStyleModel",
            "_view_count": null,
            "_view_module": "@jupyter-widgets/base",
            "_view_module_version": "1.2.0",
            "_view_name": "StyleView",
            "cursor": "crosshair"
          }
        },
        "1a64021495d345b8b039aa151157fb94": {
          "model_module": "jupyter-leaflet",
          "model_module_version": "^0.17",
          "model_name": "LeafletMapStyleModel",
          "state": {
            "_model_module": "jupyter-leaflet",
            "_model_module_version": "^0.17",
            "_model_name": "LeafletMapStyleModel",
            "_view_count": null,
            "_view_module": "@jupyter-widgets/base",
            "_view_module_version": "1.2.0",
            "_view_name": "StyleView",
            "cursor": "crosshair"
          }
        },
        "1ab7dea2a8d24796be9c670b585f4667": {
          "model_module": "@jupyter-widgets/base",
          "model_module_version": "1.2.0",
          "model_name": "LayoutModel",
          "state": {
            "_model_module": "@jupyter-widgets/base",
            "_model_module_version": "1.2.0",
            "_model_name": "LayoutModel",
            "_view_count": null,
            "_view_module": "@jupyter-widgets/base",
            "_view_module_version": "1.2.0",
            "_view_name": "LayoutView",
            "align_content": null,
            "align_items": null,
            "align_self": null,
            "border": null,
            "bottom": null,
            "display": null,
            "flex": null,
            "flex_flow": null,
            "grid_area": null,
            "grid_auto_columns": null,
            "grid_auto_flow": null,
            "grid_auto_rows": null,
            "grid_column": null,
            "grid_gap": null,
            "grid_row": null,
            "grid_template_areas": null,
            "grid_template_columns": null,
            "grid_template_rows": null,
            "height": null,
            "justify_content": null,
            "justify_items": null,
            "left": null,
            "margin": null,
            "max_height": "400px",
            "max_width": null,
            "min_height": null,
            "min_width": null,
            "object_fit": null,
            "object_position": null,
            "order": null,
            "overflow": "scroll",
            "overflow_x": null,
            "overflow_y": null,
            "padding": null,
            "right": null,
            "top": null,
            "visibility": null,
            "width": "50.0%"
          }
        },
        "1ac3f9dcf6a8444c855807168b427986": {
          "model_module": "@jupyter-widgets/base",
          "model_module_version": "1.2.0",
          "model_name": "LayoutModel",
          "state": {
            "_model_module": "@jupyter-widgets/base",
            "_model_module_version": "1.2.0",
            "_model_name": "LayoutModel",
            "_view_count": null,
            "_view_module": "@jupyter-widgets/base",
            "_view_module_version": "1.2.0",
            "_view_name": "LayoutView",
            "align_content": null,
            "align_items": null,
            "align_self": null,
            "border": null,
            "bottom": null,
            "display": null,
            "flex": null,
            "flex_flow": null,
            "grid_area": null,
            "grid_auto_columns": null,
            "grid_auto_flow": null,
            "grid_auto_rows": null,
            "grid_column": null,
            "grid_gap": null,
            "grid_row": null,
            "grid_template_areas": null,
            "grid_template_columns": null,
            "grid_template_rows": null,
            "height": null,
            "justify_content": null,
            "justify_items": null,
            "left": null,
            "margin": null,
            "max_height": "400px",
            "max_width": null,
            "min_height": null,
            "min_width": null,
            "object_fit": null,
            "object_position": null,
            "order": null,
            "overflow": "scroll",
            "overflow_x": null,
            "overflow_y": null,
            "padding": null,
            "right": null,
            "top": null,
            "visibility": null,
            "width": "50.0%"
          }
        },
        "1ac40a363bda4f62ab6968b623bc1a91": {
          "model_module": "ipytree",
          "model_module_version": "^0.2",
          "model_name": "TreeModel",
          "state": {
            "_dom_classes": [],
            "_id": "#",
            "_model_module": "ipytree",
            "_model_module_version": "^0.2",
            "_model_name": "TreeModel",
            "_view_count": null,
            "_view_module": "ipytree",
            "_view_module_version": "^0.2",
            "_view_name": "TreeView",
            "animation": 200,
            "layout": "IPY_MODEL_f8566cb32a824647a9c8b23673397939",
            "multiple_selection": true,
            "nodes": [
              "IPY_MODEL_48e7f553b77949d98d7a0486ecd007fc",
              "IPY_MODEL_6aa5f954978743d1886590563709b93d",
              "IPY_MODEL_57e06d8e77ce45ff9fb9fc830b2cee32"
            ],
            "selected_nodes": []
          }
        },
        "1b38aaf951c5424893c275bc4dd71962": {
          "model_module": "jupyter-leaflet",
          "model_module_version": "^0.17",
          "model_name": "LeafletMapModel",
          "state": {
            "_dom_classes": [],
            "_model_module": "jupyter-leaflet",
            "_model_module_version": "^0.17",
            "_model_name": "LeafletMapModel",
            "_view_count": null,
            "_view_module": "jupyter-leaflet",
            "_view_module_version": "^0.17",
            "_view_name": "LeafletMapView",
            "bottom": 2064719,
            "bounce_at_zoom_limits": true,
            "box_zoom": true,
            "center": [
              2.799797939089166,
              101.57701492309572
            ],
            "close_popup_on_click": true,
            "controls": [
              "IPY_MODEL_16454e9a47214c82964c85fa11bef18c",
              "IPY_MODEL_4ec8bffac65447e98918c3c0b491384b",
              "IPY_MODEL_5381db2ab28c4e3e95488b78923eb104",
              "IPY_MODEL_b8647aebb1a941bcb629edabec119ddb"
            ],
            "crs": {
              "custom": false,
              "name": "EPSG3857"
            },
            "default_style": "IPY_MODEL_5668ae199045477a9abcfc520c479b8e",
            "double_click_zoom": true,
            "dragging": true,
            "dragging_style": "IPY_MODEL_aa45f561faf44bc38318271bf42719d4",
            "east": 101.59589767456056,
            "fullscreen": false,
            "inertia": true,
            "inertia_deceleration": 3000,
            "inertia_max_speed": 1500,
            "interpolation": "bilinear",
            "keyboard": true,
            "keyboard_pan_offset": 80,
            "keyboard_zoom_offset": 1,
            "layers": [
              "IPY_MODEL_b328075c7b814ab2a233e5e5b106e3f2"
            ],
            "layout": "IPY_MODEL_162b54d2bc054cf4b596693653d5d9f1",
            "left": 3280390,
            "max_zoom": null,
            "min_zoom": null,
            "modisdate": "2022-12-13",
            "north": 2.816943460015673,
            "options": [
              "bounce_at_zoom_limits",
              "box_zoom",
              "center",
              "close_popup_on_click",
              "double_click_zoom",
              "dragging",
              "fullscreen",
              "inertia",
              "inertia_deceleration",
              "inertia_max_speed",
              "interpolation",
              "keyboard",
              "keyboard_pan_offset",
              "keyboard_zoom_offset",
              "max_zoom",
              "min_zoom",
              "prefer_canvas",
              "scroll_wheel_zoom",
              "tap",
              "tap_tolerance",
              "touch_zoom",
              "world_copy_jump",
              "zoom",
              "zoom_animation_threshold",
              "zoom_delta",
              "zoom_snap"
            ],
            "panes": {},
            "prefer_canvas": false,
            "right": 3280830,
            "scroll_wheel_zoom": false,
            "south": 2.7826521672428095,
            "style": "IPY_MODEL_5668ae199045477a9abcfc520c479b8e",
            "tap": true,
            "tap_tolerance": 15,
            "top": 2064319,
            "touch_zoom": true,
            "west": 101.55813217163087,
            "window_url": "https://o1sj2ys0a3g-496ff2e9c6d22116-0-colab.googleusercontent.com/outputframe.html?vrz=colab-20221213-060111-RC00_494987091",
            "world_copy_jump": false,
            "zoom": 14,
            "zoom_animation_threshold": 4,
            "zoom_delta": 1,
            "zoom_snap": 1
          }
        },
        "1b5176674fa448a49e75dac30386cbee": {
          "model_module": "jupyter-leaflet",
          "model_module_version": "^0.17",
          "model_name": "LeafletMapStyleModel",
          "state": {
            "_model_module": "jupyter-leaflet",
            "_model_module_version": "^0.17",
            "_model_name": "LeafletMapStyleModel",
            "_view_count": null,
            "_view_module": "@jupyter-widgets/base",
            "_view_module_version": "1.2.0",
            "_view_name": "StyleView",
            "cursor": "grab"
          }
        },
        "1ba10f9b15eb44769a48a90a5b8f5d01": {
          "model_module": "@jupyter-widgets/controls",
          "model_module_version": "1.5.0",
          "model_name": "HBoxModel",
          "state": {
            "_dom_classes": [],
            "_model_module": "@jupyter-widgets/controls",
            "_model_module_version": "1.5.0",
            "_model_name": "HBoxModel",
            "_view_count": null,
            "_view_module": "@jupyter-widgets/controls",
            "_view_module_version": "1.5.0",
            "_view_name": "HBoxView",
            "box_style": "",
            "children": [
              "IPY_MODEL_65a24806e1f2487ca285d8f0e4870f6e",
              "IPY_MODEL_199c617ec6ae4043b114e2f6265a2bbb",
              "IPY_MODEL_94d1580992b1419483d666b0a2c45bab"
            ],
            "layout": "IPY_MODEL_0a6aab5ef2874a659b3125337ac4e8a4"
          }
        },
        "1cdd0749c6d94462b3268905dc15388e": {
          "model_module": "jupyter-leaflet",
          "model_module_version": "^0.17",
          "model_name": "LeafletZoomControlModel",
          "state": {
            "_model_module": "jupyter-leaflet",
            "_model_module_version": "^0.17",
            "_model_name": "LeafletZoomControlModel",
            "_view_count": null,
            "_view_module": "jupyter-leaflet",
            "_view_module_version": "^0.17",
            "_view_name": "LeafletZoomControlView",
            "options": [
              "position",
              "zoom_in_text",
              "zoom_in_title",
              "zoom_out_text",
              "zoom_out_title"
            ],
            "position": "topleft",
            "zoom_in_text": "+",
            "zoom_in_title": "Zoom in",
            "zoom_out_text": "-",
            "zoom_out_title": "Zoom out"
          }
        },
        "211c6202e5894f98a20340eb4a0e2ef3": {
          "model_module": "@jupyter-widgets/base",
          "model_module_version": "1.2.0",
          "model_name": "LayoutModel",
          "state": {
            "_model_module": "@jupyter-widgets/base",
            "_model_module_version": "1.2.0",
            "_model_name": "LayoutModel",
            "_view_count": null,
            "_view_module": "@jupyter-widgets/base",
            "_view_module_version": "1.2.0",
            "_view_name": "LayoutView",
            "align_content": null,
            "align_items": null,
            "align_self": null,
            "border": null,
            "bottom": null,
            "display": null,
            "flex": null,
            "flex_flow": null,
            "grid_area": null,
            "grid_auto_columns": null,
            "grid_auto_flow": null,
            "grid_auto_rows": null,
            "grid_column": null,
            "grid_gap": null,
            "grid_row": null,
            "grid_template_areas": null,
            "grid_template_columns": null,
            "grid_template_rows": null,
            "height": null,
            "justify_content": null,
            "justify_items": null,
            "left": null,
            "margin": null,
            "max_height": null,
            "max_width": null,
            "min_height": null,
            "min_width": null,
            "object_fit": null,
            "object_position": null,
            "order": null,
            "overflow": null,
            "overflow_x": null,
            "overflow_y": null,
            "padding": null,
            "right": null,
            "top": null,
            "visibility": null,
            "width": null
          }
        },
        "21adf319065b477e8c23a4f36aeebb8e": {
          "model_module": "@jupyter-widgets/base",
          "model_module_version": "1.2.0",
          "model_name": "LayoutModel",
          "state": {
            "_model_module": "@jupyter-widgets/base",
            "_model_module_version": "1.2.0",
            "_model_name": "LayoutModel",
            "_view_count": null,
            "_view_module": "@jupyter-widgets/base",
            "_view_module_version": "1.2.0",
            "_view_name": "LayoutView",
            "align_content": null,
            "align_items": null,
            "align_self": null,
            "border": null,
            "bottom": null,
            "display": null,
            "flex": null,
            "flex_flow": null,
            "grid_area": null,
            "grid_auto_columns": null,
            "grid_auto_flow": null,
            "grid_auto_rows": null,
            "grid_column": null,
            "grid_gap": null,
            "grid_row": null,
            "grid_template_areas": null,
            "grid_template_columns": null,
            "grid_template_rows": null,
            "height": null,
            "justify_content": null,
            "justify_items": null,
            "left": null,
            "margin": null,
            "max_height": null,
            "max_width": null,
            "min_height": null,
            "min_width": null,
            "object_fit": null,
            "object_position": null,
            "order": null,
            "overflow": null,
            "overflow_x": null,
            "overflow_y": null,
            "padding": null,
            "right": null,
            "top": null,
            "visibility": null,
            "width": "100%"
          }
        },
        "2375539ad23445c3b640406b2ee21cfc": {
          "model_module": "jupyter-leaflet",
          "model_module_version": "^0.17",
          "model_name": "LeafletMapStyleModel",
          "state": {
            "_model_module": "jupyter-leaflet",
            "_model_module_version": "^0.17",
            "_model_name": "LeafletMapStyleModel",
            "_view_count": null,
            "_view_module": "@jupyter-widgets/base",
            "_view_module_version": "1.2.0",
            "_view_name": "StyleView",
            "cursor": "grab"
          }
        },
        "2396dcfa64d9486e9be848310e41df8f": {
          "model_module": "jupyter-leaflet",
          "model_module_version": "^0.17",
          "model_name": "LeafletMapModel",
          "state": {
            "_dom_classes": [],
            "_model_module": "jupyter-leaflet",
            "_model_module_version": "^0.17",
            "_model_name": "LeafletMapModel",
            "_view_count": null,
            "_view_module": "jupyter-leaflet",
            "_view_module_version": "^0.17",
            "_view_name": "LeafletMapView",
            "bottom": 486466,
            "bounce_at_zoom_limits": true,
            "box_zoom": true,
            "center": [
              12.942208526432214,
              77.5868323785926
            ],
            "close_popup_on_click": true,
            "controls": [
              "IPY_MODEL_ecdfd3a83a6841ebacd44c8a11edf14a",
              "IPY_MODEL_b465b45722f945c88bea0983afa7efd1",
              "IPY_MODEL_3978f261a46d432b8a62c6d7ba7c4acc"
            ],
            "crs": {
              "custom": false,
              "name": "EPSG3857"
            },
            "default_style": "IPY_MODEL_4e98329db4c74825be31ff02fc4ee14e",
            "double_click_zoom": true,
            "dragging": true,
            "dragging_style": "IPY_MODEL_dd3f10274e7240b6893a83535ececf42",
            "east": 77.6232147216797,
            "fullscreen": false,
            "inertia": true,
            "inertia_deceleration": 3000,
            "inertia_max_speed": 1500,
            "interpolation": "bilinear",
            "keyboard": true,
            "keyboard_pan_offset": 80,
            "keyboard_zoom_offset": 1,
            "layers": [
              "IPY_MODEL_c1cf0b66ff11425587ae7e3188d31e0d",
              "IPY_MODEL_b328075c7b814ab2a233e5e5b106e3f2",
              "IPY_MODEL_d12da6cbbe4f4de299f854cf55d75f8f",
              "IPY_MODEL_d5fe0d57610d4fb1bffc21b792b789d5",
              "IPY_MODEL_63ef4c5a485041d2895bbdeaafe4f6b8",
              "IPY_MODEL_de35f20539354824aca56806796de545"
            ],
            "layout": "IPY_MODEL_81e886c57a524933b92c0a6319824223",
            "left": 750172,
            "max_zoom": null,
            "min_zoom": null,
            "modisdate": "2022-12-13",
            "north": 13.009240942902053,
            "options": [
              "bounce_at_zoom_limits",
              "box_zoom",
              "center",
              "close_popup_on_click",
              "double_click_zoom",
              "dragging",
              "fullscreen",
              "inertia",
              "inertia_deceleration",
              "inertia_max_speed",
              "interpolation",
              "keyboard",
              "keyboard_pan_offset",
              "keyboard_zoom_offset",
              "max_zoom",
              "min_zoom",
              "prefer_canvas",
              "scroll_wheel_zoom",
              "tap",
              "tap_tolerance",
              "touch_zoom",
              "world_copy_jump",
              "zoom",
              "zoom_animation_threshold",
              "zoom_delta",
              "zoom_snap"
            ],
            "panes": {},
            "prefer_canvas": false,
            "right": 750382,
            "scroll_wheel_zoom": false,
            "south": 12.875400579691565,
            "style": "IPY_MODEL_4e98329db4c74825be31ff02fc4ee14e",
            "tap": true,
            "tap_tolerance": 15,
            "top": 486066,
            "touch_zoom": true,
            "west": 77.55111694335938,
            "window_url": "https://o1sj2ys0a3g-496ff2e9c6d22116-0-colab.googleusercontent.com/outputframe.html?vrz=colab-20221213-060111-RC00_494987091",
            "world_copy_jump": false,
            "zoom": 12,
            "zoom_animation_threshold": 4,
            "zoom_delta": 1,
            "zoom_snap": 1
          }
        },
        "2439139ac2a34ec28ddd301a0c91886c": {
          "model_module": "jupyter-leaflet",
          "model_module_version": "^0.17",
          "model_name": "LeafletTileLayerModel",
          "state": {
            "_model_module": "jupyter-leaflet",
            "_model_module_version": "^0.17",
            "_model_name": "LeafletTileLayerModel",
            "_view_count": null,
            "_view_module": "jupyter-leaflet",
            "_view_module_version": "^0.17",
            "_view_name": "LeafletTileLayerView",
            "attribution": null,
            "base": false,
            "bottom": true,
            "bounds": null,
            "detect_retina": false,
            "loading": false,
            "max_native_zoom": null,
            "max_zoom": 18,
            "min_native_zoom": null,
            "min_zoom": 0,
            "name": "Layer 1",
            "no_wrap": false,
            "opacity": 1,
            "options": [
              "attribution",
              "bounds",
              "detect_retina",
              "max_native_zoom",
              "max_zoom",
              "min_native_zoom",
              "min_zoom",
              "no_wrap",
              "tile_size",
              "tms",
              "zoom_offset"
            ],
            "pane": "",
            "popup": null,
            "popup_max_height": null,
            "popup_max_width": 300,
            "popup_min_width": 50,
            "show_loading": false,
            "subitems": [],
            "tile_size": 256,
            "tms": false,
            "url": "https://earthengine.googleapis.com/v1alpha/projects/agu22-eetemp/maps/91384805f2cb360fc7e42f0c6b1fc558-f84da5f35aecf9414cacac26028c303a/tiles/{z}/{x}/{y}",
            "visible": true,
            "zoom_offset": 0
          }
        },
        "262872652e4548a6bb924a9ab13d8907": {
          "model_module": "jupyter-leaflet",
          "model_module_version": "^0.17",
          "model_name": "LeafletMapStyleModel",
          "state": {
            "_model_module": "jupyter-leaflet",
            "_model_module_version": "^0.17",
            "_model_name": "LeafletMapStyleModel",
            "_view_count": null,
            "_view_module": "@jupyter-widgets/base",
            "_view_module_version": "1.2.0",
            "_view_name": "StyleView",
            "cursor": "crosshair"
          }
        },
        "28292e70c5fe4d42a61605d003614f48": {
          "model_module": "jupyter-leaflet",
          "model_module_version": "^0.17",
          "model_name": "LeafletTileLayerModel",
          "state": {
            "_model_module": "jupyter-leaflet",
            "_model_module_version": "^0.17",
            "_model_name": "LeafletTileLayerModel",
            "_view_count": null,
            "_view_module": "jupyter-leaflet",
            "_view_module_version": "^0.17",
            "_view_name": "LeafletTileLayerView",
            "attribution": null,
            "base": false,
            "bottom": true,
            "bounds": null,
            "detect_retina": false,
            "loading": false,
            "max_native_zoom": null,
            "max_zoom": 18,
            "min_native_zoom": null,
            "min_zoom": 0,
            "name": "After S2",
            "no_wrap": false,
            "opacity": 1,
            "options": [
              "attribution",
              "bounds",
              "detect_retina",
              "max_native_zoom",
              "max_zoom",
              "min_native_zoom",
              "min_zoom",
              "no_wrap",
              "tile_size",
              "tms",
              "zoom_offset"
            ],
            "pane": "",
            "popup": null,
            "popup_max_height": null,
            "popup_max_width": 300,
            "popup_min_width": 50,
            "show_loading": false,
            "subitems": [],
            "tile_size": 256,
            "tms": false,
            "url": "https://earthengine.googleapis.com/v1alpha/projects/agu22-eetemp/maps/a828494622e4f087ac5c53bc81129ee0-c33473ac16272f16e922eeb2dc6af2cd/tiles/{z}/{x}/{y}",
            "visible": true,
            "zoom_offset": 0
          }
        },
        "2953e73539c849f191e057509230dc74": {
          "model_module": "@jupyter-widgets/controls",
          "model_module_version": "1.5.0",
          "model_name": "DescriptionStyleModel",
          "state": {
            "_model_module": "@jupyter-widgets/controls",
            "_model_module_version": "1.5.0",
            "_model_name": "DescriptionStyleModel",
            "_view_count": null,
            "_view_module": "@jupyter-widgets/base",
            "_view_module_version": "1.2.0",
            "_view_name": "StyleView",
            "description_width": ""
          }
        },
        "2ad26b06649e415bbe1906d835a629e7": {
          "model_module": "@jupyter-widgets/base",
          "model_module_version": "1.2.0",
          "model_name": "LayoutModel",
          "state": {
            "_model_module": "@jupyter-widgets/base",
            "_model_module_version": "1.2.0",
            "_model_name": "LayoutModel",
            "_view_count": null,
            "_view_module": "@jupyter-widgets/base",
            "_view_module_version": "1.2.0",
            "_view_name": "LayoutView",
            "align_content": null,
            "align_items": null,
            "align_self": null,
            "border": null,
            "bottom": null,
            "display": null,
            "flex": null,
            "flex_flow": null,
            "grid_area": null,
            "grid_auto_columns": null,
            "grid_auto_flow": null,
            "grid_auto_rows": null,
            "grid_column": null,
            "grid_gap": null,
            "grid_row": null,
            "grid_template_areas": null,
            "grid_template_columns": null,
            "grid_template_rows": null,
            "height": null,
            "justify_content": null,
            "justify_items": null,
            "left": null,
            "margin": null,
            "max_height": null,
            "max_width": null,
            "min_height": null,
            "min_width": null,
            "object_fit": null,
            "object_position": null,
            "order": null,
            "overflow": null,
            "overflow_x": null,
            "overflow_y": null,
            "padding": null,
            "right": null,
            "top": null,
            "visibility": null,
            "width": null
          }
        },
        "2c2af256047a4bc290e8f0ad361696e4": {
          "model_module": "@jupyter-widgets/base",
          "model_module_version": "1.2.0",
          "model_name": "LayoutModel",
          "state": {
            "_model_module": "@jupyter-widgets/base",
            "_model_module_version": "1.2.0",
            "_model_name": "LayoutModel",
            "_view_count": null,
            "_view_module": "@jupyter-widgets/base",
            "_view_module_version": "1.2.0",
            "_view_name": "LayoutView",
            "align_content": null,
            "align_items": null,
            "align_self": null,
            "border": null,
            "bottom": null,
            "display": null,
            "flex": null,
            "flex_flow": null,
            "grid_area": null,
            "grid_auto_columns": null,
            "grid_auto_flow": null,
            "grid_auto_rows": null,
            "grid_column": null,
            "grid_gap": null,
            "grid_row": null,
            "grid_template_areas": null,
            "grid_template_columns": null,
            "grid_template_rows": null,
            "height": null,
            "justify_content": null,
            "justify_items": null,
            "left": null,
            "margin": null,
            "max_height": null,
            "max_width": null,
            "min_height": null,
            "min_width": null,
            "object_fit": null,
            "object_position": null,
            "order": null,
            "overflow": null,
            "overflow_x": null,
            "overflow_y": null,
            "padding": null,
            "right": null,
            "top": null,
            "visibility": null,
            "width": "50.0%"
          }
        },
        "2fa0273075a34d12b74c1a5d13a43c93": {
          "model_module": "@jupyter-widgets/base",
          "model_module_version": "1.2.0",
          "model_name": "LayoutModel",
          "state": {
            "_model_module": "@jupyter-widgets/base",
            "_model_module_version": "1.2.0",
            "_model_name": "LayoutModel",
            "_view_count": null,
            "_view_module": "@jupyter-widgets/base",
            "_view_module_version": "1.2.0",
            "_view_name": "LayoutView",
            "align_content": null,
            "align_items": null,
            "align_self": null,
            "border": null,
            "bottom": null,
            "display": null,
            "flex": null,
            "flex_flow": null,
            "grid_area": null,
            "grid_auto_columns": null,
            "grid_auto_flow": null,
            "grid_auto_rows": null,
            "grid_column": null,
            "grid_gap": null,
            "grid_row": null,
            "grid_template_areas": null,
            "grid_template_columns": null,
            "grid_template_rows": null,
            "height": null,
            "justify_content": null,
            "justify_items": null,
            "left": null,
            "margin": null,
            "max_height": null,
            "max_width": null,
            "min_height": null,
            "min_width": null,
            "object_fit": null,
            "object_position": null,
            "order": null,
            "overflow": null,
            "overflow_x": null,
            "overflow_y": null,
            "padding": null,
            "right": null,
            "top": null,
            "visibility": null,
            "width": null
          }
        },
        "30a315fe74814531b2cf480ed20c4c5d": {
          "model_module": "jupyter-leaflet",
          "model_module_version": "^0.17",
          "model_name": "LeafletTileLayerModel",
          "state": {
            "_model_module": "jupyter-leaflet",
            "_model_module_version": "^0.17",
            "_model_name": "LeafletTileLayerModel",
            "_view_count": null,
            "_view_module": "jupyter-leaflet",
            "_view_module_version": "^0.17",
            "_view_name": "LeafletTileLayerView",
            "attribution": null,
            "base": false,
            "bottom": true,
            "bounds": null,
            "detect_retina": false,
            "loading": false,
            "max_native_zoom": null,
            "max_zoom": 18,
            "min_native_zoom": null,
            "min_zoom": 0,
            "name": "Probability Hillshade",
            "no_wrap": false,
            "opacity": 1,
            "options": [
              "attribution",
              "bounds",
              "detect_retina",
              "max_native_zoom",
              "max_zoom",
              "min_native_zoom",
              "min_zoom",
              "no_wrap",
              "tile_size",
              "tms",
              "zoom_offset"
            ],
            "pane": "",
            "popup": null,
            "popup_max_height": null,
            "popup_max_width": 300,
            "popup_min_width": 50,
            "show_loading": false,
            "subitems": [],
            "tile_size": 256,
            "tms": false,
            "url": "https://earthengine.googleapis.com/v1alpha/projects/agu22-eetemp/maps/1fd084bbd450de3d206148fa151fdbc1-be6e23c66ce2300f6106fc852959ec24/tiles/{z}/{x}/{y}",
            "visible": true,
            "zoom_offset": 0
          }
        },
        "32b78d4a53554b07846c85a3b2bec52e": {
          "model_module": "@jupyter-widgets/controls",
          "model_module_version": "1.5.0",
          "model_name": "DescriptionStyleModel",
          "state": {
            "_model_module": "@jupyter-widgets/controls",
            "_model_module_version": "1.5.0",
            "_model_name": "DescriptionStyleModel",
            "_view_count": null,
            "_view_module": "@jupyter-widgets/base",
            "_view_module_version": "1.2.0",
            "_view_name": "StyleView",
            "description_width": ""
          }
        },
        "334901d4314846d1a68d137eecf10d77": {
          "model_module": "jupyter-leaflet",
          "model_module_version": "^0.17",
          "model_name": "LeafletMapModel",
          "state": {
            "_dom_classes": [],
            "_model_module": "jupyter-leaflet",
            "_model_module_version": "^0.17",
            "_model_name": "LeafletMapModel",
            "_view_count": null,
            "_view_module": "jupyter-leaflet",
            "_view_module_version": "^0.17",
            "_view_name": "LeafletMapView",
            "bottom": 97158,
            "bounce_at_zoom_limits": true,
            "box_zoom": true,
            "center": [
              42.36103,
              -72.28525
            ],
            "close_popup_on_click": true,
            "controls": [
              "IPY_MODEL_5a6dfa9d6cc5419fbfeb23f1ec8c1738",
              "IPY_MODEL_efc3e6b887a94d8d902a2517fe2292d9",
              "IPY_MODEL_773d5f6d2416425193490f6fed26a8b6"
            ],
            "crs": {
              "custom": false,
              "name": "EPSG3857"
            },
            "default_style": "IPY_MODEL_1a64021495d345b8b039aa151157fb94",
            "double_click_zoom": true,
            "dragging": true,
            "dragging_style": "IPY_MODEL_dd9ab0bddc5a443081aaf691c0cc0f8d",
            "east": -71.85333251953126,
            "fullscreen": false,
            "inertia": true,
            "inertia_deceleration": 3000,
            "inertia_max_speed": 1500,
            "interpolation": "bilinear",
            "keyboard": true,
            "keyboard_pan_offset": 80,
            "keyboard_zoom_offset": 1,
            "layers": [
              "IPY_MODEL_553c9d67327f43d29f306b6523bdb558",
              "IPY_MODEL_933e958087204f90b27348b154d38ff8"
            ],
            "layout": "IPY_MODEL_012844b4a83b49da9974ee02784b2b9e",
            "left": 78121,
            "max_zoom": null,
            "min_zoom": null,
            "modisdate": "2022-12-13",
            "north": 42.563195832927384,
            "options": [
              "bounce_at_zoom_limits",
              "box_zoom",
              "center",
              "close_popup_on_click",
              "double_click_zoom",
              "dragging",
              "fullscreen",
              "inertia",
              "inertia_deceleration",
              "inertia_max_speed",
              "interpolation",
              "keyboard",
              "keyboard_pan_offset",
              "keyboard_zoom_offset",
              "max_zoom",
              "min_zoom",
              "prefer_canvas",
              "scroll_wheel_zoom",
              "tap",
              "tap_tolerance",
              "touch_zoom",
              "world_copy_jump",
              "zoom",
              "zoom_animation_threshold",
              "zoom_delta",
              "zoom_snap"
            ],
            "panes": {},
            "prefer_canvas": false,
            "right": 78750,
            "scroll_wheel_zoom": false,
            "south": 42.157295553651664,
            "style": "IPY_MODEL_99513c42917a4733a097f658ae9a68c8",
            "tap": true,
            "tap_tolerance": 15,
            "top": 96758,
            "touch_zoom": true,
            "west": -72.71713256835939,
            "window_url": "https://o1sj2ys0a3g-496ff2e9c6d22116-0-colab.googleusercontent.com/outputframe.html?vrz=colab-20221213-060111-RC00_494987091",
            "world_copy_jump": false,
            "zoom": 10,
            "zoom_animation_threshold": 4,
            "zoom_delta": 1,
            "zoom_snap": 1
          }
        },
        "33b9a36d3cc94e6ca3c2c451b8305b4c": {
          "model_module": "ipytree",
          "model_module_version": "^0.2",
          "model_name": "NodeModel",
          "state": {
            "_id": "fccaa2ad-8305-4183-81a2-07c942c45091",
            "_model_module": "ipytree",
            "_model_module_version": "^0.2",
            "_model_name": "NodeModel",
            "_view_count": null,
            "_view_module": "ipytree",
            "_view_module_version": "^0.2",
            "_view_name": "NodeView",
            "close_icon": "minus",
            "close_icon_style": "default",
            "disabled": false,
            "icon": "map",
            "icon_image": "",
            "icon_style": "default",
            "name": "Point",
            "nodes": [],
            "open_icon": "plus",
            "open_icon_style": "default",
            "opened": true,
            "selected": false,
            "show_icon": true
          }
        },
        "36093f6022354469a70d6f29069c600c": {
          "model_module": "jupyter-leaflet",
          "model_module_version": "^0.17",
          "model_name": "LeafletLayersControlModel",
          "state": {
            "_model_module": "jupyter-leaflet",
            "_model_module_version": "^0.17",
            "_model_name": "LeafletLayersControlModel",
            "_view_count": null,
            "_view_module": "jupyter-leaflet",
            "_view_module_version": "^0.17",
            "_view_name": "LeafletLayersControlView",
            "options": [
              "position"
            ],
            "position": "topright"
          }
        },
        "36297037e08547d7ba504629528aea4b": {
          "model_module": "ipytree",
          "model_module_version": "^0.2",
          "model_name": "NodeModel",
          "state": {
            "_id": "f9fcda69-b471-48f4-ac65-8530633aab8b",
            "_model_module": "ipytree",
            "_model_module_version": "^0.2",
            "_model_name": "NodeModel",
            "_view_count": null,
            "_view_module": "ipytree",
            "_view_module_version": "^0.2",
            "_view_name": "NodeView",
            "close_icon": "minus",
            "close_icon_style": "default",
            "disabled": false,
            "icon": "map",
            "icon_image": "",
            "icon_style": "default",
            "name": "Point",
            "nodes": [],
            "open_icon": "plus",
            "open_icon_style": "default",
            "opened": true,
            "selected": false,
            "show_icon": true
          }
        },
        "367ea47c57964bab96a5e47610b454d7": {
          "model_module": "@jupyter-widgets/controls",
          "model_module_version": "1.5.0",
          "model_name": "DescriptionStyleModel",
          "state": {
            "_model_module": "@jupyter-widgets/controls",
            "_model_module_version": "1.5.0",
            "_model_name": "DescriptionStyleModel",
            "_view_count": null,
            "_view_module": "@jupyter-widgets/base",
            "_view_module_version": "1.2.0",
            "_view_name": "StyleView",
            "description_width": ""
          }
        },
        "380e3a3177804be7ac56a2e831591ef9": {
          "model_module": "@jupyter-widgets/controls",
          "model_module_version": "1.5.0",
          "model_name": "LabelModel",
          "state": {
            "_dom_classes": [],
            "_model_module": "@jupyter-widgets/controls",
            "_model_module_version": "1.5.0",
            "_model_name": "LabelModel",
            "_view_count": null,
            "_view_module": "@jupyter-widgets/controls",
            "_view_module_version": "1.5.0",
            "_view_name": "LabelView",
            "description": "",
            "description_tooltip": null,
            "layout": "IPY_MODEL_211c6202e5894f98a20340eb4a0e2ef3",
            "placeholder": "​",
            "style": "IPY_MODEL_ebb3047dfa124938b1485be7661164e3",
            "value": "After Composite"
          }
        },
        "392602c7922e4c80b77de8673dce164d": {
          "model_module": "ipytree",
          "model_module_version": "^0.2",
          "model_name": "TreeModel",
          "state": {
            "_dom_classes": [],
            "_id": "#",
            "_model_module": "ipytree",
            "_model_module_version": "^0.2",
            "_model_name": "TreeModel",
            "_view_count": null,
            "_view_module": "ipytree",
            "_view_module_version": "^0.2",
            "_view_name": "TreeView",
            "animation": 200,
            "layout": "IPY_MODEL_3d60cbfbf514479a94f4831febd7482c",
            "multiple_selection": true,
            "nodes": [
              "IPY_MODEL_33b9a36d3cc94e6ca3c2c451b8305b4c",
              "IPY_MODEL_05a48e54a84349049a473c706530a8ca",
              "IPY_MODEL_96a5e22e9d374188a82fffb14853bd9b"
            ],
            "selected_nodes": []
          }
        },
        "3978f261a46d432b8a62c6d7ba7c4acc": {
          "model_module": "jupyter-leaflet",
          "model_module_version": "^0.17",
          "model_name": "LeafletLayersControlModel",
          "state": {
            "_model_module": "jupyter-leaflet",
            "_model_module_version": "^0.17",
            "_model_name": "LeafletLayersControlModel",
            "_view_count": null,
            "_view_module": "jupyter-leaflet",
            "_view_module_version": "^0.17",
            "_view_name": "LeafletLayersControlView",
            "options": [
              "position"
            ],
            "position": "topright"
          }
        },
        "3a0260c7426e4cae9655d83f82578337": {
          "model_module": "ipytree",
          "model_module_version": "^0.2",
          "model_name": "NodeModel",
          "state": {
            "_id": "7f934f38-4e56-4911-9df9-7dd7aa39d9e9",
            "_model_module": "ipytree",
            "_model_module_version": "^0.2",
            "_model_name": "NodeModel",
            "_view_count": null,
            "_view_module": "ipytree",
            "_view_module_version": "^0.2",
            "_view_name": "NodeView",
            "close_icon": "minus",
            "close_icon_style": "default",
            "disabled": true,
            "icon": "archive",
            "icon_image": "",
            "icon_style": "default",
            "name": "Objects",
            "nodes": [],
            "open_icon": "plus",
            "open_icon_style": "default",
            "opened": true,
            "selected": false,
            "show_icon": true
          }
        },
        "3a50886f2b5445b28e81c7f9ca783083": {
          "model_module": "@jupyter-widgets/controls",
          "model_module_version": "1.5.0",
          "model_name": "HTMLModel",
          "state": {
            "_dom_classes": [],
            "_model_module": "@jupyter-widgets/controls",
            "_model_module_version": "1.5.0",
            "_model_name": "HTMLModel",
            "_view_count": null,
            "_view_module": "@jupyter-widgets/controls",
            "_view_module_version": "1.5.0",
            "_view_name": "HTMLView",
            "description": "",
            "description_tooltip": null,
            "layout": "IPY_MODEL_2fa0273075a34d12b74c1a5d13a43c93",
            "placeholder": "​",
            "style": "IPY_MODEL_2953e73539c849f191e057509230dc74",
            "value": "<h1>Class 0 (Oil palm)</H1>"
          }
        },
        "3b5e8e895914419594c50a084e0b1c27": {
          "model_module": "jupyter-leaflet",
          "model_module_version": "^0.17",
          "model_name": "LeafletLayersControlModel",
          "state": {
            "_model_module": "jupyter-leaflet",
            "_model_module_version": "^0.17",
            "_model_name": "LeafletLayersControlModel",
            "_view_count": null,
            "_view_module": "jupyter-leaflet",
            "_view_module_version": "^0.17",
            "_view_name": "LeafletLayersControlView",
            "options": [
              "position"
            ],
            "position": "topright"
          }
        },
        "3c9eb7adf067453c9c9944f458ce0452": {
          "model_module": "jupyter-leaflet",
          "model_module_version": "^0.17",
          "model_name": "LeafletAttributionControlModel",
          "state": {
            "_model_module": "jupyter-leaflet",
            "_model_module_version": "^0.17",
            "_model_name": "LeafletAttributionControlModel",
            "_view_count": null,
            "_view_module": "jupyter-leaflet",
            "_view_module_version": "^0.17",
            "_view_name": "LeafletAttributionControlView",
            "options": [
              "position",
              "prefix"
            ],
            "position": "bottomright",
            "prefix": "ipyleaflet"
          }
        },
        "3d60cbfbf514479a94f4831febd7482c": {
          "model_module": "@jupyter-widgets/base",
          "model_module_version": "1.2.0",
          "model_name": "LayoutModel",
          "state": {
            "_model_module": "@jupyter-widgets/base",
            "_model_module_version": "1.2.0",
            "_model_name": "LayoutModel",
            "_view_count": null,
            "_view_module": "@jupyter-widgets/base",
            "_view_module_version": "1.2.0",
            "_view_name": "LayoutView",
            "align_content": null,
            "align_items": null,
            "align_self": null,
            "border": null,
            "bottom": null,
            "display": null,
            "flex": null,
            "flex_flow": null,
            "grid_area": null,
            "grid_auto_columns": null,
            "grid_auto_flow": null,
            "grid_auto_rows": null,
            "grid_column": null,
            "grid_gap": null,
            "grid_row": null,
            "grid_template_areas": null,
            "grid_template_columns": null,
            "grid_template_rows": null,
            "height": null,
            "justify_content": null,
            "justify_items": null,
            "left": null,
            "margin": null,
            "max_height": "400px",
            "max_width": null,
            "min_height": null,
            "min_width": null,
            "object_fit": null,
            "object_position": null,
            "order": null,
            "overflow": "scroll",
            "overflow_x": null,
            "overflow_y": null,
            "padding": null,
            "right": null,
            "top": null,
            "visibility": null,
            "width": "50.0%"
          }
        },
        "40f12ea413bd4b12a9b9538668ed78a0": {
          "model_module": "@jupyter-widgets/controls",
          "model_module_version": "1.5.0",
          "model_name": "SliderStyleModel",
          "state": {
            "_model_module": "@jupyter-widgets/controls",
            "_model_module_version": "1.5.0",
            "_model_name": "SliderStyleModel",
            "_view_count": null,
            "_view_module": "@jupyter-widgets/base",
            "_view_module_version": "1.2.0",
            "_view_name": "StyleView",
            "description_width": "",
            "handle_color": null
          }
        },
        "41571e56caa94d9a9c4f971f7278d9e0": {
          "model_module": "jupyter-leaflet",
          "model_module_version": "^0.17",
          "model_name": "LeafletMapStyleModel",
          "state": {
            "_model_module": "jupyter-leaflet",
            "_model_module_version": "^0.17",
            "_model_name": "LeafletMapStyleModel",
            "_view_count": null,
            "_view_module": "@jupyter-widgets/base",
            "_view_module_version": "1.2.0",
            "_view_name": "StyleView",
            "cursor": "grab"
          }
        },
        "41573f7d11b941faaa99af8628a28013": {
          "model_module": "@jupyter-widgets/controls",
          "model_module_version": "1.5.0",
          "model_name": "DescriptionStyleModel",
          "state": {
            "_model_module": "@jupyter-widgets/controls",
            "_model_module_version": "1.5.0",
            "_model_name": "DescriptionStyleModel",
            "_view_count": null,
            "_view_module": "@jupyter-widgets/base",
            "_view_module_version": "1.2.0",
            "_view_name": "StyleView",
            "description_width": ""
          }
        },
        "418563d4a4374041882a0b3bfdbc7105": {
          "model_module": "jupyter-leaflet",
          "model_module_version": "^0.17",
          "model_name": "LeafletZoomControlModel",
          "state": {
            "_model_module": "jupyter-leaflet",
            "_model_module_version": "^0.17",
            "_model_name": "LeafletZoomControlModel",
            "_view_count": null,
            "_view_module": "jupyter-leaflet",
            "_view_module_version": "^0.17",
            "_view_name": "LeafletZoomControlView",
            "options": [
              "position",
              "zoom_in_text",
              "zoom_in_title",
              "zoom_out_text",
              "zoom_out_title"
            ],
            "position": "topleft",
            "zoom_in_text": "+",
            "zoom_in_title": "Zoom in",
            "zoom_out_text": "-",
            "zoom_out_title": "Zoom out"
          }
        },
        "4422ed1e97874ba7be852a8263ae5dda": {
          "model_module": "@jupyter-widgets/controls",
          "model_module_version": "1.5.0",
          "model_name": "HBoxModel",
          "state": {
            "_dom_classes": [],
            "_model_module": "@jupyter-widgets/controls",
            "_model_module_version": "1.5.0",
            "_model_name": "HBoxModel",
            "_view_count": null,
            "_view_module": "@jupyter-widgets/controls",
            "_view_module_version": "1.5.0",
            "_view_name": "HBoxView",
            "box_style": "",
            "children": [
              "IPY_MODEL_7899c8246d80461d8011897afce7ad81",
              "IPY_MODEL_f6f607e7a193469eb96595efa3c1ba55"
            ],
            "layout": "IPY_MODEL_51ebb2809d8744f6889179acf14c0945"
          }
        },
        "4615c64df4324fd99ee4a7f0b8649837": {
          "model_module": "jupyter-leaflet",
          "model_module_version": "^0.17",
          "model_name": "LeafletZoomControlModel",
          "state": {
            "_model_module": "jupyter-leaflet",
            "_model_module_version": "^0.17",
            "_model_name": "LeafletZoomControlModel",
            "_view_count": null,
            "_view_module": "jupyter-leaflet",
            "_view_module_version": "^0.17",
            "_view_name": "LeafletZoomControlView",
            "options": [
              "position",
              "zoom_in_text",
              "zoom_in_title",
              "zoom_out_text",
              "zoom_out_title"
            ],
            "position": "topleft",
            "zoom_in_text": "+",
            "zoom_in_title": "Zoom in",
            "zoom_out_text": "-",
            "zoom_out_title": "Zoom out"
          }
        },
        "48e7f553b77949d98d7a0486ecd007fc": {
          "model_module": "ipytree",
          "model_module_version": "^0.2",
          "model_name": "NodeModel",
          "state": {
            "_id": "5a90eebf-7f3d-4e60-a279-ac8c55a47e65",
            "_model_module": "ipytree",
            "_model_module_version": "^0.2",
            "_model_name": "NodeModel",
            "_view_count": null,
            "_view_module": "ipytree",
            "_view_module_version": "^0.2",
            "_view_name": "NodeView",
            "close_icon": "minus",
            "close_icon_style": "default",
            "disabled": false,
            "icon": "map",
            "icon_image": "",
            "icon_style": "default",
            "name": "Point",
            "nodes": [],
            "open_icon": "plus",
            "open_icon_style": "default",
            "opened": true,
            "selected": false,
            "show_icon": true
          }
        },
        "493969e345d54afb939d590dcead9213": {
          "model_module": "ipytree",
          "model_module_version": "^0.2",
          "model_name": "NodeModel",
          "state": {
            "_id": "5a0631b4-33c6-41d4-977c-d4f0bafe961e",
            "_model_module": "ipytree",
            "_model_module_version": "^0.2",
            "_model_name": "NodeModel",
            "_view_count": null,
            "_view_module": "ipytree",
            "_view_module_version": "^0.2",
            "_view_name": "NodeView",
            "close_icon": "minus",
            "close_icon_style": "default",
            "disabled": true,
            "icon": "archive",
            "icon_image": "",
            "icon_style": "default",
            "name": "Objects",
            "nodes": [],
            "open_icon": "plus",
            "open_icon_style": "default",
            "opened": true,
            "selected": false,
            "show_icon": true
          }
        },
        "4bc0dabaf5c14ed485881f04475a1ece": {
          "model_module": "jupyter-leaflet",
          "model_module_version": "^0.17",
          "model_name": "LeafletMapStyleModel",
          "state": {
            "_model_module": "jupyter-leaflet",
            "_model_module_version": "^0.17",
            "_model_name": "LeafletMapStyleModel",
            "_view_count": null,
            "_view_module": "@jupyter-widgets/base",
            "_view_module_version": "1.2.0",
            "_view_name": "StyleView",
            "cursor": "crosshair"
          }
        },
        "4d86f5b91dae451eae818a323a2cd47c": {
          "model_module": "@jupyter-widgets/base",
          "model_module_version": "1.2.0",
          "model_name": "LayoutModel",
          "state": {
            "_model_module": "@jupyter-widgets/base",
            "_model_module_version": "1.2.0",
            "_model_name": "LayoutModel",
            "_view_count": null,
            "_view_module": "@jupyter-widgets/base",
            "_view_module_version": "1.2.0",
            "_view_name": "LayoutView",
            "align_content": null,
            "align_items": null,
            "align_self": null,
            "border": null,
            "bottom": null,
            "display": null,
            "flex": null,
            "flex_flow": null,
            "grid_area": null,
            "grid_auto_columns": null,
            "grid_auto_flow": null,
            "grid_auto_rows": null,
            "grid_column": null,
            "grid_gap": null,
            "grid_row": null,
            "grid_template_areas": null,
            "grid_template_columns": null,
            "grid_template_rows": null,
            "height": null,
            "justify_content": null,
            "justify_items": null,
            "left": null,
            "margin": null,
            "max_height": null,
            "max_width": null,
            "min_height": null,
            "min_width": null,
            "object_fit": null,
            "object_position": null,
            "order": null,
            "overflow": null,
            "overflow_x": null,
            "overflow_y": null,
            "padding": null,
            "right": null,
            "top": null,
            "visibility": null,
            "width": null
          }
        },
        "4e98329db4c74825be31ff02fc4ee14e": {
          "model_module": "jupyter-leaflet",
          "model_module_version": "^0.17",
          "model_name": "LeafletMapStyleModel",
          "state": {
            "_model_module": "jupyter-leaflet",
            "_model_module_version": "^0.17",
            "_model_name": "LeafletMapStyleModel",
            "_view_count": null,
            "_view_module": "@jupyter-widgets/base",
            "_view_module_version": "1.2.0",
            "_view_name": "StyleView",
            "cursor": "crosshair"
          }
        },
        "4ea46d6975264cc5a52b343ae42a962c": {
          "model_module": "@jupyter-widgets/controls",
          "model_module_version": "1.5.0",
          "model_name": "VBoxModel",
          "state": {
            "_dom_classes": [],
            "_model_module": "@jupyter-widgets/controls",
            "_model_module_version": "1.5.0",
            "_model_name": "VBoxModel",
            "_view_count": null,
            "_view_module": "@jupyter-widgets/controls",
            "_view_module_version": "1.5.0",
            "_view_name": "VBoxView",
            "box_style": "",
            "children": [
              "IPY_MODEL_07c416af1ac64f97aa611e8f322e27d9",
              "IPY_MODEL_77d5c5ad47cf4ccc9eef25f01edee58c"
            ],
            "layout": "IPY_MODEL_54f05973eb5640e6bac56d9925c851b7"
          }
        },
        "4ec8bffac65447e98918c3c0b491384b": {
          "model_module": "jupyter-leaflet",
          "model_module_version": "^0.17",
          "model_name": "LeafletAttributionControlModel",
          "state": {
            "_model_module": "jupyter-leaflet",
            "_model_module_version": "^0.17",
            "_model_name": "LeafletAttributionControlModel",
            "_view_count": null,
            "_view_module": "jupyter-leaflet",
            "_view_module_version": "^0.17",
            "_view_name": "LeafletAttributionControlView",
            "options": [
              "position",
              "prefix"
            ],
            "position": "bottomright",
            "prefix": "ipyleaflet"
          }
        },
        "51194371fd2649ad9b880d62090ba562": {
          "model_module": "jupyter-leaflet",
          "model_module_version": "^0.17",
          "model_name": "LeafletMapStyleModel",
          "state": {
            "_model_module": "jupyter-leaflet",
            "_model_module_version": "^0.17",
            "_model_name": "LeafletMapStyleModel",
            "_view_count": null,
            "_view_module": "@jupyter-widgets/base",
            "_view_module_version": "1.2.0",
            "_view_name": "StyleView",
            "cursor": "move"
          }
        },
        "51ebb2809d8744f6889179acf14c0945": {
          "model_module": "@jupyter-widgets/base",
          "model_module_version": "1.2.0",
          "model_name": "LayoutModel",
          "state": {
            "_model_module": "@jupyter-widgets/base",
            "_model_module_version": "1.2.0",
            "_model_name": "LayoutModel",
            "_view_count": null,
            "_view_module": "@jupyter-widgets/base",
            "_view_module_version": "1.2.0",
            "_view_name": "LayoutView",
            "align_content": null,
            "align_items": null,
            "align_self": null,
            "border": null,
            "bottom": null,
            "display": null,
            "flex": null,
            "flex_flow": null,
            "grid_area": null,
            "grid_auto_columns": null,
            "grid_auto_flow": null,
            "grid_auto_rows": null,
            "grid_column": null,
            "grid_gap": null,
            "grid_row": null,
            "grid_template_areas": null,
            "grid_template_columns": null,
            "grid_template_rows": null,
            "height": null,
            "justify_content": null,
            "justify_items": null,
            "left": null,
            "margin": null,
            "max_height": null,
            "max_width": null,
            "min_height": null,
            "min_width": null,
            "object_fit": null,
            "object_position": null,
            "order": null,
            "overflow": null,
            "overflow_x": null,
            "overflow_y": null,
            "padding": null,
            "right": null,
            "top": null,
            "visibility": null,
            "width": null
          }
        },
        "5237a4842a2b4e60b6e4c8dd8d354084": {
          "model_module": "jupyter-leaflet",
          "model_module_version": "^0.17",
          "model_name": "LeafletMapStyleModel",
          "state": {
            "_model_module": "jupyter-leaflet",
            "_model_module_version": "^0.17",
            "_model_name": "LeafletMapStyleModel",
            "_view_count": null,
            "_view_module": "@jupyter-widgets/base",
            "_view_module_version": "1.2.0",
            "_view_name": "StyleView",
            "cursor": "move"
          }
        },
        "5240bf33823d43c3ba229fbd4952d92e": {
          "model_module": "jupyter-leaflet",
          "model_module_version": "^0.17",
          "model_name": "LeafletLayersControlModel",
          "state": {
            "_model_module": "jupyter-leaflet",
            "_model_module_version": "^0.17",
            "_model_name": "LeafletLayersControlModel",
            "_view_count": null,
            "_view_module": "jupyter-leaflet",
            "_view_module_version": "^0.17",
            "_view_name": "LeafletLayersControlView",
            "options": [
              "position"
            ],
            "position": "topright"
          }
        },
        "52ec5145987a441dbb162d2ef8ae726c": {
          "model_module": "jupyter-leaflet",
          "model_module_version": "^0.17",
          "model_name": "LeafletTileLayerModel",
          "state": {
            "_model_module": "jupyter-leaflet",
            "_model_module_version": "^0.17",
            "_model_name": "LeafletTileLayerModel",
            "_view_count": null,
            "_view_module": "jupyter-leaflet",
            "_view_module_version": "^0.17",
            "_view_name": "LeafletTileLayerView",
            "attribution": null,
            "base": false,
            "bottom": true,
            "bounds": null,
            "detect_retina": false,
            "loading": false,
            "max_native_zoom": null,
            "max_zoom": 18,
            "min_native_zoom": null,
            "min_zoom": 0,
            "name": "Before S2",
            "no_wrap": false,
            "opacity": 1,
            "options": [
              "attribution",
              "bounds",
              "detect_retina",
              "max_native_zoom",
              "max_zoom",
              "min_native_zoom",
              "min_zoom",
              "no_wrap",
              "tile_size",
              "tms",
              "zoom_offset"
            ],
            "pane": "",
            "popup": null,
            "popup_max_height": null,
            "popup_max_width": 300,
            "popup_min_width": 50,
            "show_loading": false,
            "subitems": [],
            "tile_size": 256,
            "tms": false,
            "url": "https://earthengine.googleapis.com/v1alpha/projects/agu22-eetemp/maps/aa2b9238cade33142a7875cfe6a91025-4ad6666e514f8ba96ad10f27808b5888/tiles/{z}/{x}/{y}",
            "visible": true,
            "zoom_offset": 0
          }
        },
        "5381db2ab28c4e3e95488b78923eb104": {
          "model_module": "jupyter-leaflet",
          "model_module_version": "^0.17",
          "model_name": "LeafletLayersControlModel",
          "state": {
            "_model_module": "jupyter-leaflet",
            "_model_module_version": "^0.17",
            "_model_name": "LeafletLayersControlModel",
            "_view_count": null,
            "_view_module": "jupyter-leaflet",
            "_view_module_version": "^0.17",
            "_view_name": "LeafletLayersControlView",
            "options": [
              "position"
            ],
            "position": "topright"
          }
        },
        "54f05973eb5640e6bac56d9925c851b7": {
          "model_module": "@jupyter-widgets/base",
          "model_module_version": "1.2.0",
          "model_name": "LayoutModel",
          "state": {
            "_model_module": "@jupyter-widgets/base",
            "_model_module_version": "1.2.0",
            "_model_name": "LayoutModel",
            "_view_count": null,
            "_view_module": "@jupyter-widgets/base",
            "_view_module_version": "1.2.0",
            "_view_name": "LayoutView",
            "align_content": null,
            "align_items": null,
            "align_self": null,
            "border": null,
            "bottom": null,
            "display": null,
            "flex": null,
            "flex_flow": null,
            "grid_area": null,
            "grid_auto_columns": null,
            "grid_auto_flow": null,
            "grid_auto_rows": null,
            "grid_column": null,
            "grid_gap": null,
            "grid_row": null,
            "grid_template_areas": null,
            "grid_template_columns": null,
            "grid_template_rows": null,
            "height": null,
            "justify_content": null,
            "justify_items": null,
            "left": null,
            "margin": null,
            "max_height": null,
            "max_width": null,
            "min_height": null,
            "min_width": null,
            "object_fit": null,
            "object_position": null,
            "order": null,
            "overflow": null,
            "overflow_x": null,
            "overflow_y": null,
            "padding": null,
            "right": null,
            "top": null,
            "visibility": null,
            "width": null
          }
        },
        "553c9d67327f43d29f306b6523bdb558": {
          "model_module": "jupyter-leaflet",
          "model_module_version": "^0.17",
          "model_name": "LeafletTileLayerModel",
          "state": {
            "_model_module": "jupyter-leaflet",
            "_model_module_version": "^0.17",
            "_model_name": "LeafletTileLayerModel",
            "_view_count": null,
            "_view_module": "jupyter-leaflet",
            "_view_module_version": "^0.17",
            "_view_name": "LeafletTileLayerView",
            "attribution": "Map tiles by <a href=\"http://stamen.com\">Stamen Design</a>, <a href=\"http://creativecommons.org/licenses/by/3.0\">CC BY 3.0</a> &mdash; Map data &copy; <a href=\"https://www.openstreetmap.org/copyright\">OpenStreetMap</a> contributors",
            "base": true,
            "bottom": true,
            "bounds": null,
            "detect_retina": false,
            "loading": false,
            "max_native_zoom": null,
            "max_zoom": 16,
            "min_native_zoom": null,
            "min_zoom": 1,
            "name": "Stamen.Watercolor",
            "no_wrap": false,
            "opacity": 1,
            "options": [
              "attribution",
              "bounds",
              "detect_retina",
              "max_native_zoom",
              "max_zoom",
              "min_native_zoom",
              "min_zoom",
              "no_wrap",
              "tile_size",
              "tms",
              "zoom_offset"
            ],
            "pane": "",
            "popup": null,
            "popup_max_height": null,
            "popup_max_width": 300,
            "popup_min_width": 50,
            "show_loading": false,
            "subitems": [],
            "tile_size": 256,
            "tms": false,
            "url": "https://stamen-tiles-a.a.ssl.fastly.net/watercolor/{z}/{x}/{y}.jpg",
            "visible": true,
            "zoom_offset": 0
          }
        },
        "55aa7efe7621409a838f1a9c86273555": {
          "model_module": "@jupyter-widgets/controls",
          "model_module_version": "1.5.0",
          "model_name": "VBoxModel",
          "state": {
            "_dom_classes": [],
            "_model_module": "@jupyter-widgets/controls",
            "_model_module_version": "1.5.0",
            "_model_name": "VBoxModel",
            "_view_count": null,
            "_view_module": "@jupyter-widgets/controls",
            "_view_module_version": "1.5.0",
            "_view_name": "VBoxView",
            "box_style": "",
            "children": [
              "IPY_MODEL_4422ed1e97874ba7be852a8263ae5dda",
              "IPY_MODEL_f93fce421a364a45b43565590c51d675"
            ],
            "layout": "IPY_MODEL_a04854e8ff6741088918d99937d3f933"
          }
        },
        "565931b1769647e8bd9cbbffb47d80e4": {
          "model_module": "@jupyter-widgets/base",
          "model_module_version": "1.2.0",
          "model_name": "LayoutModel",
          "state": {
            "_model_module": "@jupyter-widgets/base",
            "_model_module_version": "1.2.0",
            "_model_name": "LayoutModel",
            "_view_count": null,
            "_view_module": "@jupyter-widgets/base",
            "_view_module_version": "1.2.0",
            "_view_name": "LayoutView",
            "align_content": null,
            "align_items": null,
            "align_self": null,
            "border": null,
            "bottom": null,
            "display": null,
            "flex": null,
            "flex_flow": null,
            "grid_area": null,
            "grid_auto_columns": null,
            "grid_auto_flow": null,
            "grid_auto_rows": null,
            "grid_column": null,
            "grid_gap": null,
            "grid_row": null,
            "grid_template_areas": null,
            "grid_template_columns": null,
            "grid_template_rows": null,
            "height": null,
            "justify_content": null,
            "justify_items": null,
            "left": null,
            "margin": null,
            "max_height": "400px",
            "max_width": null,
            "min_height": null,
            "min_width": null,
            "object_fit": null,
            "object_position": null,
            "order": null,
            "overflow": "scroll",
            "overflow_x": null,
            "overflow_y": null,
            "padding": null,
            "right": null,
            "top": null,
            "visibility": null,
            "width": "50.0%"
          }
        },
        "5668ae199045477a9abcfc520c479b8e": {
          "model_module": "jupyter-leaflet",
          "model_module_version": "^0.17",
          "model_name": "LeafletMapStyleModel",
          "state": {
            "_model_module": "jupyter-leaflet",
            "_model_module_version": "^0.17",
            "_model_name": "LeafletMapStyleModel",
            "_view_count": null,
            "_view_module": "@jupyter-widgets/base",
            "_view_module_version": "1.2.0",
            "_view_name": "StyleView",
            "cursor": "crosshair"
          }
        },
        "57e06d8e77ce45ff9fb9fc830b2cee32": {
          "model_module": "ipytree",
          "model_module_version": "^0.2",
          "model_name": "NodeModel",
          "state": {
            "_id": "1ab0c865-2c50-498a-8343-c6464e6aee18",
            "_model_module": "ipytree",
            "_model_module_version": "^0.2",
            "_model_name": "NodeModel",
            "_view_count": null,
            "_view_module": "ipytree",
            "_view_module_version": "^0.2",
            "_view_name": "NodeView",
            "close_icon": "minus",
            "close_icon_style": "default",
            "disabled": true,
            "icon": "archive",
            "icon_image": "",
            "icon_style": "default",
            "name": "Objects",
            "nodes": [],
            "open_icon": "plus",
            "open_icon_style": "default",
            "opened": true,
            "selected": false,
            "show_icon": true
          }
        },
        "5a04ed0ef4364965b4e06b8178117c93": {
          "model_module": "jupyter-leaflet",
          "model_module_version": "^0.17",
          "model_name": "LeafletTileLayerModel",
          "state": {
            "_model_module": "jupyter-leaflet",
            "_model_module_version": "^0.17",
            "_model_name": "LeafletTileLayerModel",
            "_view_count": null,
            "_view_module": "jupyter-leaflet",
            "_view_module_version": "^0.17",
            "_view_name": "LeafletTileLayerView",
            "attribution": "Map tiles by <a href=\"http://stamen.com\">Stamen Design</a>, <a href=\"http://creativecommons.org/licenses/by/3.0\">CC BY 3.0</a> &mdash; Map data &copy; <a href=\"https://www.openstreetmap.org/copyright\">OpenStreetMap</a> contributors",
            "base": true,
            "bottom": true,
            "bounds": null,
            "detect_retina": false,
            "loading": false,
            "max_native_zoom": null,
            "max_zoom": 16,
            "min_native_zoom": null,
            "min_zoom": 1,
            "name": "Stamen.Watercolor",
            "no_wrap": false,
            "opacity": 1,
            "options": [
              "attribution",
              "bounds",
              "detect_retina",
              "max_native_zoom",
              "max_zoom",
              "min_native_zoom",
              "min_zoom",
              "no_wrap",
              "tile_size",
              "tms",
              "zoom_offset"
            ],
            "pane": "",
            "popup": null,
            "popup_max_height": null,
            "popup_max_width": 300,
            "popup_min_width": 50,
            "show_loading": false,
            "subitems": [],
            "tile_size": 256,
            "tms": false,
            "url": "https://stamen-tiles-a.a.ssl.fastly.net/watercolor/{z}/{x}/{y}.jpg",
            "visible": true,
            "zoom_offset": 0
          }
        },
        "5a6dfa9d6cc5419fbfeb23f1ec8c1738": {
          "model_module": "jupyter-leaflet",
          "model_module_version": "^0.17",
          "model_name": "LeafletZoomControlModel",
          "state": {
            "_model_module": "jupyter-leaflet",
            "_model_module_version": "^0.17",
            "_model_name": "LeafletZoomControlModel",
            "_view_count": null,
            "_view_module": "jupyter-leaflet",
            "_view_module_version": "^0.17",
            "_view_name": "LeafletZoomControlView",
            "options": [
              "position",
              "zoom_in_text",
              "zoom_in_title",
              "zoom_out_text",
              "zoom_out_title"
            ],
            "position": "topleft",
            "zoom_in_text": "+",
            "zoom_in_title": "Zoom in",
            "zoom_out_text": "-",
            "zoom_out_title": "Zoom out"
          }
        },
        "5e681081e8a9473daa3c743b401bcc49": {
          "model_module": "ipytree",
          "model_module_version": "^0.2",
          "model_name": "TreeModel",
          "state": {
            "_dom_classes": [],
            "_id": "#",
            "_model_module": "ipytree",
            "_model_module_version": "^0.2",
            "_model_name": "TreeModel",
            "_view_count": null,
            "_view_module": "ipytree",
            "_view_module_version": "^0.2",
            "_view_name": "TreeView",
            "animation": 200,
            "layout": "IPY_MODEL_1ac3f9dcf6a8444c855807168b427986",
            "multiple_selection": true,
            "nodes": [
              "IPY_MODEL_36297037e08547d7ba504629528aea4b",
              "IPY_MODEL_6d512d5ac3174896b5c6c66e44463593",
              "IPY_MODEL_493969e345d54afb939d590dcead9213"
            ],
            "selected_nodes": []
          }
        },
        "5e954be5357843f9875a3a79f2144af9": {
          "model_module": "@jupyter-widgets/controls",
          "model_module_version": "1.5.0",
          "model_name": "SliderStyleModel",
          "state": {
            "_model_module": "@jupyter-widgets/controls",
            "_model_module_version": "1.5.0",
            "_model_name": "SliderStyleModel",
            "_view_count": null,
            "_view_module": "@jupyter-widgets/base",
            "_view_module_version": "1.2.0",
            "_view_name": "StyleView",
            "description_width": "",
            "handle_color": null
          }
        },
        "6022297ec30c438d8a6340f95f00faae": {
          "model_module": "ipytree",
          "model_module_version": "^0.2",
          "model_name": "NodeModel",
          "state": {
            "_id": "8780f4c3-bf37-43af-98b0-a1752a8c4013",
            "_model_module": "ipytree",
            "_model_module_version": "^0.2",
            "_model_name": "NodeModel",
            "_view_count": null,
            "_view_module": "ipytree",
            "_view_module_version": "^0.2",
            "_view_name": "NodeView",
            "close_icon": "minus",
            "close_icon_style": "default",
            "disabled": true,
            "icon": "archive",
            "icon_image": "",
            "icon_style": "default",
            "name": "Objects",
            "nodes": [],
            "open_icon": "plus",
            "open_icon_style": "default",
            "opened": true,
            "selected": false,
            "show_icon": true
          }
        },
        "61ee680600be4b419b1269b3314bb6c6": {
          "model_module": "jupyter-leaflet",
          "model_module_version": "^0.17",
          "model_name": "LeafletDrawControlModel",
          "state": {
            "_model_module": "jupyter-leaflet",
            "_model_module_version": "^0.17",
            "_model_name": "LeafletDrawControlModel",
            "_view_count": null,
            "_view_module": "jupyter-leaflet",
            "_view_module_version": "^0.17",
            "_view_name": "LeafletDrawControlView",
            "circle": {},
            "circlemarker": {},
            "data": [
              {
                "geometry": {
                  "coordinates": [
                    [
                      [
                        101.321699,
                        2.87925
                      ],
                      [
                        101.299654,
                        2.864379
                      ],
                      [
                        101.323005,
                        2.847774
                      ],
                      [
                        101.321699,
                        2.87925
                      ]
                    ]
                  ],
                  "type": "Polygon"
                },
                "properties": {
                  "style": {
                    "clickable": true,
                    "color": "#6be5c3",
                    "fill": true,
                    "fillColor": "#FF0000",
                    "fillOpacity": 1,
                    "opacity": 0.5,
                    "stroke": true,
                    "weight": 4
                  }
                },
                "type": "Feature"
              }
            ],
            "edit": true,
            "marker": {},
            "options": [
              "position"
            ],
            "polygon": {
              "allowIntersection": false,
              "drawError": {
                "color": "#dd253b",
                "message": "Oups!"
              },
              "shapeOptions": {
                "color": "#6be5c3",
                "fillColor": "#FF0000",
                "fillOpacity": 1
              }
            },
            "polyline": {},
            "position": "topleft",
            "rectangle": {},
            "remove": true
          }
        },
        "63df475b8eeb4de7b74a36178b790d77": {
          "model_module": "@jupyter-widgets/base",
          "model_module_version": "1.2.0",
          "model_name": "LayoutModel",
          "state": {
            "_model_module": "@jupyter-widgets/base",
            "_model_module_version": "1.2.0",
            "_model_name": "LayoutModel",
            "_view_count": null,
            "_view_module": "@jupyter-widgets/base",
            "_view_module_version": "1.2.0",
            "_view_name": "LayoutView",
            "align_content": null,
            "align_items": null,
            "align_self": null,
            "border": null,
            "bottom": null,
            "display": null,
            "flex": null,
            "flex_flow": null,
            "grid_area": null,
            "grid_auto_columns": null,
            "grid_auto_flow": null,
            "grid_auto_rows": null,
            "grid_column": null,
            "grid_gap": null,
            "grid_row": null,
            "grid_template_areas": null,
            "grid_template_columns": null,
            "grid_template_rows": null,
            "height": null,
            "justify_content": null,
            "justify_items": null,
            "left": null,
            "margin": null,
            "max_height": null,
            "max_width": null,
            "min_height": null,
            "min_width": null,
            "object_fit": null,
            "object_position": null,
            "order": null,
            "overflow": null,
            "overflow_x": null,
            "overflow_y": null,
            "padding": null,
            "right": null,
            "top": null,
            "visibility": null,
            "width": null
          }
        },
        "63ef4c5a485041d2895bbdeaafe4f6b8": {
          "model_module": "jupyter-leaflet",
          "model_module_version": "^0.17",
          "model_name": "LeafletTileLayerModel",
          "state": {
            "_model_module": "jupyter-leaflet",
            "_model_module_version": "^0.17",
            "_model_name": "LeafletTileLayerModel",
            "_view_count": null,
            "_view_module": "jupyter-leaflet",
            "_view_module_version": "^0.17",
            "_view_name": "LeafletTileLayerView",
            "attribution": null,
            "base": false,
            "bottom": true,
            "bounds": null,
            "detect_retina": false,
            "loading": false,
            "max_native_zoom": null,
            "max_zoom": 18,
            "min_native_zoom": null,
            "min_zoom": 0,
            "name": "New Urban",
            "no_wrap": false,
            "opacity": 1,
            "options": [
              "attribution",
              "bounds",
              "detect_retina",
              "max_native_zoom",
              "max_zoom",
              "min_native_zoom",
              "min_zoom",
              "no_wrap",
              "tile_size",
              "tms",
              "zoom_offset"
            ],
            "pane": "",
            "popup": null,
            "popup_max_height": null,
            "popup_max_width": 300,
            "popup_min_width": 50,
            "show_loading": false,
            "subitems": [],
            "tile_size": 256,
            "tms": false,
            "url": "https://earthengine.googleapis.com/v1alpha/projects/agu22-eetemp/maps/057b21ffeffb395ae6aa2d1fd761a36e-427c68721ed4a83deb0cae2640df97f6/tiles/{z}/{x}/{y}",
            "visible": true,
            "zoom_offset": 0
          }
        },
        "64d4383fa4b14c499680deab253cc71f": {
          "model_module": "jupyter-leaflet",
          "model_module_version": "^0.17",
          "model_name": "LeafletMapStyleModel",
          "state": {
            "_model_module": "jupyter-leaflet",
            "_model_module_version": "^0.17",
            "_model_name": "LeafletMapStyleModel",
            "_view_count": null,
            "_view_module": "@jupyter-widgets/base",
            "_view_module_version": "1.2.0",
            "_view_name": "StyleView",
            "cursor": "grab"
          }
        },
        "65a24806e1f2487ca285d8f0e4870f6e": {
          "model_module": "@jupyter-widgets/controls",
          "model_module_version": "1.5.0",
          "model_name": "VBoxModel",
          "state": {
            "_dom_classes": [],
            "_model_module": "@jupyter-widgets/controls",
            "_model_module_version": "1.5.0",
            "_model_name": "VBoxModel",
            "_view_count": null,
            "_view_module": "@jupyter-widgets/controls",
            "_view_module_version": "1.5.0",
            "_view_name": "VBoxView",
            "box_style": "",
            "children": [
              "IPY_MODEL_0ef80d5c1dee43dc930b670568f27e71",
              "IPY_MODEL_7dfff0bebd8445518f77a14743f2d956"
            ],
            "layout": "IPY_MODEL_74216286708048e3b333be285f755a56"
          }
        },
        "6752b087c1da45789d85cc9189ae102e": {
          "model_module": "@jupyter-widgets/base",
          "model_module_version": "1.2.0",
          "model_name": "LayoutModel",
          "state": {
            "_model_module": "@jupyter-widgets/base",
            "_model_module_version": "1.2.0",
            "_model_name": "LayoutModel",
            "_view_count": null,
            "_view_module": "@jupyter-widgets/base",
            "_view_module_version": "1.2.0",
            "_view_name": "LayoutView",
            "align_content": null,
            "align_items": null,
            "align_self": null,
            "border": null,
            "bottom": null,
            "display": null,
            "flex": null,
            "flex_flow": null,
            "grid_area": null,
            "grid_auto_columns": null,
            "grid_auto_flow": null,
            "grid_auto_rows": null,
            "grid_column": null,
            "grid_gap": null,
            "grid_row": null,
            "grid_template_areas": null,
            "grid_template_columns": null,
            "grid_template_rows": null,
            "height": null,
            "justify_content": null,
            "justify_items": null,
            "left": null,
            "margin": null,
            "max_height": null,
            "max_width": null,
            "min_height": null,
            "min_width": null,
            "object_fit": null,
            "object_position": null,
            "order": null,
            "overflow": null,
            "overflow_x": null,
            "overflow_y": null,
            "padding": null,
            "right": null,
            "top": null,
            "visibility": null,
            "width": "100%"
          }
        },
        "677cf37dc9c04e9fa06fe2076a9d303a": {
          "model_module": "jupyter-leaflet",
          "model_module_version": "^0.17",
          "model_name": "LeafletTileLayerModel",
          "state": {
            "_model_module": "jupyter-leaflet",
            "_model_module_version": "^0.17",
            "_model_name": "LeafletTileLayerModel",
            "_view_count": null,
            "_view_module": "jupyter-leaflet",
            "_view_module_version": "^0.17",
            "_view_name": "LeafletTileLayerView",
            "attribution": "Map tiles by <a href=\"http://stamen.com\">Stamen Design</a>, <a href=\"http://creativecommons.org/licenses/by/3.0\">CC BY 3.0</a> &mdash; Map data &copy; <a href=\"https://www.openstreetmap.org/copyright\">OpenStreetMap</a> contributors",
            "base": true,
            "bottom": true,
            "bounds": null,
            "detect_retina": false,
            "loading": false,
            "max_native_zoom": null,
            "max_zoom": 16,
            "min_native_zoom": null,
            "min_zoom": 1,
            "name": "Stamen.Watercolor",
            "no_wrap": false,
            "opacity": 1,
            "options": [
              "attribution",
              "bounds",
              "detect_retina",
              "max_native_zoom",
              "max_zoom",
              "min_native_zoom",
              "min_zoom",
              "no_wrap",
              "tile_size",
              "tms",
              "zoom_offset"
            ],
            "pane": "",
            "popup": null,
            "popup_max_height": null,
            "popup_max_width": 300,
            "popup_min_width": 50,
            "show_loading": false,
            "subitems": [],
            "tile_size": 256,
            "tms": false,
            "url": "https://stamen-tiles-a.a.ssl.fastly.net/watercolor/{z}/{x}/{y}.jpg",
            "visible": true,
            "zoom_offset": 0
          }
        },
        "68449bf9aab64617a7e8d1141d61c8d3": {
          "model_module": "@jupyter-widgets/controls",
          "model_module_version": "1.5.0",
          "model_name": "SliderStyleModel",
          "state": {
            "_model_module": "@jupyter-widgets/controls",
            "_model_module_version": "1.5.0",
            "_model_name": "SliderStyleModel",
            "_view_count": null,
            "_view_module": "@jupyter-widgets/base",
            "_view_module_version": "1.2.0",
            "_view_name": "StyleView",
            "description_width": "",
            "handle_color": null
          }
        },
        "686b154eecff46b5ab136fe23d2ba507": {
          "model_module": "jupyter-leaflet",
          "model_module_version": "^0.17",
          "model_name": "LeafletZoomControlModel",
          "state": {
            "_model_module": "jupyter-leaflet",
            "_model_module_version": "^0.17",
            "_model_name": "LeafletZoomControlModel",
            "_view_count": null,
            "_view_module": "jupyter-leaflet",
            "_view_module_version": "^0.17",
            "_view_name": "LeafletZoomControlView",
            "options": [
              "position",
              "zoom_in_text",
              "zoom_in_title",
              "zoom_out_text",
              "zoom_out_title"
            ],
            "position": "topleft",
            "zoom_in_text": "+",
            "zoom_in_title": "Zoom in",
            "zoom_out_text": "-",
            "zoom_out_title": "Zoom out"
          }
        },
        "6a341c6b3ea244ab8183e7486a128d28": {
          "model_module": "@jupyter-widgets/base",
          "model_module_version": "1.2.0",
          "model_name": "LayoutModel",
          "state": {
            "_model_module": "@jupyter-widgets/base",
            "_model_module_version": "1.2.0",
            "_model_name": "LayoutModel",
            "_view_count": null,
            "_view_module": "@jupyter-widgets/base",
            "_view_module_version": "1.2.0",
            "_view_name": "LayoutView",
            "align_content": null,
            "align_items": null,
            "align_self": null,
            "border": null,
            "bottom": null,
            "display": null,
            "flex": null,
            "flex_flow": null,
            "grid_area": null,
            "grid_auto_columns": null,
            "grid_auto_flow": null,
            "grid_auto_rows": null,
            "grid_column": null,
            "grid_gap": null,
            "grid_row": null,
            "grid_template_areas": null,
            "grid_template_columns": "30% 70%",
            "grid_template_rows": "auto auto",
            "height": null,
            "justify_content": null,
            "justify_items": null,
            "left": null,
            "margin": null,
            "max_height": null,
            "max_width": null,
            "min_height": null,
            "min_width": null,
            "object_fit": null,
            "object_position": null,
            "order": null,
            "overflow": null,
            "overflow_x": null,
            "overflow_y": null,
            "padding": null,
            "right": null,
            "top": null,
            "visibility": null,
            "width": "100%"
          }
        },
        "6a40abe0f5d749bf9652cdf927f23628": {
          "model_module": "@jupyter-widgets/controls",
          "model_module_version": "1.5.0",
          "model_name": "SliderStyleModel",
          "state": {
            "_model_module": "@jupyter-widgets/controls",
            "_model_module_version": "1.5.0",
            "_model_name": "SliderStyleModel",
            "_view_count": null,
            "_view_module": "@jupyter-widgets/base",
            "_view_module_version": "1.2.0",
            "_view_name": "StyleView",
            "description_width": "",
            "handle_color": null
          }
        },
        "6aa5f954978743d1886590563709b93d": {
          "model_module": "ipytree",
          "model_module_version": "^0.2",
          "model_name": "NodeModel",
          "state": {
            "_id": "1736424d-dbbc-43d6-a7d8-d117a85e3d4c",
            "_model_module": "ipytree",
            "_model_module_version": "^0.2",
            "_model_name": "NodeModel",
            "_view_count": null,
            "_view_module": "ipytree",
            "_view_module_version": "^0.2",
            "_view_name": "NodeView",
            "close_icon": "minus",
            "close_icon_style": "default",
            "disabled": true,
            "icon": "archive",
            "icon_image": "",
            "icon_style": "default",
            "name": "Pixels",
            "nodes": [],
            "open_icon": "plus",
            "open_icon_style": "default",
            "opened": true,
            "selected": false,
            "show_icon": true
          }
        },
        "6d512d5ac3174896b5c6c66e44463593": {
          "model_module": "ipytree",
          "model_module_version": "^0.2",
          "model_name": "NodeModel",
          "state": {
            "_id": "1478f8c9-7a2d-4e1b-ba25-e3730e563f8d",
            "_model_module": "ipytree",
            "_model_module_version": "^0.2",
            "_model_name": "NodeModel",
            "_view_count": null,
            "_view_module": "ipytree",
            "_view_module_version": "^0.2",
            "_view_name": "NodeView",
            "close_icon": "minus",
            "close_icon_style": "default",
            "disabled": true,
            "icon": "archive",
            "icon_image": "",
            "icon_style": "default",
            "name": "Pixels",
            "nodes": [],
            "open_icon": "plus",
            "open_icon_style": "default",
            "opened": true,
            "selected": false,
            "show_icon": true
          }
        },
        "6d874e3c01e14c5e9c4cee4be38092db": {
          "model_module": "jupyter-leaflet",
          "model_module_version": "^0.17",
          "model_name": "LeafletAttributionControlModel",
          "state": {
            "_model_module": "jupyter-leaflet",
            "_model_module_version": "^0.17",
            "_model_name": "LeafletAttributionControlModel",
            "_view_count": null,
            "_view_module": "jupyter-leaflet",
            "_view_module_version": "^0.17",
            "_view_name": "LeafletAttributionControlView",
            "options": [
              "position",
              "prefix"
            ],
            "position": "bottomright",
            "prefix": "ipyleaflet"
          }
        },
        "72174934858a4dbfaad1403f6c04c1bf": {
          "model_module": "jupyter-leaflet",
          "model_module_version": "^0.17",
          "model_name": "LeafletMapStyleModel",
          "state": {
            "_model_module": "jupyter-leaflet",
            "_model_module_version": "^0.17",
            "_model_name": "LeafletMapStyleModel",
            "_view_count": null,
            "_view_module": "@jupyter-widgets/base",
            "_view_module_version": "1.2.0",
            "_view_name": "StyleView",
            "cursor": "move"
          }
        },
        "72dcf3e3fc3e4e02b834ea3146470dcd": {
          "model_module": "jupyter-leaflet",
          "model_module_version": "^0.17",
          "model_name": "LeafletZoomControlModel",
          "state": {
            "_model_module": "jupyter-leaflet",
            "_model_module_version": "^0.17",
            "_model_name": "LeafletZoomControlModel",
            "_view_count": null,
            "_view_module": "jupyter-leaflet",
            "_view_module_version": "^0.17",
            "_view_name": "LeafletZoomControlView",
            "options": [
              "position",
              "zoom_in_text",
              "zoom_in_title",
              "zoom_out_text",
              "zoom_out_title"
            ],
            "position": "topleft",
            "zoom_in_text": "+",
            "zoom_in_title": "Zoom in",
            "zoom_out_text": "-",
            "zoom_out_title": "Zoom out"
          }
        },
        "736cd93491a04655a44e7f20dcc59421": {
          "model_module": "jupyter-leaflet",
          "model_module_version": "^0.17",
          "model_name": "LeafletMapModel",
          "state": {
            "_dom_classes": [],
            "_model_module": "jupyter-leaflet",
            "_model_module_version": "^0.17",
            "_model_name": "LeafletMapModel",
            "_view_count": null,
            "_view_module": "jupyter-leaflet",
            "_view_module_version": "^0.17",
            "_view_name": "LeafletMapView",
            "bottom": 486466,
            "bounce_at_zoom_limits": true,
            "box_zoom": true,
            "center": [
              12.942208526432214,
              77.5868323785926
            ],
            "close_popup_on_click": true,
            "controls": [
              "IPY_MODEL_72dcf3e3fc3e4e02b834ea3146470dcd",
              "IPY_MODEL_d551e5c3343a493fb4aaf8c2cb365277",
              "IPY_MODEL_f4818fcddde14ce0a5716b4f2db84db8"
            ],
            "crs": {
              "custom": false,
              "name": "EPSG3857"
            },
            "default_style": "IPY_MODEL_c19d69e623e04f8d932b5f4c6e3291f4",
            "double_click_zoom": true,
            "dragging": true,
            "dragging_style": "IPY_MODEL_51194371fd2649ad9b880d62090ba562",
            "east": 77.69496917724611,
            "fullscreen": false,
            "inertia": true,
            "inertia_deceleration": 3000,
            "inertia_max_speed": 1500,
            "interpolation": "bilinear",
            "keyboard": true,
            "keyboard_pan_offset": 80,
            "keyboard_zoom_offset": 1,
            "layers": [
              "IPY_MODEL_746eb43b368940538373878332ae44f5"
            ],
            "layout": "IPY_MODEL_7ed09d05672f4b38b74edf97d84610c0",
            "left": 749962,
            "max_zoom": null,
            "min_zoom": null,
            "modisdate": "2022-12-13",
            "north": 13.009240942902053,
            "options": [
              "bounce_at_zoom_limits",
              "box_zoom",
              "center",
              "close_popup_on_click",
              "double_click_zoom",
              "dragging",
              "fullscreen",
              "inertia",
              "inertia_deceleration",
              "inertia_max_speed",
              "interpolation",
              "keyboard",
              "keyboard_pan_offset",
              "keyboard_zoom_offset",
              "max_zoom",
              "min_zoom",
              "prefer_canvas",
              "scroll_wheel_zoom",
              "tap",
              "tap_tolerance",
              "touch_zoom",
              "world_copy_jump",
              "zoom",
              "zoom_animation_threshold",
              "zoom_delta",
              "zoom_snap"
            ],
            "panes": {},
            "prefer_canvas": false,
            "right": 750591,
            "scroll_wheel_zoom": false,
            "south": 12.875400579691565,
            "style": "IPY_MODEL_96462d1767ad4273b2d25e57c448e79b",
            "tap": true,
            "tap_tolerance": 15,
            "top": 486066,
            "touch_zoom": true,
            "west": 77.47901916503908,
            "window_url": "https://o1sj2ys0a3g-496ff2e9c6d22116-0-colab.googleusercontent.com/outputframe.html?vrz=colab-20221213-060111-RC00_494987091",
            "world_copy_jump": false,
            "zoom": 12,
            "zoom_animation_threshold": 4,
            "zoom_delta": 1,
            "zoom_snap": 1
          }
        },
        "74216286708048e3b333be285f755a56": {
          "model_module": "@jupyter-widgets/base",
          "model_module_version": "1.2.0",
          "model_name": "LayoutModel",
          "state": {
            "_model_module": "@jupyter-widgets/base",
            "_model_module_version": "1.2.0",
            "_model_name": "LayoutModel",
            "_view_count": null,
            "_view_module": "@jupyter-widgets/base",
            "_view_module_version": "1.2.0",
            "_view_name": "LayoutView",
            "align_content": null,
            "align_items": "center",
            "align_self": null,
            "border": null,
            "bottom": null,
            "display": null,
            "flex": null,
            "flex_flow": null,
            "grid_area": null,
            "grid_auto_columns": null,
            "grid_auto_flow": null,
            "grid_auto_rows": null,
            "grid_column": null,
            "grid_gap": null,
            "grid_row": null,
            "grid_template_areas": null,
            "grid_template_columns": null,
            "grid_template_rows": null,
            "height": "100%",
            "justify_content": null,
            "justify_items": null,
            "left": null,
            "margin": null,
            "max_height": null,
            "max_width": null,
            "min_height": null,
            "min_width": null,
            "object_fit": null,
            "object_position": null,
            "order": null,
            "overflow": null,
            "overflow_x": null,
            "overflow_y": null,
            "padding": null,
            "right": null,
            "top": null,
            "visibility": null,
            "width": "100%"
          }
        },
        "746eb43b368940538373878332ae44f5": {
          "model_module": "jupyter-leaflet",
          "model_module_version": "^0.17",
          "model_name": "LeafletTileLayerModel",
          "state": {
            "_model_module": "jupyter-leaflet",
            "_model_module_version": "^0.17",
            "_model_name": "LeafletTileLayerModel",
            "_view_count": null,
            "_view_module": "jupyter-leaflet",
            "_view_module_version": "^0.17",
            "_view_name": "LeafletTileLayerView",
            "attribution": "Map tiles by <a href=\"http://stamen.com\">Stamen Design</a>, <a href=\"http://creativecommons.org/licenses/by/3.0\">CC BY 3.0</a> &mdash; Map data &copy; <a href=\"https://www.openstreetmap.org/copyright\">OpenStreetMap</a> contributors",
            "base": true,
            "bottom": true,
            "bounds": null,
            "detect_retina": false,
            "loading": false,
            "max_native_zoom": null,
            "max_zoom": 16,
            "min_native_zoom": null,
            "min_zoom": 1,
            "name": "Stamen.Watercolor",
            "no_wrap": false,
            "opacity": 1,
            "options": [
              "attribution",
              "bounds",
              "detect_retina",
              "max_native_zoom",
              "max_zoom",
              "min_native_zoom",
              "min_zoom",
              "no_wrap",
              "tile_size",
              "tms",
              "zoom_offset"
            ],
            "pane": "",
            "popup": null,
            "popup_max_height": null,
            "popup_max_width": 300,
            "popup_min_width": 50,
            "show_loading": false,
            "subitems": [],
            "tile_size": 256,
            "tms": false,
            "url": "https://stamen-tiles-a.a.ssl.fastly.net/watercolor/{z}/{x}/{y}.jpg",
            "visible": true,
            "zoom_offset": 0
          }
        },
        "76110945229040488ca65a546e5a3eae": {
          "model_module": "jupyter-leaflet",
          "model_module_version": "^0.17",
          "model_name": "LeafletMapStyleModel",
          "state": {
            "_model_module": "jupyter-leaflet",
            "_model_module_version": "^0.17",
            "_model_name": "LeafletMapStyleModel",
            "_view_count": null,
            "_view_module": "@jupyter-widgets/base",
            "_view_module_version": "1.2.0",
            "_view_name": "StyleView",
            "cursor": "crosshair"
          }
        },
        "773d5f6d2416425193490f6fed26a8b6": {
          "model_module": "jupyter-leaflet",
          "model_module_version": "^0.17",
          "model_name": "LeafletLayersControlModel",
          "state": {
            "_model_module": "jupyter-leaflet",
            "_model_module_version": "^0.17",
            "_model_name": "LeafletLayersControlModel",
            "_view_count": null,
            "_view_module": "jupyter-leaflet",
            "_view_module_version": "^0.17",
            "_view_name": "LeafletLayersControlView",
            "options": [
              "position"
            ],
            "position": "topright"
          }
        },
        "775bc93ef2ed4058a95edc9d3bb8066b": {
          "model_module": "jupyter-leaflet",
          "model_module_version": "^0.17",
          "model_name": "LeafletTileLayerModel",
          "state": {
            "_model_module": "jupyter-leaflet",
            "_model_module_version": "^0.17",
            "_model_name": "LeafletTileLayerModel",
            "_view_count": null,
            "_view_module": "jupyter-leaflet",
            "_view_module_version": "^0.17",
            "_view_name": "LeafletTileLayerView",
            "attribution": null,
            "base": false,
            "bottom": true,
            "bounds": null,
            "detect_retina": false,
            "loading": false,
            "max_native_zoom": null,
            "max_zoom": 18,
            "min_native_zoom": null,
            "min_zoom": 0,
            "name": "Classified Composite",
            "no_wrap": false,
            "opacity": 1,
            "options": [
              "attribution",
              "bounds",
              "detect_retina",
              "max_native_zoom",
              "max_zoom",
              "min_native_zoom",
              "min_zoom",
              "no_wrap",
              "tile_size",
              "tms",
              "zoom_offset"
            ],
            "pane": "",
            "popup": null,
            "popup_max_height": null,
            "popup_max_width": 300,
            "popup_min_width": 50,
            "show_loading": false,
            "subitems": [],
            "tile_size": 256,
            "tms": false,
            "url": "https://earthengine.googleapis.com/v1alpha/projects/agu22-eetemp/maps/7651b5b7446804b4e2a75f61e45f6814-1efb23551492109e60e6a0e36699d1f2/tiles/{z}/{x}/{y}",
            "visible": true,
            "zoom_offset": 0
          }
        },
        "77d5c5ad47cf4ccc9eef25f01edee58c": {
          "model_module": "@jupyter-widgets/controls",
          "model_module_version": "1.5.0",
          "model_name": "FloatSliderModel",
          "state": {
            "_dom_classes": [],
            "_model_module": "@jupyter-widgets/controls",
            "_model_module_version": "1.5.0",
            "_model_name": "FloatSliderModel",
            "_view_count": null,
            "_view_module": "@jupyter-widgets/controls",
            "_view_module_version": "1.5.0",
            "_view_name": "FloatSliderView",
            "continuous_update": true,
            "description": "",
            "description_tooltip": null,
            "disabled": false,
            "layout": "IPY_MODEL_19dd689b556545088b25a487a2b69ebb",
            "max": 100,
            "min": 0,
            "orientation": "horizontal",
            "readout": false,
            "readout_format": ".2f",
            "step": 0.1,
            "style": "IPY_MODEL_68449bf9aab64617a7e8d1141d61c8d3",
            "value": 50
          }
        },
        "7899c8246d80461d8011897afce7ad81": {
          "model_module": "jupyter-leaflet",
          "model_module_version": "^0.17",
          "model_name": "LeafletMapModel",
          "state": {
            "_dom_classes": [],
            "_model_module": "jupyter-leaflet",
            "_model_module_version": "^0.17",
            "_model_name": "LeafletMapModel",
            "_view_count": null,
            "_view_module": "jupyter-leaflet",
            "_view_module_version": "^0.17",
            "_view_name": "LeafletMapView",
            "bottom": 96458,
            "bounce_at_zoom_limits": true,
            "box_zoom": true,
            "center": [
              43.06727755565937,
              -89.41813684593848
            ],
            "close_popup_on_click": true,
            "controls": [
              "IPY_MODEL_686b154eecff46b5ab136fe23d2ba507",
              "IPY_MODEL_0fabfd1bedce4f3a9f7e54c229c60deb",
              "IPY_MODEL_18c82bf08d67419489f1408c203bce38"
            ],
            "crs": {
              "custom": false,
              "name": "EPSG3857"
            },
            "default_style": "IPY_MODEL_056447a6d8364898869751d28ae6f200",
            "double_click_zoom": true,
            "dragging": true,
            "dragging_style": "IPY_MODEL_165d2641c26f4a9cb51423144a9a7ba2",
            "east": -89.20349121093751,
            "fullscreen": false,
            "inertia": true,
            "inertia_deceleration": 3000,
            "inertia_max_speed": 1500,
            "interpolation": "bilinear",
            "keyboard": true,
            "keyboard_pan_offset": 80,
            "keyboard_zoom_offset": 1,
            "layers": [
              "IPY_MODEL_aea1b7fa1f5f4de3b7ca4b5471706cc2",
              "IPY_MODEL_775bc93ef2ed4058a95edc9d3bb8066b",
              "IPY_MODEL_a461190f6ebd42538423be7d43a38df8"
            ],
            "layout": "IPY_MODEL_ebea7d07fb9146b7b775e42c3b86255c",
            "left": 65804,
            "max_zoom": null,
            "min_zoom": null,
            "modisdate": "2022-12-13",
            "north": 43.26720631662829,
            "options": [
              "bounce_at_zoom_limits",
              "box_zoom",
              "center",
              "close_popup_on_click",
              "double_click_zoom",
              "dragging",
              "fullscreen",
              "inertia",
              "inertia_deceleration",
              "inertia_max_speed",
              "interpolation",
              "keyboard",
              "keyboard_pan_offset",
              "keyboard_zoom_offset",
              "max_zoom",
              "min_zoom",
              "prefer_canvas",
              "scroll_wheel_zoom",
              "tap",
              "tap_tolerance",
              "touch_zoom",
              "world_copy_jump",
              "zoom",
              "zoom_animation_threshold",
              "zoom_delta",
              "zoom_snap"
            ],
            "panes": {},
            "prefer_canvas": false,
            "right": 66116,
            "scroll_wheel_zoom": false,
            "south": 42.86589941517495,
            "style": "IPY_MODEL_894838e8c32e4dcaad5d428b72fa4272",
            "tap": true,
            "tap_tolerance": 15,
            "top": 96058,
            "touch_zoom": true,
            "west": -89.63195800781251,
            "window_url": "https://o1sj2ys0a3g-496ff2e9c6d22116-0-colab.googleusercontent.com/outputframe.html?vrz=colab-20221213-060111-RC00_494987091",
            "world_copy_jump": false,
            "zoom": 10,
            "zoom_animation_threshold": 4,
            "zoom_delta": 1,
            "zoom_snap": 1
          }
        },
        "78cad406233845a793fcda2a1cc65478": {
          "model_module": "@jupyter-widgets/controls",
          "model_module_version": "1.5.0",
          "model_name": "HTMLModel",
          "state": {
            "_dom_classes": [],
            "_model_module": "@jupyter-widgets/controls",
            "_model_module_version": "1.5.0",
            "_model_name": "HTMLModel",
            "_view_count": null,
            "_view_module": "@jupyter-widgets/controls",
            "_view_module_version": "1.5.0",
            "_view_name": "HTMLView",
            "description": "",
            "description_tooltip": null,
            "layout": "IPY_MODEL_da27c23911dd448ab2cf6fdf0dc4cd1e",
            "placeholder": "​",
            "style": "IPY_MODEL_367ea47c57964bab96a5e47610b454d7",
            "value": "<h1>Class 2 (Non-vegetation)</H1>"
          }
        },
        "7a4921ce738342bc9afcafdd1f1304af": {
          "model_module": "jupyter-leaflet",
          "model_module_version": "^0.17",
          "model_name": "LeafletMapModel",
          "state": {
            "_dom_classes": [],
            "_model_module": "jupyter-leaflet",
            "_model_module_version": "^0.17",
            "_model_name": "LeafletMapModel",
            "_view_count": null,
            "_view_module": "jupyter-leaflet",
            "_view_module_version": "^0.17",
            "_view_name": "LeafletMapView",
            "bottom": 97158,
            "bounce_at_zoom_limits": true,
            "box_zoom": true,
            "center": [
              42.36103,
              -72.28525
            ],
            "close_popup_on_click": true,
            "controls": [
              "IPY_MODEL_1cdd0749c6d94462b3268905dc15388e",
              "IPY_MODEL_0a8b494bae2145089667aef93a55446d",
              "IPY_MODEL_9096cbbbfed34c1da10f9a8e9ea092b0"
            ],
            "crs": {
              "custom": false,
              "name": "EPSG3857"
            },
            "default_style": "IPY_MODEL_d98fe82851a6452a92d435ff4ab4b678",
            "double_click_zoom": true,
            "dragging": true,
            "dragging_style": "IPY_MODEL_5237a4842a2b4e60b6e4c8dd8d354084",
            "east": -72.07168579101564,
            "fullscreen": false,
            "inertia": true,
            "inertia_deceleration": 3000,
            "inertia_max_speed": 1500,
            "interpolation": "bilinear",
            "keyboard": true,
            "keyboard_pan_offset": 80,
            "keyboard_zoom_offset": 1,
            "layers": [
              "IPY_MODEL_7ea30457903e4181a4168321e3ed73ff",
              "IPY_MODEL_ccffca38d7314c13960be29b9f98d90b"
            ],
            "layout": "IPY_MODEL_bd3ed6d5c33f492490a387977fb94572",
            "left": 78279,
            "max_zoom": null,
            "min_zoom": null,
            "modisdate": "2022-12-13",
            "north": 42.563195832927384,
            "options": [
              "bounce_at_zoom_limits",
              "box_zoom",
              "center",
              "close_popup_on_click",
              "double_click_zoom",
              "dragging",
              "fullscreen",
              "inertia",
              "inertia_deceleration",
              "inertia_max_speed",
              "interpolation",
              "keyboard",
              "keyboard_pan_offset",
              "keyboard_zoom_offset",
              "max_zoom",
              "min_zoom",
              "prefer_canvas",
              "scroll_wheel_zoom",
              "tap",
              "tap_tolerance",
              "touch_zoom",
              "world_copy_jump",
              "zoom",
              "zoom_animation_threshold",
              "zoom_delta",
              "zoom_snap"
            ],
            "panes": {},
            "prefer_canvas": false,
            "right": 78591,
            "scroll_wheel_zoom": false,
            "south": 42.157295553651664,
            "style": "IPY_MODEL_64d4383fa4b14c499680deab253cc71f",
            "tap": true,
            "tap_tolerance": 15,
            "top": 96758,
            "touch_zoom": true,
            "west": -72.50015258789064,
            "window_url": "https://o1sj2ys0a3g-496ff2e9c6d22116-0-colab.googleusercontent.com/outputframe.html?vrz=colab-20221213-060111-RC00_494987091",
            "world_copy_jump": false,
            "zoom": 10,
            "zoom_animation_threshold": 4,
            "zoom_delta": 1,
            "zoom_snap": 1
          }
        },
        "7c35b04d37d04d7db34c3d9b56822501": {
          "model_module": "@jupyter-widgets/base",
          "model_module_version": "1.2.0",
          "model_name": "LayoutModel",
          "state": {
            "_model_module": "@jupyter-widgets/base",
            "_model_module_version": "1.2.0",
            "_model_name": "LayoutModel",
            "_view_count": null,
            "_view_module": "@jupyter-widgets/base",
            "_view_module_version": "1.2.0",
            "_view_name": "LayoutView",
            "align_content": null,
            "align_items": null,
            "align_self": null,
            "border": null,
            "bottom": null,
            "display": null,
            "flex": null,
            "flex_flow": null,
            "grid_area": null,
            "grid_auto_columns": null,
            "grid_auto_flow": null,
            "grid_auto_rows": null,
            "grid_column": null,
            "grid_gap": null,
            "grid_row": null,
            "grid_template_areas": null,
            "grid_template_columns": null,
            "grid_template_rows": null,
            "height": null,
            "justify_content": null,
            "justify_items": null,
            "left": null,
            "margin": null,
            "max_height": null,
            "max_width": null,
            "min_height": null,
            "min_width": null,
            "object_fit": null,
            "object_position": null,
            "order": null,
            "overflow": null,
            "overflow_x": null,
            "overflow_y": null,
            "padding": null,
            "right": null,
            "top": null,
            "visibility": null,
            "width": null
          }
        },
        "7c62ded5702e455999d3b026e4ab6300": {
          "model_module": "ipytree",
          "model_module_version": "^0.2",
          "model_name": "NodeModel",
          "state": {
            "_id": "3024ee7c-9cf3-4a5c-ae46-6c804f29f437",
            "_model_module": "ipytree",
            "_model_module_version": "^0.2",
            "_model_name": "NodeModel",
            "_view_count": null,
            "_view_module": "ipytree",
            "_view_module_version": "^0.2",
            "_view_name": "NodeView",
            "close_icon": "minus",
            "close_icon_style": "default",
            "disabled": false,
            "icon": "map",
            "icon_image": "",
            "icon_style": "default",
            "name": "Point",
            "nodes": [],
            "open_icon": "plus",
            "open_icon_style": "default",
            "opened": true,
            "selected": false,
            "show_icon": true
          }
        },
        "7c8f745554204765bb9fe31cb7d62d5e": {
          "model_module": "@jupyter-widgets/base",
          "model_module_version": "1.2.0",
          "model_name": "LayoutModel",
          "state": {
            "_model_module": "@jupyter-widgets/base",
            "_model_module_version": "1.2.0",
            "_model_name": "LayoutModel",
            "_view_count": null,
            "_view_module": "@jupyter-widgets/base",
            "_view_module_version": "1.2.0",
            "_view_name": "LayoutView",
            "align_content": null,
            "align_items": null,
            "align_self": null,
            "border": null,
            "bottom": null,
            "display": null,
            "flex": null,
            "flex_flow": null,
            "grid_area": null,
            "grid_auto_columns": null,
            "grid_auto_flow": null,
            "grid_auto_rows": null,
            "grid_column": null,
            "grid_gap": null,
            "grid_row": null,
            "grid_template_areas": null,
            "grid_template_columns": null,
            "grid_template_rows": null,
            "height": null,
            "justify_content": null,
            "justify_items": null,
            "left": null,
            "margin": null,
            "max_height": null,
            "max_width": null,
            "min_height": null,
            "min_width": null,
            "object_fit": null,
            "object_position": null,
            "order": null,
            "overflow": null,
            "overflow_x": null,
            "overflow_y": null,
            "padding": null,
            "right": null,
            "top": null,
            "visibility": null,
            "width": null
          }
        },
        "7dfff0bebd8445518f77a14743f2d956": {
          "model_module": "jupyter-leaflet",
          "model_module_version": "^0.17",
          "model_name": "LeafletMapModel",
          "state": {
            "_dom_classes": [],
            "_model_module": "jupyter-leaflet",
            "_model_module_version": "^0.17",
            "_model_name": "LeafletMapModel",
            "_view_count": null,
            "_view_module": "jupyter-leaflet",
            "_view_module_version": "^0.17",
            "_view_name": "LeafletMapView",
            "bottom": 486466,
            "bounce_at_zoom_limits": true,
            "box_zoom": true,
            "center": [
              12.942208526432214,
              77.5868323785926
            ],
            "close_popup_on_click": true,
            "controls": [
              "IPY_MODEL_e1278add514844829f535bdd94b7fd7c",
              "IPY_MODEL_6d874e3c01e14c5e9c4cee4be38092db",
              "IPY_MODEL_dfa0a12f95034a81a47b89e938c20442"
            ],
            "crs": {
              "custom": false,
              "name": "EPSG3857"
            },
            "default_style": "IPY_MODEL_a8bc8b45a44b47efb2b01ac292f2771f",
            "double_click_zoom": true,
            "dragging": true,
            "dragging_style": "IPY_MODEL_03f61c84c5024e39ab1caf0441e8c840",
            "east": 77.6232147216797,
            "fullscreen": false,
            "inertia": true,
            "inertia_deceleration": 3000,
            "inertia_max_speed": 1500,
            "interpolation": "bilinear",
            "keyboard": true,
            "keyboard_pan_offset": 80,
            "keyboard_zoom_offset": 1,
            "layers": [
              "IPY_MODEL_677cf37dc9c04e9fa06fe2076a9d303a",
              "IPY_MODEL_b328075c7b814ab2a233e5e5b106e3f2",
              "IPY_MODEL_52ec5145987a441dbb162d2ef8ae726c"
            ],
            "layout": "IPY_MODEL_fd3fb03184f4453eb318b3077f77364b",
            "left": 750172,
            "max_zoom": null,
            "min_zoom": null,
            "modisdate": "2022-12-13",
            "north": 13.009240942902053,
            "options": [
              "bounce_at_zoom_limits",
              "box_zoom",
              "center",
              "close_popup_on_click",
              "double_click_zoom",
              "dragging",
              "fullscreen",
              "inertia",
              "inertia_deceleration",
              "inertia_max_speed",
              "interpolation",
              "keyboard",
              "keyboard_pan_offset",
              "keyboard_zoom_offset",
              "max_zoom",
              "min_zoom",
              "prefer_canvas",
              "scroll_wheel_zoom",
              "tap",
              "tap_tolerance",
              "touch_zoom",
              "world_copy_jump",
              "zoom",
              "zoom_animation_threshold",
              "zoom_delta",
              "zoom_snap"
            ],
            "panes": {},
            "prefer_canvas": false,
            "right": 750382,
            "scroll_wheel_zoom": false,
            "south": 12.875400579691565,
            "style": "IPY_MODEL_a8bc8b45a44b47efb2b01ac292f2771f",
            "tap": true,
            "tap_tolerance": 15,
            "top": 486066,
            "touch_zoom": true,
            "west": 77.55111694335938,
            "window_url": "https://o1sj2ys0a3g-496ff2e9c6d22116-0-colab.googleusercontent.com/outputframe.html?vrz=colab-20221213-060111-RC00_494987091",
            "world_copy_jump": false,
            "zoom": 12,
            "zoom_animation_threshold": 4,
            "zoom_delta": 1,
            "zoom_snap": 1
          }
        },
        "7e56098aee214fe1aa01bd107215862a": {
          "model_module": "jupyter-leaflet",
          "model_module_version": "^0.17",
          "model_name": "LeafletZoomControlModel",
          "state": {
            "_model_module": "jupyter-leaflet",
            "_model_module_version": "^0.17",
            "_model_name": "LeafletZoomControlModel",
            "_view_count": null,
            "_view_module": "jupyter-leaflet",
            "_view_module_version": "^0.17",
            "_view_name": "LeafletZoomControlView",
            "options": [
              "position",
              "zoom_in_text",
              "zoom_in_title",
              "zoom_out_text",
              "zoom_out_title"
            ],
            "position": "topleft",
            "zoom_in_text": "+",
            "zoom_in_title": "Zoom in",
            "zoom_out_text": "-",
            "zoom_out_title": "Zoom out"
          }
        },
        "7ea30457903e4181a4168321e3ed73ff": {
          "model_module": "jupyter-leaflet",
          "model_module_version": "^0.17",
          "model_name": "LeafletTileLayerModel",
          "state": {
            "_model_module": "jupyter-leaflet",
            "_model_module_version": "^0.17",
            "_model_name": "LeafletTileLayerModel",
            "_view_count": null,
            "_view_module": "jupyter-leaflet",
            "_view_module_version": "^0.17",
            "_view_name": "LeafletTileLayerView",
            "attribution": "Map tiles by <a href=\"http://stamen.com\">Stamen Design</a>, <a href=\"http://creativecommons.org/licenses/by/3.0\">CC BY 3.0</a> &mdash; Map data &copy; <a href=\"https://www.openstreetmap.org/copyright\">OpenStreetMap</a> contributors",
            "base": true,
            "bottom": true,
            "bounds": null,
            "detect_retina": false,
            "loading": false,
            "max_native_zoom": null,
            "max_zoom": 16,
            "min_native_zoom": null,
            "min_zoom": 1,
            "name": "Stamen.Watercolor",
            "no_wrap": false,
            "opacity": 1,
            "options": [
              "attribution",
              "bounds",
              "detect_retina",
              "max_native_zoom",
              "max_zoom",
              "min_native_zoom",
              "min_zoom",
              "no_wrap",
              "tile_size",
              "tms",
              "zoom_offset"
            ],
            "pane": "",
            "popup": null,
            "popup_max_height": null,
            "popup_max_width": 300,
            "popup_min_width": 50,
            "show_loading": false,
            "subitems": [],
            "tile_size": 256,
            "tms": false,
            "url": "https://stamen-tiles-a.a.ssl.fastly.net/watercolor/{z}/{x}/{y}.jpg",
            "visible": true,
            "zoom_offset": 0
          }
        },
        "7ed09d05672f4b38b74edf97d84610c0": {
          "model_module": "@jupyter-widgets/base",
          "model_module_version": "1.2.0",
          "model_name": "LayoutModel",
          "state": {
            "_model_module": "@jupyter-widgets/base",
            "_model_module_version": "1.2.0",
            "_model_name": "LayoutModel",
            "_view_count": null,
            "_view_module": "@jupyter-widgets/base",
            "_view_module_version": "1.2.0",
            "_view_name": "LayoutView",
            "align_content": null,
            "align_items": null,
            "align_self": null,
            "border": null,
            "bottom": null,
            "display": null,
            "flex": null,
            "flex_flow": null,
            "grid_area": null,
            "grid_auto_columns": null,
            "grid_auto_flow": null,
            "grid_auto_rows": null,
            "grid_column": null,
            "grid_gap": null,
            "grid_row": null,
            "grid_template_areas": null,
            "grid_template_columns": null,
            "grid_template_rows": null,
            "height": null,
            "justify_content": null,
            "justify_items": null,
            "left": null,
            "margin": null,
            "max_height": null,
            "max_width": null,
            "min_height": null,
            "min_width": null,
            "object_fit": null,
            "object_position": null,
            "order": null,
            "overflow": null,
            "overflow_x": null,
            "overflow_y": null,
            "padding": null,
            "right": null,
            "top": null,
            "visibility": null,
            "width": "100%"
          }
        },
        "81e886c57a524933b92c0a6319824223": {
          "model_module": "@jupyter-widgets/base",
          "model_module_version": "1.2.0",
          "model_name": "LayoutModel",
          "state": {
            "_model_module": "@jupyter-widgets/base",
            "_model_module_version": "1.2.0",
            "_model_name": "LayoutModel",
            "_view_count": null,
            "_view_module": "@jupyter-widgets/base",
            "_view_module_version": "1.2.0",
            "_view_name": "LayoutView",
            "align_content": null,
            "align_items": null,
            "align_self": null,
            "border": null,
            "bottom": null,
            "display": null,
            "flex": null,
            "flex_flow": null,
            "grid_area": null,
            "grid_auto_columns": null,
            "grid_auto_flow": null,
            "grid_auto_rows": null,
            "grid_column": null,
            "grid_gap": null,
            "grid_row": null,
            "grid_template_areas": null,
            "grid_template_columns": null,
            "grid_template_rows": null,
            "height": null,
            "justify_content": null,
            "justify_items": null,
            "left": null,
            "margin": null,
            "max_height": null,
            "max_width": null,
            "min_height": null,
            "min_width": null,
            "object_fit": null,
            "object_position": null,
            "order": null,
            "overflow": null,
            "overflow_x": null,
            "overflow_y": null,
            "padding": null,
            "right": null,
            "top": null,
            "visibility": null,
            "width": "100%"
          }
        },
        "821d515b9258450baeb8ea689cec548c": {
          "model_module": "jupyter-leaflet",
          "model_module_version": "^0.17",
          "model_name": "LeafletMapModel",
          "state": {
            "_dom_classes": [],
            "_model_module": "jupyter-leaflet",
            "_model_module_version": "^0.17",
            "_model_name": "LeafletMapModel",
            "_view_count": null,
            "_view_module": "jupyter-leaflet",
            "_view_module_version": "^0.17",
            "_view_name": "LeafletMapView",
            "bottom": 96458,
            "bounce_at_zoom_limits": true,
            "box_zoom": true,
            "center": [
              43.06727755565937,
              -89.41813684593848
            ],
            "close_popup_on_click": true,
            "controls": [
              "IPY_MODEL_94f0507c4ed549adbda3a0bd8795a1a0",
              "IPY_MODEL_f04854d837bd4fde886371d1689674d5",
              "IPY_MODEL_3b5e8e895914419594c50a084e0b1c27"
            ],
            "crs": {
              "custom": false,
              "name": "EPSG3857"
            },
            "default_style": "IPY_MODEL_b91d8dd13e7d455c905ec1ceb680c26b",
            "double_click_zoom": true,
            "dragging": true,
            "dragging_style": "IPY_MODEL_de8f56a134014c3ca188ec56dc9a6f1e",
            "east": -89.20349121093751,
            "fullscreen": false,
            "inertia": true,
            "inertia_deceleration": 3000,
            "inertia_max_speed": 1500,
            "interpolation": "bilinear",
            "keyboard": true,
            "keyboard_pan_offset": 80,
            "keyboard_zoom_offset": 1,
            "layers": [
              "IPY_MODEL_c5488ed59c514d9083efa28c13a2fead",
              "IPY_MODEL_a3491bdb3d2e482baaf88f698725af41"
            ],
            "layout": "IPY_MODEL_ef816c8a353740ef9c0f2c69ee01f6c8",
            "left": 65804,
            "max_zoom": null,
            "min_zoom": null,
            "modisdate": "2022-12-13",
            "north": 43.26720631662829,
            "options": [
              "bounce_at_zoom_limits",
              "box_zoom",
              "center",
              "close_popup_on_click",
              "double_click_zoom",
              "dragging",
              "fullscreen",
              "inertia",
              "inertia_deceleration",
              "inertia_max_speed",
              "interpolation",
              "keyboard",
              "keyboard_pan_offset",
              "keyboard_zoom_offset",
              "max_zoom",
              "min_zoom",
              "prefer_canvas",
              "scroll_wheel_zoom",
              "tap",
              "tap_tolerance",
              "touch_zoom",
              "world_copy_jump",
              "zoom",
              "zoom_animation_threshold",
              "zoom_delta",
              "zoom_snap"
            ],
            "panes": {},
            "prefer_canvas": false,
            "right": 66116,
            "scroll_wheel_zoom": false,
            "south": 42.86589941517495,
            "style": "IPY_MODEL_91b3dc4c47864ca6b5c079ce7a5e9807",
            "tap": true,
            "tap_tolerance": 15,
            "top": 96058,
            "touch_zoom": true,
            "west": -89.63195800781251,
            "window_url": "https://o1sj2ys0a3g-496ff2e9c6d22116-0-colab.googleusercontent.com/outputframe.html?vrz=colab-20221213-060111-RC00_494987091",
            "world_copy_jump": false,
            "zoom": 10,
            "zoom_animation_threshold": 4,
            "zoom_delta": 1,
            "zoom_snap": 1
          }
        },
        "82e020980c1a46e5859524511ad1d809": {
          "model_module": "@jupyter-widgets/base",
          "model_module_version": "1.2.0",
          "model_name": "LayoutModel",
          "state": {
            "_model_module": "@jupyter-widgets/base",
            "_model_module_version": "1.2.0",
            "_model_name": "LayoutModel",
            "_view_count": null,
            "_view_module": "@jupyter-widgets/base",
            "_view_module_version": "1.2.0",
            "_view_name": "LayoutView",
            "align_content": null,
            "align_items": null,
            "align_self": null,
            "border": null,
            "bottom": null,
            "display": null,
            "flex": null,
            "flex_flow": null,
            "grid_area": null,
            "grid_auto_columns": null,
            "grid_auto_flow": null,
            "grid_auto_rows": null,
            "grid_column": null,
            "grid_gap": null,
            "grid_row": null,
            "grid_template_areas": null,
            "grid_template_columns": null,
            "grid_template_rows": null,
            "height": null,
            "justify_content": null,
            "justify_items": null,
            "left": null,
            "margin": null,
            "max_height": null,
            "max_width": null,
            "min_height": null,
            "min_width": null,
            "object_fit": null,
            "object_position": null,
            "order": null,
            "overflow": null,
            "overflow_x": null,
            "overflow_y": null,
            "padding": null,
            "right": null,
            "top": null,
            "visibility": null,
            "width": null
          }
        },
        "8380e84f56f642c4a4b54d7894bb034b": {
          "model_module": "ipytree",
          "model_module_version": "^0.2",
          "model_name": "TreeModel",
          "state": {
            "_dom_classes": [],
            "_id": "#",
            "_model_module": "ipytree",
            "_model_module_version": "^0.2",
            "_model_name": "TreeModel",
            "_view_count": null,
            "_view_module": "ipytree",
            "_view_module_version": "^0.2",
            "_view_name": "TreeView",
            "animation": 200,
            "layout": "IPY_MODEL_1ab7dea2a8d24796be9c670b585f4667",
            "multiple_selection": true,
            "nodes": [
              "IPY_MODEL_fa87223f2ab34706bc62ba0b85612a32",
              "IPY_MODEL_c65209d6770847ef89fb44c71c2b0769",
              "IPY_MODEL_6022297ec30c438d8a6340f95f00faae"
            ],
            "selected_nodes": []
          }
        },
        "84155cfc6beb4cd6ac3a5b07f3fefbab": {
          "model_module": "@jupyter-widgets/base",
          "model_module_version": "1.2.0",
          "model_name": "LayoutModel",
          "state": {
            "_model_module": "@jupyter-widgets/base",
            "_model_module_version": "1.2.0",
            "_model_name": "LayoutModel",
            "_view_count": null,
            "_view_module": "@jupyter-widgets/base",
            "_view_module_version": "1.2.0",
            "_view_name": "LayoutView",
            "align_content": null,
            "align_items": null,
            "align_self": null,
            "border": null,
            "bottom": null,
            "display": null,
            "flex": null,
            "flex_flow": null,
            "grid_area": null,
            "grid_auto_columns": null,
            "grid_auto_flow": null,
            "grid_auto_rows": null,
            "grid_column": null,
            "grid_gap": null,
            "grid_row": null,
            "grid_template_areas": null,
            "grid_template_columns": null,
            "grid_template_rows": null,
            "height": null,
            "justify_content": null,
            "justify_items": null,
            "left": null,
            "margin": null,
            "max_height": "400px",
            "max_width": null,
            "min_height": null,
            "min_width": null,
            "object_fit": null,
            "object_position": null,
            "order": null,
            "overflow": "scroll",
            "overflow_x": null,
            "overflow_y": null,
            "padding": null,
            "right": null,
            "top": null,
            "visibility": null,
            "width": "50.0%"
          }
        },
        "8488be3befb347669d8680734dbb5c40": {
          "model_module": "ipytree",
          "model_module_version": "^0.2",
          "model_name": "NodeModel",
          "state": {
            "_id": "1431db7d-16de-4b7d-a69a-effb8540cb54",
            "_model_module": "ipytree",
            "_model_module_version": "^0.2",
            "_model_name": "NodeModel",
            "_view_count": null,
            "_view_module": "ipytree",
            "_view_module_version": "^0.2",
            "_view_name": "NodeView",
            "close_icon": "minus",
            "close_icon_style": "default",
            "disabled": true,
            "icon": "archive",
            "icon_image": "",
            "icon_style": "default",
            "name": "Pixels",
            "nodes": [],
            "open_icon": "plus",
            "open_icon_style": "default",
            "opened": true,
            "selected": false,
            "show_icon": true
          }
        },
        "85291349e8ea445ab68f0b99d763376b": {
          "model_module": "jupyter-leaflet",
          "model_module_version": "^0.17",
          "model_name": "LeafletMapStyleModel",
          "state": {
            "_model_module": "jupyter-leaflet",
            "_model_module_version": "^0.17",
            "_model_name": "LeafletMapStyleModel",
            "_view_count": null,
            "_view_module": "@jupyter-widgets/base",
            "_view_module_version": "1.2.0",
            "_view_name": "StyleView",
            "cursor": "crosshair"
          }
        },
        "88c0c91d90d54595bb89711b3b65decf": {
          "model_module": "@jupyter-widgets/base",
          "model_module_version": "1.2.0",
          "model_name": "LayoutModel",
          "state": {
            "_model_module": "@jupyter-widgets/base",
            "_model_module_version": "1.2.0",
            "_model_name": "LayoutModel",
            "_view_count": null,
            "_view_module": "@jupyter-widgets/base",
            "_view_module_version": "1.2.0",
            "_view_name": "LayoutView",
            "align_content": null,
            "align_items": null,
            "align_self": null,
            "border": null,
            "bottom": null,
            "display": null,
            "flex": null,
            "flex_flow": null,
            "grid_area": null,
            "grid_auto_columns": null,
            "grid_auto_flow": null,
            "grid_auto_rows": null,
            "grid_column": null,
            "grid_gap": null,
            "grid_row": null,
            "grid_template_areas": null,
            "grid_template_columns": null,
            "grid_template_rows": null,
            "height": null,
            "justify_content": null,
            "justify_items": null,
            "left": null,
            "margin": null,
            "max_height": null,
            "max_width": null,
            "min_height": null,
            "min_width": null,
            "object_fit": null,
            "object_position": null,
            "order": null,
            "overflow": null,
            "overflow_x": null,
            "overflow_y": null,
            "padding": null,
            "right": null,
            "top": null,
            "visibility": null,
            "width": "100%"
          }
        },
        "894838e8c32e4dcaad5d428b72fa4272": {
          "model_module": "jupyter-leaflet",
          "model_module_version": "^0.17",
          "model_name": "LeafletMapStyleModel",
          "state": {
            "_model_module": "jupyter-leaflet",
            "_model_module_version": "^0.17",
            "_model_name": "LeafletMapStyleModel",
            "_view_count": null,
            "_view_module": "@jupyter-widgets/base",
            "_view_module_version": "1.2.0",
            "_view_name": "StyleView",
            "cursor": "grab"
          }
        },
        "8be2daf7eff44691933b5dcae81db3ca": {
          "model_module": "@jupyter-widgets/controls",
          "model_module_version": "1.5.0",
          "model_name": "VBoxModel",
          "state": {
            "_dom_classes": [],
            "_model_module": "@jupyter-widgets/controls",
            "_model_module_version": "1.5.0",
            "_model_name": "VBoxModel",
            "_view_count": null,
            "_view_module": "@jupyter-widgets/controls",
            "_view_module_version": "1.5.0",
            "_view_name": "VBoxView",
            "box_style": "",
            "children": [
              "IPY_MODEL_e75d0884a7ee408e8dda79477efef14c",
              "IPY_MODEL_eb1fb53a055747f68d2ae13f577598eb"
            ],
            "layout": "IPY_MODEL_d5b81e810a8a48cb96f25fb243721fe0"
          }
        },
        "8c57ae11b7aa4f08bbfd1e8160d2ad49": {
          "model_module": "jupyter-leaflet",
          "model_module_version": "^0.17",
          "model_name": "LeafletAttributionControlModel",
          "state": {
            "_model_module": "jupyter-leaflet",
            "_model_module_version": "^0.17",
            "_model_name": "LeafletAttributionControlModel",
            "_view_count": null,
            "_view_module": "jupyter-leaflet",
            "_view_module_version": "^0.17",
            "_view_name": "LeafletAttributionControlView",
            "options": [
              "position",
              "prefix"
            ],
            "position": "bottomright",
            "prefix": "ipyleaflet"
          }
        },
        "8f9b5747a9134638adad77a24e114ddf": {
          "model_module": "jupyter-leaflet",
          "model_module_version": "^0.17",
          "model_name": "LeafletZoomControlModel",
          "state": {
            "_model_module": "jupyter-leaflet",
            "_model_module_version": "^0.17",
            "_model_name": "LeafletZoomControlModel",
            "_view_count": null,
            "_view_module": "jupyter-leaflet",
            "_view_module_version": "^0.17",
            "_view_name": "LeafletZoomControlView",
            "options": [
              "position",
              "zoom_in_text",
              "zoom_in_title",
              "zoom_out_text",
              "zoom_out_title"
            ],
            "position": "topleft",
            "zoom_in_text": "+",
            "zoom_in_title": "Zoom in",
            "zoom_out_text": "-",
            "zoom_out_title": "Zoom out"
          }
        },
        "8ff28e78ad3642399b536ee4e4c47e78": {
          "model_module": "jupyter-leaflet",
          "model_module_version": "^0.17",
          "model_name": "LeafletTileLayerModel",
          "state": {
            "_model_module": "jupyter-leaflet",
            "_model_module_version": "^0.17",
            "_model_name": "LeafletTileLayerModel",
            "_view_count": null,
            "_view_module": "jupyter-leaflet",
            "_view_module_version": "^0.17",
            "_view_name": "LeafletTileLayerView",
            "attribution": "Map tiles by <a href=\"http://stamen.com\">Stamen Design</a>, <a href=\"http://creativecommons.org/licenses/by/3.0\">CC BY 3.0</a> &mdash; Map data &copy; <a href=\"https://www.openstreetmap.org/copyright\">OpenStreetMap</a> contributors",
            "base": true,
            "bottom": true,
            "bounds": null,
            "detect_retina": false,
            "loading": false,
            "max_native_zoom": null,
            "max_zoom": 16,
            "min_native_zoom": null,
            "min_zoom": 1,
            "name": "Stamen.Watercolor",
            "no_wrap": false,
            "opacity": 1,
            "options": [
              "attribution",
              "bounds",
              "detect_retina",
              "max_native_zoom",
              "max_zoom",
              "min_native_zoom",
              "min_zoom",
              "no_wrap",
              "tile_size",
              "tms",
              "zoom_offset"
            ],
            "pane": "",
            "popup": null,
            "popup_max_height": null,
            "popup_max_width": 300,
            "popup_min_width": 50,
            "show_loading": false,
            "subitems": [],
            "tile_size": 256,
            "tms": false,
            "url": "https://stamen-tiles-a.a.ssl.fastly.net/watercolor/{z}/{x}/{y}.jpg",
            "visible": true,
            "zoom_offset": 0
          }
        },
        "9096cbbbfed34c1da10f9a8e9ea092b0": {
          "model_module": "jupyter-leaflet",
          "model_module_version": "^0.17",
          "model_name": "LeafletLayersControlModel",
          "state": {
            "_model_module": "jupyter-leaflet",
            "_model_module_version": "^0.17",
            "_model_name": "LeafletLayersControlModel",
            "_view_count": null,
            "_view_module": "jupyter-leaflet",
            "_view_module_version": "^0.17",
            "_view_name": "LeafletLayersControlView",
            "options": [
              "position"
            ],
            "position": "topright"
          }
        },
        "90a38e0178fb4ba3948e6b6690c1e5c0": {
          "model_module": "jupyter-leaflet",
          "model_module_version": "^0.17",
          "model_name": "LeafletMapModel",
          "state": {
            "_dom_classes": [],
            "_model_module": "jupyter-leaflet",
            "_model_module_version": "^0.17",
            "_model_name": "LeafletMapModel",
            "_view_count": null,
            "_view_module": "jupyter-leaflet",
            "_view_module_version": "^0.17",
            "_view_name": "LeafletMapView",
            "bottom": 6161986,
            "bounce_at_zoom_limits": true,
            "box_zoom": true,
            "center": [
              43.0469,
              -89.4235
            ],
            "close_popup_on_click": true,
            "controls": [
              "IPY_MODEL_b7ef470db0ab4b9e8f60c8b170bdc06d",
              "IPY_MODEL_3c9eb7adf067453c9c9944f458ce0452",
              "IPY_MODEL_deef0615c6da41b0aa5e14191266a702"
            ],
            "crs": {
              "custom": false,
              "name": "EPSG3857"
            },
            "default_style": "IPY_MODEL_262872652e4548a6bb924a9ab13d8907",
            "double_click_zoom": true,
            "dragging": true,
            "dragging_style": "IPY_MODEL_a41dab6849374d7f9f37f52edb75a27e",
            "east": -89.42014932632448,
            "fullscreen": false,
            "inertia": true,
            "inertia_deceleration": 3000,
            "inertia_max_speed": 1500,
            "interpolation": "bilinear",
            "keyboard": true,
            "keyboard_pan_offset": 80,
            "keyboard_zoom_offset": 1,
            "layers": [
              "IPY_MODEL_8ff28e78ad3642399b536ee4e4c47e78"
            ],
            "layout": "IPY_MODEL_aee14fdf1e9843339338a9bd80fc1572",
            "left": 4221015,
            "max_zoom": null,
            "min_zoom": null,
            "modisdate": "2022-12-13",
            "north": 43.05004287699407,
            "options": [
              "bounce_at_zoom_limits",
              "box_zoom",
              "center",
              "close_popup_on_click",
              "double_click_zoom",
              "dragging",
              "fullscreen",
              "inertia",
              "inertia_deceleration",
              "inertia_max_speed",
              "interpolation",
              "keyboard",
              "keyboard_pan_offset",
              "keyboard_zoom_offset",
              "max_zoom",
              "min_zoom",
              "prefer_canvas",
              "scroll_wheel_zoom",
              "tap",
              "tap_tolerance",
              "touch_zoom",
              "world_copy_jump",
              "zoom",
              "zoom_animation_threshold",
              "zoom_delta",
              "zoom_snap"
            ],
            "panes": {},
            "prefer_canvas": false,
            "right": 4221327,
            "scroll_wheel_zoom": false,
            "south": 43.04377041216283,
            "style": "IPY_MODEL_e8b3d5ac4de74a1095d1acdb151526f0",
            "tap": true,
            "tap_tolerance": 15,
            "top": 6161586,
            "touch_zoom": true,
            "west": -89.42684412002565,
            "window_url": "https://o1sj2ys0a3g-496ff2e9c6d22116-0-colab.googleusercontent.com/outputframe.html?vrz=colab-20221213-060111-RC00_494987091",
            "world_copy_jump": false,
            "zoom": 16,
            "zoom_animation_threshold": 4,
            "zoom_delta": 1,
            "zoom_snap": 1
          }
        },
        "91b3dc4c47864ca6b5c079ce7a5e9807": {
          "model_module": "jupyter-leaflet",
          "model_module_version": "^0.17",
          "model_name": "LeafletMapStyleModel",
          "state": {
            "_model_module": "jupyter-leaflet",
            "_model_module_version": "^0.17",
            "_model_name": "LeafletMapStyleModel",
            "_view_count": null,
            "_view_module": "@jupyter-widgets/base",
            "_view_module_version": "1.2.0",
            "_view_name": "StyleView",
            "cursor": "grab"
          }
        },
        "933e958087204f90b27348b154d38ff8": {
          "model_module": "jupyter-leaflet",
          "model_module_version": "^0.17",
          "model_name": "LeafletTileLayerModel",
          "state": {
            "_model_module": "jupyter-leaflet",
            "_model_module_version": "^0.17",
            "_model_name": "LeafletTileLayerModel",
            "_view_count": null,
            "_view_module": "jupyter-leaflet",
            "_view_module_version": "^0.17",
            "_view_name": "LeafletTileLayerView",
            "attribution": null,
            "base": false,
            "bottom": true,
            "bounds": null,
            "detect_retina": false,
            "loading": false,
            "max_native_zoom": null,
            "max_zoom": 18,
            "min_native_zoom": null,
            "min_zoom": 0,
            "name": "Sentinel-2 Image",
            "no_wrap": false,
            "opacity": 1,
            "options": [
              "attribution",
              "bounds",
              "detect_retina",
              "max_native_zoom",
              "max_zoom",
              "min_native_zoom",
              "min_zoom",
              "no_wrap",
              "tile_size",
              "tms",
              "zoom_offset"
            ],
            "pane": "",
            "popup": null,
            "popup_max_height": null,
            "popup_max_width": 300,
            "popup_min_width": 50,
            "show_loading": false,
            "subitems": [],
            "tile_size": 256,
            "tms": false,
            "url": "https://earthengine.googleapis.com/v1alpha/projects/agu22-eetemp/maps/4afc128f0bacc260f504433b11947b13-e18dd52207d859dd74034c5378c5e7d7/tiles/{z}/{x}/{y}",
            "visible": true,
            "zoom_offset": 0
          }
        },
        "94b0512613d54c80a52babf5cb8298e5": {
          "model_module": "@jupyter-widgets/controls",
          "model_module_version": "1.5.0",
          "model_name": "HBoxModel",
          "state": {
            "_dom_classes": [],
            "_model_module": "@jupyter-widgets/controls",
            "_model_module_version": "1.5.0",
            "_model_name": "HBoxModel",
            "_view_count": null,
            "_view_module": "@jupyter-widgets/controls",
            "_view_module_version": "1.5.0",
            "_view_name": "HBoxView",
            "box_style": "",
            "children": [
              "IPY_MODEL_90a38e0178fb4ba3948e6b6690c1e5c0",
              "IPY_MODEL_e3f7ae4bdef746c9be4a1ccaf337858a"
            ],
            "layout": "IPY_MODEL_eaecec5d0ff04d5c96b4a580b67cff83"
          }
        },
        "94d1580992b1419483d666b0a2c45bab": {
          "model_module": "@jupyter-widgets/controls",
          "model_module_version": "1.5.0",
          "model_name": "VBoxModel",
          "state": {
            "_dom_classes": [],
            "_model_module": "@jupyter-widgets/controls",
            "_model_module_version": "1.5.0",
            "_model_name": "VBoxModel",
            "_view_count": null,
            "_view_module": "@jupyter-widgets/controls",
            "_view_module_version": "1.5.0",
            "_view_name": "VBoxView",
            "box_style": "",
            "children": [
              "IPY_MODEL_b6d00db251494c0a971fc02d411e60d7",
              "IPY_MODEL_2396dcfa64d9486e9be848310e41df8f"
            ],
            "layout": "IPY_MODEL_74216286708048e3b333be285f755a56"
          }
        },
        "94f0507c4ed549adbda3a0bd8795a1a0": {
          "model_module": "jupyter-leaflet",
          "model_module_version": "^0.17",
          "model_name": "LeafletZoomControlModel",
          "state": {
            "_model_module": "jupyter-leaflet",
            "_model_module_version": "^0.17",
            "_model_name": "LeafletZoomControlModel",
            "_view_count": null,
            "_view_module": "jupyter-leaflet",
            "_view_module_version": "^0.17",
            "_view_name": "LeafletZoomControlView",
            "options": [
              "position",
              "zoom_in_text",
              "zoom_in_title",
              "zoom_out_text",
              "zoom_out_title"
            ],
            "position": "topleft",
            "zoom_in_text": "+",
            "zoom_in_title": "Zoom in",
            "zoom_out_text": "-",
            "zoom_out_title": "Zoom out"
          }
        },
        "96462d1767ad4273b2d25e57c448e79b": {
          "model_module": "jupyter-leaflet",
          "model_module_version": "^0.17",
          "model_name": "LeafletMapStyleModel",
          "state": {
            "_model_module": "jupyter-leaflet",
            "_model_module_version": "^0.17",
            "_model_name": "LeafletMapStyleModel",
            "_view_count": null,
            "_view_module": "@jupyter-widgets/base",
            "_view_module_version": "1.2.0",
            "_view_name": "StyleView",
            "cursor": "grab"
          }
        },
        "96a5e22e9d374188a82fffb14853bd9b": {
          "model_module": "ipytree",
          "model_module_version": "^0.2",
          "model_name": "NodeModel",
          "state": {
            "_id": "b5ff0269-c801-45a3-bc26-404aabe55ef2",
            "_model_module": "ipytree",
            "_model_module_version": "^0.2",
            "_model_name": "NodeModel",
            "_view_count": null,
            "_view_module": "ipytree",
            "_view_module_version": "^0.2",
            "_view_name": "NodeView",
            "close_icon": "minus",
            "close_icon_style": "default",
            "disabled": true,
            "icon": "archive",
            "icon_image": "",
            "icon_style": "default",
            "name": "Objects",
            "nodes": [],
            "open_icon": "plus",
            "open_icon_style": "default",
            "opened": true,
            "selected": false,
            "show_icon": true
          }
        },
        "98b42236dd3c47f285d805d92654c24f": {
          "model_module": "@jupyter-widgets/base",
          "model_module_version": "1.2.0",
          "model_name": "LayoutModel",
          "state": {
            "_model_module": "@jupyter-widgets/base",
            "_model_module_version": "1.2.0",
            "_model_name": "LayoutModel",
            "_view_count": null,
            "_view_module": "@jupyter-widgets/base",
            "_view_module_version": "1.2.0",
            "_view_name": "LayoutView",
            "align_content": null,
            "align_items": null,
            "align_self": null,
            "border": null,
            "bottom": null,
            "display": null,
            "flex": null,
            "flex_flow": null,
            "grid_area": null,
            "grid_auto_columns": null,
            "grid_auto_flow": null,
            "grid_auto_rows": null,
            "grid_column": null,
            "grid_gap": null,
            "grid_row": null,
            "grid_template_areas": null,
            "grid_template_columns": null,
            "grid_template_rows": null,
            "height": null,
            "justify_content": null,
            "justify_items": null,
            "left": null,
            "margin": null,
            "max_height": null,
            "max_width": null,
            "min_height": null,
            "min_width": null,
            "object_fit": null,
            "object_position": null,
            "order": null,
            "overflow": null,
            "overflow_x": null,
            "overflow_y": null,
            "padding": null,
            "right": null,
            "top": null,
            "visibility": null,
            "width": "50.0%"
          }
        },
        "99513c42917a4733a097f658ae9a68c8": {
          "model_module": "jupyter-leaflet",
          "model_module_version": "^0.17",
          "model_name": "LeafletMapStyleModel",
          "state": {
            "_model_module": "jupyter-leaflet",
            "_model_module_version": "^0.17",
            "_model_name": "LeafletMapStyleModel",
            "_view_count": null,
            "_view_module": "@jupyter-widgets/base",
            "_view_module_version": "1.2.0",
            "_view_name": "StyleView",
            "cursor": "grab"
          }
        },
        "99a7bcd1a7204f10a0e9becc8f501668": {
          "model_module": "jupyter-leaflet",
          "model_module_version": "^0.17",
          "model_name": "LeafletTileLayerModel",
          "state": {
            "_model_module": "jupyter-leaflet",
            "_model_module_version": "^0.17",
            "_model_name": "LeafletTileLayerModel",
            "_view_count": null,
            "_view_module": "jupyter-leaflet",
            "_view_module_version": "^0.17",
            "_view_name": "LeafletTileLayerView",
            "attribution": null,
            "base": false,
            "bottom": true,
            "bounds": null,
            "detect_retina": false,
            "loading": false,
            "max_native_zoom": null,
            "max_zoom": 18,
            "min_native_zoom": null,
            "min_zoom": 0,
            "name": "Probability Hillshade",
            "no_wrap": false,
            "opacity": 1,
            "options": [
              "attribution",
              "bounds",
              "detect_retina",
              "max_native_zoom",
              "max_zoom",
              "min_native_zoom",
              "min_zoom",
              "no_wrap",
              "tile_size",
              "tms",
              "zoom_offset"
            ],
            "pane": "",
            "popup": null,
            "popup_max_height": null,
            "popup_max_width": 300,
            "popup_min_width": 50,
            "show_loading": false,
            "subitems": [],
            "tile_size": 256,
            "tms": false,
            "url": "https://earthengine.googleapis.com/v1alpha/projects/agu22-eetemp/maps/95c5f6cc260db8fa1177956b614b4964-50204f74a2d94d88e3cd4f7bbb74ba92/tiles/{z}/{x}/{y}",
            "visible": true,
            "zoom_offset": 0
          }
        },
        "9a82d66712ff4a62a1be8fb12c1ec4d9": {
          "model_module": "jupyter-leaflet",
          "model_module_version": "^0.17",
          "model_name": "LeafletLayersControlModel",
          "state": {
            "_model_module": "jupyter-leaflet",
            "_model_module_version": "^0.17",
            "_model_name": "LeafletLayersControlModel",
            "_view_count": null,
            "_view_module": "jupyter-leaflet",
            "_view_module_version": "^0.17",
            "_view_name": "LeafletLayersControlView",
            "options": [
              "position"
            ],
            "position": "topright"
          }
        },
        "9d319119711643e189755d313a11556f": {
          "model_module": "jupyter-leaflet",
          "model_module_version": "^0.17",
          "model_name": "LeafletLayersControlModel",
          "state": {
            "_model_module": "jupyter-leaflet",
            "_model_module_version": "^0.17",
            "_model_name": "LeafletLayersControlModel",
            "_view_count": null,
            "_view_module": "jupyter-leaflet",
            "_view_module_version": "^0.17",
            "_view_name": "LeafletLayersControlView",
            "options": [
              "position"
            ],
            "position": "topright"
          }
        },
        "9d5826cac2914e54b1d5fe110ad2950a": {
          "model_module": "@jupyter-widgets/base",
          "model_module_version": "1.2.0",
          "model_name": "LayoutModel",
          "state": {
            "_model_module": "@jupyter-widgets/base",
            "_model_module_version": "1.2.0",
            "_model_name": "LayoutModel",
            "_view_count": null,
            "_view_module": "@jupyter-widgets/base",
            "_view_module_version": "1.2.0",
            "_view_name": "LayoutView",
            "align_content": null,
            "align_items": null,
            "align_self": null,
            "border": null,
            "bottom": null,
            "display": null,
            "flex": null,
            "flex_flow": null,
            "grid_area": null,
            "grid_auto_columns": null,
            "grid_auto_flow": null,
            "grid_auto_rows": null,
            "grid_column": null,
            "grid_gap": null,
            "grid_row": null,
            "grid_template_areas": null,
            "grid_template_columns": null,
            "grid_template_rows": null,
            "height": null,
            "justify_content": null,
            "justify_items": null,
            "left": null,
            "margin": null,
            "max_height": null,
            "max_width": null,
            "min_height": null,
            "min_width": null,
            "object_fit": null,
            "object_position": null,
            "order": null,
            "overflow": null,
            "overflow_x": null,
            "overflow_y": null,
            "padding": null,
            "right": null,
            "top": null,
            "visibility": null,
            "width": null
          }
        },
        "9d778ba25f664d18bfb83f377db3d2be": {
          "model_module": "@jupyter-widgets/base",
          "model_module_version": "1.2.0",
          "model_name": "LayoutModel",
          "state": {
            "_model_module": "@jupyter-widgets/base",
            "_model_module_version": "1.2.0",
            "_model_name": "LayoutModel",
            "_view_count": null,
            "_view_module": "@jupyter-widgets/base",
            "_view_module_version": "1.2.0",
            "_view_name": "LayoutView",
            "align_content": null,
            "align_items": null,
            "align_self": null,
            "border": null,
            "bottom": null,
            "display": null,
            "flex": null,
            "flex_flow": null,
            "grid_area": null,
            "grid_auto_columns": null,
            "grid_auto_flow": null,
            "grid_auto_rows": null,
            "grid_column": null,
            "grid_gap": null,
            "grid_row": null,
            "grid_template_areas": null,
            "grid_template_columns": null,
            "grid_template_rows": null,
            "height": null,
            "justify_content": null,
            "justify_items": null,
            "left": null,
            "margin": null,
            "max_height": null,
            "max_width": null,
            "min_height": null,
            "min_width": null,
            "object_fit": null,
            "object_position": null,
            "order": null,
            "overflow": null,
            "overflow_x": null,
            "overflow_y": null,
            "padding": null,
            "right": null,
            "top": null,
            "visibility": null,
            "width": "100%"
          }
        },
        "a04854e8ff6741088918d99937d3f933": {
          "model_module": "@jupyter-widgets/base",
          "model_module_version": "1.2.0",
          "model_name": "LayoutModel",
          "state": {
            "_model_module": "@jupyter-widgets/base",
            "_model_module_version": "1.2.0",
            "_model_name": "LayoutModel",
            "_view_count": null,
            "_view_module": "@jupyter-widgets/base",
            "_view_module_version": "1.2.0",
            "_view_name": "LayoutView",
            "align_content": null,
            "align_items": null,
            "align_self": null,
            "border": null,
            "bottom": null,
            "display": null,
            "flex": null,
            "flex_flow": null,
            "grid_area": null,
            "grid_auto_columns": null,
            "grid_auto_flow": null,
            "grid_auto_rows": null,
            "grid_column": null,
            "grid_gap": null,
            "grid_row": null,
            "grid_template_areas": null,
            "grid_template_columns": null,
            "grid_template_rows": null,
            "height": null,
            "justify_content": null,
            "justify_items": null,
            "left": null,
            "margin": null,
            "max_height": null,
            "max_width": null,
            "min_height": null,
            "min_width": null,
            "object_fit": null,
            "object_position": null,
            "order": null,
            "overflow": null,
            "overflow_x": null,
            "overflow_y": null,
            "padding": null,
            "right": null,
            "top": null,
            "visibility": null,
            "width": null
          }
        },
        "a19cc6fea53342159adb65827de713c2": {
          "model_module": "jupyter-leaflet",
          "model_module_version": "^0.17",
          "model_name": "LeafletZoomControlModel",
          "state": {
            "_model_module": "jupyter-leaflet",
            "_model_module_version": "^0.17",
            "_model_name": "LeafletZoomControlModel",
            "_view_count": null,
            "_view_module": "jupyter-leaflet",
            "_view_module_version": "^0.17",
            "_view_name": "LeafletZoomControlView",
            "options": [
              "position",
              "zoom_in_text",
              "zoom_in_title",
              "zoom_out_text",
              "zoom_out_title"
            ],
            "position": "topleft",
            "zoom_in_text": "+",
            "zoom_in_title": "Zoom in",
            "zoom_out_text": "-",
            "zoom_out_title": "Zoom out"
          }
        },
        "a3491bdb3d2e482baaf88f698725af41": {
          "model_module": "jupyter-leaflet",
          "model_module_version": "^0.17",
          "model_name": "LeafletTileLayerModel",
          "state": {
            "_model_module": "jupyter-leaflet",
            "_model_module_version": "^0.17",
            "_model_name": "LeafletTileLayerModel",
            "_view_count": null,
            "_view_module": "jupyter-leaflet",
            "_view_module_version": "^0.17",
            "_view_name": "LeafletTileLayerView",
            "attribution": null,
            "base": false,
            "bottom": true,
            "bounds": null,
            "detect_retina": false,
            "loading": false,
            "max_native_zoom": null,
            "max_zoom": 18,
            "min_native_zoom": null,
            "min_zoom": 0,
            "name": "Classified Composite",
            "no_wrap": false,
            "opacity": 1,
            "options": [
              "attribution",
              "bounds",
              "detect_retina",
              "max_native_zoom",
              "max_zoom",
              "min_native_zoom",
              "min_zoom",
              "no_wrap",
              "tile_size",
              "tms",
              "zoom_offset"
            ],
            "pane": "",
            "popup": null,
            "popup_max_height": null,
            "popup_max_width": 300,
            "popup_min_width": 50,
            "show_loading": false,
            "subitems": [],
            "tile_size": 256,
            "tms": false,
            "url": "https://earthengine.googleapis.com/v1alpha/projects/agu22-eetemp/maps/7651b5b7446804b4e2a75f61e45f6814-4c2da47c0f07207968fc8fb2ae2bce3e/tiles/{z}/{x}/{y}",
            "visible": true,
            "zoom_offset": 0
          }
        },
        "a41dab6849374d7f9f37f52edb75a27e": {
          "model_module": "jupyter-leaflet",
          "model_module_version": "^0.17",
          "model_name": "LeafletMapStyleModel",
          "state": {
            "_model_module": "jupyter-leaflet",
            "_model_module_version": "^0.17",
            "_model_name": "LeafletMapStyleModel",
            "_view_count": null,
            "_view_module": "@jupyter-widgets/base",
            "_view_module_version": "1.2.0",
            "_view_name": "StyleView",
            "cursor": "move"
          }
        },
        "a461190f6ebd42538423be7d43a38df8": {
          "model_module": "jupyter-leaflet",
          "model_module_version": "^0.17",
          "model_name": "LeafletTileLayerModel",
          "state": {
            "_model_module": "jupyter-leaflet",
            "_model_module_version": "^0.17",
            "_model_name": "LeafletTileLayerModel",
            "_view_count": null,
            "_view_module": "jupyter-leaflet",
            "_view_module_version": "^0.17",
            "_view_name": "LeafletTileLayerView",
            "attribution": null,
            "base": false,
            "bottom": true,
            "bounds": null,
            "detect_retina": false,
            "loading": false,
            "max_native_zoom": null,
            "max_zoom": 18,
            "min_native_zoom": null,
            "min_zoom": 0,
            "name": "Built Areas",
            "no_wrap": false,
            "opacity": 1,
            "options": [
              "attribution",
              "bounds",
              "detect_retina",
              "max_native_zoom",
              "max_zoom",
              "min_native_zoom",
              "min_zoom",
              "no_wrap",
              "tile_size",
              "tms",
              "zoom_offset"
            ],
            "pane": "",
            "popup": null,
            "popup_max_height": null,
            "popup_max_width": 300,
            "popup_min_width": 50,
            "show_loading": false,
            "subitems": [],
            "tile_size": 256,
            "tms": false,
            "url": "https://earthengine.googleapis.com/v1alpha/projects/agu22-eetemp/maps/8827cc245721d9d04b9b2a6f8a9e3962-6917eac5a57a63350bc313fa84d843c1/tiles/{z}/{x}/{y}",
            "visible": true,
            "zoom_offset": 0
          }
        },
        "a8bc8b45a44b47efb2b01ac292f2771f": {
          "model_module": "jupyter-leaflet",
          "model_module_version": "^0.17",
          "model_name": "LeafletMapStyleModel",
          "state": {
            "_model_module": "jupyter-leaflet",
            "_model_module_version": "^0.17",
            "_model_name": "LeafletMapStyleModel",
            "_view_count": null,
            "_view_module": "@jupyter-widgets/base",
            "_view_module_version": "1.2.0",
            "_view_name": "StyleView",
            "cursor": "crosshair"
          }
        },
        "a9485c2e7ad94f4082311e0e061a0e77": {
          "model_module": "jupyter-leaflet",
          "model_module_version": "^0.17",
          "model_name": "LeafletTileLayerModel",
          "state": {
            "_model_module": "jupyter-leaflet",
            "_model_module_version": "^0.17",
            "_model_name": "LeafletTileLayerModel",
            "_view_count": null,
            "_view_module": "jupyter-leaflet",
            "_view_module_version": "^0.17",
            "_view_name": "LeafletTileLayerView",
            "attribution": "Map tiles by <a href=\"http://stamen.com\">Stamen Design</a>, <a href=\"http://creativecommons.org/licenses/by/3.0\">CC BY 3.0</a> &mdash; Map data &copy; <a href=\"https://www.openstreetmap.org/copyright\">OpenStreetMap</a> contributors",
            "base": true,
            "bottom": true,
            "bounds": null,
            "detect_retina": false,
            "loading": false,
            "max_native_zoom": null,
            "max_zoom": 16,
            "min_native_zoom": null,
            "min_zoom": 1,
            "name": "Stamen.Watercolor",
            "no_wrap": false,
            "opacity": 1,
            "options": [
              "attribution",
              "bounds",
              "detect_retina",
              "max_native_zoom",
              "max_zoom",
              "min_native_zoom",
              "min_zoom",
              "no_wrap",
              "tile_size",
              "tms",
              "zoom_offset"
            ],
            "pane": "",
            "popup": null,
            "popup_max_height": null,
            "popup_max_width": 300,
            "popup_min_width": 50,
            "show_loading": false,
            "subitems": [],
            "tile_size": 256,
            "tms": false,
            "url": "https://stamen-tiles-a.a.ssl.fastly.net/watercolor/{z}/{x}/{y}.jpg",
            "visible": true,
            "zoom_offset": 0
          }
        },
        "aa45f561faf44bc38318271bf42719d4": {
          "model_module": "jupyter-leaflet",
          "model_module_version": "^0.17",
          "model_name": "LeafletMapStyleModel",
          "state": {
            "_model_module": "jupyter-leaflet",
            "_model_module_version": "^0.17",
            "_model_name": "LeafletMapStyleModel",
            "_view_count": null,
            "_view_module": "@jupyter-widgets/base",
            "_view_module_version": "1.2.0",
            "_view_name": "StyleView",
            "cursor": "move"
          }
        },
        "ae37065925ba4dc3b09c3d26276170e1": {
          "model_module": "@jupyter-widgets/base",
          "model_module_version": "1.2.0",
          "model_name": "LayoutModel",
          "state": {
            "_model_module": "@jupyter-widgets/base",
            "_model_module_version": "1.2.0",
            "_model_name": "LayoutModel",
            "_view_count": null,
            "_view_module": "@jupyter-widgets/base",
            "_view_module_version": "1.2.0",
            "_view_name": "LayoutView",
            "align_content": null,
            "align_items": null,
            "align_self": null,
            "border": null,
            "bottom": null,
            "display": null,
            "flex": null,
            "flex_flow": null,
            "grid_area": null,
            "grid_auto_columns": null,
            "grid_auto_flow": null,
            "grid_auto_rows": null,
            "grid_column": null,
            "grid_gap": null,
            "grid_row": null,
            "grid_template_areas": null,
            "grid_template_columns": null,
            "grid_template_rows": null,
            "height": null,
            "justify_content": null,
            "justify_items": null,
            "left": null,
            "margin": null,
            "max_height": null,
            "max_width": null,
            "min_height": null,
            "min_width": null,
            "object_fit": null,
            "object_position": null,
            "order": null,
            "overflow": null,
            "overflow_x": null,
            "overflow_y": null,
            "padding": null,
            "right": null,
            "top": null,
            "visibility": null,
            "width": null
          }
        },
        "aea1b7fa1f5f4de3b7ca4b5471706cc2": {
          "model_module": "jupyter-leaflet",
          "model_module_version": "^0.17",
          "model_name": "LeafletTileLayerModel",
          "state": {
            "_model_module": "jupyter-leaflet",
            "_model_module_version": "^0.17",
            "_model_name": "LeafletTileLayerModel",
            "_view_count": null,
            "_view_module": "jupyter-leaflet",
            "_view_module_version": "^0.17",
            "_view_name": "LeafletTileLayerView",
            "attribution": "Map tiles by <a href=\"http://stamen.com\">Stamen Design</a>, <a href=\"http://creativecommons.org/licenses/by/3.0\">CC BY 3.0</a> &mdash; Map data &copy; <a href=\"https://www.openstreetmap.org/copyright\">OpenStreetMap</a> contributors",
            "base": true,
            "bottom": true,
            "bounds": null,
            "detect_retina": false,
            "loading": false,
            "max_native_zoom": null,
            "max_zoom": 16,
            "min_native_zoom": null,
            "min_zoom": 1,
            "name": "Stamen.Watercolor",
            "no_wrap": false,
            "opacity": 1,
            "options": [
              "attribution",
              "bounds",
              "detect_retina",
              "max_native_zoom",
              "max_zoom",
              "min_native_zoom",
              "min_zoom",
              "no_wrap",
              "tile_size",
              "tms",
              "zoom_offset"
            ],
            "pane": "",
            "popup": null,
            "popup_max_height": null,
            "popup_max_width": 300,
            "popup_min_width": 50,
            "show_loading": false,
            "subitems": [],
            "tile_size": 256,
            "tms": false,
            "url": "https://stamen-tiles-a.a.ssl.fastly.net/watercolor/{z}/{x}/{y}.jpg",
            "visible": true,
            "zoom_offset": 0
          }
        },
        "aee14fdf1e9843339338a9bd80fc1572": {
          "model_module": "@jupyter-widgets/base",
          "model_module_version": "1.2.0",
          "model_name": "LayoutModel",
          "state": {
            "_model_module": "@jupyter-widgets/base",
            "_model_module_version": "1.2.0",
            "_model_name": "LayoutModel",
            "_view_count": null,
            "_view_module": "@jupyter-widgets/base",
            "_view_module_version": "1.2.0",
            "_view_name": "LayoutView",
            "align_content": null,
            "align_items": null,
            "align_self": null,
            "border": null,
            "bottom": null,
            "display": null,
            "flex": null,
            "flex_flow": null,
            "grid_area": null,
            "grid_auto_columns": null,
            "grid_auto_flow": null,
            "grid_auto_rows": null,
            "grid_column": null,
            "grid_gap": null,
            "grid_row": null,
            "grid_template_areas": null,
            "grid_template_columns": null,
            "grid_template_rows": null,
            "height": null,
            "justify_content": null,
            "justify_items": null,
            "left": null,
            "margin": null,
            "max_height": null,
            "max_width": null,
            "min_height": null,
            "min_width": null,
            "object_fit": null,
            "object_position": null,
            "order": null,
            "overflow": null,
            "overflow_x": null,
            "overflow_y": null,
            "padding": null,
            "right": null,
            "top": null,
            "visibility": null,
            "width": "50.0%"
          }
        },
        "b328075c7b814ab2a233e5e5b106e3f2": {
          "model_module": "jupyter-leaflet",
          "model_module_version": "^0.17",
          "model_name": "LeafletTileLayerModel",
          "state": {
            "_model_module": "jupyter-leaflet",
            "_model_module_version": "^0.17",
            "_model_name": "LeafletTileLayerModel",
            "_view_count": null,
            "_view_module": "jupyter-leaflet",
            "_view_module_version": "^0.17",
            "_view_name": "LeafletTileLayerView",
            "attribution": "Tiles &copy; Esri &mdash; Source: Esri, i-cubed, USDA, USGS, AEX, GeoEye, Getmapping, Aerogrid, IGN, IGP, UPR-EGP, and the GIS User Community",
            "base": false,
            "bottom": true,
            "bounds": null,
            "detect_retina": false,
            "loading": false,
            "max_native_zoom": null,
            "max_zoom": 18,
            "min_native_zoom": null,
            "min_zoom": 1,
            "name": "Esri.WorldImagery",
            "no_wrap": false,
            "opacity": 1,
            "options": [
              "attribution",
              "bounds",
              "detect_retina",
              "max_native_zoom",
              "max_zoom",
              "min_native_zoom",
              "min_zoom",
              "no_wrap",
              "tile_size",
              "tms",
              "zoom_offset"
            ],
            "pane": "",
            "popup": null,
            "popup_max_height": null,
            "popup_max_width": 300,
            "popup_min_width": 50,
            "show_loading": false,
            "subitems": [],
            "tile_size": 256,
            "tms": false,
            "url": "https://server.arcgisonline.com/ArcGIS/rest/services/World_Imagery/MapServer/tile/{z}/{y}/{x}",
            "visible": true,
            "zoom_offset": 0
          }
        },
        "b39e0e1edcad4b0bb8478dda62f280a4": {
          "model_module": "ipytree",
          "model_module_version": "^0.2",
          "model_name": "NodeModel",
          "state": {
            "_id": "d19cccc0-8198-4755-9505-8770a5178fc5",
            "_model_module": "ipytree",
            "_model_module_version": "^0.2",
            "_model_name": "NodeModel",
            "_view_count": null,
            "_view_module": "ipytree",
            "_view_module_version": "^0.2",
            "_view_name": "NodeView",
            "close_icon": "minus",
            "close_icon_style": "default",
            "disabled": true,
            "icon": "archive",
            "icon_image": "",
            "icon_style": "default",
            "name": "Objects",
            "nodes": [],
            "open_icon": "plus",
            "open_icon_style": "default",
            "opened": true,
            "selected": false,
            "show_icon": true
          }
        },
        "b465b45722f945c88bea0983afa7efd1": {
          "model_module": "jupyter-leaflet",
          "model_module_version": "^0.17",
          "model_name": "LeafletAttributionControlModel",
          "state": {
            "_model_module": "jupyter-leaflet",
            "_model_module_version": "^0.17",
            "_model_name": "LeafletAttributionControlModel",
            "_view_count": null,
            "_view_module": "jupyter-leaflet",
            "_view_module_version": "^0.17",
            "_view_name": "LeafletAttributionControlView",
            "options": [
              "position",
              "prefix"
            ],
            "position": "bottomright",
            "prefix": "ipyleaflet"
          }
        },
        "b542a0144d4e481ea1a4d9061bfcdff6": {
          "model_module": "jupyter-leaflet",
          "model_module_version": "^0.17",
          "model_name": "LeafletMapModel",
          "state": {
            "_dom_classes": [],
            "_model_module": "jupyter-leaflet",
            "_model_module_version": "^0.17",
            "_model_name": "LeafletMapModel",
            "_view_count": null,
            "_view_module": "jupyter-leaflet",
            "_view_module_version": "^0.17",
            "_view_name": "LeafletMapView",
            "bottom": 97158,
            "bounce_at_zoom_limits": true,
            "box_zoom": true,
            "center": [
              42.36103,
              -72.28525
            ],
            "close_popup_on_click": true,
            "controls": [
              "IPY_MODEL_a19cc6fea53342159adb65827de713c2",
              "IPY_MODEL_be36a783e048413a8c0d19a3954aaddc",
              "IPY_MODEL_9d319119711643e189755d313a11556f"
            ],
            "crs": {
              "custom": false,
              "name": "EPSG3857"
            },
            "default_style": "IPY_MODEL_d5279bef1e774a5a85a725ae527589f8",
            "double_click_zoom": true,
            "dragging": true,
            "dragging_style": "IPY_MODEL_f50742e3d1234960bd91f4afa4f6c0bb",
            "east": -72.07168579101564,
            "fullscreen": false,
            "inertia": true,
            "inertia_deceleration": 3000,
            "inertia_max_speed": 1500,
            "interpolation": "bilinear",
            "keyboard": true,
            "keyboard_pan_offset": 80,
            "keyboard_zoom_offset": 1,
            "layers": [
              "IPY_MODEL_e4447682dddb4d6e932ac5120faebc0c",
              "IPY_MODEL_137b818bb835476b8ef5b40d05ce2ee7",
              "IPY_MODEL_30a315fe74814531b2cf480ed20c4c5d"
            ],
            "layout": "IPY_MODEL_2c2af256047a4bc290e8f0ad361696e4",
            "left": 78279,
            "max_zoom": null,
            "min_zoom": null,
            "modisdate": "2022-12-13",
            "north": 42.563195832927384,
            "options": [
              "bounce_at_zoom_limits",
              "box_zoom",
              "center",
              "close_popup_on_click",
              "double_click_zoom",
              "dragging",
              "fullscreen",
              "inertia",
              "inertia_deceleration",
              "inertia_max_speed",
              "interpolation",
              "keyboard",
              "keyboard_pan_offset",
              "keyboard_zoom_offset",
              "max_zoom",
              "min_zoom",
              "prefer_canvas",
              "scroll_wheel_zoom",
              "tap",
              "tap_tolerance",
              "touch_zoom",
              "world_copy_jump",
              "zoom",
              "zoom_animation_threshold",
              "zoom_delta",
              "zoom_snap"
            ],
            "panes": {},
            "prefer_canvas": false,
            "right": 78591,
            "scroll_wheel_zoom": false,
            "south": 42.157295553651664,
            "style": "IPY_MODEL_1b5176674fa448a49e75dac30386cbee",
            "tap": true,
            "tap_tolerance": 15,
            "top": 96758,
            "touch_zoom": true,
            "west": -72.50015258789064,
            "window_url": "https://o1sj2ys0a3g-496ff2e9c6d22116-0-colab.googleusercontent.com/outputframe.html?vrz=colab-20221213-060111-RC00_494987091",
            "world_copy_jump": false,
            "zoom": 10,
            "zoom_animation_threshold": 4,
            "zoom_delta": 1,
            "zoom_snap": 1
          }
        },
        "b5f7c1dcc0154ac1914608697ae2783e": {
          "model_module": "jupyter-leaflet",
          "model_module_version": "^0.17",
          "model_name": "LeafletMapStyleModel",
          "state": {
            "_model_module": "jupyter-leaflet",
            "_model_module_version": "^0.17",
            "_model_name": "LeafletMapStyleModel",
            "_view_count": null,
            "_view_module": "@jupyter-widgets/base",
            "_view_module_version": "1.2.0",
            "_view_name": "StyleView",
            "cursor": "crosshair"
          }
        },
        "b6d00db251494c0a971fc02d411e60d7": {
          "model_module": "@jupyter-widgets/controls",
          "model_module_version": "1.5.0",
          "model_name": "LabelModel",
          "state": {
            "_dom_classes": [],
            "_model_module": "@jupyter-widgets/controls",
            "_model_module_version": "1.5.0",
            "_model_name": "LabelModel",
            "_view_count": null,
            "_view_module": "@jupyter-widgets/controls",
            "_view_module_version": "1.5.0",
            "_view_name": "LabelView",
            "description": "",
            "description_tooltip": null,
            "layout": "IPY_MODEL_f2103aa960944f4f854faddf7528235b",
            "placeholder": "​",
            "style": "IPY_MODEL_41573f7d11b941faaa99af8628a28013",
            "value": "Detected New Urban Areas"
          }
        },
        "b7ef470db0ab4b9e8f60c8b170bdc06d": {
          "model_module": "jupyter-leaflet",
          "model_module_version": "^0.17",
          "model_name": "LeafletZoomControlModel",
          "state": {
            "_model_module": "jupyter-leaflet",
            "_model_module_version": "^0.17",
            "_model_name": "LeafletZoomControlModel",
            "_view_count": null,
            "_view_module": "jupyter-leaflet",
            "_view_module_version": "^0.17",
            "_view_name": "LeafletZoomControlView",
            "options": [
              "position",
              "zoom_in_text",
              "zoom_in_title",
              "zoom_out_text",
              "zoom_out_title"
            ],
            "position": "topleft",
            "zoom_in_text": "+",
            "zoom_in_title": "Zoom in",
            "zoom_out_text": "-",
            "zoom_out_title": "Zoom out"
          }
        },
        "b8647aebb1a941bcb629edabec119ddb": {
          "model_module": "jupyter-leaflet",
          "model_module_version": "^0.17",
          "model_name": "LeafletDrawControlModel",
          "state": {
            "_model_module": "jupyter-leaflet",
            "_model_module_version": "^0.17",
            "_model_name": "LeafletDrawControlModel",
            "_view_count": null,
            "_view_module": "jupyter-leaflet",
            "_view_module_version": "^0.17",
            "_view_name": "LeafletDrawControlView",
            "circle": {},
            "circlemarker": {},
            "data": [
              {
                "geometry": {
                  "coordinates": [
                    [
                      [
                        101.577279,
                        2.724443
                      ],
                      [
                        101.567574,
                        2.732669
                      ],
                      [
                        101.561317,
                        2.724378
                      ],
                      [
                        101.577279,
                        2.724443
                      ]
                    ]
                  ],
                  "type": "Polygon"
                },
                "properties": {
                  "style": {
                    "clickable": true,
                    "color": "#6be5c3",
                    "fill": true,
                    "fillColor": "#00FF00",
                    "fillOpacity": 1,
                    "opacity": 0.5,
                    "stroke": true,
                    "weight": 4
                  }
                },
                "type": "Feature"
              }
            ],
            "edit": true,
            "marker": {},
            "options": [
              "position"
            ],
            "polygon": {
              "allowIntersection": false,
              "drawError": {
                "color": "#dd253b",
                "message": "Oups!"
              },
              "shapeOptions": {
                "color": "#6be5c3",
                "fillColor": "#00FF00",
                "fillOpacity": 1
              }
            },
            "polyline": {},
            "position": "topleft",
            "rectangle": {},
            "remove": true
          }
        },
        "b91d8dd13e7d455c905ec1ceb680c26b": {
          "model_module": "jupyter-leaflet",
          "model_module_version": "^0.17",
          "model_name": "LeafletMapStyleModel",
          "state": {
            "_model_module": "jupyter-leaflet",
            "_model_module_version": "^0.17",
            "_model_name": "LeafletMapStyleModel",
            "_view_count": null,
            "_view_module": "@jupyter-widgets/base",
            "_view_module_version": "1.2.0",
            "_view_name": "StyleView",
            "cursor": "crosshair"
          }
        },
        "bc287615f8784a6da5ed07b626e4798f": {
          "model_module": "jupyter-leaflet",
          "model_module_version": "^0.17",
          "model_name": "LeafletMapModel",
          "state": {
            "_dom_classes": [],
            "_model_module": "jupyter-leaflet",
            "_model_module_version": "^0.17",
            "_model_name": "LeafletMapModel",
            "_view_count": null,
            "_view_module": "jupyter-leaflet",
            "_view_module_version": "^0.17",
            "_view_name": "LeafletMapView",
            "bottom": 516154,
            "bounce_at_zoom_limits": true,
            "box_zoom": true,
            "center": [
              2.86,
              101.34
            ],
            "close_popup_on_click": true,
            "controls": [
              "IPY_MODEL_8f9b5747a9134638adad77a24e114ddf",
              "IPY_MODEL_cf5fda29f171463d9d2e45e61f7e7d90",
              "IPY_MODEL_9a82d66712ff4a62a1be8fb12c1ec4d9"
            ],
            "crs": {
              "custom": false,
              "name": "EPSG3857"
            },
            "default_style": "IPY_MODEL_1a36e340578449439c909cf8a8588a5e",
            "double_click_zoom": true,
            "dragging": true,
            "dragging_style": "IPY_MODEL_d0f84805d8504bb19c2c7ea555314f83",
            "east": 101.44809722900392,
            "fullscreen": false,
            "inertia": true,
            "inertia_deceleration": 3000,
            "inertia_max_speed": 1500,
            "interpolation": "bilinear",
            "keyboard": true,
            "keyboard_pan_offset": 80,
            "keyboard_zoom_offset": 1,
            "layers": [
              "IPY_MODEL_b328075c7b814ab2a233e5e5b106e3f2",
              "IPY_MODEL_2439139ac2a34ec28ddd301a0c91886c"
            ],
            "layout": "IPY_MODEL_f1fc62d9604a4b84afb868ab947b6251",
            "left": 819148,
            "max_zoom": null,
            "min_zoom": null,
            "modisdate": "2022-12-13",
            "north": 2.9286402798931883,
            "options": [
              "bounce_at_zoom_limits",
              "box_zoom",
              "center",
              "close_popup_on_click",
              "double_click_zoom",
              "dragging",
              "fullscreen",
              "inertia",
              "inertia_deceleration",
              "inertia_max_speed",
              "interpolation",
              "keyboard",
              "keyboard_pan_offset",
              "keyboard_zoom_offset",
              "max_zoom",
              "min_zoom",
              "prefer_canvas",
              "scroll_wheel_zoom",
              "tap",
              "tap_tolerance",
              "touch_zoom",
              "world_copy_jump",
              "zoom",
              "zoom_animation_threshold",
              "zoom_delta",
              "zoom_snap"
            ],
            "panes": {},
            "prefer_canvas": false,
            "right": 819777,
            "scroll_wheel_zoom": false,
            "south": 2.791482270985752,
            "style": "IPY_MODEL_41571e56caa94d9a9c4f971f7278d9e0",
            "tap": true,
            "tap_tolerance": 15,
            "top": 515754,
            "touch_zoom": true,
            "west": 101.23214721679689,
            "window_url": "https://o1sj2ys0a3g-496ff2e9c6d22116-0-colab.googleusercontent.com/outputframe.html?vrz=colab-20221213-060111-RC00_494987091",
            "world_copy_jump": false,
            "zoom": 12,
            "zoom_animation_threshold": 4,
            "zoom_delta": 1,
            "zoom_snap": 1
          }
        },
        "bd3ed6d5c33f492490a387977fb94572": {
          "model_module": "@jupyter-widgets/base",
          "model_module_version": "1.2.0",
          "model_name": "LayoutModel",
          "state": {
            "_model_module": "@jupyter-widgets/base",
            "_model_module_version": "1.2.0",
            "_model_name": "LayoutModel",
            "_view_count": null,
            "_view_module": "@jupyter-widgets/base",
            "_view_module_version": "1.2.0",
            "_view_name": "LayoutView",
            "align_content": null,
            "align_items": null,
            "align_self": null,
            "border": null,
            "bottom": null,
            "display": null,
            "flex": null,
            "flex_flow": null,
            "grid_area": null,
            "grid_auto_columns": null,
            "grid_auto_flow": null,
            "grid_auto_rows": null,
            "grid_column": null,
            "grid_gap": null,
            "grid_row": null,
            "grid_template_areas": null,
            "grid_template_columns": null,
            "grid_template_rows": null,
            "height": null,
            "justify_content": null,
            "justify_items": null,
            "left": null,
            "margin": null,
            "max_height": null,
            "max_width": null,
            "min_height": null,
            "min_width": null,
            "object_fit": null,
            "object_position": null,
            "order": null,
            "overflow": null,
            "overflow_x": null,
            "overflow_y": null,
            "padding": null,
            "right": null,
            "top": null,
            "visibility": null,
            "width": "50.0%"
          }
        },
        "be36a783e048413a8c0d19a3954aaddc": {
          "model_module": "jupyter-leaflet",
          "model_module_version": "^0.17",
          "model_name": "LeafletAttributionControlModel",
          "state": {
            "_model_module": "jupyter-leaflet",
            "_model_module_version": "^0.17",
            "_model_name": "LeafletAttributionControlModel",
            "_view_count": null,
            "_view_module": "jupyter-leaflet",
            "_view_module_version": "^0.17",
            "_view_name": "LeafletAttributionControlView",
            "options": [
              "position",
              "prefix"
            ],
            "position": "bottomright",
            "prefix": "ipyleaflet"
          }
        },
        "bfd5a83321d842138737401836cebd2d": {
          "model_module": "jupyter-leaflet",
          "model_module_version": "^0.17",
          "model_name": "LeafletAttributionControlModel",
          "state": {
            "_model_module": "jupyter-leaflet",
            "_model_module_version": "^0.17",
            "_model_name": "LeafletAttributionControlModel",
            "_view_count": null,
            "_view_module": "jupyter-leaflet",
            "_view_module_version": "^0.17",
            "_view_name": "LeafletAttributionControlView",
            "options": [
              "position",
              "prefix"
            ],
            "position": "bottomright",
            "prefix": "ipyleaflet"
          }
        },
        "c19d69e623e04f8d932b5f4c6e3291f4": {
          "model_module": "jupyter-leaflet",
          "model_module_version": "^0.17",
          "model_name": "LeafletMapStyleModel",
          "state": {
            "_model_module": "jupyter-leaflet",
            "_model_module_version": "^0.17",
            "_model_name": "LeafletMapStyleModel",
            "_view_count": null,
            "_view_module": "@jupyter-widgets/base",
            "_view_module_version": "1.2.0",
            "_view_name": "StyleView",
            "cursor": "crosshair"
          }
        },
        "c1cf0b66ff11425587ae7e3188d31e0d": {
          "model_module": "jupyter-leaflet",
          "model_module_version": "^0.17",
          "model_name": "LeafletTileLayerModel",
          "state": {
            "_model_module": "jupyter-leaflet",
            "_model_module_version": "^0.17",
            "_model_name": "LeafletTileLayerModel",
            "_view_count": null,
            "_view_module": "jupyter-leaflet",
            "_view_module_version": "^0.17",
            "_view_name": "LeafletTileLayerView",
            "attribution": "Map tiles by <a href=\"http://stamen.com\">Stamen Design</a>, <a href=\"http://creativecommons.org/licenses/by/3.0\">CC BY 3.0</a> &mdash; Map data &copy; <a href=\"https://www.openstreetmap.org/copyright\">OpenStreetMap</a> contributors",
            "base": true,
            "bottom": true,
            "bounds": null,
            "detect_retina": false,
            "loading": false,
            "max_native_zoom": null,
            "max_zoom": 16,
            "min_native_zoom": null,
            "min_zoom": 1,
            "name": "Stamen.Watercolor",
            "no_wrap": false,
            "opacity": 1,
            "options": [
              "attribution",
              "bounds",
              "detect_retina",
              "max_native_zoom",
              "max_zoom",
              "min_native_zoom",
              "min_zoom",
              "no_wrap",
              "tile_size",
              "tms",
              "zoom_offset"
            ],
            "pane": "",
            "popup": null,
            "popup_max_height": null,
            "popup_max_width": 300,
            "popup_min_width": 50,
            "show_loading": false,
            "subitems": [],
            "tile_size": 256,
            "tms": false,
            "url": "https://stamen-tiles-a.a.ssl.fastly.net/watercolor/{z}/{x}/{y}.jpg",
            "visible": true,
            "zoom_offset": 0
          }
        },
        "c5488ed59c514d9083efa28c13a2fead": {
          "model_module": "jupyter-leaflet",
          "model_module_version": "^0.17",
          "model_name": "LeafletTileLayerModel",
          "state": {
            "_model_module": "jupyter-leaflet",
            "_model_module_version": "^0.17",
            "_model_name": "LeafletTileLayerModel",
            "_view_count": null,
            "_view_module": "jupyter-leaflet",
            "_view_module_version": "^0.17",
            "_view_name": "LeafletTileLayerView",
            "attribution": "Map tiles by <a href=\"http://stamen.com\">Stamen Design</a>, <a href=\"http://creativecommons.org/licenses/by/3.0\">CC BY 3.0</a> &mdash; Map data &copy; <a href=\"https://www.openstreetmap.org/copyright\">OpenStreetMap</a> contributors",
            "base": true,
            "bottom": true,
            "bounds": null,
            "detect_retina": false,
            "loading": false,
            "max_native_zoom": null,
            "max_zoom": 16,
            "min_native_zoom": null,
            "min_zoom": 1,
            "name": "Stamen.Watercolor",
            "no_wrap": false,
            "opacity": 1,
            "options": [
              "attribution",
              "bounds",
              "detect_retina",
              "max_native_zoom",
              "max_zoom",
              "min_native_zoom",
              "min_zoom",
              "no_wrap",
              "tile_size",
              "tms",
              "zoom_offset"
            ],
            "pane": "",
            "popup": null,
            "popup_max_height": null,
            "popup_max_width": 300,
            "popup_min_width": 50,
            "show_loading": false,
            "subitems": [],
            "tile_size": 256,
            "tms": false,
            "url": "https://stamen-tiles-a.a.ssl.fastly.net/watercolor/{z}/{x}/{y}.jpg",
            "visible": true,
            "zoom_offset": 0
          }
        },
        "c65209d6770847ef89fb44c71c2b0769": {
          "model_module": "ipytree",
          "model_module_version": "^0.2",
          "model_name": "NodeModel",
          "state": {
            "_id": "e43b43f8-b6b1-4261-af89-fac2d59377e9",
            "_model_module": "ipytree",
            "_model_module_version": "^0.2",
            "_model_name": "NodeModel",
            "_view_count": null,
            "_view_module": "ipytree",
            "_view_module_version": "^0.2",
            "_view_name": "NodeView",
            "close_icon": "minus",
            "close_icon_style": "default",
            "disabled": true,
            "icon": "archive",
            "icon_image": "",
            "icon_style": "default",
            "name": "Pixels",
            "nodes": [],
            "open_icon": "plus",
            "open_icon_style": "default",
            "opened": true,
            "selected": false,
            "show_icon": true
          }
        },
        "c92ec71943c74214b3393ab9570eb004": {
          "model_module": "jupyter-leaflet",
          "model_module_version": "^0.17",
          "model_name": "LeafletAttributionControlModel",
          "state": {
            "_model_module": "jupyter-leaflet",
            "_model_module_version": "^0.17",
            "_model_name": "LeafletAttributionControlModel",
            "_view_count": null,
            "_view_module": "jupyter-leaflet",
            "_view_module_version": "^0.17",
            "_view_name": "LeafletAttributionControlView",
            "options": [
              "position",
              "prefix"
            ],
            "position": "bottomright",
            "prefix": "ipyleaflet"
          }
        },
        "ca1cb94298ae4a719d2b4b167d4362ad": {
          "model_module": "jupyter-leaflet",
          "model_module_version": "^0.17",
          "model_name": "LeafletMapModel",
          "state": {
            "_dom_classes": [],
            "_model_module": "jupyter-leaflet",
            "_model_module_version": "^0.17",
            "_model_name": "LeafletMapModel",
            "_view_count": null,
            "_view_module": "jupyter-leaflet",
            "_view_module_version": "^0.17",
            "_view_name": "LeafletMapView",
            "bottom": 486466,
            "bounce_at_zoom_limits": true,
            "box_zoom": true,
            "center": [
              12.942208526432214,
              77.5868323785926
            ],
            "close_popup_on_click": true,
            "controls": [
              "IPY_MODEL_418563d4a4374041882a0b3bfdbc7105",
              "IPY_MODEL_8c57ae11b7aa4f08bbfd1e8160d2ad49",
              "IPY_MODEL_d051989bbce448809ff5223a040e5658"
            ],
            "crs": {
              "custom": false,
              "name": "EPSG3857"
            },
            "default_style": "IPY_MODEL_b5f7c1dcc0154ac1914608697ae2783e",
            "double_click_zoom": true,
            "dragging": true,
            "dragging_style": "IPY_MODEL_d17cc6c98b2a4c0cb8fabb3f48b6ef1a",
            "east": 77.6232147216797,
            "fullscreen": false,
            "inertia": true,
            "inertia_deceleration": 3000,
            "inertia_max_speed": 1500,
            "interpolation": "bilinear",
            "keyboard": true,
            "keyboard_pan_offset": 80,
            "keyboard_zoom_offset": 1,
            "layers": [
              "IPY_MODEL_5a04ed0ef4364965b4e06b8178117c93",
              "IPY_MODEL_b328075c7b814ab2a233e5e5b106e3f2",
              "IPY_MODEL_28292e70c5fe4d42a61605d003614f48"
            ],
            "layout": "IPY_MODEL_21adf319065b477e8c23a4f36aeebb8e",
            "left": 750172,
            "max_zoom": null,
            "min_zoom": null,
            "modisdate": "2022-12-13",
            "north": 13.009240942902053,
            "options": [
              "bounce_at_zoom_limits",
              "box_zoom",
              "center",
              "close_popup_on_click",
              "double_click_zoom",
              "dragging",
              "fullscreen",
              "inertia",
              "inertia_deceleration",
              "inertia_max_speed",
              "interpolation",
              "keyboard",
              "keyboard_pan_offset",
              "keyboard_zoom_offset",
              "max_zoom",
              "min_zoom",
              "prefer_canvas",
              "scroll_wheel_zoom",
              "tap",
              "tap_tolerance",
              "touch_zoom",
              "world_copy_jump",
              "zoom",
              "zoom_animation_threshold",
              "zoom_delta",
              "zoom_snap"
            ],
            "panes": {},
            "prefer_canvas": false,
            "right": 750382,
            "scroll_wheel_zoom": false,
            "south": 12.875400579691565,
            "style": "IPY_MODEL_b5f7c1dcc0154ac1914608697ae2783e",
            "tap": true,
            "tap_tolerance": 15,
            "top": 486066,
            "touch_zoom": true,
            "west": 77.55111694335938,
            "window_url": "https://o1sj2ys0a3g-496ff2e9c6d22116-0-colab.googleusercontent.com/outputframe.html?vrz=colab-20221213-060111-RC00_494987091",
            "world_copy_jump": false,
            "zoom": 12,
            "zoom_animation_threshold": 4,
            "zoom_delta": 1,
            "zoom_snap": 1
          }
        },
        "ca956bbe47a244f4aeb339a3362ddb6b": {
          "model_module": "@jupyter-widgets/base",
          "model_module_version": "1.2.0",
          "model_name": "LayoutModel",
          "state": {
            "_model_module": "@jupyter-widgets/base",
            "_model_module_version": "1.2.0",
            "_model_name": "LayoutModel",
            "_view_count": null,
            "_view_module": "@jupyter-widgets/base",
            "_view_module_version": "1.2.0",
            "_view_name": "LayoutView",
            "align_content": null,
            "align_items": null,
            "align_self": null,
            "border": null,
            "bottom": null,
            "display": null,
            "flex": null,
            "flex_flow": null,
            "grid_area": null,
            "grid_auto_columns": null,
            "grid_auto_flow": null,
            "grid_auto_rows": null,
            "grid_column": null,
            "grid_gap": null,
            "grid_row": null,
            "grid_template_areas": null,
            "grid_template_columns": null,
            "grid_template_rows": null,
            "height": null,
            "justify_content": null,
            "justify_items": null,
            "left": null,
            "margin": null,
            "max_height": null,
            "max_width": null,
            "min_height": null,
            "min_width": null,
            "object_fit": null,
            "object_position": null,
            "order": null,
            "overflow": null,
            "overflow_x": null,
            "overflow_y": null,
            "padding": null,
            "right": null,
            "top": null,
            "visibility": null,
            "width": null
          }
        },
        "ccffca38d7314c13960be29b9f98d90b": {
          "model_module": "jupyter-leaflet",
          "model_module_version": "^0.17",
          "model_name": "LeafletTileLayerModel",
          "state": {
            "_model_module": "jupyter-leaflet",
            "_model_module_version": "^0.17",
            "_model_name": "LeafletTileLayerModel",
            "_view_count": null,
            "_view_module": "jupyter-leaflet",
            "_view_module_version": "^0.17",
            "_view_name": "LeafletTileLayerView",
            "attribution": null,
            "base": false,
            "bottom": true,
            "bounds": null,
            "detect_retina": false,
            "loading": false,
            "max_native_zoom": null,
            "max_zoom": 18,
            "min_native_zoom": null,
            "min_zoom": 0,
            "name": "Layer 1",
            "no_wrap": false,
            "opacity": 1,
            "options": [
              "attribution",
              "bounds",
              "detect_retina",
              "max_native_zoom",
              "max_zoom",
              "min_native_zoom",
              "min_zoom",
              "no_wrap",
              "tile_size",
              "tms",
              "zoom_offset"
            ],
            "pane": "",
            "popup": null,
            "popup_max_height": null,
            "popup_max_width": 300,
            "popup_min_width": 50,
            "show_loading": false,
            "subitems": [],
            "tile_size": 256,
            "tms": false,
            "url": "https://earthengine.googleapis.com/v1alpha/projects/agu22-eetemp/maps/12e3848fc6c4f90d4898292c869aa409-172c6a7127066901816b1a5bbadf982e/tiles/{z}/{x}/{y}",
            "visible": true,
            "zoom_offset": 0
          }
        },
        "cf5fda29f171463d9d2e45e61f7e7d90": {
          "model_module": "jupyter-leaflet",
          "model_module_version": "^0.17",
          "model_name": "LeafletAttributionControlModel",
          "state": {
            "_model_module": "jupyter-leaflet",
            "_model_module_version": "^0.17",
            "_model_name": "LeafletAttributionControlModel",
            "_view_count": null,
            "_view_module": "jupyter-leaflet",
            "_view_module_version": "^0.17",
            "_view_name": "LeafletAttributionControlView",
            "options": [
              "position",
              "prefix"
            ],
            "position": "bottomright",
            "prefix": "ipyleaflet"
          }
        },
        "d051989bbce448809ff5223a040e5658": {
          "model_module": "jupyter-leaflet",
          "model_module_version": "^0.17",
          "model_name": "LeafletLayersControlModel",
          "state": {
            "_model_module": "jupyter-leaflet",
            "_model_module_version": "^0.17",
            "_model_name": "LeafletLayersControlModel",
            "_view_count": null,
            "_view_module": "jupyter-leaflet",
            "_view_module_version": "^0.17",
            "_view_name": "LeafletLayersControlView",
            "options": [
              "position"
            ],
            "position": "topright"
          }
        },
        "d0f84805d8504bb19c2c7ea555314f83": {
          "model_module": "jupyter-leaflet",
          "model_module_version": "^0.17",
          "model_name": "LeafletMapStyleModel",
          "state": {
            "_model_module": "jupyter-leaflet",
            "_model_module_version": "^0.17",
            "_model_name": "LeafletMapStyleModel",
            "_view_count": null,
            "_view_module": "@jupyter-widgets/base",
            "_view_module_version": "1.2.0",
            "_view_name": "StyleView",
            "cursor": "move"
          }
        },
        "d12da6cbbe4f4de299f854cf55d75f8f": {
          "model_module": "jupyter-leaflet",
          "model_module_version": "^0.17",
          "model_name": "LeafletTileLayerModel",
          "state": {
            "_model_module": "jupyter-leaflet",
            "_model_module_version": "^0.17",
            "_model_name": "LeafletTileLayerModel",
            "_view_count": null,
            "_view_module": "jupyter-leaflet",
            "_view_module_version": "^0.17",
            "_view_name": "LeafletTileLayerView",
            "attribution": null,
            "base": false,
            "bottom": true,
            "bounds": null,
            "detect_retina": false,
            "loading": false,
            "max_native_zoom": null,
            "max_zoom": 18,
            "min_native_zoom": null,
            "min_zoom": 0,
            "name": "after_dw",
            "no_wrap": false,
            "opacity": 1,
            "options": [
              "attribution",
              "bounds",
              "detect_retina",
              "max_native_zoom",
              "max_zoom",
              "min_native_zoom",
              "min_zoom",
              "no_wrap",
              "tile_size",
              "tms",
              "zoom_offset"
            ],
            "pane": "",
            "popup": null,
            "popup_max_height": null,
            "popup_max_width": 300,
            "popup_min_width": 50,
            "show_loading": false,
            "subitems": [],
            "tile_size": 256,
            "tms": false,
            "url": "https://earthengine.googleapis.com/v1alpha/projects/agu22-eetemp/maps/1a55cdfe2062bf342b791383c3662992-b4772d3b67a7d4f0e0ae87a67648f3e3/tiles/{z}/{x}/{y}",
            "visible": true,
            "zoom_offset": 0
          }
        },
        "d17cc6c98b2a4c0cb8fabb3f48b6ef1a": {
          "model_module": "jupyter-leaflet",
          "model_module_version": "^0.17",
          "model_name": "LeafletMapStyleModel",
          "state": {
            "_model_module": "jupyter-leaflet",
            "_model_module_version": "^0.17",
            "_model_name": "LeafletMapStyleModel",
            "_view_count": null,
            "_view_module": "@jupyter-widgets/base",
            "_view_module_version": "1.2.0",
            "_view_name": "StyleView",
            "cursor": "move"
          }
        },
        "d2c8408d3ddb4ac7a88ce1a1b669fd42": {
          "model_module": "jupyter-leaflet",
          "model_module_version": "^0.17",
          "model_name": "LeafletDrawControlModel",
          "state": {
            "_model_module": "jupyter-leaflet",
            "_model_module_version": "^0.17",
            "_model_name": "LeafletDrawControlModel",
            "_view_count": null,
            "_view_module": "jupyter-leaflet",
            "_view_module_version": "^0.17",
            "_view_name": "LeafletDrawControlView",
            "circle": {},
            "circlemarker": {},
            "data": [
              {
                "geometry": {
                  "coordinates": [
                    [
                      [
                        101.573628,
                        2.811228
                      ],
                      [
                        101.577988,
                        2.802662
                      ],
                      [
                        101.584407,
                        2.805474
                      ],
                      [
                        101.582822,
                        2.811246
                      ],
                      [
                        101.578365,
                        2.813179
                      ],
                      [
                        101.573628,
                        2.811228
                      ]
                    ]
                  ],
                  "type": "Polygon"
                },
                "properties": {
                  "style": {
                    "clickable": true,
                    "color": "#6be5c3",
                    "fill": true,
                    "fillColor": "#0000FF",
                    "fillOpacity": 1,
                    "opacity": 0.5,
                    "stroke": true,
                    "weight": 4
                  }
                },
                "type": "Feature"
              }
            ],
            "edit": true,
            "marker": {},
            "options": [
              "position"
            ],
            "polygon": {
              "allowIntersection": false,
              "drawError": {
                "color": "#dd253b",
                "message": "Oups!"
              },
              "shapeOptions": {
                "color": "#6be5c3",
                "fillColor": "#0000FF",
                "fillOpacity": 1
              }
            },
            "polyline": {},
            "position": "topleft",
            "rectangle": {},
            "remove": true
          }
        },
        "d5279bef1e774a5a85a725ae527589f8": {
          "model_module": "jupyter-leaflet",
          "model_module_version": "^0.17",
          "model_name": "LeafletMapStyleModel",
          "state": {
            "_model_module": "jupyter-leaflet",
            "_model_module_version": "^0.17",
            "_model_name": "LeafletMapStyleModel",
            "_view_count": null,
            "_view_module": "@jupyter-widgets/base",
            "_view_module_version": "1.2.0",
            "_view_name": "StyleView",
            "cursor": "crosshair"
          }
        },
        "d551e5c3343a493fb4aaf8c2cb365277": {
          "model_module": "jupyter-leaflet",
          "model_module_version": "^0.17",
          "model_name": "LeafletAttributionControlModel",
          "state": {
            "_model_module": "jupyter-leaflet",
            "_model_module_version": "^0.17",
            "_model_name": "LeafletAttributionControlModel",
            "_view_count": null,
            "_view_module": "jupyter-leaflet",
            "_view_module_version": "^0.17",
            "_view_name": "LeafletAttributionControlView",
            "options": [
              "position",
              "prefix"
            ],
            "position": "bottomright",
            "prefix": "ipyleaflet"
          }
        },
        "d5b81e810a8a48cb96f25fb243721fe0": {
          "model_module": "@jupyter-widgets/base",
          "model_module_version": "1.2.0",
          "model_name": "LayoutModel",
          "state": {
            "_model_module": "@jupyter-widgets/base",
            "_model_module_version": "1.2.0",
            "_model_name": "LayoutModel",
            "_view_count": null,
            "_view_module": "@jupyter-widgets/base",
            "_view_module_version": "1.2.0",
            "_view_name": "LayoutView",
            "align_content": null,
            "align_items": null,
            "align_self": null,
            "border": null,
            "bottom": null,
            "display": null,
            "flex": null,
            "flex_flow": null,
            "grid_area": null,
            "grid_auto_columns": null,
            "grid_auto_flow": null,
            "grid_auto_rows": null,
            "grid_column": null,
            "grid_gap": null,
            "grid_row": null,
            "grid_template_areas": null,
            "grid_template_columns": null,
            "grid_template_rows": null,
            "height": null,
            "justify_content": null,
            "justify_items": null,
            "left": null,
            "margin": null,
            "max_height": null,
            "max_width": null,
            "min_height": null,
            "min_width": null,
            "object_fit": null,
            "object_position": null,
            "order": null,
            "overflow": null,
            "overflow_x": null,
            "overflow_y": null,
            "padding": null,
            "right": null,
            "top": null,
            "visibility": null,
            "width": null
          }
        },
        "d5cfb23be27645f09b8b806058f43fe9": {
          "model_module": "jupyter-leaflet",
          "model_module_version": "^0.17",
          "model_name": "LeafletMapStyleModel",
          "state": {
            "_model_module": "jupyter-leaflet",
            "_model_module_version": "^0.17",
            "_model_name": "LeafletMapStyleModel",
            "_view_count": null,
            "_view_module": "@jupyter-widgets/base",
            "_view_module_version": "1.2.0",
            "_view_name": "StyleView",
            "cursor": "move"
          }
        },
        "d5fe0d57610d4fb1bffc21b792b789d5": {
          "model_module": "jupyter-leaflet",
          "model_module_version": "^0.17",
          "model_name": "LeafletTileLayerModel",
          "state": {
            "_model_module": "jupyter-leaflet",
            "_model_module_version": "^0.17",
            "_model_name": "LeafletTileLayerModel",
            "_view_count": null,
            "_view_module": "jupyter-leaflet",
            "_view_module_version": "^0.17",
            "_view_name": "LeafletTileLayerView",
            "attribution": null,
            "base": false,
            "bottom": true,
            "bounds": null,
            "detect_retina": false,
            "loading": false,
            "max_native_zoom": null,
            "max_zoom": 18,
            "min_native_zoom": null,
            "min_zoom": 0,
            "name": "before_dw",
            "no_wrap": false,
            "opacity": 1,
            "options": [
              "attribution",
              "bounds",
              "detect_retina",
              "max_native_zoom",
              "max_zoom",
              "min_native_zoom",
              "min_zoom",
              "no_wrap",
              "tile_size",
              "tms",
              "zoom_offset"
            ],
            "pane": "",
            "popup": null,
            "popup_max_height": null,
            "popup_max_width": 300,
            "popup_min_width": 50,
            "show_loading": false,
            "subitems": [],
            "tile_size": 256,
            "tms": false,
            "url": "https://earthengine.googleapis.com/v1alpha/projects/agu22-eetemp/maps/f1c17b2c7b2d50ee149e917e3debf6b7-ddf1d5c2a872f86d13c7bbf6d48e6cf1/tiles/{z}/{x}/{y}",
            "visible": true,
            "zoom_offset": 0
          }
        },
        "d8d843d2b0794ed3895677fd79c09af1": {
          "model_module": "@jupyter-widgets/controls",
          "model_module_version": "1.5.0",
          "model_name": "HBoxModel",
          "state": {
            "_dom_classes": [],
            "_model_module": "@jupyter-widgets/controls",
            "_model_module_version": "1.5.0",
            "_model_name": "HBoxModel",
            "_view_count": null,
            "_view_module": "@jupyter-widgets/controls",
            "_view_module_version": "1.5.0",
            "_view_name": "HBoxView",
            "box_style": "",
            "children": [
              "IPY_MODEL_821d515b9258450baeb8ea689cec548c",
              "IPY_MODEL_392602c7922e4c80b77de8673dce164d"
            ],
            "layout": "IPY_MODEL_7c35b04d37d04d7db34c3d9b56822501"
          }
        },
        "d98fe82851a6452a92d435ff4ab4b678": {
          "model_module": "jupyter-leaflet",
          "model_module_version": "^0.17",
          "model_name": "LeafletMapStyleModel",
          "state": {
            "_model_module": "jupyter-leaflet",
            "_model_module_version": "^0.17",
            "_model_name": "LeafletMapStyleModel",
            "_view_count": null,
            "_view_module": "@jupyter-widgets/base",
            "_view_module_version": "1.2.0",
            "_view_name": "StyleView",
            "cursor": "crosshair"
          }
        },
        "da27c23911dd448ab2cf6fdf0dc4cd1e": {
          "model_module": "@jupyter-widgets/base",
          "model_module_version": "1.2.0",
          "model_name": "LayoutModel",
          "state": {
            "_model_module": "@jupyter-widgets/base",
            "_model_module_version": "1.2.0",
            "_model_name": "LayoutModel",
            "_view_count": null,
            "_view_module": "@jupyter-widgets/base",
            "_view_module_version": "1.2.0",
            "_view_name": "LayoutView",
            "align_content": null,
            "align_items": null,
            "align_self": null,
            "border": null,
            "bottom": null,
            "display": null,
            "flex": null,
            "flex_flow": null,
            "grid_area": null,
            "grid_auto_columns": null,
            "grid_auto_flow": null,
            "grid_auto_rows": null,
            "grid_column": null,
            "grid_gap": null,
            "grid_row": null,
            "grid_template_areas": null,
            "grid_template_columns": null,
            "grid_template_rows": null,
            "height": null,
            "justify_content": null,
            "justify_items": null,
            "left": null,
            "margin": null,
            "max_height": null,
            "max_width": null,
            "min_height": null,
            "min_width": null,
            "object_fit": null,
            "object_position": null,
            "order": null,
            "overflow": null,
            "overflow_x": null,
            "overflow_y": null,
            "padding": null,
            "right": null,
            "top": null,
            "visibility": null,
            "width": null
          }
        },
        "db351fc9cb634cf38ecf95abb91301f7": {
          "model_module": "jupyter-leaflet",
          "model_module_version": "^0.17",
          "model_name": "LeafletMapModel",
          "state": {
            "_dom_classes": [],
            "_model_module": "jupyter-leaflet",
            "_model_module_version": "^0.17",
            "_model_name": "LeafletMapModel",
            "_view_count": null,
            "_view_module": "jupyter-leaflet",
            "_view_module_version": "^0.17",
            "_view_name": "LeafletMapView",
            "bottom": 96458,
            "bounce_at_zoom_limits": true,
            "box_zoom": true,
            "center": [
              43.06727755565937,
              -89.41813684593848
            ],
            "close_popup_on_click": true,
            "controls": [
              "IPY_MODEL_4615c64df4324fd99ee4a7f0b8649837",
              "IPY_MODEL_bfd5a83321d842138737401836cebd2d",
              "IPY_MODEL_36093f6022354469a70d6f29069c600c"
            ],
            "crs": {
              "custom": false,
              "name": "EPSG3857"
            },
            "default_style": "IPY_MODEL_85291349e8ea445ab68f0b99d763376b",
            "double_click_zoom": true,
            "dragging": true,
            "dragging_style": "IPY_MODEL_d5cfb23be27645f09b8b806058f43fe9",
            "east": -89.20349121093751,
            "fullscreen": false,
            "inertia": true,
            "inertia_deceleration": 3000,
            "inertia_max_speed": 1500,
            "interpolation": "bilinear",
            "keyboard": true,
            "keyboard_pan_offset": 80,
            "keyboard_zoom_offset": 1,
            "layers": [
              "IPY_MODEL_a9485c2e7ad94f4082311e0e061a0e77",
              "IPY_MODEL_99a7bcd1a7204f10a0e9becc8f501668"
            ],
            "layout": "IPY_MODEL_98b42236dd3c47f285d805d92654c24f",
            "left": 65804,
            "max_zoom": null,
            "min_zoom": null,
            "modisdate": "2022-12-13",
            "north": 43.26720631662829,
            "options": [
              "bounce_at_zoom_limits",
              "box_zoom",
              "center",
              "close_popup_on_click",
              "double_click_zoom",
              "dragging",
              "fullscreen",
              "inertia",
              "inertia_deceleration",
              "inertia_max_speed",
              "interpolation",
              "keyboard",
              "keyboard_pan_offset",
              "keyboard_zoom_offset",
              "max_zoom",
              "min_zoom",
              "prefer_canvas",
              "scroll_wheel_zoom",
              "tap",
              "tap_tolerance",
              "touch_zoom",
              "world_copy_jump",
              "zoom",
              "zoom_animation_threshold",
              "zoom_delta",
              "zoom_snap"
            ],
            "panes": {},
            "prefer_canvas": false,
            "right": 66116,
            "scroll_wheel_zoom": false,
            "south": 42.86589941517495,
            "style": "IPY_MODEL_2375539ad23445c3b640406b2ee21cfc",
            "tap": true,
            "tap_tolerance": 15,
            "top": 96058,
            "touch_zoom": true,
            "west": -89.63195800781251,
            "window_url": "https://o1sj2ys0a3g-496ff2e9c6d22116-0-colab.googleusercontent.com/outputframe.html?vrz=colab-20221213-060111-RC00_494987091",
            "world_copy_jump": false,
            "zoom": 10,
            "zoom_animation_threshold": 4,
            "zoom_delta": 1,
            "zoom_snap": 1
          }
        },
        "dd3f10274e7240b6893a83535ececf42": {
          "model_module": "jupyter-leaflet",
          "model_module_version": "^0.17",
          "model_name": "LeafletMapStyleModel",
          "state": {
            "_model_module": "jupyter-leaflet",
            "_model_module_version": "^0.17",
            "_model_name": "LeafletMapStyleModel",
            "_view_count": null,
            "_view_module": "@jupyter-widgets/base",
            "_view_module_version": "1.2.0",
            "_view_name": "StyleView",
            "cursor": "move"
          }
        },
        "dd9ab0bddc5a443081aaf691c0cc0f8d": {
          "model_module": "jupyter-leaflet",
          "model_module_version": "^0.17",
          "model_name": "LeafletMapStyleModel",
          "state": {
            "_model_module": "jupyter-leaflet",
            "_model_module_version": "^0.17",
            "_model_name": "LeafletMapStyleModel",
            "_view_count": null,
            "_view_module": "@jupyter-widgets/base",
            "_view_module_version": "1.2.0",
            "_view_name": "StyleView",
            "cursor": "move"
          }
        },
        "de35f20539354824aca56806796de545": {
          "model_module": "jupyter-leaflet",
          "model_module_version": "^0.17",
          "model_name": "LeafletTileLayerModel",
          "state": {
            "_model_module": "jupyter-leaflet",
            "_model_module_version": "^0.17",
            "_model_name": "LeafletTileLayerModel",
            "_view_count": null,
            "_view_module": "jupyter-leaflet",
            "_view_module_version": "^0.17",
            "_view_name": "LeafletTileLayerView",
            "attribution": null,
            "base": false,
            "bottom": true,
            "bounds": null,
            "detect_retina": false,
            "loading": false,
            "max_native_zoom": null,
            "max_zoom": 18,
            "min_native_zoom": null,
            "min_zoom": 0,
            "name": "New Urban (masked)",
            "no_wrap": false,
            "opacity": 1,
            "options": [
              "attribution",
              "bounds",
              "detect_retina",
              "max_native_zoom",
              "max_zoom",
              "min_native_zoom",
              "min_zoom",
              "no_wrap",
              "tile_size",
              "tms",
              "zoom_offset"
            ],
            "pane": "",
            "popup": null,
            "popup_max_height": null,
            "popup_max_width": 300,
            "popup_min_width": 50,
            "show_loading": false,
            "subitems": [],
            "tile_size": 256,
            "tms": false,
            "url": "https://earthengine.googleapis.com/v1alpha/projects/agu22-eetemp/maps/c9c351a441ab1773e065887b65c18a55-a04d28c23f912b4ac453bc8cbe23c735/tiles/{z}/{x}/{y}",
            "visible": true,
            "zoom_offset": 0
          }
        },
        "de8f56a134014c3ca188ec56dc9a6f1e": {
          "model_module": "jupyter-leaflet",
          "model_module_version": "^0.17",
          "model_name": "LeafletMapStyleModel",
          "state": {
            "_model_module": "jupyter-leaflet",
            "_model_module_version": "^0.17",
            "_model_name": "LeafletMapStyleModel",
            "_view_count": null,
            "_view_module": "@jupyter-widgets/base",
            "_view_module_version": "1.2.0",
            "_view_name": "StyleView",
            "cursor": "move"
          }
        },
        "deef0615c6da41b0aa5e14191266a702": {
          "model_module": "jupyter-leaflet",
          "model_module_version": "^0.17",
          "model_name": "LeafletLayersControlModel",
          "state": {
            "_model_module": "jupyter-leaflet",
            "_model_module_version": "^0.17",
            "_model_name": "LeafletLayersControlModel",
            "_view_count": null,
            "_view_module": "jupyter-leaflet",
            "_view_module_version": "^0.17",
            "_view_name": "LeafletLayersControlView",
            "options": [
              "position"
            ],
            "position": "topright"
          }
        },
        "dfa0a12f95034a81a47b89e938c20442": {
          "model_module": "jupyter-leaflet",
          "model_module_version": "^0.17",
          "model_name": "LeafletLayersControlModel",
          "state": {
            "_model_module": "jupyter-leaflet",
            "_model_module_version": "^0.17",
            "_model_name": "LeafletLayersControlModel",
            "_view_count": null,
            "_view_module": "jupyter-leaflet",
            "_view_module_version": "^0.17",
            "_view_name": "LeafletLayersControlView",
            "options": [
              "position"
            ],
            "position": "topright"
          }
        },
        "dfb633d4f74744c4aa1e38eb7191d210": {
          "model_module": "ipytree",
          "model_module_version": "^0.2",
          "model_name": "NodeModel",
          "state": {
            "_id": "bb113347-8f44-44b1-9cb3-f3ee0f420eff",
            "_model_module": "ipytree",
            "_model_module_version": "^0.2",
            "_model_name": "NodeModel",
            "_view_count": null,
            "_view_module": "ipytree",
            "_view_module_version": "^0.2",
            "_view_name": "NodeView",
            "close_icon": "minus",
            "close_icon_style": "default",
            "disabled": false,
            "icon": "map",
            "icon_image": "",
            "icon_style": "default",
            "name": "Point",
            "nodes": [],
            "open_icon": "plus",
            "open_icon_style": "default",
            "opened": true,
            "selected": false,
            "show_icon": true
          }
        },
        "dfc9e8bacb07483482afcc5b58aa560e": {
          "model_module": "jupyter-leaflet",
          "model_module_version": "^0.17",
          "model_name": "LeafletZoomControlModel",
          "state": {
            "_model_module": "jupyter-leaflet",
            "_model_module_version": "^0.17",
            "_model_name": "LeafletZoomControlModel",
            "_view_count": null,
            "_view_module": "jupyter-leaflet",
            "_view_module_version": "^0.17",
            "_view_name": "LeafletZoomControlView",
            "options": [
              "position",
              "zoom_in_text",
              "zoom_in_title",
              "zoom_out_text",
              "zoom_out_title"
            ],
            "position": "topleft",
            "zoom_in_text": "+",
            "zoom_in_title": "Zoom in",
            "zoom_out_text": "-",
            "zoom_out_title": "Zoom out"
          }
        },
        "e1278add514844829f535bdd94b7fd7c": {
          "model_module": "jupyter-leaflet",
          "model_module_version": "^0.17",
          "model_name": "LeafletZoomControlModel",
          "state": {
            "_model_module": "jupyter-leaflet",
            "_model_module_version": "^0.17",
            "_model_name": "LeafletZoomControlModel",
            "_view_count": null,
            "_view_module": "jupyter-leaflet",
            "_view_module_version": "^0.17",
            "_view_name": "LeafletZoomControlView",
            "options": [
              "position",
              "zoom_in_text",
              "zoom_in_title",
              "zoom_out_text",
              "zoom_out_title"
            ],
            "position": "topleft",
            "zoom_in_text": "+",
            "zoom_in_title": "Zoom in",
            "zoom_out_text": "-",
            "zoom_out_title": "Zoom out"
          }
        },
        "e3f7ae4bdef746c9be4a1ccaf337858a": {
          "model_module": "ipytree",
          "model_module_version": "^0.2",
          "model_name": "TreeModel",
          "state": {
            "_dom_classes": [],
            "_id": "#",
            "_model_module": "ipytree",
            "_model_module_version": "^0.2",
            "_model_name": "TreeModel",
            "_view_count": null,
            "_view_module": "ipytree",
            "_view_module_version": "^0.2",
            "_view_name": "TreeView",
            "animation": 200,
            "layout": "IPY_MODEL_565931b1769647e8bd9cbbffb47d80e4",
            "multiple_selection": true,
            "nodes": [
              "IPY_MODEL_7c62ded5702e455999d3b026e4ab6300",
              "IPY_MODEL_f61cd595a0154d23881fd6ad5bb5bbc1",
              "IPY_MODEL_3a0260c7426e4cae9655d83f82578337"
            ],
            "selected_nodes": []
          }
        },
        "e4447682dddb4d6e932ac5120faebc0c": {
          "model_module": "jupyter-leaflet",
          "model_module_version": "^0.17",
          "model_name": "LeafletTileLayerModel",
          "state": {
            "_model_module": "jupyter-leaflet",
            "_model_module_version": "^0.17",
            "_model_name": "LeafletTileLayerModel",
            "_view_count": null,
            "_view_module": "jupyter-leaflet",
            "_view_module_version": "^0.17",
            "_view_name": "LeafletTileLayerView",
            "attribution": "Map tiles by <a href=\"http://stamen.com\">Stamen Design</a>, <a href=\"http://creativecommons.org/licenses/by/3.0\">CC BY 3.0</a> &mdash; Map data &copy; <a href=\"https://www.openstreetmap.org/copyright\">OpenStreetMap</a> contributors",
            "base": true,
            "bottom": true,
            "bounds": null,
            "detect_retina": false,
            "loading": false,
            "max_native_zoom": null,
            "max_zoom": 16,
            "min_native_zoom": null,
            "min_zoom": 1,
            "name": "Stamen.Watercolor",
            "no_wrap": false,
            "opacity": 1,
            "options": [
              "attribution",
              "bounds",
              "detect_retina",
              "max_native_zoom",
              "max_zoom",
              "min_native_zoom",
              "min_zoom",
              "no_wrap",
              "tile_size",
              "tms",
              "zoom_offset"
            ],
            "pane": "",
            "popup": null,
            "popup_max_height": null,
            "popup_max_width": 300,
            "popup_min_width": 50,
            "show_loading": false,
            "subitems": [],
            "tile_size": 256,
            "tms": false,
            "url": "https://stamen-tiles-a.a.ssl.fastly.net/watercolor/{z}/{x}/{y}.jpg",
            "visible": true,
            "zoom_offset": 0
          }
        },
        "e75d0884a7ee408e8dda79477efef14c": {
          "model_module": "@jupyter-widgets/controls",
          "model_module_version": "1.5.0",
          "model_name": "HBoxModel",
          "state": {
            "_dom_classes": [],
            "_model_module": "@jupyter-widgets/controls",
            "_model_module_version": "1.5.0",
            "_model_name": "HBoxModel",
            "_view_count": null,
            "_view_module": "@jupyter-widgets/controls",
            "_view_module_version": "1.5.0",
            "_view_name": "HBoxView",
            "box_style": "",
            "children": [
              "IPY_MODEL_b542a0144d4e481ea1a4d9061bfcdff6",
              "IPY_MODEL_8380e84f56f642c4a4b54d7894bb034b"
            ],
            "layout": "IPY_MODEL_7c8f745554204765bb9fe31cb7d62d5e"
          }
        },
        "e8b23cc8fd7d469b8de07fcdaa2f42d2": {
          "model_module": "@jupyter-widgets/controls",
          "model_module_version": "1.5.0",
          "model_name": "VBoxModel",
          "state": {
            "_dom_classes": [],
            "_model_module": "@jupyter-widgets/controls",
            "_model_module_version": "1.5.0",
            "_model_name": "VBoxModel",
            "_view_count": null,
            "_view_module": "@jupyter-widgets/controls",
            "_view_module_version": "1.5.0",
            "_view_name": "VBoxView",
            "box_style": "",
            "children": [
              "IPY_MODEL_94b0512613d54c80a52babf5cb8298e5",
              "IPY_MODEL_07fcc2378acd4fd297db8f238ec8cd5b"
            ],
            "layout": "IPY_MODEL_9d5826cac2914e54b1d5fe110ad2950a"
          }
        },
        "e8b3d5ac4de74a1095d1acdb151526f0": {
          "model_module": "jupyter-leaflet",
          "model_module_version": "^0.17",
          "model_name": "LeafletMapStyleModel",
          "state": {
            "_model_module": "jupyter-leaflet",
            "_model_module_version": "^0.17",
            "_model_name": "LeafletMapStyleModel",
            "_view_count": null,
            "_view_module": "@jupyter-widgets/base",
            "_view_module_version": "1.2.0",
            "_view_name": "StyleView",
            "cursor": "grab"
          }
        },
        "ea4288afd077446792b1027dfcc97ae2": {
          "model_module": "@jupyter-widgets/controls",
          "model_module_version": "1.5.0",
          "model_name": "SliderStyleModel",
          "state": {
            "_model_module": "@jupyter-widgets/controls",
            "_model_module_version": "1.5.0",
            "_model_name": "SliderStyleModel",
            "_view_count": null,
            "_view_module": "@jupyter-widgets/base",
            "_view_module_version": "1.2.0",
            "_view_name": "StyleView",
            "description_width": "",
            "handle_color": null
          }
        },
        "ea78aef136764c248482e9427284ed86": {
          "model_module": "jupyter-leaflet",
          "model_module_version": "^0.17",
          "model_name": "LeafletLayersControlModel",
          "state": {
            "_model_module": "jupyter-leaflet",
            "_model_module_version": "^0.17",
            "_model_name": "LeafletLayersControlModel",
            "_view_count": null,
            "_view_module": "jupyter-leaflet",
            "_view_module_version": "^0.17",
            "_view_name": "LeafletLayersControlView",
            "options": [
              "position"
            ],
            "position": "topright"
          }
        },
        "eaecec5d0ff04d5c96b4a580b67cff83": {
          "model_module": "@jupyter-widgets/base",
          "model_module_version": "1.2.0",
          "model_name": "LayoutModel",
          "state": {
            "_model_module": "@jupyter-widgets/base",
            "_model_module_version": "1.2.0",
            "_model_name": "LayoutModel",
            "_view_count": null,
            "_view_module": "@jupyter-widgets/base",
            "_view_module_version": "1.2.0",
            "_view_name": "LayoutView",
            "align_content": null,
            "align_items": null,
            "align_self": null,
            "border": null,
            "bottom": null,
            "display": null,
            "flex": null,
            "flex_flow": null,
            "grid_area": null,
            "grid_auto_columns": null,
            "grid_auto_flow": null,
            "grid_auto_rows": null,
            "grid_column": null,
            "grid_gap": null,
            "grid_row": null,
            "grid_template_areas": null,
            "grid_template_columns": null,
            "grid_template_rows": null,
            "height": null,
            "justify_content": null,
            "justify_items": null,
            "left": null,
            "margin": null,
            "max_height": null,
            "max_width": null,
            "min_height": null,
            "min_width": null,
            "object_fit": null,
            "object_position": null,
            "order": null,
            "overflow": null,
            "overflow_x": null,
            "overflow_y": null,
            "padding": null,
            "right": null,
            "top": null,
            "visibility": null,
            "width": null
          }
        },
        "eb1fb53a055747f68d2ae13f577598eb": {
          "model_module": "@jupyter-widgets/controls",
          "model_module_version": "1.5.0",
          "model_name": "FloatSliderModel",
          "state": {
            "_dom_classes": [],
            "_model_module": "@jupyter-widgets/controls",
            "_model_module_version": "1.5.0",
            "_model_name": "FloatSliderModel",
            "_view_count": null,
            "_view_module": "@jupyter-widgets/controls",
            "_view_module_version": "1.5.0",
            "_view_name": "FloatSliderView",
            "continuous_update": true,
            "description": "",
            "description_tooltip": null,
            "disabled": false,
            "layout": "IPY_MODEL_f3eca4bfae5c401084e286adda81902d",
            "max": 100,
            "min": 0,
            "orientation": "horizontal",
            "readout": false,
            "readout_format": ".2f",
            "step": 0.1,
            "style": "IPY_MODEL_5e954be5357843f9875a3a79f2144af9",
            "value": 50
          }
        },
        "ebb3047dfa124938b1485be7661164e3": {
          "model_module": "@jupyter-widgets/controls",
          "model_module_version": "1.5.0",
          "model_name": "DescriptionStyleModel",
          "state": {
            "_model_module": "@jupyter-widgets/controls",
            "_model_module_version": "1.5.0",
            "_model_name": "DescriptionStyleModel",
            "_view_count": null,
            "_view_module": "@jupyter-widgets/base",
            "_view_module_version": "1.2.0",
            "_view_name": "StyleView",
            "description_width": ""
          }
        },
        "ebea7d07fb9146b7b775e42c3b86255c": {
          "model_module": "@jupyter-widgets/base",
          "model_module_version": "1.2.0",
          "model_name": "LayoutModel",
          "state": {
            "_model_module": "@jupyter-widgets/base",
            "_model_module_version": "1.2.0",
            "_model_name": "LayoutModel",
            "_view_count": null,
            "_view_module": "@jupyter-widgets/base",
            "_view_module_version": "1.2.0",
            "_view_name": "LayoutView",
            "align_content": null,
            "align_items": null,
            "align_self": null,
            "border": null,
            "bottom": null,
            "display": null,
            "flex": null,
            "flex_flow": null,
            "grid_area": null,
            "grid_auto_columns": null,
            "grid_auto_flow": null,
            "grid_auto_rows": null,
            "grid_column": null,
            "grid_gap": null,
            "grid_row": null,
            "grid_template_areas": null,
            "grid_template_columns": null,
            "grid_template_rows": null,
            "height": null,
            "justify_content": null,
            "justify_items": null,
            "left": null,
            "margin": null,
            "max_height": null,
            "max_width": null,
            "min_height": null,
            "min_width": null,
            "object_fit": null,
            "object_position": null,
            "order": null,
            "overflow": null,
            "overflow_x": null,
            "overflow_y": null,
            "padding": null,
            "right": null,
            "top": null,
            "visibility": null,
            "width": "50.0%"
          }
        },
        "ecdfd3a83a6841ebacd44c8a11edf14a": {
          "model_module": "jupyter-leaflet",
          "model_module_version": "^0.17",
          "model_name": "LeafletZoomControlModel",
          "state": {
            "_model_module": "jupyter-leaflet",
            "_model_module_version": "^0.17",
            "_model_name": "LeafletZoomControlModel",
            "_view_count": null,
            "_view_module": "jupyter-leaflet",
            "_view_module_version": "^0.17",
            "_view_name": "LeafletZoomControlView",
            "options": [
              "position",
              "zoom_in_text",
              "zoom_in_title",
              "zoom_out_text",
              "zoom_out_title"
            ],
            "position": "topleft",
            "zoom_in_text": "+",
            "zoom_in_title": "Zoom in",
            "zoom_out_text": "-",
            "zoom_out_title": "Zoom out"
          }
        },
        "ee35b1120c8646bfbf35412f2793a49d": {
          "model_module": "jupyter-leaflet",
          "model_module_version": "^0.17",
          "model_name": "LeafletMapModel",
          "state": {
            "_dom_classes": [],
            "_model_module": "jupyter-leaflet",
            "_model_module_version": "^0.17",
            "_model_name": "LeafletMapModel",
            "_view_count": null,
            "_view_module": "jupyter-leaflet",
            "_view_module_version": "^0.17",
            "_view_name": "LeafletMapView",
            "bottom": 2064719,
            "bounce_at_zoom_limits": true,
            "box_zoom": true,
            "center": [
              2.799797939089166,
              101.57701492309572
            ],
            "close_popup_on_click": true,
            "controls": [
              "IPY_MODEL_dfc9e8bacb07483482afcc5b58aa560e",
              "IPY_MODEL_fbb8d2a15d0f479a8f58a3bcb5640055",
              "IPY_MODEL_ea78aef136764c248482e9427284ed86",
              "IPY_MODEL_61ee680600be4b419b1269b3314bb6c6"
            ],
            "crs": {
              "custom": false,
              "name": "EPSG3857"
            },
            "default_style": "IPY_MODEL_4bc0dabaf5c14ed485881f04475a1ece",
            "double_click_zoom": true,
            "dragging": true,
            "dragging_style": "IPY_MODEL_011a592630314c00ae22fd788dc3f617",
            "east": 101.59589767456056,
            "fullscreen": false,
            "inertia": true,
            "inertia_deceleration": 3000,
            "inertia_max_speed": 1500,
            "interpolation": "bilinear",
            "keyboard": true,
            "keyboard_pan_offset": 80,
            "keyboard_zoom_offset": 1,
            "layers": [
              "IPY_MODEL_b328075c7b814ab2a233e5e5b106e3f2"
            ],
            "layout": "IPY_MODEL_1860f660c5564996a07f1abc1f9e35e4",
            "left": 3280390,
            "max_zoom": null,
            "min_zoom": null,
            "modisdate": "2022-12-13",
            "north": 2.816943460015673,
            "options": [
              "bounce_at_zoom_limits",
              "box_zoom",
              "center",
              "close_popup_on_click",
              "double_click_zoom",
              "dragging",
              "fullscreen",
              "inertia",
              "inertia_deceleration",
              "inertia_max_speed",
              "interpolation",
              "keyboard",
              "keyboard_pan_offset",
              "keyboard_zoom_offset",
              "max_zoom",
              "min_zoom",
              "prefer_canvas",
              "scroll_wheel_zoom",
              "tap",
              "tap_tolerance",
              "touch_zoom",
              "world_copy_jump",
              "zoom",
              "zoom_animation_threshold",
              "zoom_delta",
              "zoom_snap"
            ],
            "panes": {},
            "prefer_canvas": false,
            "right": 3280830,
            "scroll_wheel_zoom": false,
            "south": 2.7826521672428095,
            "style": "IPY_MODEL_4bc0dabaf5c14ed485881f04475a1ece",
            "tap": true,
            "tap_tolerance": 15,
            "top": 2064319,
            "touch_zoom": true,
            "west": 101.55813217163087,
            "window_url": "https://o1sj2ys0a3g-496ff2e9c6d22116-0-colab.googleusercontent.com/outputframe.html?vrz=colab-20221213-060111-RC00_494987091",
            "world_copy_jump": false,
            "zoom": 14,
            "zoom_animation_threshold": 4,
            "zoom_delta": 1,
            "zoom_snap": 1
          }
        },
        "ef816c8a353740ef9c0f2c69ee01f6c8": {
          "model_module": "@jupyter-widgets/base",
          "model_module_version": "1.2.0",
          "model_name": "LayoutModel",
          "state": {
            "_model_module": "@jupyter-widgets/base",
            "_model_module_version": "1.2.0",
            "_model_name": "LayoutModel",
            "_view_count": null,
            "_view_module": "@jupyter-widgets/base",
            "_view_module_version": "1.2.0",
            "_view_name": "LayoutView",
            "align_content": null,
            "align_items": null,
            "align_self": null,
            "border": null,
            "bottom": null,
            "display": null,
            "flex": null,
            "flex_flow": null,
            "grid_area": null,
            "grid_auto_columns": null,
            "grid_auto_flow": null,
            "grid_auto_rows": null,
            "grid_column": null,
            "grid_gap": null,
            "grid_row": null,
            "grid_template_areas": null,
            "grid_template_columns": null,
            "grid_template_rows": null,
            "height": null,
            "justify_content": null,
            "justify_items": null,
            "left": null,
            "margin": null,
            "max_height": null,
            "max_width": null,
            "min_height": null,
            "min_width": null,
            "object_fit": null,
            "object_position": null,
            "order": null,
            "overflow": null,
            "overflow_x": null,
            "overflow_y": null,
            "padding": null,
            "right": null,
            "top": null,
            "visibility": null,
            "width": "50.0%"
          }
        },
        "efc3e6b887a94d8d902a2517fe2292d9": {
          "model_module": "jupyter-leaflet",
          "model_module_version": "^0.17",
          "model_name": "LeafletAttributionControlModel",
          "state": {
            "_model_module": "jupyter-leaflet",
            "_model_module_version": "^0.17",
            "_model_name": "LeafletAttributionControlModel",
            "_view_count": null,
            "_view_module": "jupyter-leaflet",
            "_view_module_version": "^0.17",
            "_view_name": "LeafletAttributionControlView",
            "options": [
              "position",
              "prefix"
            ],
            "position": "bottomright",
            "prefix": "ipyleaflet"
          }
        },
        "f04854d837bd4fde886371d1689674d5": {
          "model_module": "jupyter-leaflet",
          "model_module_version": "^0.17",
          "model_name": "LeafletAttributionControlModel",
          "state": {
            "_model_module": "jupyter-leaflet",
            "_model_module_version": "^0.17",
            "_model_name": "LeafletAttributionControlModel",
            "_view_count": null,
            "_view_module": "jupyter-leaflet",
            "_view_module_version": "^0.17",
            "_view_name": "LeafletAttributionControlView",
            "options": [
              "position",
              "prefix"
            ],
            "position": "bottomright",
            "prefix": "ipyleaflet"
          }
        },
        "f04ac0bf1eb44c29b25f037456391924": {
          "model_module": "@jupyter-widgets/controls",
          "model_module_version": "1.5.0",
          "model_name": "VBoxModel",
          "state": {
            "_dom_classes": [],
            "_model_module": "@jupyter-widgets/controls",
            "_model_module_version": "1.5.0",
            "_model_name": "VBoxModel",
            "_view_count": null,
            "_view_module": "@jupyter-widgets/controls",
            "_view_module_version": "1.5.0",
            "_view_name": "VBoxView",
            "box_style": "",
            "children": [
              "IPY_MODEL_07e096947ca24021890cc448af0a5098",
              "IPY_MODEL_1343045329f74dd296cc36b4b30f4df6"
            ],
            "layout": "IPY_MODEL_2ad26b06649e415bbe1906d835a629e7"
          }
        },
        "f11873814b164f6b92b0ae9d9a1d57ec": {
          "model_module": "@jupyter-widgets/base",
          "model_module_version": "1.2.0",
          "model_name": "LayoutModel",
          "state": {
            "_model_module": "@jupyter-widgets/base",
            "_model_module_version": "1.2.0",
            "_model_name": "LayoutModel",
            "_view_count": null,
            "_view_module": "@jupyter-widgets/base",
            "_view_module_version": "1.2.0",
            "_view_name": "LayoutView",
            "align_content": null,
            "align_items": null,
            "align_self": null,
            "border": null,
            "bottom": null,
            "display": null,
            "flex": null,
            "flex_flow": null,
            "grid_area": null,
            "grid_auto_columns": null,
            "grid_auto_flow": null,
            "grid_auto_rows": null,
            "grid_column": null,
            "grid_gap": null,
            "grid_row": null,
            "grid_template_areas": null,
            "grid_template_columns": null,
            "grid_template_rows": null,
            "height": null,
            "justify_content": null,
            "justify_items": null,
            "left": null,
            "margin": null,
            "max_height": null,
            "max_width": null,
            "min_height": null,
            "min_width": null,
            "object_fit": null,
            "object_position": null,
            "order": null,
            "overflow": null,
            "overflow_x": null,
            "overflow_y": null,
            "padding": null,
            "right": null,
            "top": null,
            "visibility": null,
            "width": "100%"
          }
        },
        "f1fc62d9604a4b84afb868ab947b6251": {
          "model_module": "@jupyter-widgets/base",
          "model_module_version": "1.2.0",
          "model_name": "LayoutModel",
          "state": {
            "_model_module": "@jupyter-widgets/base",
            "_model_module_version": "1.2.0",
            "_model_name": "LayoutModel",
            "_view_count": null,
            "_view_module": "@jupyter-widgets/base",
            "_view_module_version": "1.2.0",
            "_view_name": "LayoutView",
            "align_content": null,
            "align_items": null,
            "align_self": null,
            "border": null,
            "bottom": null,
            "display": null,
            "flex": null,
            "flex_flow": null,
            "grid_area": null,
            "grid_auto_columns": null,
            "grid_auto_flow": null,
            "grid_auto_rows": null,
            "grid_column": null,
            "grid_gap": null,
            "grid_row": null,
            "grid_template_areas": null,
            "grid_template_columns": null,
            "grid_template_rows": null,
            "height": null,
            "justify_content": null,
            "justify_items": null,
            "left": null,
            "margin": null,
            "max_height": null,
            "max_width": null,
            "min_height": null,
            "min_width": null,
            "object_fit": null,
            "object_position": null,
            "order": null,
            "overflow": null,
            "overflow_x": null,
            "overflow_y": null,
            "padding": null,
            "right": null,
            "top": null,
            "visibility": null,
            "width": "100%"
          }
        },
        "f2103aa960944f4f854faddf7528235b": {
          "model_module": "@jupyter-widgets/base",
          "model_module_version": "1.2.0",
          "model_name": "LayoutModel",
          "state": {
            "_model_module": "@jupyter-widgets/base",
            "_model_module_version": "1.2.0",
            "_model_name": "LayoutModel",
            "_view_count": null,
            "_view_module": "@jupyter-widgets/base",
            "_view_module_version": "1.2.0",
            "_view_name": "LayoutView",
            "align_content": null,
            "align_items": null,
            "align_self": null,
            "border": null,
            "bottom": null,
            "display": null,
            "flex": null,
            "flex_flow": null,
            "grid_area": null,
            "grid_auto_columns": null,
            "grid_auto_flow": null,
            "grid_auto_rows": null,
            "grid_column": null,
            "grid_gap": null,
            "grid_row": null,
            "grid_template_areas": null,
            "grid_template_columns": null,
            "grid_template_rows": null,
            "height": null,
            "justify_content": null,
            "justify_items": null,
            "left": null,
            "margin": null,
            "max_height": null,
            "max_width": null,
            "min_height": null,
            "min_width": null,
            "object_fit": null,
            "object_position": null,
            "order": null,
            "overflow": null,
            "overflow_x": null,
            "overflow_y": null,
            "padding": null,
            "right": null,
            "top": null,
            "visibility": null,
            "width": null
          }
        },
        "f3eca4bfae5c401084e286adda81902d": {
          "model_module": "@jupyter-widgets/base",
          "model_module_version": "1.2.0",
          "model_name": "LayoutModel",
          "state": {
            "_model_module": "@jupyter-widgets/base",
            "_model_module_version": "1.2.0",
            "_model_name": "LayoutModel",
            "_view_count": null,
            "_view_module": "@jupyter-widgets/base",
            "_view_module_version": "1.2.0",
            "_view_name": "LayoutView",
            "align_content": null,
            "align_items": null,
            "align_self": null,
            "border": null,
            "bottom": null,
            "display": null,
            "flex": null,
            "flex_flow": null,
            "grid_area": null,
            "grid_auto_columns": null,
            "grid_auto_flow": null,
            "grid_auto_rows": null,
            "grid_column": null,
            "grid_gap": null,
            "grid_row": null,
            "grid_template_areas": null,
            "grid_template_columns": null,
            "grid_template_rows": null,
            "height": null,
            "justify_content": null,
            "justify_items": null,
            "left": null,
            "margin": null,
            "max_height": null,
            "max_width": null,
            "min_height": null,
            "min_width": null,
            "object_fit": null,
            "object_position": null,
            "order": null,
            "overflow": null,
            "overflow_x": null,
            "overflow_y": null,
            "padding": null,
            "right": null,
            "top": null,
            "visibility": null,
            "width": "100%"
          }
        },
        "f4818fcddde14ce0a5716b4f2db84db8": {
          "model_module": "jupyter-leaflet",
          "model_module_version": "^0.17",
          "model_name": "LeafletLayersControlModel",
          "state": {
            "_model_module": "jupyter-leaflet",
            "_model_module_version": "^0.17",
            "_model_name": "LeafletLayersControlModel",
            "_view_count": null,
            "_view_module": "jupyter-leaflet",
            "_view_module_version": "^0.17",
            "_view_name": "LeafletLayersControlView",
            "options": [
              "position"
            ],
            "position": "topright"
          }
        },
        "f50742e3d1234960bd91f4afa4f6c0bb": {
          "model_module": "jupyter-leaflet",
          "model_module_version": "^0.17",
          "model_name": "LeafletMapStyleModel",
          "state": {
            "_model_module": "jupyter-leaflet",
            "_model_module_version": "^0.17",
            "_model_name": "LeafletMapStyleModel",
            "_view_count": null,
            "_view_module": "@jupyter-widgets/base",
            "_view_module_version": "1.2.0",
            "_view_name": "StyleView",
            "cursor": "move"
          }
        },
        "f5f522ae15594d279cacca188328f5b4": {
          "model_module": "@jupyter-widgets/controls",
          "model_module_version": "1.5.0",
          "model_name": "FloatSliderModel",
          "state": {
            "_dom_classes": [],
            "_model_module": "@jupyter-widgets/controls",
            "_model_module_version": "1.5.0",
            "_model_name": "FloatSliderModel",
            "_view_count": null,
            "_view_module": "@jupyter-widgets/controls",
            "_view_module_version": "1.5.0",
            "_view_name": "FloatSliderView",
            "continuous_update": true,
            "description": "",
            "description_tooltip": null,
            "disabled": false,
            "layout": "IPY_MODEL_0e141b926a2c46d5b38e3b5c267ffdeb",
            "max": 100,
            "min": 0,
            "orientation": "horizontal",
            "readout": false,
            "readout_format": ".2f",
            "step": 0.1,
            "style": "IPY_MODEL_6a40abe0f5d749bf9652cdf927f23628",
            "value": 50
          }
        },
        "f61cd595a0154d23881fd6ad5bb5bbc1": {
          "model_module": "ipytree",
          "model_module_version": "^0.2",
          "model_name": "NodeModel",
          "state": {
            "_id": "b1025536-7157-4129-a635-9b9d20df03f7",
            "_model_module": "ipytree",
            "_model_module_version": "^0.2",
            "_model_name": "NodeModel",
            "_view_count": null,
            "_view_module": "ipytree",
            "_view_module_version": "^0.2",
            "_view_name": "NodeView",
            "close_icon": "minus",
            "close_icon_style": "default",
            "disabled": true,
            "icon": "archive",
            "icon_image": "",
            "icon_style": "default",
            "name": "Pixels",
            "nodes": [],
            "open_icon": "plus",
            "open_icon_style": "default",
            "opened": true,
            "selected": false,
            "show_icon": true
          }
        },
        "f6aa735dc96c46a59cca632a1da001b5": {
          "model_module": "jupyter-leaflet",
          "model_module_version": "^0.17",
          "model_name": "LeafletMapModel",
          "state": {
            "_dom_classes": [],
            "_model_module": "jupyter-leaflet",
            "_model_module_version": "^0.17",
            "_model_name": "LeafletMapModel",
            "_view_count": null,
            "_view_module": "jupyter-leaflet",
            "_view_module_version": "^0.17",
            "_view_name": "LeafletMapView",
            "bottom": 2064719.2598266602,
            "bounce_at_zoom_limits": true,
            "box_zoom": true,
            "center": [
              2.799797939089166,
              101.57701492309572
            ],
            "close_popup_on_click": true,
            "controls": [
              "IPY_MODEL_7e56098aee214fe1aa01bd107215862a",
              "IPY_MODEL_c92ec71943c74214b3393ab9570eb004",
              "IPY_MODEL_5240bf33823d43c3ba229fbd4952d92e",
              "IPY_MODEL_d2c8408d3ddb4ac7a88ce1a1b669fd42"
            ],
            "crs": {
              "custom": false,
              "name": "EPSG3857"
            },
            "default_style": "IPY_MODEL_76110945229040488ca65a546e5a3eae",
            "double_click_zoom": true,
            "dragging": true,
            "dragging_style": "IPY_MODEL_72174934858a4dbfaad1403f6c04c1bf",
            "east": 101.5958902350161,
            "fullscreen": false,
            "inertia": true,
            "inertia_deceleration": 3000,
            "inertia_max_speed": 1500,
            "interpolation": "bilinear",
            "keyboard": true,
            "keyboard_pan_offset": 80,
            "keyboard_zoom_offset": 1,
            "layers": [
              "IPY_MODEL_b328075c7b814ab2a233e5e5b106e3f2"
            ],
            "layout": "IPY_MODEL_88c0c91d90d54595bb89711b3b65decf",
            "left": 3280389.9133230248,
            "max_zoom": null,
            "min_zoom": null,
            "modisdate": "2022-12-13",
            "north": 2.8169211858619247,
            "options": [
              "bounce_at_zoom_limits",
              "box_zoom",
              "center",
              "close_popup_on_click",
              "double_click_zoom",
              "dragging",
              "fullscreen",
              "inertia",
              "inertia_deceleration",
              "inertia_max_speed",
              "interpolation",
              "keyboard",
              "keyboard_pan_offset",
              "keyboard_zoom_offset",
              "max_zoom",
              "min_zoom",
              "prefer_canvas",
              "scroll_wheel_zoom",
              "tap",
              "tap_tolerance",
              "touch_zoom",
              "world_copy_jump",
              "zoom",
              "zoom_animation_threshold",
              "zoom_delta",
              "zoom_snap"
            ],
            "panes": {},
            "prefer_canvas": false,
            "right": 3280829.9133230248,
            "scroll_wheel_zoom": false,
            "south": 2.7826298924370985,
            "style": "IPY_MODEL_76110945229040488ca65a546e5a3eae",
            "tap": true,
            "tap_tolerance": 15,
            "top": 2064319.2598266602,
            "touch_zoom": true,
            "west": 101.55812473208641,
            "window_url": "https://o1sj2ys0a3g-496ff2e9c6d22116-0-colab.googleusercontent.com/outputframe.html?vrz=colab-20221213-060111-RC00_494987091",
            "world_copy_jump": false,
            "zoom": 14,
            "zoom_animation_threshold": 4,
            "zoom_delta": 1,
            "zoom_snap": 1
          }
        },
        "f6f607e7a193469eb96595efa3c1ba55": {
          "model_module": "ipytree",
          "model_module_version": "^0.2",
          "model_name": "TreeModel",
          "state": {
            "_dom_classes": [],
            "_id": "#",
            "_model_module": "ipytree",
            "_model_module_version": "^0.2",
            "_model_name": "TreeModel",
            "_view_count": null,
            "_view_module": "ipytree",
            "_view_module_version": "^0.2",
            "_view_name": "TreeView",
            "animation": 200,
            "layout": "IPY_MODEL_84155cfc6beb4cd6ac3a5b07f3fefbab",
            "multiple_selection": true,
            "nodes": [
              "IPY_MODEL_dfb633d4f74744c4aa1e38eb7191d210",
              "IPY_MODEL_8488be3befb347669d8680734dbb5c40",
              "IPY_MODEL_b39e0e1edcad4b0bb8478dda62f280a4"
            ],
            "selected_nodes": []
          }
        },
        "f8566cb32a824647a9c8b23673397939": {
          "model_module": "@jupyter-widgets/base",
          "model_module_version": "1.2.0",
          "model_name": "LayoutModel",
          "state": {
            "_model_module": "@jupyter-widgets/base",
            "_model_module_version": "1.2.0",
            "_model_name": "LayoutModel",
            "_view_count": null,
            "_view_module": "@jupyter-widgets/base",
            "_view_module_version": "1.2.0",
            "_view_name": "LayoutView",
            "align_content": null,
            "align_items": null,
            "align_self": null,
            "border": null,
            "bottom": null,
            "display": null,
            "flex": null,
            "flex_flow": null,
            "grid_area": null,
            "grid_auto_columns": null,
            "grid_auto_flow": null,
            "grid_auto_rows": null,
            "grid_column": null,
            "grid_gap": null,
            "grid_row": null,
            "grid_template_areas": null,
            "grid_template_columns": null,
            "grid_template_rows": null,
            "height": null,
            "justify_content": null,
            "justify_items": null,
            "left": null,
            "margin": null,
            "max_height": "400px",
            "max_width": null,
            "min_height": null,
            "min_width": null,
            "object_fit": null,
            "object_position": null,
            "order": null,
            "overflow": "scroll",
            "overflow_x": null,
            "overflow_y": null,
            "padding": null,
            "right": null,
            "top": null,
            "visibility": null,
            "width": "50.0%"
          }
        },
        "f92220a7a3b740be829e5ac32be9c3bf": {
          "model_module": "@jupyter-widgets/controls",
          "model_module_version": "1.5.0",
          "model_name": "GridBoxModel",
          "state": {
            "_dom_classes": [],
            "_model_module": "@jupyter-widgets/controls",
            "_model_module_version": "1.5.0",
            "_model_name": "GridBoxModel",
            "_view_count": null,
            "_view_module": "@jupyter-widgets/controls",
            "_view_module_version": "1.5.0",
            "_view_name": "GridBoxView",
            "box_style": "",
            "children": [
              "IPY_MODEL_3a50886f2b5445b28e81c7f9ca783083",
              "IPY_MODEL_ee35b1120c8646bfbf35412f2793a49d",
              "IPY_MODEL_17927feef661440f95f1237fa641bebc",
              "IPY_MODEL_1b38aaf951c5424893c275bc4dd71962",
              "IPY_MODEL_78cad406233845a793fcda2a1cc65478",
              "IPY_MODEL_f6aa735dc96c46a59cca632a1da001b5"
            ],
            "layout": "IPY_MODEL_6a341c6b3ea244ab8183e7486a128d28"
          }
        },
        "f93fce421a364a45b43565590c51d675": {
          "model_module": "@jupyter-widgets/controls",
          "model_module_version": "1.5.0",
          "model_name": "FloatSliderModel",
          "state": {
            "_dom_classes": [],
            "_model_module": "@jupyter-widgets/controls",
            "_model_module_version": "1.5.0",
            "_model_name": "FloatSliderModel",
            "_view_count": null,
            "_view_module": "@jupyter-widgets/controls",
            "_view_module_version": "1.5.0",
            "_view_name": "FloatSliderView",
            "continuous_update": true,
            "description": "",
            "description_tooltip": null,
            "disabled": false,
            "layout": "IPY_MODEL_f11873814b164f6b92b0ae9d9a1d57ec",
            "max": 100,
            "min": 0,
            "orientation": "horizontal",
            "readout": false,
            "readout_format": ".2f",
            "step": 0.1,
            "style": "IPY_MODEL_ea4288afd077446792b1027dfcc97ae2",
            "value": 50
          }
        },
        "fa734d758ec247ddbd6bb5005474f2e3": {
          "model_module": "@jupyter-widgets/controls",
          "model_module_version": "1.5.0",
          "model_name": "DescriptionStyleModel",
          "state": {
            "_model_module": "@jupyter-widgets/controls",
            "_model_module_version": "1.5.0",
            "_model_name": "DescriptionStyleModel",
            "_view_count": null,
            "_view_module": "@jupyter-widgets/base",
            "_view_module_version": "1.2.0",
            "_view_name": "StyleView",
            "description_width": ""
          }
        },
        "fa87223f2ab34706bc62ba0b85612a32": {
          "model_module": "ipytree",
          "model_module_version": "^0.2",
          "model_name": "NodeModel",
          "state": {
            "_id": "09396cd6-bc91-4f13-abcb-aee8d381c157",
            "_model_module": "ipytree",
            "_model_module_version": "^0.2",
            "_model_name": "NodeModel",
            "_view_count": null,
            "_view_module": "ipytree",
            "_view_module_version": "^0.2",
            "_view_name": "NodeView",
            "close_icon": "minus",
            "close_icon_style": "default",
            "disabled": false,
            "icon": "map",
            "icon_image": "",
            "icon_style": "default",
            "name": "Point",
            "nodes": [],
            "open_icon": "plus",
            "open_icon_style": "default",
            "opened": true,
            "selected": false,
            "show_icon": true
          }
        },
        "fbb8d2a15d0f479a8f58a3bcb5640055": {
          "model_module": "jupyter-leaflet",
          "model_module_version": "^0.17",
          "model_name": "LeafletAttributionControlModel",
          "state": {
            "_model_module": "jupyter-leaflet",
            "_model_module_version": "^0.17",
            "_model_name": "LeafletAttributionControlModel",
            "_view_count": null,
            "_view_module": "jupyter-leaflet",
            "_view_module_version": "^0.17",
            "_view_name": "LeafletAttributionControlView",
            "options": [
              "position",
              "prefix"
            ],
            "position": "bottomright",
            "prefix": "ipyleaflet"
          }
        },
        "fd3fb03184f4453eb318b3077f77364b": {
          "model_module": "@jupyter-widgets/base",
          "model_module_version": "1.2.0",
          "model_name": "LayoutModel",
          "state": {
            "_model_module": "@jupyter-widgets/base",
            "_model_module_version": "1.2.0",
            "_model_name": "LayoutModel",
            "_view_count": null,
            "_view_module": "@jupyter-widgets/base",
            "_view_module_version": "1.2.0",
            "_view_name": "LayoutView",
            "align_content": null,
            "align_items": null,
            "align_self": null,
            "border": null,
            "bottom": null,
            "display": null,
            "flex": null,
            "flex_flow": null,
            "grid_area": null,
            "grid_auto_columns": null,
            "grid_auto_flow": null,
            "grid_auto_rows": null,
            "grid_column": null,
            "grid_gap": null,
            "grid_row": null,
            "grid_template_areas": null,
            "grid_template_columns": null,
            "grid_template_rows": null,
            "height": null,
            "justify_content": null,
            "justify_items": null,
            "left": null,
            "margin": null,
            "max_height": null,
            "max_width": null,
            "min_height": null,
            "min_width": null,
            "object_fit": null,
            "object_position": null,
            "order": null,
            "overflow": null,
            "overflow_x": null,
            "overflow_y": null,
            "padding": null,
            "right": null,
            "top": null,
            "visibility": null,
            "width": "100%"
          }
        }
      }
    }
  },
  "nbformat": 4,
  "nbformat_minor": 0
}